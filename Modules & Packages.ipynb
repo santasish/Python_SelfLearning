{
 "cells": [
  {
   "cell_type": "code",
   "execution_count": 1,
   "id": "2de1adab",
   "metadata": {},
   "outputs": [],
   "source": [
    "import os"
   ]
  },
  {
   "cell_type": "code",
   "execution_count": 2,
   "id": "c08737bf",
   "metadata": {},
   "outputs": [
    {
     "ename": "SyntaxError",
     "evalue": "invalid syntax (3623400186.py, line 1)",
     "output_type": "error",
     "traceback": [
      "\u001b[1;36m  Input \u001b[1;32mIn [2]\u001b[1;36m\u001b[0m\n\u001b[1;33m    os.                # Press Tab to see the functions inside os module\u001b[0m\n\u001b[1;37m                       ^\u001b[0m\n\u001b[1;31mSyntaxError\u001b[0m\u001b[1;31m:\u001b[0m invalid syntax\n"
     ]
    }
   ],
   "source": [
    "os.                # Press Tab to see the functions inside os module"
   ]
  },
  {
   "cell_type": "markdown",
   "id": "fb5edf5e",
   "metadata": {},
   "source": [
    "In modular coding, re-usability is key!"
   ]
  },
  {
   "cell_type": "code",
   "execution_count": null,
   "id": "c9d745e5",
   "metadata": {},
   "outputs": [],
   "source": [
    "pwd()"
   ]
  },
  {
   "cell_type": "code",
   "execution_count": null,
   "id": "58965afe",
   "metadata": {},
   "outputs": [],
   "source": [
    "ls"
   ]
  },
  {
   "cell_type": "code",
   "execution_count": null,
   "id": "b0a33a9e",
   "metadata": {},
   "outputs": [],
   "source": [
    "open(\"test2.py\",'w')"
   ]
  },
  {
   "cell_type": "code",
   "execution_count": null,
   "id": "cf4aa9f0",
   "metadata": {},
   "outputs": [],
   "source": [
    "ls"
   ]
  },
  {
   "cell_type": "code",
   "execution_count": 1,
   "id": "e65c5555",
   "metadata": {},
   "outputs": [],
   "source": [
    "import test1                     # importing the entire module"
   ]
  },
  {
   "cell_type": "code",
   "execution_count": 2,
   "id": "6ef917ff",
   "metadata": {},
   "outputs": [
    {
     "data": {
      "text/plain": [
       "11"
      ]
     },
     "execution_count": 2,
     "metadata": {},
     "output_type": "execute_result"
    }
   ],
   "source": [
    "test1.add(5,6)"
   ]
  },
  {
   "cell_type": "code",
   "execution_count": 3,
   "id": "0d08074b",
   "metadata": {},
   "outputs": [
    {
     "data": {
      "text/plain": [
       "5.0"
      ]
     },
     "execution_count": 3,
     "metadata": {},
     "output_type": "execute_result"
    }
   ],
   "source": [
    "test1.div(10,2)"
   ]
  },
  {
   "cell_type": "code",
   "execution_count": 4,
   "id": "a1ab82e4",
   "metadata": {},
   "outputs": [
    {
     "data": {
      "text/plain": [
       "12"
      ]
     },
     "execution_count": 4,
     "metadata": {},
     "output_type": "execute_result"
    }
   ],
   "source": [
    "test1.mul(4,3)"
   ]
  },
  {
   "cell_type": "code",
   "execution_count": 5,
   "id": "304f983c",
   "metadata": {},
   "outputs": [
    {
     "name": "stdout",
     "output_type": "stream",
     "text": [
      "This is my code written in module test1\n"
     ]
    }
   ],
   "source": [
    "test1.test1()"
   ]
  },
  {
   "cell_type": "code",
   "execution_count": 6,
   "id": "6931140f",
   "metadata": {},
   "outputs": [],
   "source": [
    "from test1 import add        # importing specific functions from the module"
   ]
  },
  {
   "cell_type": "code",
   "execution_count": 7,
   "id": "980f82cf",
   "metadata": {},
   "outputs": [
    {
     "data": {
      "text/plain": [
       "8"
      ]
     },
     "execution_count": 7,
     "metadata": {},
     "output_type": "execute_result"
    }
   ],
   "source": [
    "add(3,5)"
   ]
  },
  {
   "cell_type": "code",
   "execution_count": 8,
   "id": "52bb0711",
   "metadata": {},
   "outputs": [],
   "source": [
    "from test1 import test1"
   ]
  },
  {
   "cell_type": "code",
   "execution_count": 9,
   "id": "22eb6a9f",
   "metadata": {},
   "outputs": [
    {
     "name": "stdout",
     "output_type": "stream",
     "text": [
      "This is my code written in module test1\n"
     ]
    }
   ],
   "source": [
    "test1()"
   ]
  },
  {
   "cell_type": "code",
   "execution_count": 10,
   "id": "ea4e5543",
   "metadata": {},
   "outputs": [],
   "source": [
    "from test1 import *                   # import all from the module test1"
   ]
  },
  {
   "cell_type": "code",
   "execution_count": 11,
   "id": "84453e79",
   "metadata": {},
   "outputs": [
    {
     "data": {
      "text/plain": [
       "15"
      ]
     },
     "execution_count": 11,
     "metadata": {},
     "output_type": "execute_result"
    }
   ],
   "source": [
    "mul(3,5)"
   ]
  },
  {
   "cell_type": "code",
   "execution_count": 12,
   "id": "621300ce",
   "metadata": {},
   "outputs": [],
   "source": [
    "l=[3,4,5,6]"
   ]
  },
  {
   "cell_type": "code",
   "execution_count": null,
   "id": "30ee52db",
   "metadata": {},
   "outputs": [],
   "source": [
    "l.                     # press tab to see the associated functions with a list"
   ]
  },
  {
   "cell_type": "code",
   "execution_count": 13,
   "id": "6e0fcd06",
   "metadata": {},
   "outputs": [
    {
     "data": {
      "text/plain": [
       "['In',\n",
       " 'Out',\n",
       " '_',\n",
       " '_11',\n",
       " '_2',\n",
       " '_3',\n",
       " '_4',\n",
       " '_7',\n",
       " '__',\n",
       " '___',\n",
       " '__builtin__',\n",
       " '__builtins__',\n",
       " '__doc__',\n",
       " '__loader__',\n",
       " '__name__',\n",
       " '__package__',\n",
       " '__spec__',\n",
       " '_dh',\n",
       " '_i',\n",
       " '_i1',\n",
       " '_i10',\n",
       " '_i11',\n",
       " '_i12',\n",
       " '_i13',\n",
       " '_i2',\n",
       " '_i3',\n",
       " '_i4',\n",
       " '_i5',\n",
       " '_i6',\n",
       " '_i7',\n",
       " '_i8',\n",
       " '_i9',\n",
       " '_ih',\n",
       " '_ii',\n",
       " '_iii',\n",
       " '_oh',\n",
       " 'add',\n",
       " 'div',\n",
       " 'exit',\n",
       " 'get_ipython',\n",
       " 'l',\n",
       " 'mul',\n",
       " 'quit',\n",
       " 'test1']"
      ]
     },
     "execution_count": 13,
     "metadata": {},
     "output_type": "execute_result"
    }
   ],
   "source": [
    "dir()                  # modules present in present directory"
   ]
  },
  {
   "cell_type": "code",
   "execution_count": 14,
   "id": "612f7851",
   "metadata": {},
   "outputs": [
    {
     "data": {
      "text/plain": [
       "<_io.TextIOWrapper name='my_module.py' mode='w' encoding='cp1252'>"
      ]
     },
     "execution_count": 14,
     "metadata": {},
     "output_type": "execute_result"
    }
   ],
   "source": [
    "open(\"my_module.py\",\"w\")"
   ]
  },
  {
   "cell_type": "code",
   "execution_count": 15,
   "id": "ebe957ef",
   "metadata": {},
   "outputs": [
    {
     "name": "stdout",
     "output_type": "stream",
     "text": [
      " Volume in drive C is OS\n",
      " Volume Serial Number is 1600-9EB4\n",
      "\n",
      " Directory of C:\\Users\\santa\n",
      "\n",
      "31-01-2023  15:25    <DIR>          .\n",
      "22-09-2022  14:03    <DIR>          ..\n",
      "22-08-2022  12:19    <DIR>          .anaconda\n",
      "23-12-2022  18:04    <DIR>          .conda\n",
      "22-08-2022  12:19                25 .condarc\n",
      "22-08-2022  12:18    <DIR>          .continuum\n",
      "24-01-2023  17:50                53 .git-for-windows-updater\n",
      "10-07-2022  18:25    <DIR>          .idlerc\n",
      "30-01-2023  11:48    <DIR>          .ipynb_checkpoints\n",
      "22-08-2022  13:10    <DIR>          .ipython\n",
      "22-08-2022  14:04    <DIR>          .jupyter\n",
      "27-08-2022  08:26                43 .python_history\n",
      "21-01-2023  19:46               527 .vivaldi_reporting_data\n",
      "04-01-2023  10:28    <DIR>          .vscode\n",
      "30-01-2023  19:35    <DIR>          __pycache__\n",
      "18-09-2022  17:45    <DIR>          anaconda3\n",
      "18-07-2022  15:52    <DIR>          ansel\n",
      "27-01-2023  16:55             1,448 calculator1.log\n",
      "12-01-2023  18:20             8,858 CodeWithHarry_Python_100days.ipynb\n",
      "22-09-2022  16:10    <DIR>          Contacts\n",
      "26-07-2022  17:58    <DIR>          Documents\n",
      "30-01-2023  12:00    <DIR>          Downloads\n",
      "10-01-2023  15:32           167,077 Enter Sudhanshu FSDS Batch2 Functions.ipynb\n",
      "24-01-2023  20:11            72,003 Exception Handling.ipynb\n",
      "22-09-2022  16:10    <DIR>          Favorites\n",
      "03-01-2023  12:52           944,404 iNeuron_Recorded FSDS Bootcamp_Sudhanshu (Py_Basics).ipynb\n",
      "24-01-2023  20:08            36,079 Iterator Generator File Handling [Recorded Lesson Sudhanshu][Advanced Python] ? ?.ipynb\n",
      "22-09-2022  16:10    <DIR>          Links\n",
      "17-12-2022  16:09            10,700 Live class 17-12-2022.ipynb\n",
      "27-01-2023  17:49            15,509 Logging.ipynb\n",
      "31-01-2023  15:25             8,271 Modules & Packages.ipynb\n",
      "22-09-2022  16:10    <DIR>          Music\n",
      "31-01-2023  15:30               218 my_module.py\n",
      "29-10-2022  10:45            62,638 MyGreatLearning_Free_Python_Practice.ipynb\n",
      "27-01-2023  17:05               785 namecheck.log\n",
      "27-01-2023  17:05               249 namecheck_1.log\n",
      "30-01-2023  10:00    <DIR>          OneDrive\n",
      "30-01-2023  12:03                 0 PracticeNOTEPAD++.txt\n",
      "12-01-2023  12:51            13,501 Py_Practice_Questions.ipynb\n",
      "22-12-2022  17:49    <DIR>          Saved Games\n",
      "22-09-2022  16:10    <DIR>          Searches\n",
      "01-11-2022  16:56           107,648 Sunny_Bhaveen_Chandra_Py_Basics_FSDS-2.ipynb\n",
      "23-01-2023  16:37               451 test.log\n",
      "19-01-2023  12:29                20 test.txt\n",
      "30-01-2023  19:34               156 test1.py\n",
      "13-01-2023  16:50                38 test1.txt\n",
      "23-01-2023  17:19               646 test2.log\n",
      "30-01-2023  19:15                 0 test2.py\n",
      "24-01-2023  17:37               115 test2.txt\n",
      "23-01-2023  17:49             5,083 test3.log\n",
      "24-01-2023  17:02                 0 test4.txt\n",
      "24-01-2023  17:26                18 text1.txt\n",
      "18-09-2022  16:56    <DIR>          Untitled Folder\n",
      "27-01-2023  11:01    <DIR>          Videos\n",
      "              30 File(s)      1,456,563 bytes\n",
      "              24 Dir(s)  103,808,008,192 bytes free\n"
     ]
    }
   ],
   "source": [
    "ls"
   ]
  },
  {
   "cell_type": "code",
   "execution_count": 16,
   "id": "33a0a47e",
   "metadata": {},
   "outputs": [],
   "source": [
    "import my_module"
   ]
  },
  {
   "cell_type": "code",
   "execution_count": null,
   "id": "ad072c2a",
   "metadata": {},
   "outputs": [],
   "source": [
    "my_module.                               # Press Tab to see all the functions.."
   ]
  },
  {
   "cell_type": "code",
   "execution_count": 18,
   "id": "c927120f",
   "metadata": {},
   "outputs": [
    {
     "data": {
      "text/plain": [
       "['data science', 'blockchain', 'drone', 'robotics', 'cloud']"
      ]
     },
     "execution_count": 18,
     "metadata": {},
     "output_type": "execute_result"
    }
   ],
   "source": [
    "my_module.get_course()"
   ]
  },
  {
   "cell_type": "code",
   "execution_count": 19,
   "id": "0353dedc",
   "metadata": {},
   "outputs": [
    {
     "data": {
      "text/plain": [
       "'greetings from inueron'"
      ]
     },
     "execution_count": 19,
     "metadata": {},
     "output_type": "execute_result"
    }
   ],
   "source": [
    "my_module.greetings()"
   ]
  },
  {
   "cell_type": "markdown",
   "id": "7d8d9194",
   "metadata": {},
   "source": [
    "Collection of modules are called as Packages!!/n\n",
    "Inside a single directory, multiple python files --> package"
   ]
  },
  {
   "cell_type": "code",
   "execution_count": 20,
   "id": "deb6fea0",
   "metadata": {},
   "outputs": [
    {
     "name": "stdout",
     "output_type": "stream",
     "text": [
      "15\n",
      "123456789101112131415\n"
     ]
    }
   ],
   "source": [
    "#_HackerRank_alga\n",
    "\n",
    "if __name__ == '__main__':\n",
    "   n=int(input().strip())\n",
    "   print(*range(1,n+1), sep='')\n"
   ]
  },
  {
   "cell_type": "code",
   "execution_count": null,
   "id": "8dfc7ad8",
   "metadata": {},
   "outputs": [],
   "source": []
  },
  {
   "cell_type": "code",
   "execution_count": null,
   "id": "b230a228",
   "metadata": {},
   "outputs": [],
   "source": []
  },
  {
   "cell_type": "code",
   "execution_count": null,
   "id": "88dad833",
   "metadata": {},
   "outputs": [],
   "source": []
  },
  {
   "cell_type": "code",
   "execution_count": null,
   "id": "1113e6bb",
   "metadata": {},
   "outputs": [],
   "source": []
  },
  {
   "cell_type": "code",
   "execution_count": null,
   "id": "018f27ee",
   "metadata": {},
   "outputs": [],
   "source": []
  },
  {
   "cell_type": "code",
   "execution_count": null,
   "id": "08e03b72",
   "metadata": {},
   "outputs": [],
   "source": []
  },
  {
   "cell_type": "code",
   "execution_count": null,
   "id": "1354d3df",
   "metadata": {},
   "outputs": [],
   "source": []
  },
  {
   "cell_type": "code",
   "execution_count": null,
   "id": "6305ac8e",
   "metadata": {},
   "outputs": [],
   "source": []
  },
  {
   "cell_type": "code",
   "execution_count": null,
   "id": "f4197400",
   "metadata": {},
   "outputs": [],
   "source": []
  },
  {
   "cell_type": "code",
   "execution_count": null,
   "id": "01711a90",
   "metadata": {},
   "outputs": [],
   "source": []
  },
  {
   "cell_type": "code",
   "execution_count": null,
   "id": "594f82f6",
   "metadata": {},
   "outputs": [],
   "source": []
  },
  {
   "cell_type": "code",
   "execution_count": null,
   "id": "dfd363e1",
   "metadata": {},
   "outputs": [],
   "source": []
  },
  {
   "cell_type": "code",
   "execution_count": null,
   "id": "c07055bc",
   "metadata": {},
   "outputs": [],
   "source": []
  },
  {
   "cell_type": "code",
   "execution_count": null,
   "id": "87a1f6dc",
   "metadata": {},
   "outputs": [],
   "source": []
  },
  {
   "cell_type": "code",
   "execution_count": null,
   "id": "8ff407c2",
   "metadata": {},
   "outputs": [],
   "source": []
  },
  {
   "cell_type": "code",
   "execution_count": null,
   "id": "c3bd789d",
   "metadata": {},
   "outputs": [],
   "source": []
  },
  {
   "cell_type": "code",
   "execution_count": null,
   "id": "301de23b",
   "metadata": {},
   "outputs": [],
   "source": []
  }
 ],
 "metadata": {
  "kernelspec": {
   "display_name": "Python 3 (ipykernel)",
   "language": "python",
   "name": "python3"
  },
  "language_info": {
   "codemirror_mode": {
    "name": "ipython",
    "version": 3
   },
   "file_extension": ".py",
   "mimetype": "text/x-python",
   "name": "python",
   "nbconvert_exporter": "python",
   "pygments_lexer": "ipython3",
   "version": "3.9.12"
  }
 },
 "nbformat": 4,
 "nbformat_minor": 5
}
