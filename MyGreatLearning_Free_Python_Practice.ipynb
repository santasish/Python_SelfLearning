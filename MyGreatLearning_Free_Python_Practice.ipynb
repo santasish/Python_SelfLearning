{
 "cells": [
  {
   "cell_type": "code",
   "execution_count": 1,
   "id": "33cffeee",
   "metadata": {},
   "outputs": [
    {
     "name": "stdout",
     "output_type": "stream",
     "text": [
      "This is SPARTA!\n"
     ]
    }
   ],
   "source": [
    "print(\"This is SPARTA!\")"
   ]
  },
  {
   "cell_type": "code",
   "execution_count": 5,
   "id": "0c705a8e",
   "metadata": {},
   "outputs": [
    {
     "data": {
      "text/plain": [
       "'santa'"
      ]
     },
     "execution_count": 5,
     "metadata": {},
     "output_type": "execute_result"
    }
   ],
   "source": [
    "employee_name= 'santa'\n",
    "employee_name"
   ]
  },
  {
   "cell_type": "code",
   "execution_count": 10,
   "id": "151e7c52",
   "metadata": {},
   "outputs": [
    {
     "data": {
      "text/plain": [
       "'100'"
      ]
     },
     "execution_count": 10,
     "metadata": {},
     "output_type": "execute_result"
    }
   ],
   "source": [
    "a1=100\n",
    "str(a1)                 #TYPE_CASTING"
   ]
  },
  {
   "cell_type": "code",
   "execution_count": 14,
   "id": "5439fc86",
   "metadata": {},
   "outputs": [
    {
     "data": {
      "text/plain": [
       "(3+5j)"
      ]
     },
     "execution_count": 14,
     "metadata": {},
     "output_type": "execute_result"
    }
   ],
   "source": [
    "a1=3+5j                      #COMPLEX NUMBER\n",
    "a1"
   ]
  },
  {
   "cell_type": "code",
   "execution_count": 12,
   "id": "325a09e1",
   "metadata": {},
   "outputs": [
    {
     "data": {
      "text/plain": [
       "complex"
      ]
     },
     "execution_count": 12,
     "metadata": {},
     "output_type": "execute_result"
    }
   ],
   "source": [
    "type(a1)    "
   ]
  },
  {
   "cell_type": "code",
   "execution_count": 18,
   "id": "7e2a7f6c",
   "metadata": {},
   "outputs": [
    {
     "data": {
      "text/plain": [
       "200"
      ]
     },
     "execution_count": 18,
     "metadata": {},
     "output_type": "execute_result"
    }
   ],
   "source": [
    "a=10                          #arithmatic operators\n",
    "b=20\n",
    "a*b"
   ]
  },
  {
   "cell_type": "code",
   "execution_count": 19,
   "id": "e091cbe5",
   "metadata": {},
   "outputs": [
    {
     "data": {
      "text/plain": [
       "False"
      ]
     },
     "execution_count": 19,
     "metadata": {},
     "output_type": "execute_result"
    }
   ],
   "source": [
    "a>b                           #relational operators"
   ]
  },
  {
   "cell_type": "code",
   "execution_count": 26,
   "id": "d3803b29",
   "metadata": {},
   "outputs": [
    {
     "data": {
      "text/plain": [
       "False"
      ]
     },
     "execution_count": 26,
     "metadata": {},
     "output_type": "execute_result"
    }
   ],
   "source": [
    "a>b and a<b                    #logical operators"
   ]
  },
  {
   "cell_type": "code",
   "execution_count": 27,
   "id": "1ea5d5f6",
   "metadata": {},
   "outputs": [],
   "source": [
    "s1=\"my name is JOHN\"                #STRINGS PLAYGROUND             "
   ]
  },
  {
   "cell_type": "code",
   "execution_count": 65,
   "id": "bec2487a",
   "metadata": {},
   "outputs": [
    {
     "data": {
      "text/plain": [
       "11"
      ]
     },
     "execution_count": 65,
     "metadata": {},
     "output_type": "execute_result"
    }
   ],
   "source": [
    "s1.find(\"J\")                        #  .find"
   ]
  },
  {
   "cell_type": "code",
   "execution_count": 66,
   "id": "50b37bb3",
   "metadata": {},
   "outputs": [
    {
     "data": {
      "text/plain": [
       "'JOHN'"
      ]
     },
     "execution_count": 66,
     "metadata": {},
     "output_type": "execute_result"
    }
   ],
   "source": [
    "s1[11:15]                           # using index to slice string"
   ]
  },
  {
   "cell_type": "code",
   "execution_count": 67,
   "id": "e77219ed",
   "metadata": {},
   "outputs": [
    {
     "data": {
      "text/plain": [
       "15"
      ]
     },
     "execution_count": 67,
     "metadata": {},
     "output_type": "execute_result"
    }
   ],
   "source": [
    "len(s1)                             # length of string"
   ]
  },
  {
   "cell_type": "code",
   "execution_count": 28,
   "id": "8c67280c",
   "metadata": {},
   "outputs": [
    {
     "data": {
      "text/plain": [
       "'JOHN'"
      ]
     },
     "execution_count": 28,
     "metadata": {},
     "output_type": "execute_result"
    }
   ],
   "source": [
    "s1[-4:]                             # using negative indexing"
   ]
  },
  {
   "cell_type": "code",
   "execution_count": 30,
   "id": "82bfa619",
   "metadata": {},
   "outputs": [],
   "source": [
    "s=\"WHO, CENA??\""
   ]
  },
  {
   "cell_type": "code",
   "execution_count": 69,
   "id": "2c16f868",
   "metadata": {},
   "outputs": [
    {
     "data": {
      "text/plain": [
       "7"
      ]
     },
     "execution_count": 69,
     "metadata": {},
     "output_type": "execute_result"
    }
   ],
   "source": [
    "s.find(\"CENA\")"
   ]
  },
  {
   "cell_type": "code",
   "execution_count": 71,
   "id": "281ad620",
   "metadata": {},
   "outputs": [
    {
     "data": {
      "text/plain": [
       "'CENA'"
      ]
     },
     "execution_count": 71,
     "metadata": {},
     "output_type": "execute_result"
    }
   ],
   "source": [
    "s[7:11]"
   ]
  },
  {
   "cell_type": "code",
   "execution_count": 72,
   "id": "d00f1629",
   "metadata": {},
   "outputs": [
    {
     "data": {
      "text/plain": [
       "13"
      ]
     },
     "execution_count": 72,
     "metadata": {},
     "output_type": "execute_result"
    }
   ],
   "source": [
    "len(s)"
   ]
  },
  {
   "cell_type": "code",
   "execution_count": 33,
   "id": "2ffce4e3",
   "metadata": {},
   "outputs": [
    {
     "data": {
      "text/plain": [
       "'CENA'"
      ]
     },
     "execution_count": 33,
     "metadata": {},
     "output_type": "execute_result"
    }
   ],
   "source": [
    "s[-6:-2]"
   ]
  },
  {
   "cell_type": "code",
   "execution_count": 53,
   "id": "d186294c",
   "metadata": {},
   "outputs": [],
   "source": [
    "S=\"YES!! Mah man's name is \" +s1[-4:]+\" \" +s[-6:-2]      # merge after slicing"
   ]
  },
  {
   "cell_type": "code",
   "execution_count": 54,
   "id": "f58bfee0",
   "metadata": {},
   "outputs": [
    {
     "data": {
      "text/plain": [
       "\"YES!! Mah man's name is JOHN CENA\""
      ]
     },
     "execution_count": 54,
     "metadata": {},
     "output_type": "execute_result"
    }
   ],
   "source": [
    "S"
   ]
  },
  {
   "cell_type": "code",
   "execution_count": 55,
   "id": "20cf3895",
   "metadata": {},
   "outputs": [
    {
     "data": {
      "text/plain": [
       "\"YES!! MAH MAN'S NAME IS JOHN CENA\""
      ]
     },
     "execution_count": 55,
     "metadata": {},
     "output_type": "execute_result"
    }
   ],
   "source": [
    "S.upper()"
   ]
  },
  {
   "cell_type": "code",
   "execution_count": 56,
   "id": "4c4580fa",
   "metadata": {},
   "outputs": [
    {
     "data": {
      "text/plain": [
       "33"
      ]
     },
     "execution_count": 56,
     "metadata": {},
     "output_type": "execute_result"
    }
   ],
   "source": [
    "len(S)"
   ]
  },
  {
   "cell_type": "code",
   "execution_count": 57,
   "id": "486fd91e",
   "metadata": {},
   "outputs": [
    {
     "data": {
      "text/plain": [
       "\"YES!! Mah man name 's JOHN CENA\""
      ]
     },
     "execution_count": 57,
     "metadata": {},
     "output_type": "execute_result"
    }
   ],
   "source": [
    "S.replace('is',\"'s\").replace(\"man's\",\"man\")              # using ---->   .replace(\"element\" , \"new_element\")"
   ]
  },
  {
   "cell_type": "code",
   "execution_count": 63,
   "id": "9b1f0ae9",
   "metadata": {},
   "outputs": [
    {
     "data": {
      "text/plain": [
       "3"
      ]
     },
     "execution_count": 63,
     "metadata": {},
     "output_type": "execute_result"
    }
   ],
   "source": [
    "S.count(\"a\")                                            #   .count( x ) function counts the number of occurance of x"
   ]
  },
  {
   "cell_type": "code",
   "execution_count": 81,
   "id": "562eef1e",
   "metadata": {},
   "outputs": [],
   "source": [
    "a= \"apples, ornages, lemons, melon\""
   ]
  },
  {
   "cell_type": "code",
   "execution_count": 83,
   "id": "e789db3d",
   "metadata": {},
   "outputs": [
    {
     "data": {
      "text/plain": [
       "['apples', ' ornages', ' lemons', ' melon']"
      ]
     },
     "execution_count": 83,
     "metadata": {},
     "output_type": "execute_result"
    }
   ],
   "source": [
    "a.split(',')                                            # splitting a string---->  .split(criteria)"
   ]
  },
  {
   "cell_type": "code",
   "execution_count": 84,
   "id": "75a53362",
   "metadata": {},
   "outputs": [],
   "source": [
    "# DATA STRUCTURES IN PYTHON-->> TUPLE,LIST,DICTIONARY,SET"
   ]
  },
  {
   "cell_type": "code",
   "execution_count": 85,
   "id": "92f996bd",
   "metadata": {},
   "outputs": [],
   "source": [
    "    #TUPLE\n",
    "    \n",
    "TUP1=(1,\"A\",True)   #Tuple: elements with heterogenous data types stored in an ordered sequence \n",
    "                    # they are immutable; basically variables storing immutable and ordered sequence of heterogenous datatypes\n",
    "                    #placed inside normal parenthesis "
   ]
  },
  {
   "cell_type": "code",
   "execution_count": 87,
   "id": "7a7efa0c",
   "metadata": {},
   "outputs": [
    {
     "data": {
      "text/plain": [
       "tuple"
      ]
     },
     "execution_count": 87,
     "metadata": {},
     "output_type": "execute_result"
    }
   ],
   "source": [
    "type(TUP1)       #tuple is a datastructure OR DATATYPE"
   ]
  },
  {
   "cell_type": "code",
   "execution_count": 95,
   "id": "b28241e6",
   "metadata": {},
   "outputs": [
    {
     "data": {
      "text/plain": [
       "(1, 'A')"
      ]
     },
     "execution_count": 95,
     "metadata": {},
     "output_type": "execute_result"
    }
   ],
   "source": [
    "TUP1[0:2]          # EXTRACTING INDIVIDUAL ELEMENTS IN A TUPLE USING INDEXING\n",
    "                   # INDEXING works for tuples & lists as they are ordered."
   ]
  },
  {
   "cell_type": "code",
   "execution_count": 97,
   "id": "43269218",
   "metadata": {},
   "outputs": [
    {
     "data": {
      "text/plain": [
       "3"
      ]
     },
     "execution_count": 97,
     "metadata": {},
     "output_type": "execute_result"
    }
   ],
   "source": [
    "len(TUP1)"
   ]
  },
  {
   "cell_type": "code",
   "execution_count": 98,
   "id": "e971cdaf",
   "metadata": {},
   "outputs": [
    {
     "data": {
      "text/plain": [
       "(1, 2, 3, 4, 5, 6)"
      ]
     },
     "execution_count": 98,
     "metadata": {},
     "output_type": "execute_result"
    }
   ],
   "source": [
    "tup1 = (1,2,3)            # CONCATENATING TUPLES ---> merges 2 tuples; attaches 1 tuple at the end of the other tuple \n",
    "tup2 = (4,5,6)\n",
    "tup1+tup2"
   ]
  },
  {
   "cell_type": "code",
   "execution_count": 99,
   "id": "5d59a362",
   "metadata": {},
   "outputs": [
    {
     "data": {
      "text/plain": [
       "6"
      ]
     },
     "execution_count": 99,
     "metadata": {},
     "output_type": "execute_result"
    }
   ],
   "source": [
    "len(tup1+tup2)"
   ]
  },
  {
   "cell_type": "code",
   "execution_count": 100,
   "id": "70510c50",
   "metadata": {},
   "outputs": [
    {
     "data": {
      "text/plain": [
       "('a', True, (3+5j), 'sparta', False, 1000)"
      ]
     },
     "execution_count": 100,
     "metadata": {},
     "output_type": "execute_result"
    }
   ],
   "source": [
    "tup3 = (\"a\",True,3+5j)\n",
    "tup4 = (\"sparta\",False,1000)\n",
    "tup3+tup4"
   ]
  },
  {
   "cell_type": "code",
   "execution_count": 101,
   "id": "a4d9f563",
   "metadata": {},
   "outputs": [
    {
     "data": {
      "text/plain": [
       "6"
      ]
     },
     "execution_count": 101,
     "metadata": {},
     "output_type": "execute_result"
    }
   ],
   "source": [
    "len(tup3+tup4)"
   ]
  },
  {
   "cell_type": "code",
   "execution_count": 102,
   "id": "7e3939f3",
   "metadata": {},
   "outputs": [
    {
     "data": {
      "text/plain": [
       "(1, 2, 3, 4, 5, 6, 'a', True, (3+5j), 'sparta', False, 1000)"
      ]
     },
     "execution_count": 102,
     "metadata": {},
     "output_type": "execute_result"
    }
   ],
   "source": [
    "tup1+tup2+tup3+tup4                   # concatenation of tuples"
   ]
  },
  {
   "cell_type": "code",
   "execution_count": 103,
   "id": "4ab3e2db",
   "metadata": {},
   "outputs": [
    {
     "data": {
      "text/plain": [
       "12"
      ]
     },
     "execution_count": 103,
     "metadata": {},
     "output_type": "execute_result"
    }
   ],
   "source": [
    "len(tup1+tup2+tup3+tup4)"
   ]
  },
  {
   "cell_type": "code",
   "execution_count": 104,
   "id": "6bc1fb66",
   "metadata": {},
   "outputs": [
    {
     "data": {
      "text/plain": [
       "(4, 5, 6, 'sparta', False, 1000, 'a', True, (3+5j), 1, 2, 3)"
      ]
     },
     "execution_count": 104,
     "metadata": {},
     "output_type": "execute_result"
    }
   ],
   "source": [
    "tup2+tup4+tup3+tup1      # values are placed according to the placement"
   ]
  },
  {
   "cell_type": "code",
   "execution_count": 105,
   "id": "cac25f11",
   "metadata": {},
   "outputs": [
    {
     "data": {
      "text/plain": [
       "(1, 2, 3, 1, 2, 3, 1, 2, 3)"
      ]
     },
     "execution_count": 105,
     "metadata": {},
     "output_type": "execute_result"
    }
   ],
   "source": [
    "tup1*3                     #Repeating tuple elements\n",
    "                           # tup1 repeats 3 times,ie.,(*3)"
   ]
  },
  {
   "cell_type": "code",
   "execution_count": 106,
   "id": "aa4369ff",
   "metadata": {},
   "outputs": [
    {
     "data": {
      "text/plain": [
       "(1, 2, 3, 1, 2, 3, 1, 2, 3, 4, 5, 6, 4, 5, 6)"
      ]
     },
     "execution_count": 106,
     "metadata": {},
     "output_type": "execute_result"
    }
   ],
   "source": [
    "tup1*3+tup2*2            #Repeating + Concatenating\n",
    "                # tup1 repeats 3 times (*3) + tup2 repeats 2 times (*2)"
   ]
  },
  {
   "cell_type": "code",
   "execution_count": 109,
   "id": "caed81a1",
   "metadata": {},
   "outputs": [
    {
     "data": {
      "text/plain": [
       "('a', True, (3+5j), 'sparta', False, 1000, 'sparta', False, 1000)"
      ]
     },
     "execution_count": 109,
     "metadata": {},
     "output_type": "execute_result"
    }
   ],
   "source": [
    "tup3+tup4*2"
   ]
  },
  {
   "cell_type": "code",
   "execution_count": 2,
   "id": "eccedc98",
   "metadata": {},
   "outputs": [
    {
     "ename": "NameError",
     "evalue": "name 'tup1' is not defined",
     "output_type": "error",
     "traceback": [
      "\u001b[1;31m---------------------------------------------------------------------------\u001b[0m",
      "\u001b[1;31mNameError\u001b[0m                                 Traceback (most recent call last)",
      "Input \u001b[1;32mIn [2]\u001b[0m, in \u001b[0;36m<cell line: 1>\u001b[1;34m()\u001b[0m\n\u001b[1;32m----> 1\u001b[0m \u001b[43mtup1\u001b[49m\n",
      "\u001b[1;31mNameError\u001b[0m: name 'tup1' is not defined"
     ]
    }
   ],
   "source": [
    "tup1"
   ]
  },
  {
   "cell_type": "code",
   "execution_count": 115,
   "id": "fb5db148",
   "metadata": {},
   "outputs": [
    {
     "data": {
      "text/plain": [
       "3"
      ]
     },
     "execution_count": 115,
     "metadata": {},
     "output_type": "execute_result"
    }
   ],
   "source": [
    "max(tup1)             # MAX in Tuple"
   ]
  },
  {
   "cell_type": "code",
   "execution_count": 1,
   "id": "d1d6eed4",
   "metadata": {},
   "outputs": [
    {
     "ename": "NameError",
     "evalue": "name 'tup1' is not defined",
     "output_type": "error",
     "traceback": [
      "\u001b[1;31m---------------------------------------------------------------------------\u001b[0m",
      "\u001b[1;31mNameError\u001b[0m                                 Traceback (most recent call last)",
      "Input \u001b[1;32mIn [1]\u001b[0m, in \u001b[0;36m<cell line: 1>\u001b[1;34m()\u001b[0m\n\u001b[1;32m----> 1\u001b[0m \u001b[38;5;28mmin\u001b[39m(\u001b[43mtup1\u001b[49m)\n",
      "\u001b[1;31mNameError\u001b[0m: name 'tup1' is not defined"
     ]
    }
   ],
   "source": [
    "min(tup1)             # MIN in Tuple"
   ]
  },
  {
   "cell_type": "code",
   "execution_count": 119,
   "id": "a21ef588",
   "metadata": {},
   "outputs": [
    {
     "data": {
      "text/plain": [
       "list"
      ]
     },
     "execution_count": 119,
     "metadata": {},
     "output_type": "execute_result"
    }
   ],
   "source": [
    "    #LIST\n",
    "L1 = [2,'SPARTA',2.14,True, 3+5j]           #ORDERED COLLECTION OF ELEMENTS WITHIN [] \n",
    "type(L1)                                    #They are MUTABLE ie, their values can be changed as and when needed                           "
   ]
  },
  {
   "cell_type": "code",
   "execution_count": 127,
   "id": "67afc533",
   "metadata": {},
   "outputs": [
    {
     "data": {
      "text/plain": [
       "[2, 'SPARTA', 2.14, True, (3+5j)]"
      ]
     },
     "execution_count": 127,
     "metadata": {},
     "output_type": "execute_result"
    }
   ],
   "source": [
    "L1                               "
   ]
  },
  {
   "cell_type": "code",
   "execution_count": 128,
   "id": "aae0eac1",
   "metadata": {},
   "outputs": [
    {
     "data": {
      "text/plain": [
       "[2, 'SPARTA', 2.14, True, (3+5j)]"
      ]
     },
     "execution_count": 128,
     "metadata": {},
     "output_type": "execute_result"
    }
   ],
   "source": [
    "L1[0:5]                               #SAME INDEXING ---> as list is ordered"
   ]
  },
  {
   "cell_type": "code",
   "execution_count": 129,
   "id": "7404318f",
   "metadata": {},
   "outputs": [
    {
     "data": {
      "text/plain": [
       "(3+5j)"
      ]
     },
     "execution_count": 129,
     "metadata": {},
     "output_type": "execute_result"
    }
   ],
   "source": [
    "L1[-1]"
   ]
  },
  {
   "cell_type": "code",
   "execution_count": 134,
   "id": "632021a0",
   "metadata": {},
   "outputs": [
    {
     "data": {
      "text/plain": [
       "[1, 'a', 2, 'b', 3, 'c']"
      ]
     },
     "execution_count": 134,
     "metadata": {},
     "output_type": "execute_result"
    }
   ],
   "source": [
    "l1=[1,\"a\",2,\"b\",3,\"c\"]  \n",
    "l1\n"
   ]
  },
  {
   "cell_type": "code",
   "execution_count": 138,
   "id": "4bdce3c0",
   "metadata": {},
   "outputs": [
    {
     "data": {
      "text/plain": [
       "[1, 'A', 2, 'B', 3, 'c']"
      ]
     },
     "execution_count": 138,
     "metadata": {},
     "output_type": "execute_result"
    }
   ],
   "source": [
    "l1[1]=\"A\" ; l1[3]=\"B\"         # MODIFYING A LIST using INDEXING\n",
    "l1\n"
   ]
  },
  {
   "cell_type": "code",
   "execution_count": 141,
   "id": "76694569",
   "metadata": {},
   "outputs": [],
   "source": [
    "l1.append(\"Extra\")             # APPENDING NEW ELEMENT IN THE LIST"
   ]
  },
  {
   "cell_type": "code",
   "execution_count": 142,
   "id": "17cf065e",
   "metadata": {},
   "outputs": [
    {
     "data": {
      "text/plain": [
       "[1, 'A', 2, 'B', 3, 'c', 'Extra']"
      ]
     },
     "execution_count": 142,
     "metadata": {},
     "output_type": "execute_result"
    }
   ],
   "source": [
    "l1"
   ]
  },
  {
   "cell_type": "code",
   "execution_count": 144,
   "id": "b1ff0a43",
   "metadata": {},
   "outputs": [
    {
     "data": {
      "text/plain": [
       "'Extra'"
      ]
     },
     "execution_count": 144,
     "metadata": {},
     "output_type": "execute_result"
    }
   ],
   "source": [
    "l1.pop()                       # POPS OUT THE LAST ELEMENT IN THE LIST"
   ]
  },
  {
   "cell_type": "code",
   "execution_count": 5,
   "id": "00d1b7cb",
   "metadata": {},
   "outputs": [],
   "source": [
    "l1=[1,\"a\",2,\"b\",3,\"c\"] "
   ]
  },
  {
   "cell_type": "code",
   "execution_count": 6,
   "id": "46f2b2ea",
   "metadata": {},
   "outputs": [],
   "source": [
    "l1.append(3+5j)"
   ]
  },
  {
   "cell_type": "code",
   "execution_count": 7,
   "id": "05f1b646",
   "metadata": {},
   "outputs": [
    {
     "data": {
      "text/plain": [
       "[1, 'a', 2, 'b', 3, 'c', (3+5j)]"
      ]
     },
     "execution_count": 7,
     "metadata": {},
     "output_type": "execute_result"
    }
   ],
   "source": [
    "l1 "
   ]
  },
  {
   "cell_type": "code",
   "execution_count": 9,
   "id": "18cf0ad1",
   "metadata": {},
   "outputs": [
    {
     "data": {
      "text/plain": [
       "(3+5j)"
      ]
     },
     "execution_count": 9,
     "metadata": {},
     "output_type": "execute_result"
    }
   ],
   "source": [
    "l1.pop()"
   ]
  },
  {
   "cell_type": "code",
   "execution_count": 10,
   "id": "8cacde19",
   "metadata": {},
   "outputs": [
    {
     "data": {
      "text/plain": [
       "[1, 'a', 2, 'b', 3, 'c']"
      ]
     },
     "execution_count": 10,
     "metadata": {},
     "output_type": "execute_result"
    }
   ],
   "source": [
    "l1"
   ]
  },
  {
   "cell_type": "code",
   "execution_count": 11,
   "id": "2c6e4ed7",
   "metadata": {},
   "outputs": [],
   "source": [
    "l1[1]=\"A\" ; l1[3]='B'"
   ]
  },
  {
   "cell_type": "code",
   "execution_count": 13,
   "id": "589a410a",
   "metadata": {},
   "outputs": [
    {
     "data": {
      "text/plain": [
       "[1, 'A', 2, 'B', 3, 'c']"
      ]
     },
     "execution_count": 13,
     "metadata": {},
     "output_type": "execute_result"
    }
   ],
   "source": [
    "l1"
   ]
  },
  {
   "cell_type": "code",
   "execution_count": 17,
   "id": "54519cad",
   "metadata": {},
   "outputs": [
    {
     "data": {
      "text/plain": [
       "['c', 3, 'B', 2, 'A', 1]"
      ]
     },
     "execution_count": 17,
     "metadata": {},
     "output_type": "execute_result"
    }
   ],
   "source": [
    "    # REVERSING ELEMENTS IN A LIST { .reverse()} \n",
    "\n",
    "    l1.reverse()\n",
    "    l1"
   ]
  },
  {
   "cell_type": "code",
   "execution_count": 53,
   "id": "b507fc1d",
   "metadata": {},
   "outputs": [
    {
     "data": {
      "text/plain": [
       "['apples', 'banana', 'mango']"
      ]
     },
     "execution_count": 53,
     "metadata": {},
     "output_type": "execute_result"
    }
   ],
   "source": [
    "    # SORTING A LIST             { .sort()}\n",
    "\n",
    "l2=[\"mango\",\"banana\",\"apples\"]\n",
    "l2.sort()\n",
    "l2"
   ]
  },
  {
   "cell_type": "code",
   "execution_count": 41,
   "id": "d64c26f7",
   "metadata": {},
   "outputs": [
    {
     "data": {
      "text/plain": [
       "[1, 'a', 2, 'b', 3, 'c']"
      ]
     },
     "execution_count": 41,
     "metadata": {},
     "output_type": "execute_result"
    }
   ],
   "source": [
    "    # INSERTING ELEMENT AT A SPECIFIED INDEX\n",
    "\n",
    "l1=[1,\"a\",2,\"b\",\"c\"]      \n",
    "l1.insert(4,3)                    # { .insert(index , new_element)}\n",
    "l1"
   ]
  },
  {
   "cell_type": "code",
   "execution_count": 49,
   "id": "df79113b",
   "metadata": {},
   "outputs": [
    {
     "data": {
      "text/plain": [
       "[1, 'a', 2, 'b', 3, 'c', 'SPARTA']"
      ]
     },
     "execution_count": 49,
     "metadata": {},
     "output_type": "execute_result"
    }
   ],
   "source": [
    "l1=[1,\"a\",2,\"b\",\"c\"]\n",
    "l1.insert(5,\"SPARTA\"); l1.insert(4,3)\n",
    "l1"
   ]
  },
  {
   "cell_type": "code",
   "execution_count": 50,
   "id": "e1864dcc",
   "metadata": {},
   "outputs": [
    {
     "data": {
      "text/plain": [
       "'SPARTA'"
      ]
     },
     "execution_count": 50,
     "metadata": {},
     "output_type": "execute_result"
    }
   ],
   "source": [
    "l1.pop()                              # POP -->> pops out last from the right"
   ]
  },
  {
   "cell_type": "code",
   "execution_count": 51,
   "id": "ea58f3a1",
   "metadata": {},
   "outputs": [
    {
     "data": {
      "text/plain": [
       "[1, 'a', 2, 'b', 3, 'c']"
      ]
     },
     "execution_count": 51,
     "metadata": {},
     "output_type": "execute_result"
    }
   ],
   "source": [
    "l1"
   ]
  },
  {
   "cell_type": "code",
   "execution_count": 52,
   "id": "c566ac86",
   "metadata": {},
   "outputs": [
    {
     "data": {
      "text/plain": [
       "6"
      ]
     },
     "execution_count": 52,
     "metadata": {},
     "output_type": "execute_result"
    }
   ],
   "source": [
    "len(l1)"
   ]
  },
  {
   "cell_type": "code",
   "execution_count": 58,
   "id": "486a12ac",
   "metadata": {},
   "outputs": [
    {
     "data": {
      "text/plain": [
       "[1, 'a', 2, 'b', 3, 'c']"
      ]
     },
     "execution_count": 58,
     "metadata": {},
     "output_type": "execute_result"
    }
   ],
   "source": []
  },
  {
   "cell_type": "code",
   "execution_count": 64,
   "id": "a60e42ae",
   "metadata": {},
   "outputs": [],
   "source": [
    "l1.reverse()"
   ]
  },
  {
   "cell_type": "code",
   "execution_count": 62,
   "id": "c94fae1c",
   "metadata": {},
   "outputs": [
    {
     "data": {
      "text/plain": [
       "['c', 3, 'b', 2, 'a', 1]"
      ]
     },
     "execution_count": 62,
     "metadata": {},
     "output_type": "execute_result"
    }
   ],
   "source": [
    "l1"
   ]
  },
  {
   "cell_type": "code",
   "execution_count": 67,
   "id": "5786f16c",
   "metadata": {},
   "outputs": [],
   "source": [
    "l1.reverse()"
   ]
  },
  {
   "cell_type": "code",
   "execution_count": 68,
   "id": "e94309b1",
   "metadata": {},
   "outputs": [
    {
     "data": {
      "text/plain": [
       "[1, 'a', 2, 'b', 3, 'c']"
      ]
     },
     "execution_count": 68,
     "metadata": {},
     "output_type": "execute_result"
    }
   ],
   "source": [
    "l1"
   ]
  },
  {
   "cell_type": "code",
   "execution_count": null,
   "id": "c057934b",
   "metadata": {},
   "outputs": [],
   "source": [
    "# CONCATENATING & REPEATING ELEMENTS IS SAME FOR LISTS AS WAS FOR TUPLES..{\"+\" + * \"no of times\"}"
   ]
  },
  {
   "cell_type": "code",
   "execution_count": 71,
   "id": "d9f69d01",
   "metadata": {},
   "outputs": [
    {
     "data": {
      "text/plain": [
       "[1, 2, 3, 4, 5, 6]"
      ]
     },
     "execution_count": 71,
     "metadata": {},
     "output_type": "execute_result"
    }
   ],
   "source": [
    "l1=[1,2,3]\n",
    "l2=[4,5,6]\n",
    "l1+l2                          #CONCATENATING OF LISTS"
   ]
  },
  {
   "cell_type": "code",
   "execution_count": 72,
   "id": "049986af",
   "metadata": {},
   "outputs": [
    {
     "data": {
      "text/plain": [
       "[1, 2, 3, 1, 2, 3, 1, 2, 3, 4, 5, 6]"
      ]
     },
     "execution_count": 72,
     "metadata": {},
     "output_type": "execute_result"
    }
   ],
   "source": [
    "l1*3+l2                        # CONCATENATE + REPEAT   OF LISTS"
   ]
  },
  {
   "cell_type": "code",
   "execution_count": 73,
   "id": "e51a6528",
   "metadata": {},
   "outputs": [
    {
     "data": {
      "text/plain": [
       "[4, 5, 6, 1, 2, 3, 1, 2, 3, 1, 2, 3]"
      ]
     },
     "execution_count": 73,
     "metadata": {},
     "output_type": "execute_result"
    }
   ],
   "source": [
    "l2+l1*3"
   ]
  },
  {
   "cell_type": "code",
   "execution_count": 74,
   "id": "2c41a82a",
   "metadata": {},
   "outputs": [],
   "source": [
    "    # DICTIONARY ---->> UNORDERED COLLECTION OF key-value pairs enclosed with {}; MUTABLE\n",
    "    \n",
    "    Fruit={\"APPLE\":10,\"ORANGE\":20}          # key=apple; value=10 {key-value pair}\n",
    "                                            # key=orange; value=20 {key-value pair} \n",
    "\n"
   ]
  },
  {
   "cell_type": "code",
   "execution_count": 75,
   "id": "b07870c9",
   "metadata": {},
   "outputs": [
    {
     "data": {
      "text/plain": [
       "dict"
      ]
     },
     "execution_count": 75,
     "metadata": {},
     "output_type": "execute_result"
    }
   ],
   "source": [
    "type(Fruit)"
   ]
  },
  {
   "cell_type": "code",
   "execution_count": 77,
   "id": "f0cb7a33",
   "metadata": {},
   "outputs": [
    {
     "data": {
      "text/plain": [
       "dict_keys(['APPLE', 'ORANGE'])"
      ]
     },
     "execution_count": 77,
     "metadata": {},
     "output_type": "execute_result"
    }
   ],
   "source": [
    "Fruit.keys()    # EXTRACTING keys  [ .keys()] "
   ]
  },
  {
   "cell_type": "code",
   "execution_count": 79,
   "id": "456984b0",
   "metadata": {},
   "outputs": [
    {
     "data": {
      "text/plain": [
       "dict_values([10, 20])"
      ]
     },
     "execution_count": 79,
     "metadata": {},
     "output_type": "execute_result"
    }
   ],
   "source": [
    "Fruit.values()     # EXTRACTING values   [ .values()]"
   ]
  },
  {
   "cell_type": "code",
   "execution_count": 80,
   "id": "4d9d862e",
   "metadata": {},
   "outputs": [
    {
     "data": {
      "text/plain": [
       "dict_items([('APPLE', 10), ('ORANGE', 20)])"
      ]
     },
     "execution_count": 80,
     "metadata": {},
     "output_type": "execute_result"
    }
   ],
   "source": [
    "Fruit.items()           # EXTRACTING THE ENTIRE DICTIONARY"
   ]
  },
  {
   "cell_type": "code",
   "execution_count": 87,
   "id": "c151bcdb",
   "metadata": {},
   "outputs": [],
   "source": [
    "   # MODIFYING A DICTIONARY\n",
    "\n",
    "Fruit={\"APPLE\":10,\"ORANGE\":20} "
   ]
  },
  {
   "cell_type": "code",
   "execution_count": 90,
   "id": "c29382af",
   "metadata": {},
   "outputs": [
    {
     "data": {
      "text/plain": [
       "{'APPLE': 10, 'ORANGE': 20}"
      ]
     },
     "execution_count": 90,
     "metadata": {},
     "output_type": "execute_result"
    }
   ],
   "source": [
    "Fruit"
   ]
  },
  {
   "cell_type": "code",
   "execution_count": 91,
   "id": "0794ee40",
   "metadata": {},
   "outputs": [],
   "source": [
    "Fruit['MANGO']=20                 # ADDING A NEW ELEMENT----->>    ['new_element_key'] = values"
   ]
  },
  {
   "cell_type": "code",
   "execution_count": 92,
   "id": "5972d523",
   "metadata": {},
   "outputs": [
    {
     "data": {
      "text/plain": [
       "{'APPLE': 10, 'ORANGE': 20, 'MANGO': 20}"
      ]
     },
     "execution_count": 92,
     "metadata": {},
     "output_type": "execute_result"
    }
   ],
   "source": [
    "Fruit"
   ]
  },
  {
   "cell_type": "code",
   "execution_count": 93,
   "id": "ab552e43",
   "metadata": {},
   "outputs": [],
   "source": [
    "Fruit['APPLE']=20                 # CHANGING THE VALUE OF AN EXISTING KEY ---->>    ['element_key']   = new_values"
   ]
  },
  {
   "cell_type": "code",
   "execution_count": 94,
   "id": "793fa54a",
   "metadata": {},
   "outputs": [
    {
     "data": {
      "text/plain": [
       "{'APPLE': 20, 'ORANGE': 20, 'MANGO': 20}"
      ]
     },
     "execution_count": 94,
     "metadata": {},
     "output_type": "execute_result"
    }
   ],
   "source": [
    "Fruit"
   ]
  },
  {
   "cell_type": "code",
   "execution_count": 97,
   "id": "86d8ac94",
   "metadata": {},
   "outputs": [
    {
     "data": {
      "text/plain": [
       "{'apple': 10, 'orange': 20, 'banana': 30, 'guava': 40}"
      ]
     },
     "execution_count": 97,
     "metadata": {},
     "output_type": "execute_result"
    }
   ],
   "source": [
    "      # DICTIONARY FUNCTIONS\n",
    "\n",
    "fruit1={\"apple\":10,\"orange\":20}\n",
    "fruit2={\"banana\":30,\"guava\":40}\n",
    "\n",
    "fruit1.update(fruit2)          # UPDATE: updating/appending fruit1 with fruit2\n",
    "\n",
    "fruit1"
   ]
  },
  {
   "cell_type": "code",
   "execution_count": 98,
   "id": "35bdaad2",
   "metadata": {},
   "outputs": [
    {
     "data": {
      "text/plain": [
       "20"
      ]
     },
     "execution_count": 98,
     "metadata": {},
     "output_type": "execute_result"
    }
   ],
   "source": [
    "fruit1.pop(\"orange\")           # POP: pop-ing an element fom Dictionary"
   ]
  },
  {
   "cell_type": "code",
   "execution_count": 99,
   "id": "fc6a986a",
   "metadata": {},
   "outputs": [
    {
     "data": {
      "text/plain": [
       "{'apple': 10, 'banana': 30, 'guava': 40}"
      ]
     },
     "execution_count": 99,
     "metadata": {},
     "output_type": "execute_result"
    }
   ],
   "source": [
    "fruit1"
   ]
  },
  {
   "cell_type": "code",
   "execution_count": 101,
   "id": "1fb70cc2",
   "metadata": {},
   "outputs": [],
   "source": [
    "         # SET     ------>> UN-ORDERED & UN-INDEXED collection of elements enclosed within {}\n",
    "                                    # Duplicates are NOT allowed in Set.\n",
    "\n",
    "s1={1,\"sparta\",True}"
   ]
  },
  {
   "cell_type": "code",
   "execution_count": 102,
   "id": "82ad0473",
   "metadata": {},
   "outputs": [
    {
     "data": {
      "text/plain": [
       "{1, 'a'}"
      ]
     },
     "execution_count": 102,
     "metadata": {},
     "output_type": "execute_result"
    }
   ],
   "source": [
    "s1"
   ]
  },
  {
   "cell_type": "code",
   "execution_count": 104,
   "id": "24ada829",
   "metadata": {},
   "outputs": [
    {
     "data": {
      "text/plain": [
       "{1, 'sparta'}"
      ]
     },
     "execution_count": 104,
     "metadata": {},
     "output_type": "execute_result"
    }
   ],
   "source": [
    "s1={1,\"sparta\",\"sparta\"}             # doesnot give duplicates in o/p\n",
    "s1"
   ]
  },
  {
   "cell_type": "code",
   "execution_count": 105,
   "id": "07411258",
   "metadata": {},
   "outputs": [
    {
     "data": {
      "text/plain": [
       "set"
      ]
     },
     "execution_count": 105,
     "metadata": {},
     "output_type": "execute_result"
    }
   ],
   "source": [
    "type(s1)"
   ]
  },
  {
   "cell_type": "code",
   "execution_count": 111,
   "id": "9ef6d161",
   "metadata": {},
   "outputs": [
    {
     "data": {
      "text/plain": [
       "{1, 'hello', 'sparta'}"
      ]
     },
     "execution_count": 111,
     "metadata": {},
     "output_type": "execute_result"
    }
   ],
   "source": [
    "s1.add(\"hello\")          # adding a new element    ---->>   [   .add(\"new_element\")   ] \n",
    "s1"
   ]
  },
  {
   "cell_type": "code",
   "execution_count": 113,
   "id": "f94b5984",
   "metadata": {},
   "outputs": [],
   "source": [
    "s1.remove(\"sparta\")          # removing an element   ---->>   [  .remove(\"element\") ]  \n"
   ]
  },
  {
   "cell_type": "code",
   "execution_count": 114,
   "id": "242d27c7",
   "metadata": {},
   "outputs": [
    {
     "data": {
      "text/plain": [
       "{1, 'hello'}"
      ]
     },
     "execution_count": 114,
     "metadata": {},
     "output_type": "execute_result"
    }
   ],
   "source": [
    "s1"
   ]
  },
  {
   "cell_type": "code",
   "execution_count": 122,
   "id": "348e0962",
   "metadata": {},
   "outputs": [
    {
     "data": {
      "text/plain": [
       "{1, 100, 20, 30, 'hello', 'name'}"
      ]
     },
     "execution_count": 122,
     "metadata": {},
     "output_type": "execute_result"
    }
   ],
   "source": [
    "s1.update([20,30,100,\"name\"])         # updating multiple elements \n",
    "s1                                    # Sets are UNORDERED & UNINDEXED."
   ]
  },
  {
   "cell_type": "code",
   "execution_count": 129,
   "id": "588f842c",
   "metadata": {},
   "outputs": [
    {
     "data": {
      "text/plain": [
       "{1, 2, 3, 4, 5}"
      ]
     },
     "execution_count": 129,
     "metadata": {},
     "output_type": "execute_result"
    }
   ],
   "source": [
    "          # SET FUNCTIONS --->> UNION, INTERSECTION\n",
    "    \n",
    "s1={1,2,3}\n",
    "s2={3,4,5}               \n",
    "\n",
    "s1.union(s2)                 # UNION    ------>>   [  .union() ]"
   ]
  },
  {
   "cell_type": "code",
   "execution_count": 130,
   "id": "87fa5607",
   "metadata": {},
   "outputs": [
    {
     "data": {
      "text/plain": [
       "{3}"
      ]
     },
     "execution_count": 130,
     "metadata": {},
     "output_type": "execute_result"
    }
   ],
   "source": [
    "s1.intersection(s2)         # INTERSECTION  ----->>   [  .intersection() ]"
   ]
  },
  {
   "cell_type": "code",
   "execution_count": 1,
   "id": "29630957",
   "metadata": {},
   "outputs": [],
   "source": [
    "         # IF STATEMENT in Python \n",
    "\n",
    "a=10\n",
    "b=20"
   ]
  },
  {
   "cell_type": "code",
   "execution_count": 4,
   "id": "c0f8cf81",
   "metadata": {},
   "outputs": [
    {
     "name": "stdout",
     "output_type": "stream",
     "text": [
      "a is smaller than b\n"
     ]
    }
   ],
   "source": [
    "if a>b:\n",
    "    print(\"a is greater then b\")                # INDENTATION MATTERS\n",
    "else:\n",
    "    print(\"a is smaller than b\")"
   ]
  },
  {
   "cell_type": "code",
   "execution_count": 5,
   "id": "05d5fdc9",
   "metadata": {},
   "outputs": [],
   "source": [
    "a=10\n",
    "b=20\n",
    "c=20"
   ]
  },
  {
   "cell_type": "code",
   "execution_count": 6,
   "id": "99c41be2",
   "metadata": {},
   "outputs": [
    {
     "name": "stdout",
     "output_type": "stream",
     "text": [
      "c is the largest number\n"
     ]
    }
   ],
   "source": [
    "if (a>b & a>c):\n",
    "    print(\"a is the largest number\")\n",
    "elif (b>a & b>c):\n",
    "    print(\"b is the largest number\")\n",
    "else:\n",
    "    print(\"c is the largest number\")"
   ]
  },
  {
   "cell_type": "code",
   "execution_count": 12,
   "id": "d7b546f8",
   "metadata": {},
   "outputs": [
    {
     "data": {
      "text/plain": [
       "tuple"
      ]
     },
     "execution_count": 12,
     "metadata": {},
     "output_type": "execute_result"
    }
   ],
   "source": [
    "tup1= (1,2,3,4)  \n",
    "type(tup1)"
   ]
  },
  {
   "cell_type": "code",
   "execution_count": 10,
   "id": "7361a3c0",
   "metadata": {},
   "outputs": [
    {
     "name": "stdout",
     "output_type": "stream",
     "text": [
      "2 is present\n"
     ]
    }
   ],
   "source": [
    "if 2 in tup1:                                # using IF in Tuple\n",
    "    print(\"2 is present\")\n",
    "else:\n",
    "    print(\"no! not present\")"
   ]
  },
  {
   "cell_type": "code",
   "execution_count": 11,
   "id": "3bec49b6",
   "metadata": {},
   "outputs": [
    {
     "name": "stdout",
     "output_type": "stream",
     "text": [
      "no! 6 is not present\n"
     ]
    }
   ],
   "source": [
    "if 6 in tup1:\n",
    "    print(\"yes, 6 is present\")\n",
    "else:\n",
    "    print(\"no! 6 is not present\")"
   ]
  },
  {
   "cell_type": "code",
   "execution_count": 13,
   "id": "f3abfe30",
   "metadata": {},
   "outputs": [],
   "source": [
    "l1=[1,2,3,4,5]                                         # using IF in list"
   ]
  },
  {
   "cell_type": "code",
   "execution_count": 14,
   "id": "d079d354",
   "metadata": {},
   "outputs": [],
   "source": [
    "if l1[1]==2:              \n",
    "    l1[1]=l1[1]+100                   # adding at the index position 1 "
   ]
  },
  {
   "cell_type": "code",
   "execution_count": 15,
   "id": "cba2cec7",
   "metadata": {},
   "outputs": [
    {
     "data": {
      "text/plain": [
       "[1, 102, 3, 4, 5]"
      ]
     },
     "execution_count": 15,
     "metadata": {},
     "output_type": "execute_result"
    }
   ],
   "source": [
    "l1"
   ]
  },
  {
   "cell_type": "code",
   "execution_count": 16,
   "id": "3ca47a26",
   "metadata": {},
   "outputs": [],
   "source": [
    "d1 = {'a':1,'b':2,'c':3}          # using IF in Dictionary "
   ]
  },
  {
   "cell_type": "code",
   "execution_count": 18,
   "id": "bd43a588",
   "metadata": {},
   "outputs": [],
   "source": [
    "if d1[\"b\"]==2:\n",
    "    d1[\"b\"]=d1[\"b\"]+100         # adding to a particular key-value pair using IF in Dictionary"
   ]
  },
  {
   "cell_type": "code",
   "execution_count": 19,
   "id": "1b2dd6da",
   "metadata": {},
   "outputs": [
    {
     "data": {
      "text/plain": [
       "{'a': 1, 'b': 102, 'c': 3}"
      ]
     },
     "execution_count": 19,
     "metadata": {},
     "output_type": "execute_result"
    }
   ],
   "source": [
    "d1"
   ]
  },
  {
   "cell_type": "code",
   "execution_count": 20,
   "id": "02b30274",
   "metadata": {},
   "outputs": [],
   "source": [
    "if d1[\"c\"]==3:\n",
    "    d1[\"c\"]=d1[\"c\"]+2"
   ]
  },
  {
   "cell_type": "code",
   "execution_count": 21,
   "id": "519fed7e",
   "metadata": {},
   "outputs": [
    {
     "data": {
      "text/plain": [
       "{'a': 1, 'b': 102, 'c': 5}"
      ]
     },
     "execution_count": 21,
     "metadata": {},
     "output_type": "execute_result"
    }
   ],
   "source": [
    "d1"
   ]
  },
  {
   "cell_type": "code",
   "execution_count": 22,
   "id": "93cc4630",
   "metadata": {},
   "outputs": [],
   "source": [
    "      # LOOPING STATEMENTS IN PYTHON TO AUTOMATE TASK \n",
    "\n",
    "   # WHILE LOOP   "
   ]
  },
  {
   "cell_type": "code",
   "execution_count": 23,
   "id": "5038c0c4",
   "metadata": {},
   "outputs": [],
   "source": [
    "i=1      # PRINTING THE FIRST 10 INTEGERS"
   ]
  },
  {
   "cell_type": "code",
   "execution_count": 24,
   "id": "6610da43",
   "metadata": {},
   "outputs": [
    {
     "name": "stdout",
     "output_type": "stream",
     "text": [
      "1\n",
      "2\n",
      "3\n",
      "4\n",
      "5\n",
      "6\n",
      "7\n",
      "8\n",
      "9\n",
      "10\n"
     ]
    }
   ],
   "source": [
    "while i<=10:         # initial value of i=1 (check the above console)\n",
    "    print(i)\n",
    "    i=i+1             # i is incremented to i+1; the loop breaks down when i>10"
   ]
  },
  {
   "cell_type": "code",
   "execution_count": 2,
   "id": "367ada31",
   "metadata": {},
   "outputs": [],
   "source": [
    "# PRINTING THE TABLE OF 2 (..till 2*10)\n",
    "\n",
    "i=1            #setting value of i=1 which would increment till 10"
   ]
  },
  {
   "cell_type": "code",
   "execution_count": 3,
   "id": "8a6f2dba",
   "metadata": {},
   "outputs": [],
   "source": [
    "n=2            #2 is constant in a table of 2 (ie,2*1;2*2;2*3;2*4....,2*10)"
   ]
  },
  {
   "cell_type": "code",
   "execution_count": 4,
   "id": "91428216",
   "metadata": {},
   "outputs": [
    {
     "name": "stdout",
     "output_type": "stream",
     "text": [
      "2  *  1  =  2\n",
      "2  *  2  =  4\n",
      "2  *  3  =  6\n",
      "2  *  4  =  8\n",
      "2  *  5  =  10\n",
      "2  *  6  =  12\n",
      "2  *  7  =  14\n",
      "2  *  8  =  16\n",
      "2  *  9  =  18\n",
      "2  *  10  =  20\n"
     ]
    }
   ],
   "source": [
    "while i<=10:\n",
    "    print(n, \" * \" , i , \" = \",n*i)\n",
    "    i=i+1"
   ]
  },
  {
   "cell_type": "code",
   "execution_count": 11,
   "id": "36965374",
   "metadata": {},
   "outputs": [],
   "source": [
    "l1 = [1,2,3,4,5]                # WHILE LOOP IN A LIST"
   ]
  },
  {
   "cell_type": "code",
   "execution_count": 12,
   "id": "9f763016",
   "metadata": {},
   "outputs": [],
   "source": [
    "i=0"
   ]
  },
  {
   "cell_type": "code",
   "execution_count": 13,
   "id": "4b373ca1",
   "metadata": {},
   "outputs": [],
   "source": [
    "while i<len(l1):\n",
    "    l1[i]=l1[i]+100\n",
    "    i=i+1"
   ]
  },
  {
   "cell_type": "code",
   "execution_count": 14,
   "id": "8a1ebadb",
   "metadata": {},
   "outputs": [
    {
     "data": {
      "text/plain": [
       "[101, 102, 103, 104, 105]"
      ]
     },
     "execution_count": 14,
     "metadata": {},
     "output_type": "execute_result"
    }
   ],
   "source": [
    "l1"
   ]
  },
  {
   "cell_type": "code",
   "execution_count": null,
   "id": "2545d3c9",
   "metadata": {},
   "outputs": [],
   "source": []
  },
  {
   "cell_type": "code",
   "execution_count": 16,
   "id": "9a13f97f",
   "metadata": {},
   "outputs": [],
   "source": [
    "   # FOR LOOP   ------->>> used to iterate over a sequence"
   ]
  },
  {
   "cell_type": "code",
   "execution_count": 17,
   "id": "2699ff9e",
   "metadata": {},
   "outputs": [],
   "source": [
    "l1 = [\"apple\",\"banana\",\"orange\"]"
   ]
  },
  {
   "cell_type": "code",
   "execution_count": 18,
   "id": "16ef1374",
   "metadata": {},
   "outputs": [
    {
     "name": "stdout",
     "output_type": "stream",
     "text": [
      "apple\n",
      "banana\n",
      "orange\n"
     ]
    }
   ],
   "source": [
    "for i in l1:             #once the sequence ends, we come out of the loop! ie, after \"orange\"\n",
    "    print(i)"
   ]
  },
  {
   "cell_type": "code",
   "execution_count": 20,
   "id": "f631c187",
   "metadata": {},
   "outputs": [],
   "source": [
    "l1 = [\"orange\",\"blue\",\"green\"]            \n",
    "l2 = [\"book\",\"chair\",\"phone\"]"
   ]
  },
  {
   "cell_type": "code",
   "execution_count": 22,
   "id": "12639fb9",
   "metadata": {},
   "outputs": [
    {
     "name": "stdout",
     "output_type": "stream",
     "text": [
      "orange book\n",
      "orange chair\n",
      "orange phone\n",
      "blue book\n",
      "blue chair\n",
      "blue phone\n",
      "green book\n",
      "green chair\n",
      "green phone\n"
     ]
    }
   ],
   "source": [
    "for i in l1:\n",
    "    for j in l2:                   # agey inner loop chole; tarpor outer loop\n",
    "        print(i,j)        # agey book,chair,phone chollo orange rekhe, tarpor bairer colours r loop ta chollo"
   ]
  },
  {
   "cell_type": "code",
   "execution_count": null,
   "id": "cab4b397",
   "metadata": {},
   "outputs": [],
   "source": [
    "# BASIC PROBLEMS (mygreatlearning_freecourse)"
   ]
  },
  {
   "cell_type": "code",
   "execution_count": 23,
   "id": "1b6c2c2a",
   "metadata": {},
   "outputs": [],
   "source": [
    "# 1. CHECK EVEN NUMBER"
   ]
  },
  {
   "cell_type": "code",
   "execution_count": 25,
   "id": "88fae0af",
   "metadata": {},
   "outputs": [
    {
     "name": "stdout",
     "output_type": "stream",
     "text": [
      "Enter a number:  15\n",
      "15  is odd\n"
     ]
    }
   ],
   "source": [
    "num=int(input(\"Enter a number:  \"))\n",
    "if (num % 2)==0:\n",
    "    print(num,\" is even\")\n",
    "else:\n",
    "    print(num,\" is odd\")"
   ]
  },
  {
   "cell_type": "code",
   "execution_count": null,
   "id": "e2feb5d7",
   "metadata": {},
   "outputs": [],
   "source": [
    "# 2. CHECK NUMBER IS +VE,-VE OR 0"
   ]
  },
  {
   "cell_type": "code",
   "execution_count": 4,
   "id": "4748b0a1",
   "metadata": {},
   "outputs": [
    {
     "name": "stdout",
     "output_type": "stream",
     "text": [
      "Enter a number: 0.000001\n",
      "1e-06  is positive\n"
     ]
    }
   ],
   "source": [
    "num=float(input(\"Enter a number: \"))\n",
    "if num>0:\n",
    "    print(num,\" is positive\")\n",
    "elif num==0:\n",
    "    print(num,\" is equal to 0\")\n",
    "else:\n",
    "    print(num,\" is negative\")"
   ]
  },
  {
   "cell_type": "code",
   "execution_count": 5,
   "id": "2ed6363f",
   "metadata": {},
   "outputs": [],
   "source": [
    "# 3. FACTORIAL OF A NUMBER"
   ]
  },
  {
   "cell_type": "code",
   "execution_count": 8,
   "id": "fb6e032a",
   "metadata": {},
   "outputs": [
    {
     "name": "stdout",
     "output_type": "stream",
     "text": [
      "Enter a number= 5\n",
      "The Factorial of 5 is 120\n"
     ]
    }
   ],
   "source": [
    "num=int(input(\"Enter a number= \"))\n",
    "                                       \n",
    "factorial=1\n",
    "if num < 0:                            # check number is +ve , -ve or 0 before calculating      \n",
    "    print(\"No Factorial for negative number\")\n",
    "elif num==0:\n",
    "    print(\"The Factorial of 0 is 1\")\n",
    "else:\n",
    "    for i in range(1,num +1):          # Range 1 to 6 nitey hobe jodi 5 obdhi jetey hoy; hence (1,num+1) \n",
    "        factorial = factorial*i        # initial value of factorial taken as 1.\n",
    "    print(\"The Factorial of\",num,\"is\", factorial)     #i=1--> factorial= f*i = 1*1\n",
    "                                                      #i=2--> factorial= f*i = 1*1*i = 2\n",
    "                                                      #i=3--> factorial= f*i = 1*1*2*3\n",
    "                                                      #i=4--> factorial= f*i = 1*1*2*3*4\n",
    "                                                      #i=5--> factorial= f*i = 1*1*2*3*4*5    \n",
    "  #num=5      #range(1,num+1)-->(initial,Final)       #i=6--> loop breaks as out of range!! Range doesnt include margins on greater side.\n",
    "  #Range(1,(5+1=)6)=1,2,3,4,5 {doesnot include margins on greater side, ie.6}    \n",
    "# for i in range(1,num+1) = i=[1,2,3,4,5]    {i--> 5 times ghorate hole, range, +1=6 nitey hobe}"
   ]
  },
  {
   "cell_type": "code",
   "execution_count": 1,
   "id": "9dfa0af6",
   "metadata": {},
   "outputs": [],
   "source": [
    "# solve basic problems of python: section 1 last r dikey"
   ]
  },
  {
   "cell_type": "code",
   "execution_count": null,
   "id": "d0d9e3a3",
   "metadata": {},
   "outputs": [],
   "source": []
  },
  {
   "cell_type": "code",
   "execution_count": null,
   "id": "804d8d6e",
   "metadata": {},
   "outputs": [],
   "source": []
  },
  {
   "cell_type": "code",
   "execution_count": null,
   "id": "1f1f42c1",
   "metadata": {},
   "outputs": [],
   "source": [
    "#------------- OBJECT ORIENTED PROGRAMMING -----------\n",
    "\n",
    "# OBJECT IS AN INSTANCE OF CLASS.\n",
    "\n",
    "# CLASS HAS -------> (PROPERTIES) + (BEHAVIOUR) ==> OBJECT IS A SPECIFIC INSTANCE OF CLASS.\n",
    "# Ex:-  PHONE IS A CLASS AND MOTOG52 IS A OBJECT\n",
    "# CLASS is a USER DEFINED data-type"
   ]
  },
  {
   "cell_type": "code",
   "execution_count": null,
   "id": "76036add",
   "metadata": {},
   "outputs": [],
   "source": [
    "# ATTRIBUTES & METHOD associated with a Class \n",
    "\n",
    "# Every class has an ---> Attribute (Properties) and Method (Behaviour)\n",
    "# Attributes are the user defined datatypes \n",
    "# Methods are how we invoke the functions of the class"
   ]
  },
  {
   "cell_type": "code",
   "execution_count": 15,
   "id": "d263ef16",
   "metadata": {},
   "outputs": [],
   "source": [
    "# CREATING A CLASS:\n",
    "\n",
    "class Phone:                              # defining a class : Phone (1st letter of the name needs to be capitalized)\n",
    "    \n",
    "                                          # \"self\"  is a referencing call/or keyword and actually it is THE FIRST parameter for defining a method\n",
    "    def make_call(self):                  # defining a method: make_call\n",
    "        print(\"Making Phone Call...\")     # creating the function for the method: make_call\n",
    "        \n",
    "    def play_games(self):                 # defining another method: play_games\n",
    "        print(\"Playing game...\")          # creating the function for the method: play_games\n",
    "        "
   ]
  },
  {
   "cell_type": "code",
   "execution_count": 16,
   "id": "08abe915",
   "metadata": {},
   "outputs": [],
   "source": [
    "motoG52 = Phone()                         # Instantiating an object: motoG52"
   ]
  },
  {
   "cell_type": "code",
   "execution_count": 17,
   "id": "e85a7973",
   "metadata": {},
   "outputs": [
    {
     "name": "stdout",
     "output_type": "stream",
     "text": [
      "Making Phone Call...\n"
     ]
    }
   ],
   "source": [
    "motoG52.make_call()                       # calling methods through the object created\n",
    "                                          # invoking method/function through object"
   ]
  },
  {
   "cell_type": "code",
   "execution_count": 18,
   "id": "5991d166",
   "metadata": {},
   "outputs": [
    {
     "name": "stdout",
     "output_type": "stream",
     "text": [
      "Playing game...\n"
     ]
    }
   ],
   "source": [
    "motoG52.play_games()                      # invoking method through object using dot operator"
   ]
  },
  {
   "cell_type": "code",
   "execution_count": 20,
   "id": "3751d75d",
   "metadata": {},
   "outputs": [],
   "source": [
    "#---- ADDING A PARAMETER TO A CLASS-----\n",
    "\n",
    "class Phone:\n",
    "    \n",
    " # SETTING ATTRIBUTE VALUES \n",
    "\n",
    "    def set_colour(self,colour):\n",
    "        self.colour = colour\n",
    "        \n",
    "    def set_cost(self,cost):\n",
    "        self.cost=cost\n",
    "\n",
    " # RETURNING ATTRIBUTE VALUES\n",
    "\n",
    "    def show_colour(self):\n",
    "        return self.colour\n",
    "    \n",
    "    def show_cost(self):\n",
    "        return self.cost\n",
    "    \n",
    " # PREVIOUS METHODS\n",
    "\n",
    "    def make_call(self):                  # defining a method: make_call\n",
    "        print(\"Making Phone Call...\")     # creating the function for the method: make_call\n",
    "        \n",
    "    def play_games(self):                 # defining another method: play_games\n",
    "        print(\"Playing game...\") \n",
    "        \n",
    "    # DEFINING METHODS AND FUNCTIONS AND ASSIGNING PARAMETERS IS DONE!\n",
    "    # NOW, HOW TO CALL OR INVOKE ???"
   ]
  },
  {
   "cell_type": "code",
   "execution_count": 21,
   "id": "e7118766",
   "metadata": {},
   "outputs": [],
   "source": [
    "motoG52 = Phone()                         # CREATING AN OBJECT IN THE CLASS: PHONE"
   ]
  },
  {
   "cell_type": "code",
   "execution_count": 22,
   "id": "7caad61c",
   "metadata": {},
   "outputs": [],
   "source": [
    "motoG52.set_colour('blue')                # giving the input parameters for the object\n",
    "\n",
    "motoG52.set_cost(15000)"
   ]
  },
  {
   "cell_type": "code",
   "execution_count": 23,
   "id": "bf91ea69",
   "metadata": {},
   "outputs": [
    {
     "data": {
      "text/plain": [
       "'blue'"
      ]
     },
     "execution_count": 23,
     "metadata": {},
     "output_type": "execute_result"
    }
   ],
   "source": [
    "motoG52.show_colour()                    # output"
   ]
  },
  {
   "cell_type": "code",
   "execution_count": 24,
   "id": "aef27ee9",
   "metadata": {},
   "outputs": [
    {
     "data": {
      "text/plain": [
       "15000"
      ]
     },
     "execution_count": 24,
     "metadata": {},
     "output_type": "execute_result"
    }
   ],
   "source": [
    "motoG52.show_cost()                      # output "
   ]
  },
  {
   "cell_type": "code",
   "execution_count": 25,
   "id": "ca54de19",
   "metadata": {},
   "outputs": [
    {
     "name": "stdout",
     "output_type": "stream",
     "text": [
      "Making Phone Call...\n"
     ]
    }
   ],
   "source": [
    "motoG52.make_call()                      # output"
   ]
  },
  {
   "cell_type": "code",
   "execution_count": 26,
   "id": "25a9a978",
   "metadata": {},
   "outputs": [
    {
     "name": "stdout",
     "output_type": "stream",
     "text": [
      "Playing game...\n"
     ]
    }
   ],
   "source": [
    "motoG52.play_games()                     # output"
   ]
  },
  {
   "cell_type": "code",
   "execution_count": 30,
   "id": "b1280eaf",
   "metadata": {},
   "outputs": [],
   "source": [
    "#--------- CREATING A CONSTRUCTOR WITHIN A CLASS ------------  \n",
    "\n",
    "# constructor is a special type of function with which we can assign values to all the attributes while creating an object.\n",
    "# while creating an object, all attributes of the class will be initialized by the constructor inside the class.\n",
    "\n",
    "# constructor is named by default in Python: __init__ method\n",
    "\n",
    "class Employee:\n",
    "    \n",
    "    def __init__(self,name,age,salary,gender):\n",
    "        \n",
    "        self.name = name\n",
    "        self.age = age\n",
    "        self.salary = salary\n",
    "        self.gender = gender\n",
    "        \n",
    "        \n",
    "    def employee_details(self):\n",
    "        print(\"Name of employee is \",self.name)\n",
    "        print(\"Age of employee is \",self.age)\n",
    "        print(\"Salary of employee is \",self.salary)\n",
    "        print(\"Gender of employee is \",self.gender)\n",
    "        \n",
    "  \n",
    "   # everything created and set                                              ...[saved] \n",
    "                                                                    # now how to run??\n",
    "         "
   ]
  },
  {
   "cell_type": "code",
   "execution_count": 33,
   "id": "04e9cf7f",
   "metadata": {},
   "outputs": [
    {
     "name": "stdout",
     "output_type": "stream",
     "text": [
      "Name of employee is  santa\n",
      "Age of employee is  28\n",
      "Salary of employee is  20000\n",
      "Gender of employee is  Male\n"
     ]
    }
   ],
   "source": [
    "# To run, instantiate an object --------> e1 in class Employee\n",
    "\n",
    "e1 = Employee('santa',28,20000,'Male')            # directly assigning values to attributes while creating the object \n",
    "                                                  # CONSTRUCTOR @ WORK\n",
    "\n",
    "# Invoking the 'employee_details' method \n",
    "\n",
    "e1.employee_details()\n"
   ]
  },
  {
   "cell_type": "code",
   "execution_count": 62,
   "id": "2151a4ca",
   "metadata": {},
   "outputs": [],
   "source": [
    "# -------------- INHERITANCE IN PYTHON ---------------------->  \"One Class can derive the properties of another Class\"\n",
    "                                                                   # Ex. : Man inheriting features from his father!!\n",
    "\n",
    "# CREATING A BASE CLASS OR PARENT CLASS: \n",
    "\n",
    "class Vehicle:\n",
    "    \n",
    "    def __init__(self, name, mileage,cost):\n",
    "        \n",
    "        self.name = name\n",
    "        self.mileage = mileage\n",
    "        self.cost = cost\n",
    "        \n",
    "        \n",
    "    def show_details(self):\n",
    "        print(\"Name of Vehicle: \",self.name)\n",
    "        print(\"Mileage of Vehicle: \",self.mileage)\n",
    "        print(\"COst of Vehicle: \",self.cost)\n"
   ]
  },
  {
   "cell_type": "code",
   "execution_count": 63,
   "id": "18c89e86",
   "metadata": {},
   "outputs": [
    {
     "name": "stdout",
     "output_type": "stream",
     "text": [
      "Name of Vehicle:  TATA NANO\n",
      "Mileage of Vehicle:  50\n",
      "COst of Vehicle:  80000\n"
     ]
    }
   ],
   "source": [
    "# Instantiating the OBJECT: v1 in class Vehicle\n",
    "\n",
    "v1 = Vehicle(\"TATA NANO\", 50, 80000)\n",
    "v1.show_details()\n"
   ]
  },
  {
   "cell_type": "code",
   "execution_count": 89,
   "id": "123360a3",
   "metadata": {},
   "outputs": [
    {
     "name": "stdout",
     "output_type": "stream",
     "text": [
      "Name of Vehicle:  Honda City\n",
      "Mileage of Vehicle:  30\n",
      "COst of Vehicle:  300000\n"
     ]
    }
   ],
   "source": [
    "# CREATING A SUB-CLASS FOR INHERIENCE OR CHILD-CLASS : \n",
    "\n",
    "class Car(Vehicle):\n",
    "    def show_car(self):                                  #........ unique method of child class\n",
    "        print(\"I am a Sedan\")                            #.........child class created with its own function\n",
    "        \n",
    "        \n",
    "c1 = Car(\"Honda City\",30,300000)                         # Instantiating the Object for child class\n",
    "\n",
    "\n",
    "\n",
    "c1.show_details()                                         #..........inheritance from parent class\n"
   ]
  },
  {
   "cell_type": "code",
   "execution_count": 90,
   "id": "e7a53e50",
   "metadata": {},
   "outputs": [
    {
     "name": "stdout",
     "output_type": "stream",
     "text": [
      "I am a Sedan\n"
     ]
    }
   ],
   "source": [
    "c1.show_car()                                               #.......... own attribute of child class "
   ]
  },
  {
   "cell_type": "code",
   "execution_count": 92,
   "id": "a351fd4a",
   "metadata": {},
   "outputs": [
    {
     "name": "stdout",
     "output_type": "stream",
     "text": [
      "Name of Vehicle:  TATA NANO\n",
      "Mileage of Vehicle:  50\n",
      "COst of Vehicle:  80000\n",
      "I am a Sedan\n",
      "Name of Vehicle:  Honda City\n",
      "Mileage of Vehicle:  30\n",
      "COst of Vehicle:  300000\n"
     ]
    }
   ],
   "source": [
    "# SUMMARY\n",
    "\n",
    "class Vehicle:\n",
    "    \n",
    "    def __init__(self, name, mileage,cost):\n",
    "        \n",
    "        self.name = name\n",
    "        self.mileage = mileage\n",
    "        self.cost = cost\n",
    "        \n",
    "        \n",
    "    def show_details(self):\n",
    "        print(\"Name of Vehicle: \",self.name)\n",
    "        print(\"Mileage of Vehicle: \",self.mileage)\n",
    "        print(\"COst of Vehicle: \",self.cost)\n",
    "        \n",
    "\n",
    "v1 = Vehicle(\"TATA NANO\", 50, 80000)\n",
    "v1.show_details()\n",
    "\n",
    "\n",
    "\n",
    "class Car(Vehicle):\n",
    "    def show_car(self):                               \n",
    "        print(\"I am a Sedan\")                           \n",
    "        \n",
    "        \n",
    "c1 = Car(\"Honda City\",30,300000)                       \n",
    "\n",
    "\n",
    "c1.show_car() \n",
    "c1.show_details()    \n",
    "\n"
   ]
  },
  {
   "cell_type": "code",
   "execution_count": null,
   "id": "928ce6dc",
   "metadata": {},
   "outputs": [],
   "source": [
    "#---- OVER-RIDING __init__ METHOD ----------\n",
    "\n"
   ]
  },
  {
   "cell_type": "code",
   "execution_count": null,
   "id": "5e2b2a88",
   "metadata": {},
   "outputs": [],
   "source": []
  },
  {
   "cell_type": "code",
   "execution_count": null,
   "id": "e2a9bbb4",
   "metadata": {},
   "outputs": [],
   "source": []
  },
  {
   "cell_type": "code",
   "execution_count": null,
   "id": "7932715c",
   "metadata": {},
   "outputs": [],
   "source": []
  }
 ],
 "metadata": {
  "kernelspec": {
   "display_name": "Python 3 (ipykernel)",
   "language": "python",
   "name": "python3"
  },
  "language_info": {
   "codemirror_mode": {
    "name": "ipython",
    "version": 3
   },
   "file_extension": ".py",
   "mimetype": "text/x-python",
   "name": "python",
   "nbconvert_exporter": "python",
   "pygments_lexer": "ipython3",
   "version": "3.9.12"
  }
 },
 "nbformat": 4,
 "nbformat_minor": 5
}
