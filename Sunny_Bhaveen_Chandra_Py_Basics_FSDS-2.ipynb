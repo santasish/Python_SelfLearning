{
 "cells": [
  {
   "cell_type": "code",
   "execution_count": 62,
   "id": "2c35da99",
   "metadata": {},
   "outputs": [
    {
     "name": "stdout",
     "output_type": "stream",
     "text": [
      "Hello Neurons\n"
     ]
    }
   ],
   "source": [
    "print(\"Hello Neurons\")"
   ]
  },
  {
   "cell_type": "code",
   "execution_count": 63,
   "id": "a30aca2a",
   "metadata": {},
   "outputs": [
    {
     "name": "stdout",
     "output_type": "stream",
     "text": [
      "Good evening neurons\n",
      "Good evening neurons\n",
      "Good evening neurons\n",
      "Good evening neurons\n"
     ]
    }
   ],
   "source": [
    "print(\"Good evening neurons\")      # ctrl + left_click for writing multiple lines simultaneously\n",
    "print(\"Good evening neurons\")\n",
    "print(\"Good evening neurons\")\n",
    "print(\"Good evening neurons\")\n"
   ]
  },
  {
   "cell_type": "code",
   "execution_count": 9,
   "id": "eaf72109",
   "metadata": {
    "scrolled": true
   },
   "outputs": [
    {
     "name": "stdout",
     "output_type": "stream",
     "text": [
      "I               # triple quotes for multi-line comments\n",
      "AM\n",
      "A\n",
      "BOSS\n"
     ]
    }
   ],
   "source": [
    "print(\"\"\"I               # triple quotes for multi-line comments\n",
    "AM\n",
    "A\n",
    "BOSS\"\"\")"
   ]
  },
  {
   "cell_type": "code",
   "execution_count": 1,
   "id": "80b57563",
   "metadata": {},
   "outputs": [
    {
     "name": "stdout",
     "output_type": "stream",
     "text": [
      " SAY HI\n",
      "TO THE\n",
      "STUDENTS\n",
      "OF iNeuron \n"
     ]
    }
   ],
   "source": [
    "print(\"\"\" SAY HI\n",
    "TO THE\n",
    "STUDENTS\n",
    "OF iNeuron \"\"\")"
   ]
  },
  {
   "cell_type": "markdown",
   "id": "3119f2b3",
   "metadata": {},
   "source": [
    "Header = Markdown"
   ]
  },
  {
   "cell_type": "markdown",
   "id": "91a3e8d9",
   "metadata": {},
   "source": [
    " FORMATTED STRING (F-String) METHOD TO CONCATENATE STRINGS\n",
    " \n",
    " 1. F STRING to Auto-Fill  \n",
    " 2. Fill in the blanks with {curly braces}"
   ]
  },
  {
   "cell_type": "code",
   "execution_count": 13,
   "id": "ae7fd7ff",
   "metadata": {},
   "outputs": [
    {
     "name": "stdout",
     "output_type": "stream",
     "text": [
      "I know  Java  language\n"
     ]
    }
   ],
   "source": [
    "lang = \" Java \"\n",
    "print(f\"I know {lang} language\")               # f string holder to concatenate"
   ]
  },
  {
   "cell_type": "code",
   "execution_count": 12,
   "id": "d2832061",
   "metadata": {},
   "outputs": [
    {
     "name": "stdout",
     "output_type": "stream",
     "text": [
      "I am NOT ALLOWED TO HAVE mutton biriyani!\n"
     ]
    }
   ],
   "source": [
    "food1 = \"biriyani\"\n",
    "food2 = \"mutton\"\n",
    "\n",
    "print(f\"I am NOT ALLOWED TO HAVE {food2} {food1}!\")"
   ]
  },
  {
   "cell_type": "code",
   "execution_count": null,
   "id": "b86ca254",
   "metadata": {},
   "outputs": [],
   "source": []
  },
  {
   "cell_type": "markdown",
   "id": "6adb766f",
   "metadata": {},
   "source": [
    "DOUBLE QUOTES WITHIN DOUBLE QUOTES"
   ]
  },
  {
   "cell_type": "code",
   "execution_count": 2,
   "id": "0e08d5e2",
   "metadata": {},
   "outputs": [
    {
     "name": "stdout",
     "output_type": "stream",
     "text": [
      "Hi! My name is \"SANTA\"\n"
     ]
    }
   ],
   "source": [
    "print(\"Hi! My name is \\\"SANTA\\\"\")              # double quotes within double quotes with \\\"abc\\\""
   ]
  },
  {
   "cell_type": "code",
   "execution_count": 16,
   "id": "4758aad8",
   "metadata": {},
   "outputs": [
    {
     "data": {
      "text/plain": [
       "' \\\\ '"
      ]
     },
     "execution_count": 16,
     "metadata": {},
     "output_type": "execute_result"
    }
   ],
   "source": [
    "\"\"\" \\ \"\"\"                                     # Magic ----> Kalmah"
   ]
  },
  {
   "cell_type": "code",
   "execution_count": 5,
   "id": "f6762482",
   "metadata": {},
   "outputs": [
    {
     "data": {
      "text/plain": [
       "'SANTASANTASANTA'"
      ]
     },
     "execution_count": 5,
     "metadata": {},
     "output_type": "execute_result"
    }
   ],
   "source": [
    "s= \"SANTA\"                                     # Multiplying a string\n",
    "s*3"
   ]
  },
  {
   "cell_type": "code",
   "execution_count": 6,
   "id": "b7b0989b",
   "metadata": {},
   "outputs": [],
   "source": [
    "__num=10"
   ]
  },
  {
   "cell_type": "markdown",
   "id": "38f759c5",
   "metadata": {},
   "source": [
    "HIDDEN VARIABLES\n",
    "1. HIDDEN VARIABLE STARTS WITH  __VARNAME.\n",
    "2. HIDDEN VARIABLE IS NOT MEANT TO BE USED BY THE USER.\n",
    "   Ex: MOVEMENTS IN A GAME! HIDDEN Variable underneath the CONTROLLER FUNCTIONS. \n",
    "3. HIDDEN VARIABLES ARE PART OF THE APPLICATION BUT NOT USED BY THE USER THEMSELVES."
   ]
  },
  {
   "cell_type": "code",
   "execution_count": 7,
   "id": "b2e64776",
   "metadata": {},
   "outputs": [],
   "source": [
    "_=10    # DUMMY VARIABLE (just keep it inside a _)"
   ]
  },
  {
   "cell_type": "code",
   "execution_count": null,
   "id": "ef06214a",
   "metadata": {},
   "outputs": [],
   "source": []
  },
  {
   "cell_type": "markdown",
   "id": "2c141de7",
   "metadata": {},
   "source": [
    " FUNDAMENTAL DATA-TYPES               # check with:   type(var_name)\n",
    " 1. int\n",
    " 2. float\n",
    " 3. complex number\n",
    " 4. str\n",
    " 5. bool"
   ]
  },
  {
   "cell_type": "code",
   "execution_count": null,
   "id": "83e0ace0",
   "metadata": {},
   "outputs": [],
   "source": []
  },
  {
   "cell_type": "markdown",
   "id": "39b25a0c",
   "metadata": {},
   "source": [
    "DYNAMIC TYPING IN PYTHON (Data-type is self recognised by Python)"
   ]
  },
  {
   "cell_type": "code",
   "execution_count": 8,
   "id": "1cf9178b",
   "metadata": {},
   "outputs": [
    {
     "data": {
      "text/plain": [
       "int"
      ]
     },
     "execution_count": 8,
     "metadata": {},
     "output_type": "execute_result"
    }
   ],
   "source": [
    "a = 22\n",
    "type(a)"
   ]
  },
  {
   "cell_type": "code",
   "execution_count": 11,
   "id": "7038c748",
   "metadata": {},
   "outputs": [
    {
     "data": {
      "text/plain": [
       "float"
      ]
     },
     "execution_count": 11,
     "metadata": {},
     "output_type": "execute_result"
    }
   ],
   "source": [
    "a = 22\n",
    "type(a)\n",
    "a = 22.2\n",
    "type(a)"
   ]
  },
  {
   "cell_type": "markdown",
   "id": "34ae01af",
   "metadata": {},
   "source": [
    "RESERVED WORDS IN PYTHON\n",
    "\n",
    "THEY ARE SOME IN-BUILT FUNCTIONS INSIDE PYTHON\n",
    "Ex: print\n",
    "DONT USE THEM AS A VARIABLE NAME or ordinary indentifiers\n",
    "PYTHON DOESNOT RESTRICT USER TO USE THEM but using them MESSES UP THE GAME"
   ]
  },
  {
   "cell_type": "code",
   "execution_count": 17,
   "id": "6442d707",
   "metadata": {},
   "outputs": [
    {
     "name": "stdout",
     "output_type": "stream",
     "text": [
      "Hi There\n"
     ]
    }
   ],
   "source": [
    "print(\"Hi There\")"
   ]
  },
  {
   "cell_type": "code",
   "execution_count": 23,
   "id": "78a5262b",
   "metadata": {},
   "outputs": [],
   "source": [
    "print = \"Hi There\"      # using reserved word print as a variable name\n",
    "                        # Python didnt restrict the usage"
   ]
  },
  {
   "cell_type": "code",
   "execution_count": 24,
   "id": "8b048f2c",
   "metadata": {},
   "outputs": [
    {
     "ename": "TypeError",
     "evalue": "'str' object is not callable",
     "output_type": "error",
     "traceback": [
      "\u001b[1;31m---------------------------------------------------------------------------\u001b[0m",
      "\u001b[1;31mTypeError\u001b[0m                                 Traceback (most recent call last)",
      "Input \u001b[1;32mIn [24]\u001b[0m, in \u001b[0;36m<cell line: 1>\u001b[1;34m()\u001b[0m\n\u001b[1;32m----> 1\u001b[0m \u001b[38;5;28;43mprint\u001b[39;49m\u001b[43m(\u001b[49m\u001b[38;5;124;43m\"\u001b[39;49m\u001b[38;5;124;43mHi There\u001b[39;49m\u001b[38;5;124;43m\"\u001b[39;49m\u001b[43m)\u001b[49m\n",
      "\u001b[1;31mTypeError\u001b[0m: 'str' object is not callable"
     ]
    }
   ],
   "source": [
    "print(\"Hi There\")        # Messed up the actual function of the print keyword"
   ]
  },
  {
   "cell_type": "code",
   "execution_count": 25,
   "id": "f3a3db4b",
   "metadata": {},
   "outputs": [],
   "source": [
    "# How to recover from this fuck up? \n",
    "\n",
    "del print     # using delete method in Python to delete the variable print"
   ]
  },
  {
   "cell_type": "code",
   "execution_count": 26,
   "id": "41c1a8a7",
   "metadata": {},
   "outputs": [
    {
     "name": "stdout",
     "output_type": "stream",
     "text": [
      "Hi There\n"
     ]
    }
   ],
   "source": [
    "print(\"Hi There\")        # normalcy restored !!"
   ]
  },
  {
   "cell_type": "markdown",
   "id": "a9958d1a",
   "metadata": {},
   "source": [
    "MULTI-ASSIGNMENT OF VARIABLES"
   ]
  },
  {
   "cell_type": "code",
   "execution_count": 27,
   "id": "abbfd65f",
   "metadata": {},
   "outputs": [],
   "source": [
    "A, B , C = 10, 20 , \"HUNDRED\""
   ]
  },
  {
   "cell_type": "code",
   "execution_count": 29,
   "id": "1335bf70",
   "metadata": {},
   "outputs": [
    {
     "data": {
      "text/plain": [
       "int"
      ]
     },
     "execution_count": 29,
     "metadata": {},
     "output_type": "execute_result"
    }
   ],
   "source": [
    "type(A)"
   ]
  },
  {
   "cell_type": "code",
   "execution_count": 30,
   "id": "09998637",
   "metadata": {},
   "outputs": [
    {
     "data": {
      "text/plain": [
       "int"
      ]
     },
     "execution_count": 30,
     "metadata": {},
     "output_type": "execute_result"
    }
   ],
   "source": [
    "type(B)"
   ]
  },
  {
   "cell_type": "code",
   "execution_count": 31,
   "id": "c206ba4e",
   "metadata": {},
   "outputs": [
    {
     "data": {
      "text/plain": [
       "str"
      ]
     },
     "execution_count": 31,
     "metadata": {},
     "output_type": "execute_result"
    }
   ],
   "source": [
    "type(C)"
   ]
  },
  {
   "cell_type": "code",
   "execution_count": 32,
   "id": "467c1974",
   "metadata": {},
   "outputs": [
    {
     "name": "stdout",
     "output_type": "stream",
     "text": [
      "<class 'int'>\n",
      "<class 'int'>\n",
      "<class 'str'>\n"
     ]
    }
   ],
   "source": [
    "print(type(A))\n",
    "print(type(B))\n",
    "print(type(C))"
   ]
  },
  {
   "cell_type": "markdown",
   "id": "bf1d5f59",
   "metadata": {},
   "source": [
    "TAKING A USER INPUT \n",
    "\n",
    "1. keyword is \"input\"\n"
   ]
  },
  {
   "cell_type": "code",
   "execution_count": 7,
   "id": "1f02e8fa",
   "metadata": {},
   "outputs": [
    {
     "name": "stdout",
     "output_type": "stream",
     "text": [
      "ENTER YOUR NAME:  Santa\n",
      "\n"
     ]
    }
   ],
   "source": [
    "name1 = input(\"ENTER YOUR NAME:  \")\n",
    "print()"
   ]
  },
  {
   "cell_type": "code",
   "execution_count": 8,
   "id": "9297f91d",
   "metadata": {},
   "outputs": [
    {
     "name": "stdout",
     "output_type": "stream",
     "text": [
      "ENTER YOUR NAME:  Santa\n",
      "YOU HAVE ENTERED YOUR NAME AS Santa \n"
     ]
    }
   ],
   "source": [
    "name1 = input(\"ENTER YOUR NAME:  \")\n",
    "print(f\"YOU HAVE ENTERED YOUR NAME AS {name1} \")"
   ]
  },
  {
   "cell_type": "code",
   "execution_count": 9,
   "id": "4c1b0b25",
   "metadata": {},
   "outputs": [
    {
     "name": "stdout",
     "output_type": "stream",
     "text": [
      "Enter Value for A:  100\n",
      "Enter Value for B:  200\n",
      "SUM OF A and B = 100200\n"
     ]
    }
   ],
   "source": [
    "A = input(\"Enter Value for A:  \")\n",
    "B = input(\"Enter Value for B:  \")\n",
    "\n",
    "print(f\"SUM OF A and B = {A + B}\")"
   ]
  },
  {
   "cell_type": "markdown",
   "id": "c45b67ca",
   "metadata": {},
   "source": [
    "TIME FOR TYPE-CASTING or TYPE CONVERSION !!!"
   ]
  },
  {
   "cell_type": "code",
   "execution_count": 10,
   "id": "47328110",
   "metadata": {},
   "outputs": [
    {
     "name": "stdout",
     "output_type": "stream",
     "text": [
      "Enter Value for A:  100\n",
      "Enter Value for B:  200\n",
      "SUM OF A and B = 300\n"
     ]
    }
   ],
   "source": [
    "A = int(input(\"Enter Value for A:  \"))\n",
    "B = int(input(\"Enter Value for B:  \"))\n",
    "\n",
    "print(f\"SUM OF A and B = {A + B}\")"
   ]
  },
  {
   "cell_type": "code",
   "execution_count": 11,
   "id": "6d833178",
   "metadata": {
    "scrolled": true
   },
   "outputs": [
    {
     "name": "stdout",
     "output_type": "stream",
     "text": [
      "E-mail id: santa.B@gmail.com\n"
     ]
    }
   ],
   "source": [
    "#MULTI-ASSIGNMENT\n",
    "\n",
    "first_name, last_name = \"santa\" , \"B\"\n",
    "print(f\"E-mail id: {first_name}.{last_name}@gmail.com\")"
   ]
  },
  {
   "cell_type": "markdown",
   "id": "f9fab6a3",
   "metadata": {},
   "source": [
    "AUTOMATING e-mail_id GENERATION BY TAKING USER INPUT "
   ]
  },
  {
   "cell_type": "code",
   "execution_count": 1,
   "id": "a6135ad3",
   "metadata": {
    "scrolled": true
   },
   "outputs": [
    {
     "name": "stdout",
     "output_type": "stream",
     "text": [
      "Enter your First Name: Santa\n",
      "Enter your Last Name: b\n"
     ]
    }
   ],
   "source": [
    "first_name = input(\"Enter your First Name: \")\n",
    "last_name = input(\"Enter your Last Name: \")"
   ]
  },
  {
   "cell_type": "code",
   "execution_count": 2,
   "id": "3469737c",
   "metadata": {},
   "outputs": [
    {
     "name": "stdout",
     "output_type": "stream",
     "text": [
      "Santa.b@gmail.com\n"
     ]
    }
   ],
   "source": [
    "Email_id = (f\"{first_name}.{last_name}@gmail.com\")\n",
    "print(Email_id)"
   ]
  },
  {
   "cell_type": "code",
   "execution_count": 1,
   "id": "b79d53db",
   "metadata": {},
   "outputs": [
    {
     "name": "stdout",
     "output_type": "stream",
     "text": [
      "Enter your First Name: piyali\n",
      "Enter your Last Name: bhattacharya\n",
      "piyali.bhattacharya@gmail.com\n"
     ]
    }
   ],
   "source": [
    "# e-mail_id generator\n",
    "\n",
    "first_name = input(\"Enter your First Name: \")\n",
    "last_name = input(\"Enter your Last Name: \")\n",
    "\n",
    "Email_id = (f\"{first_name}.{last_name}@gmail.com\")\n",
    "print(Email_id)"
   ]
  },
  {
   "cell_type": "code",
   "execution_count": 13,
   "id": "3933bc42",
   "metadata": {},
   "outputs": [
    {
     "name": "stdout",
     "output_type": "stream",
     "text": [
      "Date: 17-10-2022\n",
      "\n",
      "My name is Santa\n",
      "I live in Kolkata\n",
      "I have lived here all my life, since 1994\n",
      "Now I plan to move to another city, Bengaluru\n"
     ]
    }
   ],
   "source": [
    "# EXAMPLE_2 of MULTI-ASSIGNMENT\n",
    "\n",
    "date, name, place, year_of_birth, new_city = \"17-10-2022\",\"Santa\",\"Kolkata\",\"1994\",\"Bengaluru\"\n",
    "\n",
    "print(f\"\"\"Date: {date}\n",
    "\n",
    "My name is {name}\n",
    "I live in {place}\n",
    "I have lived here all my life, since {year_of_birth}\n",
    "Now I plan to move to another city, {new_city}\"\"\" )"
   ]
  },
  {
   "cell_type": "code",
   "execution_count": 14,
   "id": "27081303",
   "metadata": {},
   "outputs": [
    {
     "name": "stdout",
     "output_type": "stream",
     "text": [
      "Enter today's date: 17-10-2022\n",
      "Enter your Name: Santa\n",
      "Enter your location: Kolkata\n",
      "Enter your Y.O.B: 1994\n",
      "Enter Destined City Name: Bengaluru\n",
      "Date: 17-10-2022\n",
      "\n",
      "My name is Santa\n",
      "I live in Kolkata\n",
      "I have lived here all my life, since 1994\n",
      "Now I plan to move to another city, Bengaluru\n"
     ]
    }
   ],
   "source": [
    "# Taking User Input for making the same notepad scratch\n",
    "\n",
    "date = input(\"Enter today's date: \") \n",
    "name = input(\"Enter your Name: \")\n",
    "place = input(\"Enter your location: \")\n",
    "year_of_birth = input(\"Enter your Y.O.B: \")\n",
    "new_city = input(\"Enter Destined City Name: \")\n",
    "\n",
    "\n",
    "print(f\"\"\"Date: {date}\n",
    "\n",
    "My name is {name}\n",
    "I live in {place}\n",
    "I have lived here all my life, since {year_of_birth}\n",
    "Now I plan to move to another city, {new_city}\"\"\" )\n"
   ]
  },
  {
   "cell_type": "markdown",
   "id": "3c7fc6f6",
   "metadata": {},
   "source": [
    "### IF-ELSE STATEMENTS"
   ]
  },
  {
   "cell_type": "code",
   "execution_count": 15,
   "id": "d525a1ff",
   "metadata": {},
   "outputs": [
    {
     "name": "stdout",
     "output_type": "stream",
     "text": [
      "Since its raining, lets WFH\n"
     ]
    }
   ],
   "source": [
    "raining = True\n",
    "\n",
    "if raining:\n",
    "    print(\"Since its raining, lets WFH\")\n",
    "else:\n",
    "    print(\"Since its not raining, lets go to office!\")"
   ]
  },
  {
   "cell_type": "code",
   "execution_count": 29,
   "id": "cf88d523",
   "metadata": {},
   "outputs": [
    {
     "ename": "SyntaxError",
     "evalue": "invalid syntax (3875498729.py, line 5)",
     "output_type": "error",
     "traceback": [
      "\u001b[1;36m  Input \u001b[1;32mIn [29]\u001b[1;36m\u001b[0m\n\u001b[1;33m    if rain = True:\u001b[0m\n\u001b[1;37m            ^\u001b[0m\n\u001b[1;31mSyntaxError\u001b[0m\u001b[1;31m:\u001b[0m invalid syntax\n"
     ]
    }
   ],
   "source": [
    "# Using User Input                                                   # CODE NOT RUNNING #CHECK_LATER\n",
    "\n",
    "rain = bool(input(\"Is it raining outside: Answer only in [True/False] :  \"))\n",
    "\n",
    "if rain = True:\n",
    "    print(\"Since its raining, lets WFH\")\n",
    "else:\n",
    "    print(\"Since its not raining, lets go to office!\")\n"
   ]
  },
  {
   "cell_type": "code",
   "execution_count": 27,
   "id": "26b4b7c7",
   "metadata": {},
   "outputs": [
    {
     "name": "stdout",
     "output_type": "stream",
     "text": [
      "Revise...\n"
     ]
    }
   ],
   "source": [
    "# Ex-1\n",
    "\n",
    "class_started = False\n",
    "\n",
    "if not class_started:\n",
    "    print(\"Revise...\")\n",
    "else:\n",
    "    print(\"Let's concentrate...\")"
   ]
  },
  {
   "cell_type": "code",
   "execution_count": 25,
   "id": "59a14814",
   "metadata": {},
   "outputs": [
    {
     "name": "stdout",
     "output_type": "stream",
     "text": [
      "Let's concentrate...\n"
     ]
    }
   ],
   "source": [
    "class_started = True\n",
    "\n",
    "if not class_started:\n",
    "    print(\"Revise...\")\n",
    "else:\n",
    "    print(\"Let's concentrate...\")"
   ]
  },
  {
   "cell_type": "code",
   "execution_count": 31,
   "id": "55ae05e2",
   "metadata": {},
   "outputs": [
    {
     "name": "stdout",
     "output_type": "stream",
     "text": [
      "Hey! Has the class started? [True/False]:   False\n",
      "Let's concentrate...\n"
     ]
    }
   ],
   "source": [
    "class_started = bool(input(\"Hey! Has the class started? [True/False]:   \"))   ## RECHECK\n",
    "                                                                               # CODE NOT RUNNING\n",
    "class_started = True\n",
    "\n",
    "if not class_started:\n",
    "    print(\"Revise...\")\n",
    "else:\n",
    "    print(\"Let's concentrate...\")"
   ]
  },
  {
   "cell_type": "markdown",
   "id": "99eab4db",
   "metadata": {},
   "source": [
    "### CONDITIONAL STATEMENTS"
   ]
  },
  {
   "cell_type": "code",
   "execution_count": 37,
   "id": "9cf1bd25",
   "metadata": {},
   "outputs": [
    {
     "name": "stdout",
     "output_type": "stream",
     "text": [
      "You are of my kind\n"
     ]
    }
   ],
   "source": [
    "# AND\n",
    "# Problem: If sports and music are both liked by you, you are of my kind.\n",
    "\n",
    "\n",
    "#Case1\n",
    "\n",
    "Music = True\n",
    "Sports = True\n",
    "\n",
    "if Sports and Music:\n",
    "    print(\"You are of my kind\")\n",
    "else:\n",
    "    print(\"Lemme head home...\")\n",
    "    print(f\"because for you, music = {Music}\")\n",
    "    print(f\"and sports = {Sports}\")\n",
    "          "
   ]
  },
  {
   "cell_type": "code",
   "execution_count": 38,
   "id": "b547f6be",
   "metadata": {},
   "outputs": [
    {
     "name": "stdout",
     "output_type": "stream",
     "text": [
      "Lemme head home...\n",
      "because for you, music = True\n",
      "and sports = False\n",
      "AND I love BOTH!\n"
     ]
    }
   ],
   "source": [
    "#Case2:\n",
    "\n",
    "Music = True\n",
    "Sports = False\n",
    "\n",
    "if Sports and Music:\n",
    "    print(\"You are of my kind\")\n",
    "else:\n",
    "    print(\"Lemme head home...\")\n",
    "    print(f\"because for you, music = {Music}\")\n",
    "    print(f\"and sports = {Sports}\")\n",
    "    print(\"AND I love BOTH!\")"
   ]
  },
  {
   "cell_type": "code",
   "execution_count": 39,
   "id": "53e0cf16",
   "metadata": {},
   "outputs": [
    {
     "name": "stdout",
     "output_type": "stream",
     "text": [
      "Lemme head home...\n",
      "because for you, music = False\n",
      "and sports = False\n",
      "AND I love BOTH!\n"
     ]
    }
   ],
   "source": [
    "#Case3:\n",
    "\n",
    "Music = False\n",
    "Sports = False\n",
    "\n",
    "if Sports and Music:\n",
    "    print(\"You are of my kind\")\n",
    "else:\n",
    "    print(\"Lemme head home...\")\n",
    "    print(f\"because for you, music = {Music}\")\n",
    "    print(f\"and sports = {Sports}\")\n",
    "    print(\"AND I love BOTH!\")"
   ]
  },
  {
   "cell_type": "code",
   "execution_count": 40,
   "id": "5256d57a",
   "metadata": {},
   "outputs": [
    {
     "name": "stdout",
     "output_type": "stream",
     "text": [
      "You are my friend coz' Sports is False and Music is True\n"
     ]
    }
   ],
   "source": [
    "# OR\n",
    "# Problem: My friend must either love music or sports atleast\n",
    "\n",
    "#Case1\n",
    "\n",
    "Music = True\n",
    "Sports = False\n",
    "\n",
    "if Music or Sports:\n",
    "    print(f\"You are my friend coz' Sports is {Sports} and Music is {Music}\")\n",
    "else:\n",
    "    print(f\"We cant be friends coz' sports is {Sports} and Music is {Music}\")"
   ]
  },
  {
   "cell_type": "code",
   "execution_count": 41,
   "id": "5d3ee5f0",
   "metadata": {},
   "outputs": [
    {
     "name": "stdout",
     "output_type": "stream",
     "text": [
      "You are my friend coz' Sports is True and Music is True\n"
     ]
    }
   ],
   "source": [
    "#Case2\n",
    "\n",
    "Music = True\n",
    "Sports = True\n",
    "\n",
    "if Music or Sports:\n",
    "    print(f\"You are my friend coz' Sports is {Sports} and Music is {Music}\")\n",
    "else:\n",
    "    print(f\"We cant be friends coz' sports is {Sports} and Music is {Music}\")"
   ]
  },
  {
   "cell_type": "code",
   "execution_count": 42,
   "id": "47977a6e",
   "metadata": {},
   "outputs": [
    {
     "name": "stdout",
     "output_type": "stream",
     "text": [
      "We cant be friends coz' sports is False and Music is False\n"
     ]
    }
   ],
   "source": [
    "#Case3\n",
    "\n",
    "Music = False\n",
    "Sports = False\n",
    "\n",
    "if Music or Sports:\n",
    "    print(f\"You are my friend coz' Sports is {Sports} and Music is {Music}\")\n",
    "else:\n",
    "    print(f\"We cant be friends coz' sports is {Sports} and Music is {Music}\")"
   ]
  },
  {
   "cell_type": "code",
   "execution_count": 47,
   "id": "454b3023",
   "metadata": {},
   "outputs": [
    {
     "name": "stdout",
     "output_type": "stream",
     "text": [
      "what is the attendance % ?  50\n",
      "what % of assignments are finished?  80\n",
      "Eligible for exam as attendance is 50,assignment completion 80% done\n"
     ]
    }
   ],
   "source": [
    "# Problem: Exam eligibility checker --> min attendance 75% OR assignment_submission 70%\n",
    "\n",
    "# Taking User Input {input is taken as a string always; so need to change datatypes for computing}\n",
    "\n",
    "#Case1\n",
    "\n",
    "attendance = int(input(\"what is the attendance % ?  \"))\n",
    "assignment = int(input(\"what % of assignments are finished?  \"))\n",
    "\n",
    "if attendance >= 75 or assignment >=70 :\n",
    "    print(f\"Eligible for exam as attendance is {attendance},assignment completion {assignment}% done\")\n",
    "else :\n",
    "    print(f\"NOT ELIGIBLE as attendance is {attendance}%, assignment completion {assignment}% done \")"
   ]
  },
  {
   "cell_type": "code",
   "execution_count": 48,
   "id": "190c450f",
   "metadata": {},
   "outputs": [
    {
     "name": "stdout",
     "output_type": "stream",
     "text": [
      "what is the attendance % ?  60\n",
      "what % of assignments are finished?  40\n",
      "NOT ELIGIBLE as attendance is 60%, assignment completion 40% done \n"
     ]
    }
   ],
   "source": [
    "#Case2\n",
    "\n",
    "attendance = int(input(\"what is the attendance % ?  \"))\n",
    "assignment = int(input(\"what % of assignments are finished?  \"))\n",
    "\n",
    "if attendance >= 75 or assignment >=70 :\n",
    "    print(f\"Eligible for exam as attendance is {attendance},assignment completion {assignment}% done\")\n",
    "else :\n",
    "    print(f\"NOT ELIGIBLE as attendance is {attendance}%, assignment completion {assignment}% done \")"
   ]
  },
  {
   "cell_type": "markdown",
   "id": "1f29d339",
   "metadata": {},
   "source": [
    "\"\"\"---- EQUALITY OPERATORS -----\n",
    "\n",
    "1. is   | a is b ----> true if a = b and points at the same object(memory location)\n",
    "\n",
    "2. is not | a is not b ----> true if a is not equal to b {= is assignment operator(memory location)}\n",
    "\n",
    "3. ==  | a == b ----> a is equal to b      (== is equality operator)\n",
    "\n",
    "4. !=  | a != b ----> a is not equal to b    {== is comparison operator(only values)}   \n",
    "\"\"\""
   ]
  },
  {
   "cell_type": "code",
   "execution_count": 52,
   "id": "9a27ae68",
   "metadata": {},
   "outputs": [
    {
     "name": "stdout",
     "output_type": "stream",
     "text": [
      "Enter value of a: 10\n",
      "Enter value of b: 10\n"
     ]
    },
    {
     "data": {
      "text/plain": [
       "True"
      ]
     },
     "execution_count": 52,
     "metadata": {},
     "output_type": "execute_result"
    }
   ],
   "source": [
    "#Case1\n",
    "\n",
    "a = int(input(\"Enter value of a: \"))\n",
    "b = int(input(\"Enter value of b: \"))\n",
    "\n",
    "a is b"
   ]
  },
  {
   "cell_type": "code",
   "execution_count": 53,
   "id": "8967b834",
   "metadata": {},
   "outputs": [
    {
     "name": "stdout",
     "output_type": "stream",
     "text": [
      "Enter value of a: 10\n",
      "Enter value of b: 20\n"
     ]
    },
    {
     "data": {
      "text/plain": [
       "True"
      ]
     },
     "execution_count": 53,
     "metadata": {},
     "output_type": "execute_result"
    }
   ],
   "source": [
    "#Case2\n",
    "\n",
    "a = int(input(\"Enter value of a: \"))\n",
    "b = int(input(\"Enter value of b: \"))\n",
    "\n",
    "a is not b"
   ]
  },
  {
   "cell_type": "code",
   "execution_count": 55,
   "id": "a2d57ef7",
   "metadata": {},
   "outputs": [
    {
     "name": "stdout",
     "output_type": "stream",
     "text": [
      "Enter your name: Santa\n",
      "Santa! You are the admin!\n"
     ]
    }
   ],
   "source": [
    "#Log In Checker (Case Sensitive)\n",
    "\n",
    "name = input(\"Enter your name: \")\n",
    "\n",
    "if name == \"Santa\":\n",
    "    print(f\"{name}! You are the admin!\")\n",
    "else:\n",
    "    print(f\"FUcK OFF {name}! Who are you??\")"
   ]
  },
  {
   "cell_type": "code",
   "execution_count": 56,
   "id": "264e45af",
   "metadata": {},
   "outputs": [
    {
     "name": "stdout",
     "output_type": "stream",
     "text": [
      "Enter your name: Aryan\n",
      "FUcK OFF Aryan! Who are you??\n"
     ]
    }
   ],
   "source": [
    "name = input(\"Enter your name: \")           # input is taken in as a string (always!)\n",
    "                                 #Hence while using equality operator on strings, convert accordingly!\n",
    "if name == \"Santa\":                           # \"Santa\" <----- inside quotes to denote string\n",
    "    print(f\"{name}! You are the admin!\")\n",
    "else:\n",
    "    print(f\"FUcK OFF {name}! Who are you??\")"
   ]
  },
  {
   "cell_type": "code",
   "execution_count": 57,
   "id": "f5278d85",
   "metadata": {},
   "outputs": [
    {
     "name": "stdout",
     "output_type": "stream",
     "text": [
      "A and B are same\n"
     ]
    }
   ],
   "source": [
    "# 1. is   | a is b ----> true if a = b and points at the same object(memory location)\n",
    "\n",
    "A = 1\n",
    "B = 1\n",
    "\n",
    "if A is B:\n",
    "    print(\"A and B are same\")\n",
    "else:\n",
    "    print(\"A and B are NOT same\")"
   ]
  },
  {
   "cell_type": "code",
   "execution_count": 58,
   "id": "13eff799",
   "metadata": {},
   "outputs": [
    {
     "data": {
      "text/plain": [
       "(2434975164720, 2434975164720)"
      ]
     },
     "execution_count": 58,
     "metadata": {},
     "output_type": "execute_result"
    }
   ],
   "source": [
    "id(A) , id(B)           # Python saves them in the same memory location to optimize memory allocation\n",
    "                                 # id -----> to find memory location"
   ]
  },
  {
   "cell_type": "code",
   "execution_count": 59,
   "id": "8b4ae4a9",
   "metadata": {},
   "outputs": [
    {
     "data": {
      "text/plain": [
       "True"
      ]
     },
     "execution_count": 59,
     "metadata": {},
     "output_type": "execute_result"
    }
   ],
   "source": [
    "# 3. ==  | a == b ----> a is equal to b      (== is equality operator)\n",
    "\n",
    "A = [\"santa\", \"banta\"]     # List in Python; Array in other languages\n",
    "B = [\"santa\", \"banta\"]\n",
    "\n",
    "A == B"
   ]
  },
  {
   "cell_type": "code",
   "execution_count": 60,
   "id": "87b00c9c",
   "metadata": {},
   "outputs": [
    {
     "data": {
      "text/plain": [
       "(2435102190976, 2435102538432)"
      ]
     },
     "execution_count": 60,
     "metadata": {},
     "output_type": "execute_result"
    }
   ],
   "source": [
    "id(A) , id(B)             # DIFFERENT MEMORY LOCATIONS FOR AN ARRAY/LIST as list is mutable"
   ]
  },
  {
   "cell_type": "markdown",
   "id": "073bbe9e",
   "metadata": {},
   "source": [
    "MATHEMATICAL OPERATORS\n",
    "\n",
    "1. +   Addition\n",
    "2. -   Subtraction\n",
    "3. *   Multiplication\n",
    "4. /   Normal Division (Answer in float)\n",
    "5. //  Integer division (Answer is the quotient (in integer))\n",
    "6. %   Modulo (Answer is the remainder)"
   ]
  },
  {
   "cell_type": "code",
   "execution_count": 68,
   "id": "d8c35757",
   "metadata": {},
   "outputs": [],
   "source": [
    "#Example:\n",
    "\n",
    "var1 = 25\n",
    "var2 = 10"
   ]
  },
  {
   "cell_type": "code",
   "execution_count": 65,
   "id": "18cd797b",
   "metadata": {},
   "outputs": [
    {
     "data": {
      "text/plain": [
       "2.5"
      ]
     },
     "execution_count": 65,
     "metadata": {},
     "output_type": "execute_result"
    }
   ],
   "source": [
    "var1/var2          # True division (answer in float)"
   ]
  },
  {
   "cell_type": "code",
   "execution_count": 66,
   "id": "297a0a69",
   "metadata": {},
   "outputs": [
    {
     "data": {
      "text/plain": [
       "2"
      ]
     },
     "execution_count": 66,
     "metadata": {},
     "output_type": "execute_result"
    }
   ],
   "source": [
    "var1//var2         # Integer division (answer is the quotient,ie, only integer)"
   ]
  },
  {
   "cell_type": "code",
   "execution_count": 67,
   "id": "f7a5f351",
   "metadata": {},
   "outputs": [
    {
     "data": {
      "text/plain": [
       "5"
      ]
     },
     "execution_count": 67,
     "metadata": {},
     "output_type": "execute_result"
    }
   ],
   "source": [
    "var1 % var2        # Modulo operator (answer is the remainder after division)"
   ]
  },
  {
   "cell_type": "code",
   "execution_count": 5,
   "id": "ea12ce7d",
   "metadata": {},
   "outputs": [
    {
     "name": "stdout",
     "output_type": "stream",
     "text": [
      "Enter the number to check odd/even: 29\n",
      "29 is odd\n"
     ]
    }
   ],
   "source": [
    "# CHECK ODD/EVEN NUMBER using Modulo operator \n",
    "\n",
    "A = int(input(\"Enter the number to check odd/even: \"))\n",
    "\n",
    "if A % 2 == 0:\n",
    "    print(f\"{A} is even\")\n",
    "else:\n",
    "    print(f\"{A} is odd\")\n"
   ]
  },
  {
   "cell_type": "code",
   "execution_count": 73,
   "id": "0c27f671",
   "metadata": {},
   "outputs": [
    {
     "data": {
      "text/plain": [
       "8"
      ]
     },
     "execution_count": 73,
     "metadata": {},
     "output_type": "execute_result"
    }
   ],
   "source": [
    "# SQUARE_ROOT OF A\n",
    "\n",
    "A = 64\n",
    "int(A**(1/2))        # type conversion to 'int', else answer comes in float!"
   ]
  },
  {
   "cell_type": "markdown",
   "id": "920618c2",
   "metadata": {},
   "source": [
    "### STRING METHODS\n",
    "\n",
    "1. String Indexing\n",
    "2. String Slicing \n",
    "3. String Skipping\n",
    "4. String Reversal\n",
    "5. String Replace Method\n",
    "6. Length of String "
   ]
  },
  {
   "cell_type": "code",
   "execution_count": 75,
   "id": "9c1fcd65",
   "metadata": {},
   "outputs": [
    {
     "data": {
      "text/plain": [
       "'S'"
      ]
     },
     "execution_count": 75,
     "metadata": {},
     "output_type": "execute_result"
    }
   ],
   "source": [
    "name = \"SANTA\"             # string indexing starts at 0\n",
    "name[0]"
   ]
  },
  {
   "cell_type": "code",
   "execution_count": 76,
   "id": "0d021b14",
   "metadata": {},
   "outputs": [
    {
     "data": {
      "text/plain": [
       "'A'"
      ]
     },
     "execution_count": 76,
     "metadata": {},
     "output_type": "execute_result"
    }
   ],
   "source": [
    "name[-1]                   # string indexing from reverse direction"
   ]
  },
  {
   "cell_type": "code",
   "execution_count": 82,
   "id": "d589bdc3",
   "metadata": {},
   "outputs": [
    {
     "data": {
      "text/plain": [
       "'SANTA'"
      ]
     },
     "execution_count": 82,
     "metadata": {},
     "output_type": "execute_result"
    }
   ],
   "source": [
    "name[::]                   # indexing the entire string ; step size = 1 (default)"
   ]
  },
  {
   "cell_type": "code",
   "execution_count": 78,
   "id": "ecfb9ca5",
   "metadata": {},
   "outputs": [
    {
     "data": {
      "text/plain": [
       "'SNA'"
      ]
     },
     "execution_count": 78,
     "metadata": {},
     "output_type": "execute_result"
    }
   ],
   "source": [
    "name[::2]                  # starting_point : ending_point : step_size"
   ]
  },
  {
   "cell_type": "code",
   "execution_count": 79,
   "id": "d82827d2",
   "metadata": {},
   "outputs": [
    {
     "data": {
      "text/plain": [
       "'SN'"
      ]
     },
     "execution_count": 79,
     "metadata": {},
     "output_type": "execute_result"
    }
   ],
   "source": [
    "name[0:4:2]        # indexing doesnot take into account the last index. So go with +1 (=len of string)"
   ]
  },
  {
   "cell_type": "code",
   "execution_count": 80,
   "id": "f7a2b193",
   "metadata": {},
   "outputs": [
    {
     "data": {
      "text/plain": [
       "'SNA'"
      ]
     },
     "execution_count": 80,
     "metadata": {},
     "output_type": "execute_result"
    }
   ],
   "source": [
    "name[0:5:2]            # revised ending_point ( last_index +1 = len of str); step size = 2 "
   ]
  },
  {
   "cell_type": "code",
   "execution_count": 84,
   "id": "be864f2e",
   "metadata": {},
   "outputs": [
    {
     "data": {
      "text/plain": [
       "'STI'"
      ]
     },
     "execution_count": 84,
     "metadata": {},
     "output_type": "execute_result"
    }
   ],
   "source": [
    "# STRING _ SLICING\n",
    "\n",
    "name = \"SANTASISH\"\n",
    "name[0:9:3]"
   ]
  },
  {
   "cell_type": "code",
   "execution_count": 88,
   "id": "e61cf234",
   "metadata": {},
   "outputs": [
    {
     "name": "stdout",
     "output_type": "stream",
     "text": [
      "day = 17\n",
      "month = 10\n",
      "year = 2022\n"
     ]
    }
   ],
   "source": [
    "# Use_Cases of STRING SLICING  \n",
    "\n",
    "# Ex1: date = \"17-10-2022\"\n",
    "\n",
    "date = \"17-10-2022\"\n",
    "day = date[0:2]\n",
    "print(f\"day = {day}\")\n",
    "\n",
    "month = date[3:5]\n",
    "print(f\"month = {month}\")\n",
    "\n",
    "year = date[6:]\n",
    "print(f\"year = {year}\")"
   ]
  },
  {
   "cell_type": "code",
   "execution_count": 91,
   "id": "82456dd6",
   "metadata": {},
   "outputs": [
    {
     "name": "stdout",
     "output_type": "stream",
     "text": [
      " Enter D.O.B [format: dd-mm-yyyy] 02-02-1994\n",
      "birth_day = 02\n",
      "birth_month = 02\n",
      "birth_year = 1994\n"
     ]
    }
   ],
   "source": [
    "# Ex2: Slicing D.O.B by taking user input\n",
    "\n",
    "dob = input(\" Enter D.O.B [format: dd-mm-yyyy] \")\n",
    "\n",
    "day = dob[0:2]\n",
    "print(f\"birth_day = {day}\")\n",
    "\n",
    "month = dob[3:5]\n",
    "print(f\"birth_month = {month}\")\n",
    "\n",
    "year = dob[6:]\n",
    "print(f\"birth_year = {year}\")\n",
    "\n"
   ]
  },
  {
   "cell_type": "code",
   "execution_count": 3,
   "id": "b236ffcd",
   "metadata": {
    "scrolled": true
   },
   "outputs": [
    {
     "name": "stdout",
     "output_type": "stream",
     "text": [
      " Enter Your Name Piyali\n",
      " Enter D.O.B [format: dd-mmm-yyyy] 12-Feb-1966\n",
      "birth_day = 12\n",
      "birth_month = Feb\n",
      "birth_year = 1966\n",
      "Piyali was born on 12th Day of Month Feb in the year 1966\n"
     ]
    }
   ],
   "source": [
    "# Example with more user input\n",
    "\n",
    "name = input(\" Enter Your Name \")\n",
    "dob = input(\" Enter D.O.B [format: dd-mmm-yyyy] \")\n",
    "\n",
    "day = dob[0:2]\n",
    "print(f\"birth_day = {day}\")\n",
    "\n",
    "month = dob[3:6]\n",
    "print(f\"birth_month = {month}\")\n",
    "\n",
    "year = dob[7:]\n",
    "print(f\"birth_year = {year}\")\n",
    "\n",
    "print(f\"{name} was born on {day}th Day of Month {month} in the year {year}\")\n"
   ]
  },
  {
   "cell_type": "code",
   "execution_count": 19,
   "id": "02a2f2c9",
   "metadata": {},
   "outputs": [
    {
     "name": "stdout",
     "output_type": "stream",
     "text": [
      " Enter Your Name Piyali\n",
      " Enter D.O.B [format: dd-mmm-yyyy] 12-Feb-1966\n",
      "Piyali was born on 12th Day of Month Feb in the year 1966\n"
     ]
    }
   ],
   "source": [
    "# Using SPLIT method to solve the same problem [Better Alternative]\n",
    "\n",
    "name = input(\" Enter Your Name \")\n",
    "dob = input(\" Enter D.O.B [format: dd-mmm-yyyy] \")\n",
    "\n",
    "day, month, year = dob.split(\"-\")    \n",
    "# split method returns the splitted output in a List which can be accessed individually using Indexing\n",
    "\n",
    "print(f\"{name} was born on {day}th Day of Month {month} in the year {year}\")"
   ]
  },
  {
   "cell_type": "code",
   "execution_count": 95,
   "id": "5a9c0f37",
   "metadata": {},
   "outputs": [
    {
     "data": {
      "text/plain": [
       "'ATNAS'"
      ]
     },
     "execution_count": 95,
     "metadata": {},
     "output_type": "execute_result"
    }
   ],
   "source": [
    "# Reversal of a String\n",
    "\n",
    "name = \"SANTA\"\n",
    "name[::-1]\n",
    "\n"
   ]
  },
  {
   "cell_type": "code",
   "execution_count": 29,
   "id": "aef36cdc",
   "metadata": {},
   "outputs": [
    {
     "data": {
      "text/plain": [
       "<reversed at 0x1e45ff162b0>"
      ]
     },
     "execution_count": 29,
     "metadata": {},
     "output_type": "execute_result"
    }
   ],
   "source": [
    "# Reverse using \"reversed\" method             #INCOMPLETE_CELL     #Teacher_Ran_Away\n",
    "\n",
    "name = \"SANTA\"\n",
    "reversed(name)                          # reversed at a point, but ..."
   ]
  },
  {
   "cell_type": "code",
   "execution_count": 31,
   "id": "423bbcdd",
   "metadata": {},
   "outputs": [
    {
     "data": {
      "text/plain": [
       "'ATNAS'"
      ]
     },
     "execution_count": 31,
     "metadata": {},
     "output_type": "execute_result"
    }
   ],
   "source": [
    "# To get the output in proper form, use join method\n",
    "\n",
    "name = \"SANTA\"\n",
    "\"\".join(reversed(name))\n"
   ]
  },
  {
   "cell_type": "code",
   "execution_count": 97,
   "id": "ae9baf4d",
   "metadata": {},
   "outputs": [
    {
     "name": "stdout",
     "output_type": "stream",
     "text": [
      "ENTER A STRING SEQUENCE : SANTA\n",
      "SANTA ATNAS\n"
     ]
    }
   ],
   "source": [
    "# Reversal with user input\n",
    "\n",
    "data = input(\"ENTER A STRING SEQUENCE : \")\n",
    "reverse = data[::-1]\n",
    "\n",
    "print(data, reverse)"
   ]
  },
  {
   "cell_type": "code",
   "execution_count": 100,
   "id": "ef69bcd1",
   "metadata": {},
   "outputs": [
    {
     "name": "stdout",
     "output_type": "stream",
     "text": [
      "ENTER A STRING SEQUENCE : MALAYALAM\n",
      "MALAYALAM MALAYALAM\n",
      "STRING SEQUENCE MALAYALAM is a PALINDROME\n"
     ]
    }
   ],
   "source": [
    "# Palindrome sequence / Reversal \n",
    "\n",
    "#Ex1: MALAYALAM\n",
    "\n",
    "data = input(\"ENTER A STRING SEQUENCE : \")\n",
    "reverse = data[::-1]\n",
    "\n",
    "print(data, reverse)\n",
    "\n",
    "if data == reverse :\n",
    "    print(f\"STRING SEQUENCE {data} is a PALINDROME\")\n",
    "else:\n",
    "    print(f\"STRING SEQUENCE {data} is NOT A PALINDROME\")\n"
   ]
  },
  {
   "cell_type": "code",
   "execution_count": 103,
   "id": "28f24516",
   "metadata": {},
   "outputs": [
    {
     "name": "stdout",
     "output_type": "stream",
     "text": [
      "ENTER A STRING SEQUENCE : SATAN\n",
      "SATAN NATAS\n",
      "STRING SEQUENCE SATAN is NOT A PALINDROME\n"
     ]
    }
   ],
   "source": [
    "# Ex2: taking random user input\n",
    "\n",
    "data = input(\"ENTER A STRING SEQUENCE : \")\n",
    "reverse = data[::-1]\n",
    "\n",
    "print(data, reverse)\n",
    "\n",
    "if data == reverse :\n",
    "    print(f\"STRING SEQUENCE {data} is a PALINDROME\")\n",
    "else:\n",
    "    print(f\"STRING SEQUENCE {data} is NOT A PALINDROME\")\n"
   ]
  },
  {
   "cell_type": "code",
   "execution_count": 4,
   "id": "c217bb45",
   "metadata": {},
   "outputs": [
    {
     "name": "stdout",
     "output_type": "stream",
     "text": [
      "SATAN\n"
     ]
    }
   ],
   "source": [
    "# STRING is IMMUTABLE. HOWEVER,\n",
    "\n",
    "# ALTERNATIVE_1: String mutability using string slicing and concatenation\n",
    "\n",
    "name = \"SANTA\"\n",
    "NAME = name[0:2]+name[3:]+\"N\"\n",
    "\n",
    "print(NAME)\n"
   ]
  },
  {
   "cell_type": "code",
   "execution_count": 9,
   "id": "f14aeaea",
   "metadata": {},
   "outputs": [
    {
     "name": "stdout",
     "output_type": "stream",
     "text": [
      "SATAN SANTA\n"
     ]
    }
   ],
   "source": [
    "# ALTERNATIVE_2: Using string method .replace\n",
    "\n",
    "name = \"SATAN\"\n",
    "re_name = name.replace(\"SATAN\",\"SANTA\")\n",
    "\n",
    "print(name , re_name)"
   ]
  },
  {
   "cell_type": "code",
   "execution_count": 10,
   "id": "0f0f9ec1",
   "metadata": {},
   "outputs": [
    {
     "data": {
      "text/plain": [
       "5"
      ]
     },
     "execution_count": 10,
     "metadata": {},
     "output_type": "execute_result"
    }
   ],
   "source": [
    "# LENGTH OF STRING \n",
    "len(name)"
   ]
  },
  {
   "cell_type": "code",
   "execution_count": 17,
   "id": "7d855842",
   "metadata": {},
   "outputs": [
    {
     "name": "stdout",
     "output_type": "stream",
     "text": [
      "santal 6\n",
      "santa 5\n"
     ]
    }
   ],
   "source": [
    "# Short Examples of string methods\n",
    "\n",
    "name = \"santal\"\n",
    "name1=name.replace(\"l\",\"\")\n",
    "\n",
    "print(name, len(name))\n",
    "print(name1, len(name1))\n"
   ]
  },
  {
   "cell_type": "code",
   "execution_count": 22,
   "id": "d231c38d",
   "metadata": {},
   "outputs": [
    {
     "name": "stdout",
     "output_type": "stream",
     "text": [
      "Enter your name: SaNtAsiSH\n",
      "Name in upper case: SANTASISH\n",
      "Name in lower case: santasish\n",
      "Name in title case: Santasish\n",
      "Name in capitalize case: Santasish\n",
      "Name in swap case: sAnTaSIsh\n"
     ]
    }
   ],
   "source": [
    "name = input(\"Enter your name: \")\n",
    "\n",
    "print(f\"Name in upper case: {name.upper()}\")\n",
    "print(f\"Name in lower case: {name.lower()}\")\n",
    "print(f\"Name in title case: {name.title()}\")                 \n",
    "print(f\"Name in capitalize case: {name.capitalize()}\")  \n",
    "print(f\"Name in swap case: {name.swapcase()}\")\n"
   ]
  },
  {
   "cell_type": "code",
   "execution_count": 24,
   "id": "d7da9517",
   "metadata": {},
   "outputs": [
    {
     "name": "stdout",
     "output_type": "stream",
     "text": [
      "upper case: TODAY IS THE BEST DAY EVER\n",
      "lower case: today is the best day ever\n",
      "title case: Today Is The Best Day Ever\n",
      "capitalize case: Today is the best day ever\n",
      "swap case: TODAY iS The Best daY EveR\n"
     ]
    }
   ],
   "source": [
    "# Is title and capitalize same?\n",
    "\n",
    "name = \"today Is tHE bEST DAy eVEr\"\n",
    "\n",
    "print(f\"upper case: {name.upper()}\")\n",
    "print(f\"lower case: {name.lower()}\")\n",
    "print(f\"title case: {name.title()}\")                 \n",
    "print(f\"capitalize case: {name.capitalize()}\")  \n",
    "print(f\"swap case: {name.swapcase()}\")\n",
    "\n",
    "# STUDY THE DIFFERENCE!"
   ]
  },
  {
   "cell_type": "code",
   "execution_count": 37,
   "id": "dcbd8fee",
   "metadata": {},
   "outputs": [
    {
     "name": "stdout",
     "output_type": "stream",
     "text": [
      "Enter your name: sANtasIsh bHAttAcharYa\n",
      "user input: sANtasIsh bHAttAcharYa\n",
      "Wrong format! Needs Auto-correct!\n",
      "Correct Format: Santasish Bhattacharya\n"
     ]
    }
   ],
   "source": [
    "name = input(\"Enter your name: \")\n",
    "\n",
    "print(f\"user input: {name}\")\n",
    "\n",
    "if name.istitle():\n",
    "    print(f\"user has given input in correct format\")\n",
    "else:\n",
    "    print(f\"Wrong format! Needs Auto-correct!\")\n",
    "    name = name.title()\n",
    "    print(f\"Correct Format: {name}\")"
   ]
  },
  {
   "cell_type": "code",
   "execution_count": 33,
   "id": "190818a7",
   "metadata": {},
   "outputs": [
    {
     "data": {
      "text/plain": [
       "'SAnTA'"
      ]
     },
     "execution_count": 33,
     "metadata": {},
     "output_type": "execute_result"
    }
   ],
   "source": [
    "# REMOVE EXTRA SPACES FROM FRONT AND BACK OF A STRING\n",
    "\n",
    "name = \"  SAnTA  \"          \n",
    "name.strip(\" \")           # Strips off the extra spaces from the front and back"
   ]
  },
  {
   "cell_type": "code",
   "execution_count": 34,
   "id": "7d58d761",
   "metadata": {},
   "outputs": [
    {
     "data": {
      "text/plain": [
       "'SAnTA  '"
      ]
     },
     "execution_count": 34,
     "metadata": {},
     "output_type": "execute_result"
    }
   ],
   "source": [
    "name = \"  SAnTA  \"          # left_strip\n",
    "name.lstrip(\" \")           # Strips off the extra spaces from the left   "
   ]
  },
  {
   "cell_type": "code",
   "execution_count": 35,
   "id": "050ade33",
   "metadata": {},
   "outputs": [
    {
     "data": {
      "text/plain": [
       "'  SAnTA'"
      ]
     },
     "execution_count": 35,
     "metadata": {},
     "output_type": "execute_result"
    }
   ],
   "source": [
    "name = \"  SAnTA  \"          # right_strip\n",
    "name.rstrip(\" \")           # Strips off the extra spaces from the right   "
   ]
  },
  {
   "cell_type": "code",
   "execution_count": 2,
   "id": "a0478fe0",
   "metadata": {},
   "outputs": [
    {
     "name": "stdout",
     "output_type": "stream",
     "text": [
      "enter 1/0: 0\n",
      "False\n"
     ]
    }
   ],
   "source": [
    "#DOUBT CLEARING: Conversion of string--->int(being used as a bool)\n",
    "a= int(input(\"enter 1/0: \"))\n",
    "\n",
    "if a == True:\n",
    "    print(\"True\")\n",
    "else:\n",
    "    print(\"False\")"
   ]
  },
  {
   "cell_type": "markdown",
   "id": "5ea0f385",
   "metadata": {},
   "source": [
    "# CONTROL FLOW STATEMENTS\n",
    "1. IF ELSE\n",
    "2. IF ELIF ELSE\n",
    "3. NESTED IF ELSE\n",
    "4. SINGLE LINE IF ELSE (for competetive coding)\n"
   ]
  },
  {
   "cell_type": "code",
   "execution_count": 2,
   "id": "69af5054",
   "metadata": {},
   "outputs": [
    {
     "name": "stdout",
     "output_type": "stream",
     "text": [
      "Enter the TOTAL AMOUNT of the BILL:  1000\n",
      "You can avail a discount of 30%\n",
      "Your Final Order Amount after DISCOUNT is 700.0\n",
      "Thanks for Ordering\n"
     ]
    }
   ],
   "source": [
    "# Online food order\n",
    "#Problem: if order>=500; disocunt=20% | if order>=1000; discount=30% \n",
    "\n",
    "\n",
    "Total_Amount = int(input(\"Enter the TOTAL AMOUNT of the BILL:  \"))\n",
    "\n",
    "if Total_Amount >=1000:\n",
    "    print(\"You can avail a discount of 30%\")\n",
    "    sum = Total_Amount-(Total_Amount*(3/10))\n",
    "    print(f\"Your Final Order Amount after DISCOUNT is {sum}\")\n",
    "    print(\"Thanks for Ordering\")\n",
    "    \n",
    "elif Total_Amount >=500:\n",
    "    print(\"You can avail a discount of 20%\")\n",
    "    sum = Total_Amount-(Total_Amount*(1/5))\n",
    "    print(f\"Your Final Order Amount after DISCOUNT is {sum}\")\n",
    "    print(\"Thanks for Ordering\")\n",
    "else:\n",
    "    print(\"Sorry! Your order amount is NOT ELIGIBLE for the Discount\")\n",
    "    print(f\"Order amount = {Total_Amount}\")\n",
    "\n",
    "    "
   ]
  },
  {
   "cell_type": "code",
   "execution_count": 1,
   "id": "d011c924",
   "metadata": {},
   "outputs": [
    {
     "name": "stdout",
     "output_type": "stream",
     "text": [
      "Enter the TOTAL AMOUNT of the BILL:  299\n",
      "Sorry! Your order amount is NOT ELIGIBLE for the Discount\n",
      "Order amount = 299\n"
     ]
    }
   ],
   "source": [
    "Total_Amount = int(input(\"Enter the TOTAL AMOUNT of the BILL:  \"))\n",
    "\n",
    "if Total_Amount >=1000:\n",
    "    print(\"You can avail a discount of 30%\")\n",
    "    sum = Total_Amount-(Total_Amount*(3/10))\n",
    "    print(f\"Your Final Order Amount after DISCOUNT is {sum}\")\n",
    "    print(\"Thanks for Ordering\")\n",
    "    \n",
    "elif Total_Amount >=500:\n",
    "    print(\"You can avail a discount of 20%\")\n",
    "    sum = Total_Amount-(Total_Amount*(1/5))\n",
    "    print(f\"Your Final Order Amount after DISCOUNT is {sum}\")\n",
    "    print(\"Thanks for Ordering\")\n",
    "else:\n",
    "    print(\"Sorry! Your order amount is NOT ELIGIBLE for the Discount\")\n",
    "    print(f\"Order amount = {Total_Amount}\")"
   ]
  },
  {
   "cell_type": "markdown",
   "id": "b472d88d",
   "metadata": {},
   "source": [
    "### NESTED IF ELSE\n",
    "Ex1. Print if the number is -ve or +ve"
   ]
  },
  {
   "cell_type": "code",
   "execution_count": 7,
   "id": "770c14ac",
   "metadata": {},
   "outputs": [
    {
     "name": "stdout",
     "output_type": "stream",
     "text": [
      "Enter a number: 2.2\n",
      "2.2 is a positive number\n"
     ]
    }
   ],
   "source": [
    "value = float(input(\"Enter a number: \"))\n",
    "\n",
    "if value >=0:\n",
    "    if value == 0:\n",
    "        print(\"User Input is zero(0)\")\n",
    "    else:\n",
    "        print(f\"{value} is a positive number\")\n",
    "else:\n",
    "    print(f\"{value} is a negative number\")"
   ]
  },
  {
   "cell_type": "code",
   "execution_count": 12,
   "id": "2192dd92",
   "metadata": {},
   "outputs": [
    {
     "name": "stdout",
     "output_type": "stream",
     "text": [
      "Enter a Number: 1000\n",
      "YES!\n"
     ]
    }
   ],
   "source": [
    "# SINGLE LINE IF ELSE\n",
    "#Problem: Print YES if number >99\n",
    "\n",
    "number = float(input(\"Enter a Number: \"))\n",
    "\n",
    "if number > 99 : print(\"YES!\")\n",
    "else: print(\"NO!\")\n",
    "    "
   ]
  },
  {
   "cell_type": "markdown",
   "id": "0ba2bf76",
   "metadata": {},
   "source": [
    "# LOOPS IN PYTHON\n",
    "1. While LOOP\n",
    "2. For LOOP\n",
    "3. Loop Control\n",
    "        - break\n",
    "        - continue\n",
    "        - pass\n",
    "4. NESTED LOOP"
   ]
  },
  {
   "cell_type": "markdown",
   "id": "b2d33f45",
   "metadata": {},
   "source": [
    "### WHILE LOOP\n",
    "\n",
    "1. Fetch the relevant data\n",
    "2. Initialize the iteration variable\n",
    "3. Condition for the 'while loop' to continue running\n",
    "4. Functions performed while in the loop\n",
    "5. Finally increment the iteration variable...  i = i +1\n",
    "\n",
    "##### Problem1: Repetitive UPSC Attempts\n",
    "Ex-Data:\n",
    "1. Total_Marks = 200\n",
    "2. cut_off = 98\n",
    "3. scores = [64,89,96,72,82,102]\n",
    "\n",
    "4. attempts = 0"
   ]
  },
  {
   "cell_type": "code",
   "execution_count": 2,
   "id": "3c5e2712",
   "metadata": {},
   "outputs": [
    {
     "name": "stdout",
     "output_type": "stream",
     "text": [
      "Your score is 64, attempt number: 1\n",
      "I will attempt next year!\n",
      "Let's Go!!\n",
      "Your score is 89, attempt number: 2\n",
      "I will attempt next year!\n",
      "Let's Go!!\n",
      "Your score is 96, attempt number: 3\n",
      "I will attempt next year!\n",
      "Let's Go!!\n",
      "Your score is 72, attempt number: 4\n",
      "I will attempt next year!\n",
      "Let's Go!!\n",
      "Your score is 82, attempt number: 5\n",
      "I will attempt next year!\n",
      "Let's Go!!\n"
     ]
    }
   ],
   "source": [
    "#Code:\n",
    "\n",
    "Total_Marks = 200\n",
    "cut_off = 98\n",
    "scores = [64,89,96,72,82,102]\n",
    "\n",
    "attempts = 0                                            #..... {initializing the iteration variable}\n",
    "\n",
    "while scores[attempts] < cut_off:                                #.....{condition for the loop to keep running}\n",
    "    \n",
    "    print(f\"Your score is {scores[attempts]}, attempt number: {attempts+1}\")             #.....{Score for that attempt}\n",
    "    print(\"I will attempt next year!\")\n",
    "    \n",
    "    attempts = attempts + 1                         #....increment the no_of_attempts by +1 for the repititve attempts\n",
    "    print(f\"Let's Go!!\")                        #...condition to break the loop ---> scores >= cut_off \n",
    "    "
   ]
  },
  {
   "cell_type": "code",
   "execution_count": 5,
   "id": "f6c9efde",
   "metadata": {},
   "outputs": [
    {
     "name": "stdout",
     "output_type": "stream",
     "text": [
      "No_of_Notes: 1, Total_Sum counted: 10\n",
      "No_of_Notes: 2, Total_Sum counted: 20\n",
      "No_of_Notes: 3, Total_Sum counted: 30\n",
      "No_of_Notes: 4, Total_Sum counted: 40\n",
      "No_of_Notes: 5, Total_Sum counted: 50\n"
     ]
    }
   ],
   "source": [
    "\"\"\"Child is learning to count 10 rupees note\"\"\"\n",
    "\n",
    "no_of_notes = 5                    #.... total number of notes given to count\n",
    "\n",
    "i=1                                #.... initializing the first note (...the incrementing variable!)\n",
    "\n",
    "while i <= no_of_notes:            #.... condition for the loop to keep running\n",
    "    \n",
    "    print(f\"No_of_Notes: {i}, Total_Sum counted: {i*10}\")\n",
    "    \n",
    "    i = i + 1                        #..... finally, increment the loop and run...."
   ]
  },
  {
   "cell_type": "code",
   "execution_count": 5,
   "id": "f209c1ca",
   "metadata": {},
   "outputs": [
    {
     "name": "stdout",
     "output_type": "stream",
     "text": [
      "Station name : park circus\n",
      "...Continue the journey...as my destination is Garia\n",
      "Agla Station: ballygunje\n",
      "-------------------------------\n",
      "Station name : ballygunje\n",
      "...Continue the journey...as my destination is Garia\n",
      "Agla Station: dhakuria\n",
      "-------------------------------\n",
      "Station name : dhakuria\n",
      "...Continue the journey...as my destination is Garia\n",
      "Agla Station: jadavpur\n",
      "-------------------------------\n",
      "Station name : jadavpur\n",
      "...Continue the journey...as my destination is Garia\n",
      "Agla Station: baghajatin\n",
      "-------------------------------\n",
      "Station name : baghajatin\n",
      "...Continue the journey...as my destination is Garia\n",
      "Agla Station: Garia\n",
      "-------------------------------\n",
      "Destination: Garia Station arrived\n"
     ]
    }
   ],
   "source": [
    "# Train journey [using WHILE - ELSE condition]\n",
    "\n",
    "stations = [\"park circus\",\"ballygunje\",\"dhakuria\",\"jadavpur\",\"baghajatin\",\"Garia\",\"Narendrapur\"]\n",
    "\n",
    "current_station = 0\n",
    "destination_station = \"Garia\"\n",
    "\n",
    "while stations[current_station] != destination_station:\n",
    "    print(f\"Station name : {stations[current_station]}\")\n",
    "    print(f\"...Continue the journey...as my destination is {destination_station}\")\n",
    "    print(f\"Agla Station: {stations[current_station + 1]}\")\n",
    "    \n",
    "    current_station = current_station + 1\n",
    "    print(\"-------------------------------\")\n",
    "    \n",
    "else:\n",
    "    print(f\"Destination: {destination_station} Station arrived\")"
   ]
  },
  {
   "cell_type": "code",
   "execution_count": 7,
   "id": "f0a6fe43",
   "metadata": {},
   "outputs": [
    {
     "name": "stdout",
     "output_type": "stream",
     "text": [
      "condition : True\n",
      "No_of_Notes: 1, Total_Sum counted: 10\n",
      "-----------\n",
      "condition : True\n",
      "No_of_Notes: 2, Total_Sum counted: 20\n",
      "-----------\n",
      "condition : True\n",
      "No_of_Notes: 3, Total_Sum counted: 30\n",
      "-----------\n",
      "condition : True\n",
      "No_of_Notes: 4, Total_Sum counted: 40\n",
      "-----------\n",
      "condition : True\n",
      "No_of_Notes: 5, Total_Sum counted: 50\n",
      "-----------\n",
      "condition : False\n",
      "Nomore 10 rupee Note left!\n"
     ]
    }
   ],
   "source": [
    "\"\"\"Child is learning to count 10 rupees note\"\"\"    # using While-else\n",
    "\n",
    "no_of_notes = 5                    #.... total number of notes given to count\n",
    "\n",
    "i=1                                #.... initializing the first note (...the incrementing variable!)\n",
    "\n",
    "while i <= no_of_notes:            #.... condition for the loop to keep running\n",
    "   \n",
    "    print(f\"condition : {i <= no_of_notes}\")\n",
    "    print(f\"No_of_Notes: {i}, Total_Sum counted: {i*10}\")\n",
    "    \n",
    "    i = i + 1                      #.....  increment the loop\n",
    "    print(\"-----------\")\n",
    "    \n",
    "else:\n",
    "    print(f\"condition : {i <= no_of_notes}\")\n",
    "    print(\"Nomore 10 rupee Note left!\")"
   ]
  },
  {
   "cell_type": "markdown",
   "id": "edf2518e",
   "metadata": {},
   "source": [
    "### FOR LOOP\n",
    "1. i   -----> iteration variable (can be anything) set in a range:\n",
    "2. Range can be a literal range or a list, tuple etc.\n",
    "#### for iteration_variable in range:\n",
    "\n",
    "3. Functions to be performed in the 'for loop'\n",
    "\n",
    "4. We donot need to increment (iterate) manually like in while loop\n",
    "5. Iteration variable auto increments!\n",
    "6. No need for i = i + 1 etc.\n"
   ]
  },
  {
   "cell_type": "code",
   "execution_count": 1,
   "id": "807aab8d",
   "metadata": {},
   "outputs": [
    {
     "name": "stdout",
     "output_type": "stream",
     "text": [
      "0\n",
      "1\n",
      "2\n",
      "3\n",
      "4\n",
      "5\n",
      "6\n",
      "7\n",
      "8\n",
      "9\n"
     ]
    }
   ],
   "source": [
    "#BASIC                        \n",
    "\n",
    "    \n",
    "for i in range(0, 10):            # for loop iterates over a list\n",
    "    print(i)"
   ]
  },
  {
   "cell_type": "code",
   "execution_count": 14,
   "id": "c968db00",
   "metadata": {},
   "outputs": [
    {
     "name": "stdout",
     "output_type": "stream",
     "text": [
      "5 x 1 = 5\n",
      "5 x 2 = 10\n",
      "5 x 3 = 15\n",
      "5 x 4 = 20\n",
      "5 x 5 = 25\n",
      "5 x 6 = 30\n",
      "5 x 7 = 35\n",
      "5 x 8 = 40\n",
      "5 x 9 = 45\n",
      "5 x 10 = 50\n"
     ]
    }
   ],
   "source": [
    "#TABLES:\n",
    "\n",
    "#method1\n",
    "\n",
    "for i in range(1, 11):\n",
    "    print(f\"5 x {i} = {5*i}\")"
   ]
  },
  {
   "cell_type": "code",
   "execution_count": 15,
   "id": "a81efdfd",
   "metadata": {},
   "outputs": [
    {
     "name": "stdout",
     "output_type": "stream",
     "text": [
      "10 x 1 = 10\n",
      "10 x 2 = 20\n",
      "10 x 3 = 30\n",
      "10 x 4 = 40\n",
      "10 x 5 = 50\n",
      "10 x 6 = 60\n",
      "10 x 7 = 70\n",
      "10 x 8 = 80\n",
      "10 x 9 = 90\n",
      "10 x 10 = 100\n"
     ]
    }
   ],
   "source": [
    "#method 2:\n",
    "\n",
    "for i in range(0,10):\n",
    "    print(f\"10 x {i+1} = {10*(i+1)}\")"
   ]
  },
  {
   "cell_type": "code",
   "execution_count": 17,
   "id": "7392ed3d",
   "metadata": {},
   "outputs": [
    {
     "name": "stdout",
     "output_type": "stream",
     "text": [
      "*\n",
      "**\n",
      "***\n",
      "****\n",
      "*****\n",
      "******\n",
      "*******\n",
      "********\n",
      "*********\n",
      "**********\n",
      "***********\n",
      "************\n",
      "*************\n",
      "**************\n"
     ]
    }
   ],
   "source": [
    "for i in range(1,15):\n",
    "    print(\"*\"*i)"
   ]
  },
  {
   "cell_type": "code",
   "execution_count": 19,
   "id": "b9ab2d43",
   "metadata": {},
   "outputs": [
    {
     "name": "stdout",
     "output_type": "stream",
     "text": [
      "Total amount to be paid: 885\n"
     ]
    }
   ],
   "source": [
    "#Problem: Adding Products in a cart using for loop\n",
    "\n",
    "cost_of_items = [100, 200, 129, 456]\n",
    "\n",
    "total_sum = 0\n",
    "\n",
    "for i in range(0, 4):\n",
    "    total_sum = total_sum + cost_of_items[i]\n",
    "    \n",
    "print(f\"Total amount to be paid: {total_sum}\")"
   ]
  },
  {
   "cell_type": "code",
   "execution_count": 23,
   "id": "6bc40ced",
   "metadata": {},
   "outputs": [
    {
     "name": "stdout",
     "output_type": "stream",
     "text": [
      "Total_sum = 0+100\n",
      "after adding: 100\n",
      "-----------\n",
      "Total_sum = 100+200\n",
      "after adding: 300\n",
      "-----------\n",
      "Total_sum = 300+129\n",
      "after adding: 429\n",
      "-----------\n",
      "Total_sum = 429+456\n",
      "after adding: 885\n",
      "-----------\n",
      "Total amount to be paid: 885\n"
     ]
    }
   ],
   "source": [
    "# Detailed breakdown of the same problem\n",
    "\n",
    "cost_of_items = [100, 200, 129, 456]\n",
    "N = len(cost_of_items)\n",
    "\n",
    "total_sum = 0\n",
    "\n",
    "for i in range(0, N):\n",
    "    print(f\"Total_sum = {total_sum}+{cost_of_items[i]}\")\n",
    "    total_sum = total_sum + cost_of_items[i]\n",
    "    \n",
    "    print(f\"after adding: {total_sum}\")\n",
    "    print(\"-----------\")\n",
    "    \n",
    "print(f\"Total amount to be paid: {total_sum}\")"
   ]
  },
  {
   "cell_type": "code",
   "execution_count": 3,
   "id": "7583d176",
   "metadata": {},
   "outputs": [
    {
     "name": "stdout",
     "output_type": "stream",
     "text": [
      "Total_sum = 0+100\n",
      "after adding: 100\n",
      "-----------\n",
      "Total_sum = 100+200\n",
      "after adding: 300\n",
      "-----------\n",
      "Total_sum = 300+129\n",
      "after adding: 429\n",
      "-----------\n",
      "Total_sum = 429+456\n",
      "after adding: 885\n",
      "-----------\n",
      "Total amount to be paid: 885\n"
     ]
    }
   ],
   "source": [
    "#_Same problem: Changing the iteration variable i to 'cost'  # FEATURE_OF_PYTHON\n",
    "\n",
    "cost_of_items = [100, 200, 129, 456]\n",
    "\n",
    "\n",
    "total_sum = 0\n",
    "\n",
    "for cost in cost_of_items :                     #_most_imp_line 0f code for understanding this concept\n",
    "    print(f\"Total_sum = {total_sum}+{cost}\")\n",
    "    total_sum = total_sum + cost\n",
    "    \n",
    "    print(f\"after adding: {total_sum}\")\n",
    "    print(\"-----------\")\n",
    "    \n",
    "print(f\"Total amount to be paid: {total_sum}\")"
   ]
  },
  {
   "cell_type": "code",
   "execution_count": 26,
   "id": "004c2b50",
   "metadata": {},
   "outputs": [
    {
     "name": "stdout",
     "output_type": "stream",
     "text": [
      "100\n",
      "200\n",
      "129\n",
      "456\n"
     ]
    }
   ],
   "source": [
    "#_Simplified for undersatnding the functioning\n",
    "\n",
    "cost_of_items = [100, 200, 129, 456]\n",
    "\n",
    "total_sum = 0\n",
    "\n",
    "for cost in cost_of_items :\n",
    "    print(cost)"
   ]
  },
  {
   "cell_type": "code",
   "execution_count": 28,
   "id": "e6dc620f",
   "metadata": {},
   "outputs": [
    {
     "name": "stdout",
     "output_type": "stream",
     "text": [
      "Current Station is park circus\n",
      "Current Station is ballygunje\n",
      "Current Station is dhakuria\n",
      "Current Station is jadavpur\n",
      "Current Station is baghajatin\n",
      "Current Station is Garia\n",
      "Current Station is Narendrapur\n"
     ]
    }
   ],
   "source": [
    "# Example\n",
    "\n",
    "stations = [\"park circus\",\"ballygunje\",\"dhakuria\",\"jadavpur\",\"baghajatin\",\"Garia\",\"Narendrapur\"]\n",
    "\n",
    "for current_station in stations :\n",
    "    print(f\"Current Station is {current_station}\")\n",
    "   "
   ]
  },
  {
   "cell_type": "code",
   "execution_count": 9,
   "id": "8b9c2b96",
   "metadata": {},
   "outputs": [
    {
     "name": "stdout",
     "output_type": "stream",
     "text": [
      "Total Amount to be paid: 100\n",
      "Total Amount to be paid: 300\n",
      "Total Amount to be paid: 429\n",
      "Total Amount to be paid: 885\n",
      "Total Amount to be paid: 1885\n",
      "You are over boarding\n",
      "Let me bring you back to the ground\n",
      "total_sum: 2084 - the last purchase 199\n",
      "Pay: 1885\n"
     ]
    }
   ],
   "source": [
    "cost_of_items = [100,200,129,456,1000,199,299]                          #_STUDY_FURTHER\n",
    "\n",
    "total_sum = 0\n",
    "budget = 2000\n",
    "\n",
    "for cost in cost_of_items :\n",
    "    total_sum = total_sum + cost\n",
    "    if total_sum > budget :\n",
    "        print(\"You are over boarding\")\n",
    "        print(\"Let me bring you back to the ground\")\n",
    "        print(f\"total_sum: {total_sum} - the last purchase {cost}\" )\n",
    "        print(f\"Pay: {total_sum - cost}\")\n",
    "        break\n",
    "    \n",
    "    else:\n",
    "        print(f\"Total Amount to be paid: {total_sum}\")\n",
    "            \n",
    "            "
   ]
  },
  {
   "cell_type": "code",
   "execution_count": 11,
   "id": "ef6828d9",
   "metadata": {
    "scrolled": true
   },
   "outputs": [
    {
     "name": "stdout",
     "output_type": "stream",
     "text": [
      "current total: 100\n",
      "current total: 300\n",
      "current total: 429\n",
      "current total: 885\n",
      "current total: 1885\n",
      "current total: 2084\n",
      "since current total is more than my budget, 2000\n",
      "...Removing the last item...199\n",
      "total amount to be paid: 1885\n"
     ]
    }
   ],
   "source": [
    "cost_of_items = [100,200,129,456,1000,199,299]                         \n",
    "\n",
    "total_sum = 0\n",
    "budget = 2000\n",
    "\n",
    "for cost in cost_of_items :\n",
    "    total_sum = total_sum + cost\n",
    "    print(f\"current total: {total_sum}\")\n",
    "    if total_sum > budget :\n",
    "        print(f\"since current total is more than my budget, {budget}\")\n",
    "        print(f\"...Removing the last item...{cost}\")\n",
    "        total_sum = total_sum - cost\n",
    "        break\n",
    "        \n",
    "print(f\"total amount to be paid: {total_sum}\")\n",
    "        "
   ]
  },
  {
   "cell_type": "code",
   "execution_count": 21,
   "id": "d0292fd2",
   "metadata": {},
   "outputs": [
    {
     "name": "stdout",
     "output_type": "stream",
     "text": [
      "1\n",
      "2\n",
      "3\n",
      "4\n",
      "5\n",
      "6\n",
      "7\n",
      "8\n",
      "9\n"
     ]
    }
   ],
   "source": [
    "#_\\STUDY/_        #_break\n",
    "\n",
    "for i in range(1, 10):                                    \n",
    "    print(i)"
   ]
  },
  {
   "cell_type": "code",
   "execution_count": 22,
   "id": "fa8cfb9a",
   "metadata": {},
   "outputs": [
    {
     "name": "stdout",
     "output_type": "stream",
     "text": [
      "1\n",
      "2\n",
      "3\n",
      "4\n",
      "5\n"
     ]
    }
   ],
   "source": [
    "for i in range(1, 10):                                    #_\\STUDY/_        #_break\n",
    "    print(i)\n",
    "    if i >= 5:\n",
    "        break                               "
   ]
  },
  {
   "cell_type": "code",
   "execution_count": 23,
   "id": "763854f9",
   "metadata": {},
   "outputs": [
    {
     "name": "stdout",
     "output_type": "stream",
     "text": [
      "1\n",
      "3\n",
      "5\n",
      "7\n",
      "9\n"
     ]
    }
   ],
   "source": [
    "#_\\STUDY/_                           #_continue\n",
    "\n",
    "for i in range(0,10):\n",
    "    if i % 2 == 0:              # condition for even number\n",
    "        continue      # if the number is even, continue and start the loop again (dont print the even)\n",
    "                                                                                # dont go to next step\n",
    "        \n",
    "    print(i)                 # doesnot go for the next step incase of even BUT prints the odd! "
   ]
  },
  {
   "cell_type": "code",
   "execution_count": 24,
   "id": "93565d96",
   "metadata": {},
   "outputs": [
    {
     "name": "stdout",
     "output_type": "stream",
     "text": [
      "0\n",
      "2\n",
      "4\n",
      "6\n",
      "8\n"
     ]
    }
   ],
   "source": [
    "for i in range(0,10):\n",
    "    if i % 2 != 0:            # condition for odd number\n",
    "        continue      # if the number is odd, continue and start the loop again (dont print the odd)\n",
    "                                                                            # dont go to next step\n",
    "    \n",
    "    print(i)          # doesnot go for the next step incase of odd BUT prints the even! "
   ]
  },
  {
   "cell_type": "code",
   "execution_count": 29,
   "id": "fa824327",
   "metadata": {},
   "outputs": [
    {
     "name": "stdout",
     "output_type": "stream",
     "text": [
      "0\n"
     ]
    }
   ],
   "source": [
    "#__ DIFFERENCE BETWEEN break AND continue\n",
    "\n",
    "for i in range(0,10):                \n",
    "    if i % 2 != 0:             # condition for odd number\n",
    "        break      # if the number is odd, break the loop and stop then and there!   #_1 is odd no.\n",
    "    print(i)"
   ]
  },
  {
   "cell_type": "markdown",
   "id": "6f4b2436",
   "metadata": {},
   "source": [
    "###### DIFFERENCE BETWEEN break AND continue:\n",
    "    - break: completely stops the loop\n",
    "    - continue: skips the current loop and starts the loop again for the next condition"
   ]
  },
  {
   "cell_type": "code",
   "execution_count": 31,
   "id": "1756aa17",
   "metadata": {},
   "outputs": [],
   "source": [
    "for i in range(0,10):        #_keyword : pass\n",
    "    pass\n",
    "\n",
    "# pass is used when we want to write the fuctioning of the code later\n",
    "# pass,simply bypasses that section of the code & doesnot throw up errors while running the full code"
   ]
  },
  {
   "cell_type": "code",
   "execution_count": null,
   "id": "4e12cdf1",
   "metadata": {},
   "outputs": [],
   "source": []
  },
  {
   "cell_type": "markdown",
   "id": "d744732f",
   "metadata": {},
   "source": [
    "## In-Built Data Structures in Python\n",
    "1. List\n",
    "2. Tuple\n",
    "3. Sets\n",
    "4. Dictionaries"
   ]
  },
  {
   "cell_type": "markdown",
   "id": "d3d3f8f0",
   "metadata": {},
   "source": [
    "#### 1.    What is the difference between list in python and array of C or C++  ?\n",
    "Ans:  Array contains elements of only one datatype, \n",
    "      whereas list can contain different as well as elements of same datatype"
   ]
  },
  {
   "cell_type": "code",
   "execution_count": 34,
   "id": "cf45f9dc",
   "metadata": {},
   "outputs": [
    {
     "data": {
      "text/plain": [
       "True"
      ]
     },
     "execution_count": 34,
     "metadata": {},
     "output_type": "execute_result"
    }
   ],
   "source": [
    "\"\"\"INDEXING & SLICING is the same for LIST as in string operations\"\"\"\n",
    "\n",
    "\n",
    "my_list = [2,\"santa\", True, \"02-02-1994\",\"kolkata\",106 ]\n",
    "\n",
    "\n",
    "my_list[2]"
   ]
  },
  {
   "cell_type": "code",
   "execution_count": 43,
   "id": "7bd5afe5",
   "metadata": {},
   "outputs": [
    {
     "data": {
      "text/plain": [
       "[106, 'kolkata', '02-02-1994', True, 'santa', 2]"
      ]
     },
     "execution_count": 43,
     "metadata": {},
     "output_type": "execute_result"
    }
   ],
   "source": [
    "my_list[::-1]                                   # Reversal of List ....{same as string}"
   ]
  },
  {
   "cell_type": "code",
   "execution_count": 44,
   "id": "9818f275",
   "metadata": {},
   "outputs": [
    {
     "data": {
      "text/plain": [
       "[2, 'santa', True]"
      ]
     },
     "execution_count": 44,
     "metadata": {},
     "output_type": "execute_result"
    }
   ],
   "source": [
    "my_list[:3]"
   ]
  },
  {
   "cell_type": "code",
   "execution_count": 45,
   "id": "cc5787ad",
   "metadata": {},
   "outputs": [
    {
     "data": {
      "text/plain": [
       "[2, True, 'kolkata']"
      ]
     },
     "execution_count": 45,
     "metadata": {},
     "output_type": "execute_result"
    }
   ],
   "source": [
    "my_list[:5:2]"
   ]
  },
  {
   "cell_type": "code",
   "execution_count": 35,
   "id": "717eef0a",
   "metadata": {},
   "outputs": [
    {
     "data": {
      "text/plain": [
       "list"
      ]
     },
     "execution_count": 35,
     "metadata": {},
     "output_type": "execute_result"
    }
   ],
   "source": [
    "type(my_list)"
   ]
  },
  {
   "cell_type": "code",
   "execution_count": 36,
   "id": "db72c59f",
   "metadata": {},
   "outputs": [
    {
     "name": "stdout",
     "output_type": "stream",
     "text": [
      "2\n",
      "santa\n",
      "True\n",
      "02-02-1994\n",
      "kolkata\n",
      "106\n"
     ]
    }
   ],
   "source": [
    "# using for loop : The_Pythonian_Way!!\n",
    "\n",
    "for element in my_list:\n",
    "    print(element)"
   ]
  },
  {
   "cell_type": "code",
   "execution_count": 42,
   "id": "310caf71",
   "metadata": {
    "scrolled": true
   },
   "outputs": [
    {
     "name": "stdout",
     "output_type": "stream",
     "text": [
      "i = 0, element = 2, Datatype =<class 'int'>\n",
      "---------------------\n",
      "i = 1, element = santa, Datatype =<class 'str'>\n",
      "---------------------\n",
      "i = 2, element = True, Datatype =<class 'bool'>\n",
      "---------------------\n",
      "i = 3, element = 02-02-1994, Datatype =<class 'str'>\n",
      "---------------------\n",
      "i = 4, element = kolkata, Datatype =<class 'str'>\n",
      "---------------------\n",
      "i = 5, element = 106, Datatype =<class 'int'>\n",
      "---------------------\n"
     ]
    }
   ],
   "source": [
    "# 2nd method:               {...like in other languages}     i = index value\n",
    "\n",
    "for i in range(len(my_list)):\n",
    "    print(f\"i = {i}, element = {my_list[i]}, Datatype ={type(my_list[i])}\")\n",
    "    print(\"---------------------\")"
   ]
  },
  {
   "cell_type": "code",
   "execution_count": 49,
   "id": "2aff2429",
   "metadata": {},
   "outputs": [
    {
     "name": "stdout",
     "output_type": "stream",
     "text": [
      " Index 0 = 2\n",
      " Index 2 = True\n",
      " Index 4 = kolkata\n"
     ]
    }
   ],
   "source": [
    "#__DEEP_STUDY__\n",
    "\n",
    "\n",
    "for i in range(0,len(my_list),2):        #_start index, end index, jump_step size {same in 'for loop'}\n",
    "    print(f\" Index {i} = {my_list[i]}\")\n",
    "\n"
   ]
  },
  {
   "cell_type": "code",
   "execution_count": 53,
   "id": "44fd2bce",
   "metadata": {},
   "outputs": [
    {
     "name": "stdout",
     "output_type": "stream",
     "text": [
      "i = 0\n",
      "i = 4\n",
      "i = 8\n",
      "i = 12\n",
      "i = 16\n"
     ]
    }
   ],
   "source": [
    "for i in range(0,20,4):\n",
    "    print(f\"i = {i}\")"
   ]
  },
  {
   "cell_type": "code",
   "execution_count": 54,
   "id": "5b6a2f7e",
   "metadata": {},
   "outputs": [
    {
     "name": "stdout",
     "output_type": "stream",
     "text": [
      "-1 c\n",
      "-2 b\n",
      "-3 a\n",
      "-4 3\n",
      "-5 2\n",
      "-6 1\n"
     ]
    }
   ],
   "source": [
    "#__DEEP_STUDY__Reversal of list\n",
    "\n",
    "list = [1,2,3,\"a\",\"b\",\"c\"]\n",
    "\n",
    "for i in range(-1,-len(list)-1,-1):        #....{draw a number scale and mark the index to undertand}\n",
    "    print(i , list[i])"
   ]
  },
  {
   "cell_type": "code",
   "execution_count": 55,
   "id": "041534a9",
   "metadata": {},
   "outputs": [
    {
     "name": "stdout",
     "output_type": "stream",
     "text": [
      "1 2\n",
      "3 a\n",
      "4 b\n",
      "5 c\n"
     ]
    }
   ],
   "source": [
    "for i in [1,3,4,5]:\n",
    "    print(i, list[i])"
   ]
  },
  {
   "cell_type": "markdown",
   "id": "51d9ffce",
   "metadata": {},
   "source": [
    "#### List Methods\n",
    "1. Lists donot have fixed size. Elements can be added/removed/replaced from Lists (Mutable)\n",
    "2. Lists donot have fixed datatype constraints. (similar to string...different from array)"
   ]
  },
  {
   "cell_type": "code",
   "execution_count": 4,
   "id": "4be45bfa",
   "metadata": {},
   "outputs": [],
   "source": [
    "mylist_1 = list()          # creating an empty list"
   ]
  },
  {
   "cell_type": "code",
   "execution_count": 20,
   "id": "f3a53eb3",
   "metadata": {},
   "outputs": [
    {
     "name": "stdout",
     "output_type": "stream",
     "text": [
      "Enter the number of items to be purchased: 3\n",
      "Enter Item Name: bat\n",
      "Enter Item Name: ball\n",
      "Enter Item Name: wicket\n",
      "['bat', 'ball', 'wicket']\n",
      "3\n"
     ]
    }
   ],
   "source": [
    "# Taking user input to create data in an empty list\n",
    "\n",
    "list_of_items = list()\n",
    "\n",
    "N = int(input(\"Enter the number of items to be purchased: \"))\n",
    "\n",
    "for i in range(N):\n",
    "    user_input = input(\"Enter Item Name: \")\n",
    "    list_of_items.append(user_input)\n",
    "    \n",
    "print(list_of_items)\n",
    "\n",
    "print(len(list_of_items))"
   ]
  },
  {
   "cell_type": "code",
   "execution_count": 8,
   "id": "bb8b6279",
   "metadata": {},
   "outputs": [
    {
     "data": {
      "text/plain": [
       "True"
      ]
     },
     "execution_count": 8,
     "metadata": {},
     "output_type": "execute_result"
    }
   ],
   "source": [
    "# Verify membership of an element in a list\n",
    "\n",
    "list1 = [1, 2, 3, 4, 5, 7]\n",
    "\n",
    "#check_membership       ......... #_ in : Keyword\n",
    "\n",
    "5 in list1"
   ]
  },
  {
   "cell_type": "code",
   "execution_count": 9,
   "id": "204b2844",
   "metadata": {},
   "outputs": [
    {
     "data": {
      "text/plain": [
       "False"
      ]
     },
     "execution_count": 9,
     "metadata": {},
     "output_type": "execute_result"
    }
   ],
   "source": [
    "6 in list1"
   ]
  },
  {
   "cell_type": "code",
   "execution_count": 10,
   "id": "2fbefd21",
   "metadata": {},
   "outputs": [
    {
     "name": "stdout",
     "output_type": "stream",
     "text": [
      "YES\n"
     ]
    }
   ],
   "source": [
    "if 5 in list1:\n",
    "    print(\"YES\")\n",
    "else:\n",
    "    print(\"NO\")"
   ]
  },
  {
   "cell_type": "code",
   "execution_count": 11,
   "id": "bdec6d4b",
   "metadata": {},
   "outputs": [
    {
     "name": "stdout",
     "output_type": "stream",
     "text": [
      "NO\n"
     ]
    }
   ],
   "source": [
    "if 6 in list1:\n",
    "    print(\"YES\")\n",
    "else:\n",
    "    print(\"NO\")"
   ]
  },
  {
   "cell_type": "code",
   "execution_count": 12,
   "id": "4bce8626",
   "metadata": {},
   "outputs": [
    {
     "name": "stdout",
     "output_type": "stream",
     "text": [
      "YES, not present\n"
     ]
    }
   ],
   "source": [
    "if 6 not in list1:                ........# not in : keyword\n",
    "    print(\"YES, not present\")\n",
    "else:\n",
    "    print(\"NO, its there\")"
   ]
  },
  {
   "cell_type": "code",
   "execution_count": 13,
   "id": "286d1807",
   "metadata": {},
   "outputs": [
    {
     "data": {
      "text/plain": [
       "7"
      ]
     },
     "execution_count": 13,
     "metadata": {},
     "output_type": "execute_result"
    }
   ],
   "source": [
    "#_MAX & MIN                               # confusing when letters come into play # follows_ASCII_code\n",
    "\n",
    "list1 = [1, 2, 3, 4, 5, 7]\n",
    "max(list1)                            #_ASCII code: American_Standard_Code_for_Information_Interchange"
   ]
  },
  {
   "cell_type": "code",
   "execution_count": 14,
   "id": "71f800b3",
   "metadata": {},
   "outputs": [
    {
     "data": {
      "text/plain": [
       "1"
      ]
     },
     "execution_count": 14,
     "metadata": {},
     "output_type": "execute_result"
    }
   ],
   "source": [
    "min(list1)"
   ]
  },
  {
   "cell_type": "code",
   "execution_count": 17,
   "id": "feda6fc9",
   "metadata": {},
   "outputs": [
    {
     "name": "stdout",
     "output_type": "stream",
     "text": [
      "Bhaveen 7\n",
      "Abhishek 8\n",
      "Dew 3\n",
      "DJ 2\n",
      "Santa 5\n",
      "Charlie 7\n",
      "Result: Max length : 8 Name: Abhishek\n"
     ]
    }
   ],
   "source": [
    "#Problem1: Print the name with highest number of character\n",
    "\n",
    "strings_in_list = [\"Bhaveen\", \"Abhishek\", \"Dew\", \"DJ\", \"Santa\",\"Charlie\"] \n",
    "\n",
    "max_len = 0\n",
    "result = \"\"\n",
    "\n",
    "for name in strings_in_list :\n",
    "    print(name, len(name))\n",
    "    \n",
    "    if len(name) > max_len:\n",
    "        max_len = len(name)\n",
    "        result = name\n",
    "        \n",
    "\n",
    "print(f\"Result: Max length : {max_len} Name: {result}\")"
   ]
  },
  {
   "cell_type": "markdown",
   "id": "f7b8c82a",
   "metadata": {},
   "source": [
    "###### pop(): By default pops out the last index but specific indexes to pop can be mentioned inside ()"
   ]
  },
  {
   "cell_type": "code",
   "execution_count": 21,
   "id": "bc6ff7c1",
   "metadata": {},
   "outputs": [
    {
     "data": {
      "text/plain": [
       "[6, 7, 8]"
      ]
     },
     "execution_count": 21,
     "metadata": {},
     "output_type": "execute_result"
    }
   ],
   "source": [
    "A = [6, 7, 8, \"sunny\"]\n",
    "A.pop()\n",
    "\n",
    "A"
   ]
  },
  {
   "cell_type": "code",
   "execution_count": 22,
   "id": "5e92d2b8",
   "metadata": {},
   "outputs": [
    {
     "data": {
      "text/plain": [
       "[6, 8, 'sunny']"
      ]
     },
     "execution_count": 22,
     "metadata": {},
     "output_type": "execute_result"
    }
   ],
   "source": [
    "A = [6, 7, 8, \"sunny\"]\n",
    "A.pop(1)\n",
    "\n",
    "A"
   ]
  },
  {
   "cell_type": "code",
   "execution_count": 24,
   "id": "2664c031",
   "metadata": {},
   "outputs": [
    {
     "name": "stdout",
     "output_type": "stream",
     "text": [
      "0 1\n",
      "1 34\n",
      "2 56\n",
      "3 76\n",
      "4 99\n"
     ]
    }
   ],
   "source": [
    "#Problem2: Print odd/even numbers\n",
    "\n",
    "#Solution_Step1                  ...............{for understanding}\n",
    "\n",
    "A = [1, 34, 56, 76, 99]\n",
    "\n",
    "for index in range(len(A)):\n",
    "    print(index, A[index])"
   ]
  },
  {
   "cell_type": "code",
   "execution_count": 26,
   "id": "96182585",
   "metadata": {},
   "outputs": [
    {
     "name": "stdout",
     "output_type": "stream",
     "text": [
      "0 1\n",
      " odd number: 1\n",
      "1 34\n",
      " even number: 34\n",
      "2 56\n",
      " even number: 56\n",
      "3 76\n",
      " even number: 76\n",
      "4 99\n",
      " odd number: 99\n"
     ]
    }
   ],
   "source": [
    "#Step2                          ...............{for understanding}\n",
    "\n",
    "A = [1, 34, 56, 76, 99]\n",
    "\n",
    "for index in range(len(A)):\n",
    "    number = A[index]\n",
    "    print(index, number)\n",
    "    \n",
    "    if number % 2 != 0 :\n",
    "        print(f\" odd number: {number}\")\n",
    "    else:\n",
    "        print(f\" even number: {number}\")\n",
    "        "
   ]
  },
  {
   "cell_type": "code",
   "execution_count": 1,
   "id": "137dc8cc",
   "metadata": {},
   "outputs": [
    {
     "data": {
      "text/plain": [
       "[34, 99, 111, 176, 256]"
      ]
     },
     "execution_count": 1,
     "metadata": {},
     "output_type": "execute_result"
    }
   ],
   "source": [
    "#S0RT\n",
    "\n",
    "A = [111, 34, 256, 176, 99]\n",
    "\n",
    "sorted(A)                                         #_Ascending Sort"
   ]
  },
  {
   "cell_type": "code",
   "execution_count": 30,
   "id": "dc10c15c",
   "metadata": {},
   "outputs": [
    {
     "data": {
      "text/plain": [
       "[256, 176, 111, 99, 34]"
      ]
     },
     "execution_count": 30,
     "metadata": {},
     "output_type": "execute_result"
    }
   ],
   "source": [
    "A = [111, 34, 256, 176, 99]\n",
    "\n",
    "A = sorted(A)                                      #_First Ascend\n",
    "\n",
    "A[::-1]                              # then Reverse ---to---->  Descend"
   ]
  },
  {
   "cell_type": "code",
   "execution_count": 2,
   "id": "3f7b61e7",
   "metadata": {},
   "outputs": [
    {
     "data": {
      "text/plain": [
       "[256, 176, 111, 99, 34]"
      ]
     },
     "execution_count": 2,
     "metadata": {},
     "output_type": "execute_result"
    }
   ],
   "source": [
    "#__SHORTCUT TO DESCEND\n",
    "\n",
    "A = [111, 34, 256, 176, 99]\n",
    "\n",
    "A.sort(reverse=True)\n",
    "\n",
    "A"
   ]
  },
  {
   "cell_type": "code",
   "execution_count": 5,
   "id": "10c8d7d5",
   "metadata": {},
   "outputs": [
    {
     "data": {
      "text/plain": [
       "[34, 99, 111, 176, 256]"
      ]
     },
     "execution_count": 5,
     "metadata": {},
     "output_type": "execute_result"
    }
   ],
   "source": [
    "A.reverse()\n",
    "\n",
    "A"
   ]
  },
  {
   "cell_type": "code",
   "execution_count": 1,
   "id": "570f747f",
   "metadata": {},
   "outputs": [
    {
     "data": {
      "text/plain": [
       "[[1, 2, 3], [11, 22, 33], [45, 56, 77]]"
      ]
     },
     "execution_count": 1,
     "metadata": {},
     "output_type": "execute_result"
    }
   ],
   "source": [
    "a = [[1,2,3],[11,22,33],[45,56,77]]                  # NESTED LIST\n",
    "a"
   ]
  },
  {
   "cell_type": "code",
   "execution_count": 2,
   "id": "1269e547",
   "metadata": {},
   "outputs": [
    {
     "data": {
      "text/plain": [
       "[1, 2, 3]"
      ]
     },
     "execution_count": 2,
     "metadata": {},
     "output_type": "execute_result"
    }
   ],
   "source": [
    "a[0]"
   ]
  },
  {
   "cell_type": "code",
   "execution_count": 3,
   "id": "b698f8b7",
   "metadata": {},
   "outputs": [
    {
     "data": {
      "text/plain": [
       "11"
      ]
     },
     "execution_count": 3,
     "metadata": {},
     "output_type": "execute_result"
    }
   ],
   "source": [
    "a[1][0]"
   ]
  },
  {
   "cell_type": "code",
   "execution_count": 4,
   "id": "1338be2d",
   "metadata": {},
   "outputs": [
    {
     "data": {
      "text/plain": [
       "77"
      ]
     },
     "execution_count": 4,
     "metadata": {},
     "output_type": "execute_result"
    }
   ],
   "source": [
    "a[2][2]"
   ]
  },
  {
   "cell_type": "code",
   "execution_count": 6,
   "id": "2c6e2fa4",
   "metadata": {},
   "outputs": [],
   "source": [
    "a = [[1,2,3],[11,22,33,[500,502]],[45,[239,\"hii\"],56,77]]  "
   ]
  },
  {
   "cell_type": "code",
   "execution_count": 7,
   "id": "1242c290",
   "metadata": {},
   "outputs": [
    {
     "data": {
      "text/plain": [
       "'hii'"
      ]
     },
     "execution_count": 7,
     "metadata": {},
     "output_type": "execute_result"
    }
   ],
   "source": [
    "a[2][1][1]"
   ]
  },
  {
   "cell_type": "code",
   "execution_count": 9,
   "id": "c2a25543",
   "metadata": {},
   "outputs": [
    {
     "data": {
      "text/plain": [
       "'hii'"
      ]
     },
     "execution_count": 9,
     "metadata": {},
     "output_type": "execute_result"
    }
   ],
   "source": [
    "a[-1][-3][-1]               #....... using negative indexing"
   ]
  },
  {
   "cell_type": "code",
   "execution_count": 12,
   "id": "4280dcd5",
   "metadata": {},
   "outputs": [
    {
     "name": "stdout",
     "output_type": "stream",
     "text": [
      "56000\n"
     ]
    }
   ],
   "source": [
    "#Problem\n",
    "\n",
    "amazon_cart = [[\"watch\", 5000],[\"phone\", 1000],[\"laptop\",50000]]\n",
    "\n",
    "total_cost = amazon_cart[0][1]+amazon_cart[1][1]+amazon_cart[2][1]\n",
    "\n",
    "print(total_cost)"
   ]
  },
  {
   "cell_type": "code",
   "execution_count": 11,
   "id": "e4d3b803",
   "metadata": {},
   "outputs": [
    {
     "name": "stdout",
     "output_type": "stream",
     "text": [
      "5000\n",
      "1000\n",
      "50000\n",
      "56000\n"
     ]
    }
   ],
   "source": [
    "# Using for lopp\n",
    "\n",
    "total_cost = 0\n",
    "\n",
    "for i in range(len(amazon_cart)):\n",
    "    print(amazon_cart[i][1])\n",
    "    \n",
    "    total_cost = total_cost + amazon_cart[i][1]\n",
    "    \n",
    "print(total_cost)"
   ]
  },
  {
   "cell_type": "code",
   "execution_count": 4,
   "id": "14104ef1",
   "metadata": {},
   "outputs": [
    {
     "name": "stdout",
     "output_type": "stream",
     "text": [
      "Empty cart: 0\n",
      "Cart added with watch: 5000\n",
      "Cart Value: 5000\n",
      "Cart added with phone: 1000\n",
      "Cart Value: 6000\n",
      "Cart added with laptop: 50000\n",
      "Cart Value: 56000\n",
      "Total Payable Amount: 56000\n"
     ]
    }
   ],
   "source": [
    "#Pythonian\n",
    "\n",
    "amazon_cart = [[\"watch\", 5000],[\"phone\", 1000],[\"laptop\",50000]]\n",
    "\n",
    "total_cost = 0\n",
    "print(f\"Empty cart: {total_cost}\")\n",
    "\n",
    "for item in amazon_cart:\n",
    "   \n",
    "    total_cost = total_cost + item[1]\n",
    "    print(f\"Cart added with {item[0]}: {item[1]}\")\n",
    "    print(f\"Cart Value: {total_cost}\")\n",
    "    \n",
    "print(f\"Total Payable Amount: {total_cost}\")"
   ]
  },
  {
   "cell_type": "markdown",
   "id": "dcc03ba2",
   "metadata": {},
   "source": [
    "##### List Comprehension"
   ]
  },
  {
   "cell_type": "code",
   "execution_count": 15,
   "id": "77c9de67",
   "metadata": {},
   "outputs": [
    {
     "name": "stdout",
     "output_type": "stream",
     "text": [
      "1 1\n",
      "2 4\n",
      "3 9\n",
      "4 16\n",
      "5 25\n",
      "6 36\n",
      "7 49\n",
      "8 64\n",
      "9 81\n",
      "10 100\n",
      "---------\n",
      "[1, 4, 9, 16, 25, 36, 49, 64, 81, 100]\n"
     ]
    }
   ],
   "source": [
    "#_Problem: List of square of numbers from 1 to 10\n",
    "\n",
    "a = [1,2,3,4,5,6,7,8,9,10]\n",
    "\n",
    "ans = list()                  #........creating an empty list to store values\n",
    "\n",
    "for element in a:\n",
    "    print(element, element**2)\n",
    "    \n",
    "    ans.append(element**2)\n",
    "    \n",
    "print(\"---------\")    \n",
    "print(ans)"
   ]
  },
  {
   "cell_type": "code",
   "execution_count": 17,
   "id": "eae50676",
   "metadata": {},
   "outputs": [
    {
     "name": "stdout",
     "output_type": "stream",
     "text": [
      "[1, 4, 9, 16, 25, 36, 49, 64, 81, 100]\n"
     ]
    }
   ],
   "source": [
    "#_SameProblem: using list comprehension\n",
    "\n",
    "a = [1,2,3,4,5,6,7,8,9,10]\n",
    "\n",
    "ans = [element**2 for element in a]\n",
    "print(ans)                                                              #KHELA"
   ]
  },
  {
   "cell_type": "code",
   "execution_count": 24,
   "id": "89717f7b",
   "metadata": {},
   "outputs": [
    {
     "name": "stdout",
     "output_type": "stream",
     "text": [
      "1 1\n",
      "3 9\n",
      "5 25\n",
      "7 49\n",
      "9 81\n",
      "---------\n"
     ]
    },
    {
     "data": {
      "text/plain": [
       "[1, 9, 25, 49, 81]"
      ]
     },
     "execution_count": 24,
     "metadata": {},
     "output_type": "execute_result"
    }
   ],
   "source": [
    "#Problem: take the squares of ONLY ODD NUMBERS\n",
    "\n",
    "a = [1,2,3,4,5,6,7,8,9,10]\n",
    "\n",
    "answer = list()\n",
    "\n",
    "for index in a:\n",
    "    if index%2 != 0:\n",
    "        print(index, index**2)\n",
    "        answer.append(index**2)\n",
    "\n",
    "print(\"---------\")\n",
    "answer\n",
    "    "
   ]
  },
  {
   "cell_type": "code",
   "execution_count": 25,
   "id": "fdbc1c39",
   "metadata": {},
   "outputs": [
    {
     "data": {
      "text/plain": [
       "[1, 9, 25, 49, 81]"
      ]
     },
     "execution_count": 25,
     "metadata": {},
     "output_type": "execute_result"
    }
   ],
   "source": [
    "#List comprehension\n",
    "\n",
    "a = [1,2,3,4,5,6,7,8,9,10]\n",
    "\n",
    "answer = [index**2 for index in a if index%2 != 0]\n",
    "\n",
    "answer"
   ]
  },
  {
   "cell_type": "code",
   "execution_count": 28,
   "id": "9c8ce117",
   "metadata": {},
   "outputs": [
    {
     "name": "stdout",
     "output_type": "stream",
     "text": [
      "s 1\n",
      "u 1\n",
      "n 2\n",
      "n 2\n",
      "y 1\n"
     ]
    }
   ],
   "source": [
    "# iterating with a for loop in a string and counting the number of occurances\n",
    "\n",
    "a = \"sunny\"\n",
    "\n",
    "for i in a:\n",
    "    print(i, a.count(i))"
   ]
  },
  {
   "cell_type": "code",
   "execution_count": 3,
   "id": "6744a2c7",
   "metadata": {},
   "outputs": [
    {
     "name": "stdout",
     "output_type": "stream",
     "text": [
      "1 2\n",
      "1 2\n",
      "2 3\n",
      "2 3\n",
      "2 3\n",
      "3 1\n",
      "4 7\n",
      "4 7\n",
      "4 7\n",
      "4 7\n",
      "4 7\n",
      "4 7\n",
      "4 7\n",
      "5 2\n",
      "5 2\n",
      "6 1\n",
      "7 1\n"
     ]
    }
   ],
   "source": [
    "a1 =[1,1,2,2,2,3,4,4,4,4,4,4,4,5,5,6,7]\n",
    "for i in a1:\n",
    "    print(i, a1.count(i))"
   ]
  },
  {
   "cell_type": "code",
   "execution_count": 4,
   "id": "a9993c99",
   "metadata": {},
   "outputs": [
    {
     "name": "stdout",
     "output_type": "stream",
     "text": [
      "sunny 2\n",
      "sunny 2\n",
      "bhaveen 1\n"
     ]
    }
   ],
   "source": [
    "a1=[\"sunny\",\"sunny\",\"bhaveen\"]\n",
    "\n",
    "for i in a1:\n",
    "    print(i,a1.count(i))"
   ]
  },
  {
   "cell_type": "code",
   "execution_count": 5,
   "id": "d1c8de34",
   "metadata": {},
   "outputs": [
    {
     "data": {
      "text/plain": [
       "[1, 2, 3, 3, 4, 5]"
      ]
     },
     "execution_count": 5,
     "metadata": {},
     "output_type": "execute_result"
    }
   ],
   "source": [
    "A = [1,2,3]\n",
    "B = [3,4,5]\n",
    "\n",
    "A.extend(B)        # inplace assignment\n",
    "\n",
    "A                 # A changed permanently and put inside a single list"
   ]
  },
  {
   "cell_type": "code",
   "execution_count": 6,
   "id": "cde14e66",
   "metadata": {},
   "outputs": [
    {
     "data": {
      "text/plain": [
       "[1, 2, 3, [3, 4, 5]]"
      ]
     },
     "execution_count": 6,
     "metadata": {},
     "output_type": "execute_result"
    }
   ],
   "source": [
    "A = [1,2,3]\n",
    "B = [3,4,5]\n",
    "\n",
    "A.append(B)       # Behaves differently; returns B in a separate list\n",
    "\n",
    "A"
   ]
  },
  {
   "cell_type": "code",
   "execution_count": 7,
   "id": "fd531d06",
   "metadata": {},
   "outputs": [
    {
     "data": {
      "text/plain": [
       "[1, 2, 3, 3, 4, 5]"
      ]
     },
     "execution_count": 7,
     "metadata": {},
     "output_type": "execute_result"
    }
   ],
   "source": [
    "A = [1,2,3]\n",
    "B = [3,4,5]           # A+B acts like the extend function --> concatenates into a single list\n",
    "A+B"
   ]
  },
  {
   "cell_type": "code",
   "execution_count": 8,
   "id": "a3bdf192",
   "metadata": {},
   "outputs": [
    {
     "data": {
      "text/plain": [
       "5"
      ]
     },
     "execution_count": 8,
     "metadata": {},
     "output_type": "execute_result"
    }
   ],
   "source": [
    "# INDEX_METHOD\n",
    "\n",
    "a=[1,2,4,5,56,\"sunny\"]\n",
    "a.index(\"sunny\")"
   ]
  },
  {
   "cell_type": "code",
   "execution_count": 23,
   "id": "315b99f6",
   "metadata": {},
   "outputs": [
    {
     "name": "stdout",
     "output_type": "stream",
     "text": [
      "element =(56+2j),|| datatype=<class 'complex'>,|| index=4\n",
      "element =(4+2j),|| datatype=<class 'complex'>,|| index=6\n"
     ]
    }
   ],
   "source": [
    "#Problem: Print the index of the complex numbers\n",
    "\n",
    "a=[1,2,4,5,56+2j,\"sunny\",4+2j]\n",
    "\n",
    "for i in a:\n",
    "    if type(i)==complex:\n",
    "        print(f\"element ={i},|| datatype={type(i)},|| index={a.index(i)}\")\n",
    "    \n",
    "    "
   ]
  },
  {
   "cell_type": "code",
   "execution_count": 24,
   "id": "feb3d003",
   "metadata": {},
   "outputs": [
    {
     "name": "stdout",
     "output_type": "stream",
     "text": [
      "element =(56+2j),|| datatype=<class 'complex'>,|| index=4\n",
      "element =(4+2j),|| datatype=<class 'complex'>,|| index=6\n"
     ]
    }
   ],
   "source": [
    "#same problem--diff approach--using isinstance method\n",
    "\n",
    "a=[1,2,4,5,56+2j,\"sunny\",4+2j]\n",
    "\n",
    "for i in a:\n",
    "    if isinstance(i,complex):\n",
    "        print(f\"element ={i},|| datatype={type(i)},|| index={a.index(i)}\")\n",
    "    "
   ]
  },
  {
   "cell_type": "code",
   "execution_count": 35,
   "id": "0f3c584c",
   "metadata": {},
   "outputs": [
    {
     "data": {
      "text/plain": [
       "[1, 2, 3, 4, 5, 6, 99]"
      ]
     },
     "execution_count": 35,
     "metadata": {},
     "output_type": "execute_result"
    }
   ],
   "source": [
    "a = [1,2,3,4,5,6]\n",
    "a.append(99)             #append method always adds at the last\n",
    "a "
   ]
  },
  {
   "cell_type": "code",
   "execution_count": 36,
   "id": "17e988af",
   "metadata": {},
   "outputs": [
    {
     "data": {
      "text/plain": [
       "[1, 2, 'santa', 3, 4, 5, 6, 99]"
      ]
     },
     "execution_count": 36,
     "metadata": {},
     "output_type": "execute_result"
    }
   ],
   "source": [
    "a.insert(2,\"santa\")         # insert fuctions inserts the element at the desired index position\n",
    "                            # .insert(index,element)\n",
    "a"
   ]
  },
  {
   "cell_type": "code",
   "execution_count": 37,
   "id": "bda4d37d",
   "metadata": {},
   "outputs": [
    {
     "data": {
      "text/plain": [
       "[1, 2, [1, 2, 3], 'santa', 3, 4, 5, 6, 99]"
      ]
     },
     "execution_count": 37,
     "metadata": {},
     "output_type": "execute_result"
    }
   ],
   "source": [
    "a.insert(2,[1,2,3])\n",
    "a"
   ]
  },
  {
   "cell_type": "code",
   "execution_count": 38,
   "id": "609dee12",
   "metadata": {},
   "outputs": [
    {
     "data": {
      "text/plain": [
       "9"
      ]
     },
     "execution_count": 38,
     "metadata": {},
     "output_type": "execute_result"
    }
   ],
   "source": [
    "len(a)"
   ]
  },
  {
   "cell_type": "code",
   "execution_count": 39,
   "id": "ca8ac9a7",
   "metadata": {},
   "outputs": [
    {
     "data": {
      "text/plain": [
       "3"
      ]
     },
     "execution_count": 39,
     "metadata": {},
     "output_type": "execute_result"
    }
   ],
   "source": [
    "a.index('santa')"
   ]
  },
  {
   "cell_type": "code",
   "execution_count": 40,
   "id": "8e5cbc2b",
   "metadata": {},
   "outputs": [
    {
     "data": {
      "text/plain": [
       "[2, [1, 2, 3], 'santa', 3, 4, 5, 6, 99]"
      ]
     },
     "execution_count": 40,
     "metadata": {},
     "output_type": "execute_result"
    }
   ],
   "source": [
    "a.remove(1)             # removes the first occurence of the mentioned element\n",
    "                        # remove works on the value; pop works on the index!\n",
    "a"
   ]
  },
  {
   "cell_type": "markdown",
   "id": "07fcdebd",
   "metadata": {},
   "source": [
    "### Tuples--> used for data integrity"
   ]
  },
  {
   "cell_type": "code",
   "execution_count": 41,
   "id": "57a33013",
   "metadata": {},
   "outputs": [
    {
     "data": {
      "text/plain": [
       "tuple"
      ]
     },
     "execution_count": 41,
     "metadata": {},
     "output_type": "execute_result"
    }
   ],
   "source": [
    "a=(1,2,3)\n",
    "type(a)"
   ]
  },
  {
   "cell_type": "code",
   "execution_count": 42,
   "id": "96c8ee97",
   "metadata": {},
   "outputs": [
    {
     "data": {
      "text/plain": [
       "2"
      ]
     },
     "execution_count": 42,
     "metadata": {},
     "output_type": "execute_result"
    }
   ],
   "source": [
    "a[1]"
   ]
  },
  {
   "cell_type": "code",
   "execution_count": 43,
   "id": "80ef4474",
   "metadata": {},
   "outputs": [
    {
     "data": {
      "text/plain": [
       "[12, 22, 25, 34]"
      ]
     },
     "execution_count": 43,
     "metadata": {},
     "output_type": "execute_result"
    }
   ],
   "source": [
    "a=(22,12,25,34)\n",
    "sorted(a)            # returns a list"
   ]
  },
  {
   "cell_type": "code",
   "execution_count": 44,
   "id": "b88c9323",
   "metadata": {},
   "outputs": [
    {
     "data": {
      "text/plain": [
       "1"
      ]
     },
     "execution_count": 44,
     "metadata": {},
     "output_type": "execute_result"
    }
   ],
   "source": [
    "a.index(12)"
   ]
  },
  {
   "cell_type": "markdown",
   "id": "12bb4de6",
   "metadata": {},
   "source": [
    "### SET\n",
    "1. Unordered collection of unique elements\n",
    "2. curly braces\n",
    "3. indexing not allowed as set is unordered"
   ]
  },
  {
   "cell_type": "code",
   "execution_count": 46,
   "id": "ce1abace",
   "metadata": {},
   "outputs": [
    {
     "data": {
      "text/plain": [
       "{1, 2, 3, 4}"
      ]
     },
     "execution_count": 46,
     "metadata": {},
     "output_type": "execute_result"
    }
   ],
   "source": [
    "x={1,2,3,3,4}\n",
    "\n",
    "x"
   ]
  },
  {
   "cell_type": "code",
   "execution_count": 49,
   "id": "101dd0f6",
   "metadata": {},
   "outputs": [
    {
     "data": {
      "text/plain": [
       "set"
      ]
     },
     "execution_count": 49,
     "metadata": {},
     "output_type": "execute_result"
    }
   ],
   "source": [
    "x=set()        #.... HOW TO CREATE AN EMPTY SET [RECOMMENDED APPROACH]\n",
    "type(x)"
   ]
  },
  {
   "cell_type": "code",
   "execution_count": 48,
   "id": "dce1c763",
   "metadata": {},
   "outputs": [
    {
     "data": {
      "text/plain": [
       "dict"
      ]
     },
     "execution_count": 48,
     "metadata": {},
     "output_type": "execute_result"
    }
   ],
   "source": [
    "x={}            #.......otherwise....\n",
    "type(x)"
   ]
  },
  {
   "cell_type": "code",
   "execution_count": 50,
   "id": "5496edaa",
   "metadata": {},
   "outputs": [
    {
     "data": {
      "text/plain": [
       "{99}"
      ]
     },
     "execution_count": 50,
     "metadata": {},
     "output_type": "execute_result"
    }
   ],
   "source": [
    "x.add(99)\n",
    "x"
   ]
  },
  {
   "cell_type": "code",
   "execution_count": 51,
   "id": "ed45a8dc",
   "metadata": {},
   "outputs": [
    {
     "data": {
      "text/plain": [
       "[1, 2, 3, 4, 5]"
      ]
     },
     "execution_count": 51,
     "metadata": {},
     "output_type": "execute_result"
    }
   ],
   "source": [
    "# Return a list with unique elements\n",
    "\n",
    "a={1,2,3,3,4,5}\n",
    "a=list(set(a))\n",
    "a\n",
    "       "
   ]
  },
  {
   "cell_type": "code",
   "execution_count": 56,
   "id": "af41da0c",
   "metadata": {},
   "outputs": [
    {
     "data": {
      "text/plain": [
       "{1, 3, 4}"
      ]
     },
     "execution_count": 56,
     "metadata": {},
     "output_type": "execute_result"
    }
   ],
   "source": [
    "x={1,2,3,4}\n",
    "x.remove(2)\n",
    "x"
   ]
  },
  {
   "cell_type": "code",
   "execution_count": 58,
   "id": "39ce2038",
   "metadata": {},
   "outputs": [],
   "source": [
    "#SET OPERATIONS, DICTIONARIES REMAINING....."
   ]
  },
  {
   "cell_type": "markdown",
   "id": "d950c13b",
   "metadata": {},
   "source": [
    "# ... ENTER \"SUDHANSHU\"... new beginning..."
   ]
  }
 ],
 "metadata": {
  "kernelspec": {
   "display_name": "Python 3 (ipykernel)",
   "language": "python",
   "name": "python3"
  },
  "language_info": {
   "codemirror_mode": {
    "name": "ipython",
    "version": 3
   },
   "file_extension": ".py",
   "mimetype": "text/x-python",
   "name": "python",
   "nbconvert_exporter": "python",
   "pygments_lexer": "ipython3",
   "version": "3.9.12"
  }
 },
 "nbformat": 4,
 "nbformat_minor": 5
}
