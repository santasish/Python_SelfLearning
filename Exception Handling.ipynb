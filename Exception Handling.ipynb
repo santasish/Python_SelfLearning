{
 "cells": [
  {
   "cell_type": "code",
   "execution_count": 1,
   "id": "227a128d",
   "metadata": {},
   "outputs": [
    {
     "name": "stdout",
     "output_type": "stream",
     "text": [
      "['ArithmeticError', 'AssertionError', 'AttributeError', 'BaseException', 'BlockingIOError', 'BrokenPipeError', 'BufferError', 'BytesWarning', 'ChildProcessError', 'ConnectionAbortedError', 'ConnectionError', 'ConnectionRefusedError', 'ConnectionResetError', 'DeprecationWarning', 'EOFError', 'Ellipsis', 'EnvironmentError', 'Exception', 'False', 'FileExistsError', 'FileNotFoundError', 'FloatingPointError', 'FutureWarning', 'GeneratorExit', 'IOError', 'ImportError', 'ImportWarning', 'IndentationError', 'IndexError', 'InterruptedError', 'IsADirectoryError', 'KeyError', 'KeyboardInterrupt', 'LookupError', 'MemoryError', 'ModuleNotFoundError', 'NameError', 'None', 'NotADirectoryError', 'NotImplemented', 'NotImplementedError', 'OSError', 'OverflowError', 'PendingDeprecationWarning', 'PermissionError', 'ProcessLookupError', 'RecursionError', 'ReferenceError', 'ResourceWarning', 'RuntimeError', 'RuntimeWarning', 'StopAsyncIteration', 'StopIteration', 'SyntaxError', 'SyntaxWarning', 'SystemError', 'SystemExit', 'TabError', 'TimeoutError', 'True', 'TypeError', 'UnboundLocalError', 'UnicodeDecodeError', 'UnicodeEncodeError', 'UnicodeError', 'UnicodeTranslateError', 'UnicodeWarning', 'UserWarning', 'ValueError', 'Warning', 'WindowsError', 'ZeroDivisionError', '__IPYTHON__', '__build_class__', '__debug__', '__doc__', '__import__', '__loader__', '__name__', '__package__', '__spec__', 'abs', 'all', 'any', 'ascii', 'bin', 'bool', 'breakpoint', 'bytearray', 'bytes', 'callable', 'chr', 'classmethod', 'compile', 'complex', 'copyright', 'credits', 'delattr', 'dict', 'dir', 'display', 'divmod', 'enumerate', 'eval', 'exec', 'execfile', 'filter', 'float', 'format', 'frozenset', 'get_ipython', 'getattr', 'globals', 'hasattr', 'hash', 'help', 'hex', 'id', 'input', 'int', 'isinstance', 'issubclass', 'iter', 'len', 'license', 'list', 'locals', 'map', 'max', 'memoryview', 'min', 'next', 'object', 'oct', 'open', 'ord', 'pow', 'print', 'property', 'range', 'repr', 'reversed', 'round', 'runfile', 'set', 'setattr', 'slice', 'sorted', 'staticmethod', 'str', 'sum', 'super', 'tuple', 'type', 'vars', 'zip']\n"
     ]
    }
   ],
   "source": [
    "print(dir(locals()['__builtins__']))              #_Built-in errors or exceptions in Python"
   ]
  },
  {
   "cell_type": "code",
   "execution_count": null,
   "id": "d63fcf65",
   "metadata": {},
   "outputs": [],
   "source": [
    "# different types of errors:-\n",
    "\"\"\"1. Syntax error: Typing mistake/ Parsing Error\n",
    "2. Logical error/Exception: Runtime error/Compile Time Error <----Exception handling comes in!\"\"\""
   ]
  },
  {
   "cell_type": "code",
   "execution_count": 1,
   "id": "e28bc58a",
   "metadata": {
    "scrolled": true
   },
   "outputs": [
    {
     "ename": "ZeroDivisionError",
     "evalue": "division by zero",
     "output_type": "error",
     "traceback": [
      "\u001b[1;31m---------------------------------------------------------------------------\u001b[0m",
      "\u001b[1;31mZeroDivisionError\u001b[0m                         Traceback (most recent call last)",
      "Input \u001b[1;32mIn [1]\u001b[0m, in \u001b[0;36m<cell line: 2>\u001b[1;34m()\u001b[0m\n\u001b[0;32m      1\u001b[0m a\u001b[38;5;241m=\u001b[39m\u001b[38;5;241m5\u001b[39m\n\u001b[1;32m----> 2\u001b[0m b\u001b[38;5;241m=\u001b[39m\u001b[43ma\u001b[49m\u001b[38;5;241;43m/\u001b[39;49m\u001b[38;5;241;43m0\u001b[39;49m\n\u001b[0;32m      3\u001b[0m \u001b[38;5;28mprint\u001b[39m(b)\n",
      "\u001b[1;31mZeroDivisionError\u001b[0m: division by zero"
     ]
    }
   ],
   "source": [
    "a=5                                 # Logical ERRORs <--- dealt with exception handling!\n",
    "b=a/0\n",
    "print(b)"
   ]
  },
  {
   "cell_type": "code",
   "execution_count": 2,
   "id": "9fbdd7dd",
   "metadata": {},
   "outputs": [
    {
     "ename": "SyntaxError",
     "evalue": "unexpected EOF while parsing (100999684.py, line 1)",
     "output_type": "error",
     "traceback": [
      "\u001b[1;36m  Input \u001b[1;32mIn [2]\u001b[1;36m\u001b[0m\n\u001b[1;33m    f=open(\"vbcd.txt\"\u001b[0m\n\u001b[1;37m                     ^\u001b[0m\n\u001b[1;31mSyntaxError\u001b[0m\u001b[1;31m:\u001b[0m unexpected EOF while parsing\n"
     ]
    }
   ],
   "source": [
    "f=open(\"vbcd.txt\"                # Syntax Error --> Bracket bondho kor"
   ]
  },
  {
   "cell_type": "code",
   "execution_count": 4,
   "id": "d1eba80e",
   "metadata": {},
   "outputs": [
    {
     "name": "stdout",
     "output_type": "stream",
     "text": [
      "Addition 30\n"
     ]
    }
   ],
   "source": [
    "a=10\n",
    "b=20\n",
    "print(\"Addition\", a+b)"
   ]
  },
  {
   "cell_type": "code",
   "execution_count": 5,
   "id": "28ff99b9",
   "metadata": {
    "scrolled": true
   },
   "outputs": [
    {
     "ename": "NameError",
     "evalue": "name 'c' is not defined",
     "output_type": "error",
     "traceback": [
      "\u001b[1;31m---------------------------------------------------------------------------\u001b[0m",
      "\u001b[1;31mNameError\u001b[0m                                 Traceback (most recent call last)",
      "Input \u001b[1;32mIn [5]\u001b[0m, in \u001b[0;36m<cell line: 3>\u001b[1;34m()\u001b[0m\n\u001b[0;32m      1\u001b[0m a\u001b[38;5;241m=\u001b[39m\u001b[38;5;241m10\u001b[39m\n\u001b[0;32m      2\u001b[0m b\u001b[38;5;241m=\u001b[39m\u001b[38;5;241m20\u001b[39m\n\u001b[1;32m----> 3\u001b[0m \u001b[38;5;28mprint\u001b[39m(\u001b[38;5;124m\"\u001b[39m\u001b[38;5;124mAddition\u001b[39m\u001b[38;5;124m\"\u001b[39m, a\u001b[38;5;241m+\u001b[39m\u001b[43mc\u001b[49m)\n",
      "\u001b[1;31mNameError\u001b[0m: name 'c' is not defined"
     ]
    }
   ],
   "source": [
    "a=10\n",
    "b=20\n",
    "print(\"Addition\", a+c)"
   ]
  },
  {
   "cell_type": "markdown",
   "id": "a21492b5",
   "metadata": {},
   "source": [
    "### _Different types of Errors:-"
   ]
  },
  {
   "cell_type": "code",
   "execution_count": 6,
   "id": "e9dcaf86",
   "metadata": {
    "scrolled": true
   },
   "outputs": [
    {
     "ename": "AssertionError",
     "evalue": "Invalid operation",
     "output_type": "error",
     "traceback": [
      "\u001b[1;31m---------------------------------------------------------------------------\u001b[0m",
      "\u001b[1;31mAssertionError\u001b[0m                            Traceback (most recent call last)",
      "Input \u001b[1;32mIn [6]\u001b[0m, in \u001b[0;36m<cell line: 5>\u001b[1;34m()\u001b[0m\n\u001b[0;32m      3\u001b[0m x\u001b[38;5;241m=\u001b[39m\u001b[38;5;241m1\u001b[39m\n\u001b[0;32m      4\u001b[0m y\u001b[38;5;241m=\u001b[39m\u001b[38;5;241m0\u001b[39m\n\u001b[1;32m----> 5\u001b[0m \u001b[38;5;28;01massert\u001b[39;00m y \u001b[38;5;241m!=\u001b[39m \u001b[38;5;241m0\u001b[39m,\u001b[38;5;124m\"\u001b[39m\u001b[38;5;124mInvalid operation\u001b[39m\u001b[38;5;124m\"\u001b[39m\n\u001b[0;32m      6\u001b[0m \u001b[38;5;28mprint\u001b[39m(x\u001b[38;5;241m/\u001b[39my)\n",
      "\u001b[1;31mAssertionError\u001b[0m: Invalid operation"
     ]
    }
   ],
   "source": [
    "\n",
    "#1. Assertion Error: If statement is True, no error! Otherwise Assertion Error (Statement = False!)\n",
    "\n",
    "x=1\n",
    "y=0\n",
    "assert y != 0,\"Invalid operation\"        # assert is a keyword used while debugging a CODE\n",
    "print(x/y)"
   ]
  },
  {
   "cell_type": "code",
   "execution_count": 8,
   "id": "2521a1cb",
   "metadata": {},
   "outputs": [
    {
     "name": "stdout",
     "output_type": "stream",
     "text": [
      "5.0\n"
     ]
    }
   ],
   "source": [
    "x=10\n",
    "y=2\n",
    "assert y == 2,\"Invalid operation\"        # assert is a keyword used while debugging a CODE\n",
    "print(x/y)                              # As statement is true, there is no assertion error!"
   ]
  },
  {
   "cell_type": "code",
   "execution_count": 9,
   "id": "f21a697f",
   "metadata": {
    "scrolled": true
   },
   "outputs": [
    {
     "ename": "AttributeError",
     "evalue": "'int' object has no attribute 'append'",
     "output_type": "error",
     "traceback": [
      "\u001b[1;31m---------------------------------------------------------------------------\u001b[0m",
      "\u001b[1;31mAttributeError\u001b[0m                            Traceback (most recent call last)",
      "Input \u001b[1;32mIn [9]\u001b[0m, in \u001b[0;36m<cell line: 5>\u001b[1;34m()\u001b[0m\n\u001b[0;32m      1\u001b[0m \u001b[38;5;66;03m#2. Attribute Error\u001b[39;00m\n\u001b[0;32m      3\u001b[0m y\u001b[38;5;241m=\u001b[39m\u001b[38;5;241m10\u001b[39m\n\u001b[1;32m----> 5\u001b[0m \u001b[43my\u001b[49m\u001b[38;5;241;43m.\u001b[39;49m\u001b[43mappend\u001b[49m(\u001b[38;5;241m6\u001b[39m)\n",
      "\u001b[1;31mAttributeError\u001b[0m: 'int' object has no attribute 'append'"
     ]
    }
   ],
   "source": [
    "#2. Attribute Error\n",
    "\n",
    "y=10\n",
    "\n",
    "y.append(6)             # 'int' object has no attribute 'append'"
   ]
  },
  {
   "cell_type": "code",
   "execution_count": 11,
   "id": "0ec5e4d3",
   "metadata": {},
   "outputs": [],
   "source": [
    "#3. Type Error\n",
    "\n",
    "mydict={\n",
    "    \"name\":\"imran\",\n",
    "    \"course\":\"Python\"\n",
    "}"
   ]
  },
  {
   "cell_type": "code",
   "execution_count": 12,
   "id": "4381ee5f",
   "metadata": {},
   "outputs": [
    {
     "ename": "TypeError",
     "evalue": "'dict' object is not callable",
     "output_type": "error",
     "traceback": [
      "\u001b[1;31m---------------------------------------------------------------------------\u001b[0m",
      "\u001b[1;31mTypeError\u001b[0m                                 Traceback (most recent call last)",
      "Input \u001b[1;32mIn [12]\u001b[0m, in \u001b[0;36m<cell line: 1>\u001b[1;34m()\u001b[0m\n\u001b[1;32m----> 1\u001b[0m \u001b[43mmydict\u001b[49m\u001b[43m(\u001b[49m\u001b[38;5;124;43m'\u001b[39;49m\u001b[38;5;124;43mage\u001b[39;49m\u001b[38;5;124;43m'\u001b[39;49m\u001b[43m)\u001b[49m\n",
      "\u001b[1;31mTypeError\u001b[0m: 'dict' object is not callable"
     ]
    }
   ],
   "source": [
    "mydict('age')"
   ]
  },
  {
   "cell_type": "code",
   "execution_count": 13,
   "id": "466d46f7",
   "metadata": {},
   "outputs": [
    {
     "ename": "NameError",
     "evalue": "name 'w' is not defined",
     "output_type": "error",
     "traceback": [
      "\u001b[1;31m---------------------------------------------------------------------------\u001b[0m",
      "\u001b[1;31mNameError\u001b[0m                                 Traceback (most recent call last)",
      "Input \u001b[1;32mIn [13]\u001b[0m, in \u001b[0;36m<cell line: 3>\u001b[1;34m()\u001b[0m\n\u001b[0;32m      1\u001b[0m \u001b[38;5;66;03m#4. Name Error\u001b[39;00m\n\u001b[1;32m----> 3\u001b[0m \u001b[38;5;28mprint\u001b[39m(\u001b[43mw\u001b[49m)\n",
      "\u001b[1;31mNameError\u001b[0m: name 'w' is not defined"
     ]
    }
   ],
   "source": [
    "#4. Name Error\n",
    "\n",
    "print(w)"
   ]
  },
  {
   "cell_type": "code",
   "execution_count": 15,
   "id": "86c0cb97",
   "metadata": {},
   "outputs": [
    {
     "ename": "ValueError",
     "evalue": "math domain error",
     "output_type": "error",
     "traceback": [
      "\u001b[1;31m---------------------------------------------------------------------------\u001b[0m",
      "\u001b[1;31mValueError\u001b[0m                                Traceback (most recent call last)",
      "Input \u001b[1;32mIn [15]\u001b[0m, in \u001b[0;36m<cell line: 5>\u001b[1;34m()\u001b[0m\n\u001b[0;32m      1\u001b[0m \u001b[38;5;66;03m#5. Value Error\u001b[39;00m\n\u001b[0;32m      3\u001b[0m \u001b[38;5;28;01mimport\u001b[39;00m \u001b[38;5;21;01mmath\u001b[39;00m\n\u001b[1;32m----> 5\u001b[0m \u001b[43mmath\u001b[49m\u001b[38;5;241;43m.\u001b[39;49m\u001b[43msqrt\u001b[49m\u001b[43m(\u001b[49m\u001b[38;5;241;43m-\u001b[39;49m\u001b[38;5;241;43m200\u001b[39;49m\u001b[43m)\u001b[49m\n",
      "\u001b[1;31mValueError\u001b[0m: math domain error"
     ]
    }
   ],
   "source": [
    "#5. Value Error\n",
    "\n",
    "import math\n",
    "\n",
    "math.sqrt(-200)"
   ]
  },
  {
   "cell_type": "code",
   "execution_count": 16,
   "id": "554c59b2",
   "metadata": {},
   "outputs": [
    {
     "data": {
      "text/plain": [
       "8.0"
      ]
     },
     "execution_count": 16,
     "metadata": {},
     "output_type": "execute_result"
    }
   ],
   "source": [
    "math.sqrt(64)"
   ]
  },
  {
   "cell_type": "markdown",
   "id": "99ee7495",
   "metadata": {},
   "source": [
    "## EXCEPTION HANDLING"
   ]
  },
  {
   "cell_type": "code",
   "execution_count": 1,
   "id": "f2f2adee",
   "metadata": {},
   "outputs": [
    {
     "data": {
      "text/plain": [
       "0.5"
      ]
     },
     "execution_count": 1,
     "metadata": {},
     "output_type": "execute_result"
    }
   ],
   "source": [
    "a=5\n",
    "a/10"
   ]
  },
  {
   "cell_type": "code",
   "execution_count": 2,
   "id": "0b4cec32",
   "metadata": {},
   "outputs": [
    {
     "ename": "ZeroDivisionError",
     "evalue": "division by zero",
     "output_type": "error",
     "traceback": [
      "\u001b[1;31m---------------------------------------------------------------------------\u001b[0m",
      "\u001b[1;31mZeroDivisionError\u001b[0m                         Traceback (most recent call last)",
      "Input \u001b[1;32mIn [2]\u001b[0m, in \u001b[0;36m<cell line: 1>\u001b[1;34m()\u001b[0m\n\u001b[1;32m----> 1\u001b[0m \u001b[43ma\u001b[49m\u001b[38;5;241;43m/\u001b[39;49m\u001b[38;5;241;43m0\u001b[39;49m\n",
      "\u001b[1;31mZeroDivisionError\u001b[0m: division by zero"
     ]
    }
   ],
   "source": [
    "a/0                          # zero division error exception---> we have to use numpy for this!\n"
   ]
  },
  {
   "cell_type": "code",
   "execution_count": 4,
   "id": "f8e64d97",
   "metadata": {},
   "outputs": [
    {
     "name": "stdout",
     "output_type": "stream",
     "text": [
      "5.0\n"
     ]
    }
   ],
   "source": [
    "a=10\n",
    "try:\n",
    "    b=  a/0\n",
    "except:\n",
    "    b= a/2\n",
    "print(b)"
   ]
  },
  {
   "cell_type": "code",
   "execution_count": 17,
   "id": "d2a39a2f",
   "metadata": {
    "scrolled": true
   },
   "outputs": [
    {
     "name": "stdout",
     "output_type": "stream",
     "text": [
      "0\n"
     ]
    },
    {
     "ename": "ZeroDivisionError",
     "evalue": "division by zero",
     "output_type": "error",
     "traceback": [
      "\u001b[1;31m---------------------------------------------------------------------------\u001b[0m",
      "\u001b[1;31mZeroDivisionError\u001b[0m                         Traceback (most recent call last)",
      "Input \u001b[1;32mIn [17]\u001b[0m, in \u001b[0;36m<cell line: 3>\u001b[1;34m()\u001b[0m\n\u001b[0;32m      1\u001b[0m a\u001b[38;5;241m=\u001b[39m\u001b[38;5;241m5\u001b[39m\n\u001b[0;32m      2\u001b[0m b\u001b[38;5;241m=\u001b[39m\u001b[38;5;28mint\u001b[39m(\u001b[38;5;28minput\u001b[39m())\n\u001b[1;32m----> 3\u001b[0m \u001b[43ma\u001b[49m\u001b[38;5;241;43m/\u001b[39;49m\u001b[43mb\u001b[49m\n",
      "\u001b[1;31mZeroDivisionError\u001b[0m: division by zero"
     ]
    }
   ],
   "source": [
    "a=5\n",
    "b=int(input())\n",
    "a/b"
   ]
  },
  {
   "cell_type": "code",
   "execution_count": 19,
   "id": "9ebc84bf",
   "metadata": {},
   "outputs": [
    {
     "name": "stdout",
     "output_type": "stream",
     "text": [
      "0\n",
      "Cant divide by 0. Provide another number\n"
     ]
    }
   ],
   "source": [
    "#__Exception Handling__\n",
    "\n",
    "try:\n",
    "    a=5\n",
    "    b=int(input())\n",
    "    c=a/b\n",
    "    print(c)\n",
    "\n",
    "except:\n",
    "    print(\"Cant divide by 0. Provide another number\")"
   ]
  },
  {
   "cell_type": "code",
   "execution_count": 6,
   "id": "fbf0090f",
   "metadata": {},
   "outputs": [
    {
     "ename": "UnsupportedOperation",
     "evalue": "not writable",
     "output_type": "error",
     "traceback": [
      "\u001b[1;31m---------------------------------------------------------------------------\u001b[0m",
      "\u001b[1;31mUnsupportedOperation\u001b[0m                      Traceback (most recent call last)",
      "Input \u001b[1;32mIn [6]\u001b[0m, in \u001b[0;36m<cell line: 2>\u001b[1;34m()\u001b[0m\n\u001b[0;32m      1\u001b[0m f\u001b[38;5;241m=\u001b[39m\u001b[38;5;28mopen\u001b[39m(\u001b[38;5;124m\"\u001b[39m\u001b[38;5;124mtest.txt\u001b[39m\u001b[38;5;124m\"\u001b[39m,\u001b[38;5;124m\"\u001b[39m\u001b[38;5;124mr\u001b[39m\u001b[38;5;124m\"\u001b[39m)\n\u001b[1;32m----> 2\u001b[0m \u001b[43mf\u001b[49m\u001b[38;5;241;43m.\u001b[39;49m\u001b[43mwrite\u001b[49m\u001b[43m(\u001b[49m\u001b[38;5;124;43m\"\u001b[39;49m\u001b[38;5;124;43mhjacvuyh oinoi ind\u001b[39;49m\u001b[38;5;124;43m\"\u001b[39;49m\u001b[43m)\u001b[49m\n",
      "\u001b[1;31mUnsupportedOperation\u001b[0m: not writable"
     ]
    }
   ],
   "source": [
    "f=open(\"test.txt\",\"r\")\n",
    "f.write(\"hjacvuyh oinoi ind\")"
   ]
  },
  {
   "cell_type": "code",
   "execution_count": 7,
   "id": "a53345bd",
   "metadata": {},
   "outputs": [
    {
     "data": {
      "text/plain": [
       "18"
      ]
     },
     "execution_count": 7,
     "metadata": {},
     "output_type": "execute_result"
    }
   ],
   "source": [
    "f=open(\"test.txt\",\"w\")\n",
    "f.write(\"hjacvuyh oinoi ind\")"
   ]
  },
  {
   "cell_type": "code",
   "execution_count": 8,
   "id": "61b88e92",
   "metadata": {},
   "outputs": [
    {
     "ename": "SyntaxError",
     "evalue": "unexpected EOF while parsing (3183236538.py, line 3)",
     "output_type": "error",
     "traceback": [
      "\u001b[1;36m  Input \u001b[1;32mIn [8]\u001b[1;36m\u001b[0m\n\u001b[1;33m    f.write(\"hjacvuyh oinoi inbiuyd\")\u001b[0m\n\u001b[1;37m                                     ^\u001b[0m\n\u001b[1;31mSyntaxError\u001b[0m\u001b[1;31m:\u001b[0m unexpected EOF while parsing\n"
     ]
    }
   ],
   "source": [
    "try:\n",
    "    f=open(\"test.txt\",\"r\")\n",
    "    f.write(\"hjacvuyh oinoi inbiuyd\")        #_syntactical_Error!\n",
    "    \n",
    "# always write an except block with your try block!"
   ]
  },
  {
   "cell_type": "markdown",
   "id": "2d085dac",
   "metadata": {},
   "source": [
    "There are 2 types of error:-\n",
    "    1. Compile time error: Syntactical errors, shomosshaa code ei!\n",
    "    2. Runtime error: Exceptions work only in runtime error where the code is perfectly fine!"
   ]
  },
  {
   "cell_type": "code",
   "execution_count": 11,
   "id": "39422f39",
   "metadata": {},
   "outputs": [
    {
     "name": "stdout",
     "output_type": "stream",
     "text": [
      "there was a mistake\n",
      "this line is not part of except but after that full try/except block\n"
     ]
    }
   ],
   "source": [
    "try:\n",
    "    f=open(\"test.txt\",\"r\")\n",
    "    f.write(\"hjacvuyh oinoi inbiuyd\")\n",
    "except:\n",
    "    print(\"there was a mistake\")                        \n",
    "print(\"this line is not part of except but after that full try/except block\")   # indentation imp."
   ]
  },
  {
   "cell_type": "code",
   "execution_count": 13,
   "id": "6536a02b",
   "metadata": {},
   "outputs": [
    {
     "ename": "SyntaxError",
     "evalue": "invalid syntax (3856367194.py, line 3)",
     "output_type": "error",
     "traceback": [
      "\u001b[1;36m  Input \u001b[1;32mIn [13]\u001b[1;36m\u001b[0m\n\u001b[1;33m    for i  range(len(l)):\u001b[0m\n\u001b[1;37m           ^\u001b[0m\n\u001b[1;31mSyntaxError\u001b[0m\u001b[1;31m:\u001b[0m invalid syntax\n"
     ]
    }
   ],
   "source": [
    "l=[4,5,6,7,8,8,9,0]\n",
    "\n",
    "for i  range(len(l)):          # 'in' is missing, compile time error\n",
    "    print(l)"
   ]
  },
  {
   "cell_type": "code",
   "execution_count": 14,
   "id": "939cc79b",
   "metadata": {},
   "outputs": [
    {
     "ename": "SyntaxError",
     "evalue": "invalid syntax (1901021785.py, line 4)",
     "output_type": "error",
     "traceback": [
      "\u001b[1;36m  Input \u001b[1;32mIn [14]\u001b[1;36m\u001b[0m\n\u001b[1;33m    for i  range(len(l)):          # 'in' is missing, compile time error\u001b[0m\n\u001b[1;37m           ^\u001b[0m\n\u001b[1;31mSyntaxError\u001b[0m\u001b[1;31m:\u001b[0m invalid syntax\n"
     ]
    }
   ],
   "source": [
    "l=[4,5,6,7,8,8,9,0]\n",
    "\n",
    "try:\n",
    "    for i  range(len(l)):          # 'in' is missing, compile time error\n",
    "    print(l)\n",
    "except:\n",
    "    print(\"This is the print statement in except block\")\n",
    "    \n",
    "    \n",
    "#_Syntactical mistakes are not handled by try/except block"
   ]
  },
  {
   "cell_type": "code",
   "execution_count": 18,
   "id": "944bac59",
   "metadata": {},
   "outputs": [
    {
     "name": "stdout",
     "output_type": "stream",
     "text": [
      "4\n",
      "5\n",
      "6\n",
      "7\n",
      "8\n",
      "8\n",
      "9\n",
      "0\n"
     ]
    },
    {
     "ename": "IndexError",
     "evalue": "list index out of range",
     "output_type": "error",
     "traceback": [
      "\u001b[1;31m---------------------------------------------------------------------------\u001b[0m",
      "\u001b[1;31mIndexError\u001b[0m                                Traceback (most recent call last)",
      "Input \u001b[1;32mIn [18]\u001b[0m, in \u001b[0;36m<cell line: 4>\u001b[1;34m()\u001b[0m\n\u001b[0;32m      1\u001b[0m l\u001b[38;5;241m=\u001b[39m[\u001b[38;5;241m4\u001b[39m,\u001b[38;5;241m5\u001b[39m,\u001b[38;5;241m6\u001b[39m,\u001b[38;5;241m7\u001b[39m,\u001b[38;5;241m8\u001b[39m,\u001b[38;5;241m8\u001b[39m,\u001b[38;5;241m9\u001b[39m,\u001b[38;5;241m0\u001b[39m]\n\u001b[0;32m      4\u001b[0m \u001b[38;5;28;01mfor\u001b[39;00m i \u001b[38;5;129;01min\u001b[39;00m \u001b[38;5;28mrange\u001b[39m(\u001b[38;5;28mlen\u001b[39m(l)\u001b[38;5;241m+\u001b[39m\u001b[38;5;241m1\u001b[39m):          \n\u001b[1;32m----> 5\u001b[0m     \u001b[38;5;28mprint\u001b[39m(\u001b[43ml\u001b[49m\u001b[43m[\u001b[49m\u001b[43mi\u001b[49m\u001b[43m]\u001b[49m)\n",
      "\u001b[1;31mIndexError\u001b[0m: list index out of range"
     ]
    }
   ],
   "source": [
    "l=[4,5,6,7,8,8,9,0]\n",
    "\n",
    "\n",
    "for i in range(len(l)+1):          # len(l)+1 ---------> index out of range error!\n",
    "    print(l[i])\n",
    "\n",
    "    "
   ]
  },
  {
   "cell_type": "code",
   "execution_count": 21,
   "id": "05dc4bea",
   "metadata": {
    "scrolled": true
   },
   "outputs": [
    {
     "name": "stdout",
     "output_type": "stream",
     "text": [
      "4\n",
      "5\n",
      "6\n",
      "7\n",
      "8\n",
      "8\n",
      "9\n",
      "0\n",
      "This is my code\n"
     ]
    }
   ],
   "source": [
    "l=[4,5,6,7,8,8,9,0]\n",
    "\n",
    "try:\n",
    "    \n",
    "    for i in range(len(l)+1):          # len(l)+1 ---------> index out of range error!\n",
    "        print(l[i])\n",
    "except:\n",
    "    print(\"This is my code\")\n",
    "    \n",
    "    \n",
    "#_If there is an error, then only the except block will run. or else Not!\n",
    "# If except block is being printed in the console, then there is an error in the try block!"
   ]
  },
  {
   "cell_type": "markdown",
   "id": "6a7761d9",
   "metadata": {},
   "source": [
    "### _How to see what kind of a error is there in the try block?!"
   ]
  },
  {
   "cell_type": "code",
   "execution_count": 22,
   "id": "874482da",
   "metadata": {},
   "outputs": [
    {
     "name": "stdout",
     "output_type": "stream",
     "text": [
      "4\n",
      "5\n",
      "6\n",
      "7\n",
      "8\n",
      "8\n",
      "9\n",
      "0\n",
      "This is the except block list index out of range\n",
      "fdcqef efg vfgsb\n"
     ]
    }
   ],
   "source": [
    "#_How to see what kind of a error is there in the try block?!\n",
    "\n",
    "l=[4,5,6,7,8,8,9,0]\n",
    "try:\n",
    "    for i in range(len(l)+1):\n",
    "        print(l[i])\n",
    "except Exception as e:       # Exception, with a capital E! It is a superclass of all the exceptions\n",
    "    print(\"This is the except block\",e)              # \"as\" is an alias\n",
    "    \n",
    "print(\"fdcqef efg vfgsb\")"
   ]
  },
  {
   "cell_type": "code",
   "execution_count": 20,
   "id": "fc93bc20",
   "metadata": {},
   "outputs": [
    {
     "name": "stdout",
     "output_type": "stream",
     "text": [
      " feqf\n",
      "invalid literal for int() with base 10: ' feqf'\n"
     ]
    }
   ],
   "source": [
    "try:\n",
    "    a=int(input())\n",
    "    b=int(input())\n",
    "    \n",
    "except Exception as e:\n",
    "    print(e)"
   ]
  },
  {
   "cell_type": "code",
   "execution_count": 24,
   "id": "38f91489",
   "metadata": {},
   "outputs": [
    {
     "name": "stdout",
     "output_type": "stream",
     "text": [
      "dqewhybcuhj\n",
      "invalid literal for int() with base 10: 'dqewhybcuhj'\n",
      "Hi. It's working\n"
     ]
    }
   ],
   "source": [
    "try:\n",
    "    a=int(input())\n",
    "    b=int(input())\n",
    "    \n",
    "except Exception as e:\n",
    "    print(e)\n",
    "print(\"Hi. It's working\")"
   ]
  },
  {
   "cell_type": "code",
   "execution_count": 4,
   "id": "349df658",
   "metadata": {},
   "outputs": [
    {
     "name": "stdout",
     "output_type": "stream",
     "text": [
      "This is my code_2\n",
      "Except block\n",
      "1\n",
      "2\n",
      "3\n",
      "4\n",
      "5\n"
     ]
    }
   ],
   "source": [
    "try:\n",
    "    f=open(\"test.txt\",\"r\")\n",
    "    f.write(\"Exception handling\")\n",
    "    print(\"This is my code\")\n",
    "    \n",
    "except:\n",
    "    f=open(\"test.txt\",\"w\")\n",
    "    f.write(\"Exception handling_2\")\n",
    "    print(\"This is my code_2\")\n",
    "    print(\"Except block\")\n",
    "    \n",
    "l=[1,2,3,4,5]\n",
    "for i in l:\n",
    "    print(i)"
   ]
  },
  {
   "cell_type": "code",
   "execution_count": 6,
   "id": "f8ea8dce",
   "metadata": {},
   "outputs": [],
   "source": [
    "f.close()"
   ]
  },
  {
   "cell_type": "code",
   "execution_count": 7,
   "id": "1c611c78",
   "metadata": {},
   "outputs": [
    {
     "name": "stdout",
     "output_type": "stream",
     "text": [
      "cqa\n",
      "invalid literal for int() with base 10: 'cqa'\n"
     ]
    }
   ],
   "source": [
    "#_Example\n",
    "\n",
    "try:\n",
    "    d={\"key1\":\"sudh\",\"key2\":\"[1,2,3,4,5]\",\"key3\":\"(4,5,6,7,78)\"}\n",
    "    d[\"key4\"]= int(input( ))\n",
    "except Exception as e:           #_exception is a superclass ---> alias 'e'\n",
    "    print(e)"
   ]
  },
  {
   "cell_type": "code",
   "execution_count": 24,
   "id": "62bd1a88",
   "metadata": {},
   "outputs": [
    {
     "name": "stdout",
     "output_type": "stream",
     "text": [
      "Enter Value of a: 5\n",
      "Enter Value of b: 0\n",
      "Not divided by zero\n"
     ]
    }
   ],
   "source": [
    "#_What is superclass and subclass?  \n",
    "\n",
    "try:\n",
    "    a=int(input(\"Enter Value of a: \"))   \n",
    "    b=int(input(\"Enter Value of b: \")) \n",
    "    c= a/b\n",
    "    print(\"answer\",c)\n",
    "\n",
    "except ValueError:                               # child class / sub class\n",
    "    print(\"Entered value is wrong\")\n",
    "    \n",
    "except ZeroDivisionError:                        # child class / sub class\n",
    "    print(\"Not divided by zero\")"
   ]
  },
  {
   "cell_type": "code",
   "execution_count": 25,
   "id": "319f9794",
   "metadata": {},
   "outputs": [
    {
     "name": "stdout",
     "output_type": "stream",
     "text": [
      "hvuytg\n",
      "invalid literal for int() with base 10: 'hvuytg'\n"
     ]
    }
   ],
   "source": [
    "try:\n",
    "    d={\"key1\":\"sudh\",\"key2\":\"[1,2,3,4,5]\",\"key3\":\"(4,5,6,7,78)\"}\n",
    "    d[\"key4\"]= int(input( ))\n",
    "except ValueError as sudh:           #_ValueError is a subclass ---> alias 'sudh'\n",
    "    print(sudh)\n",
    "    \n",
    "#_ValueError is specific to deal with this error and forms a subclass within the superclass Exception\n",
    "#_There are hundreds of sub class within the Exception superclass"
   ]
  },
  {
   "cell_type": "markdown",
   "id": "c8d1561a",
   "metadata": {},
   "source": [
    "Both superclass and subclass giving the same error statement!"
   ]
  },
  {
   "cell_type": "code",
   "execution_count": 9,
   "id": "bcb5e7f7",
   "metadata": {},
   "outputs": [
    {
     "name": "stdout",
     "output_type": "stream",
     "text": [
      "132\n",
      "[Errno 2] No such file or directory: 'text.test'\n"
     ]
    }
   ],
   "source": [
    "try:\n",
    "    d={\"key1\":\"sudh\",\"key2\":\"[1,2,3,4,5]\",\"key3\":\"(4,5,6,7,78)\"}\n",
    "    d[\"key4\"]= int(input( ))\n",
    "    f=open(\"text.test\",\"r\")\n",
    "except ValueError as sudh:           #_ValueError is a subclass ---> alias 'sudh'\n",
    "    print(sudh)\n",
    "except FileNotFoundError as e:       # Multiple except blocks are allowed\n",
    "    print(e)"
   ]
  },
  {
   "cell_type": "code",
   "execution_count": 10,
   "id": "7ccfad6f",
   "metadata": {},
   "outputs": [
    {
     "name": "stdout",
     "output_type": "stream",
     "text": [
      "123\n",
      "This is my Exception superclass [Errno 2] No such file or directory: 'text.test'\n"
     ]
    }
   ],
   "source": [
    "try:\n",
    "    d={\"key1\":\"sudh\",\"key2\":\"[1,2,3,4,5]\",\"key3\":\"(4,5,6,7,78)\"}\n",
    "    d[\"key4\"]= int(input( ))\n",
    "    f=open(\"text.test\",\"r\")\n",
    "    \n",
    "except Exception as ee:              #_Exception is a superclass\n",
    "    print(\"This is my Exception superclass\", ee)\n",
    "except ValueError as sudh:           #_ValueError is a subclass ---> alias 'sudh'\n",
    "    print(sudh)\n",
    "except FileNotFoundError as e:       # Multiple except blocks are allowed\n",
    "    print(e)\n",
    "    \n",
    "# By default, superclass would be called instead of the two sub classes."
   ]
  },
  {
   "cell_type": "code",
   "execution_count": 13,
   "id": "2961270a",
   "metadata": {},
   "outputs": [
    {
     "name": "stdout",
     "output_type": "stream",
     "text": [
      "123\n",
      "[Errno 2] No such file or directory: 'text.test'\n"
     ]
    }
   ],
   "source": [
    "#_Putting the superclass at the last...\n",
    "\n",
    "try:\n",
    "    d={\"key1\":\"sudh\",\"key2\":\"[1,2,3,4,5]\",\"key3\":\"(4,5,6,7,78)\"}\n",
    "    d[\"key4\"]= int(input( ))\n",
    "    f=open(\"text.test\",\"r\")\n",
    "    \n",
    "\n",
    "except ValueError as sudh:           #_ValueError is a subclass ---> alias 'sudh'\n",
    "    print(sudh)\n",
    "except FileNotFoundError as e:       # Multiple except blocks are allowed\n",
    "    print(e)\n",
    "\n",
    "except Exception as ee:              #_Exception is a superclass\n",
    "    print(\"This is my Exception superclass\", ee)\n",
    "\n",
    "    \n",
    "# By default, superclass is not getting called as it is placed at the last.\n",
    "# Instead the sub classes block is in action..."
   ]
  },
  {
   "cell_type": "markdown",
   "id": "7b2fdee2",
   "metadata": {},
   "source": [
    "##### If parent class is written at the bottom then the exceptions falling under the child classes are handled through child class.\n",
    "##### If parent class is written at the top, then due to hierarchy, parent class handles the exception all by itself."
   ]
  },
  {
   "cell_type": "code",
   "execution_count": 1,
   "id": "b7042fbd",
   "metadata": {},
   "outputs": [
    {
     "name": "stdout",
     "output_type": "stream",
     "text": [
      "The entry is a\n",
      "oops <class 'ValueError'> occured\n",
      "next entry\n",
      "The entry is 0\n",
      "oops <class 'ZeroDivisionError'> occured\n",
      "next entry\n",
      "The entry is 2\n",
      "The reciprocal of 2 is 0.5\n"
     ]
    }
   ],
   "source": [
    "#_Example: Find the reciprocal of the elements in the list. [STUDY: sys.exc_info docs...from google!]\n",
    "\n",
    "import sys\n",
    "\n",
    "randomList=['a',0,2]                     # Value error due to 'a' is not 'int'\n",
    "                                         # Zero Division Error due to 1 divided by 0\n",
    "\n",
    "for entry in randomList:\n",
    "    try:\n",
    "        print(\"The entry is\", entry)\n",
    "        r=1/int(entry)\n",
    "        break\n",
    "        \n",
    "    except:\n",
    "        print(\"oops\",sys.exc_info()[0],\"occured\")\n",
    "        print(\"next entry\")\n",
    "        \n",
    "print(\"The reciprocal of\",entry,\"is\",r)"
   ]
  },
  {
   "cell_type": "code",
   "execution_count": 4,
   "id": "d062e933",
   "metadata": {},
   "outputs": [
    {
     "name": "stdout",
     "output_type": "stream",
     "text": [
      "Enter a number: 7\n",
      "not a even number\n"
     ]
    }
   ],
   "source": [
    "try:\n",
    "    num=int(input(\"Enter a number: \"))\n",
    "    assert num % 2 == 0\n",
    "except:\n",
    "    print(\"not a even number\")\n",
    "else:\n",
    "    reciprocal=1/num                    # else block executes only when no exception has been raised. \n",
    "    print(reciprocal)"
   ]
  },
  {
   "cell_type": "markdown",
   "id": "71da8f7d",
   "metadata": {},
   "source": [
    "## try -- except -- else [ *Only for Python ]"
   ]
  },
  {
   "cell_type": "code",
   "execution_count": 5,
   "id": "aebac2fc",
   "metadata": {},
   "outputs": [],
   "source": [
    "def divide(x,y):\n",
    "    try:\n",
    "        print(x/y)\n",
    "        \n",
    "    except ZeroDivisionError as e:         #_Exception Not Working!! Check with different data!\n",
    "        print(e)\n",
    "        \n",
    "        \n",
    "    else:\n",
    "        print(\"The answer to the above inputs\",x,\"and\",y,\"is\",x/y)\n",
    "    finally:\n",
    "        print(\"Finally block gets executed regardless of the try/except block results\")\n",
    "        "
   ]
  },
  {
   "cell_type": "code",
   "execution_count": 6,
   "id": "c0a4095b",
   "metadata": {},
   "outputs": [
    {
     "name": "stdout",
     "output_type": "stream",
     "text": [
      "5.0\n",
      "The answer to the above inputs 10 and 2 is 5.0\n",
      "Finally block gets executed regardless of the try/except block results\n",
      "1.8\n",
      "The answer to the above inputs 9 and 5 is 1.8\n",
      "Finally block gets executed regardless of the try/except block results\n",
      "5.0\n",
      "The answer to the above inputs 10 and 2 is 5.0\n",
      "Finally block gets executed regardless of the try/except block results\n",
      "2.0\n",
      "The answer to the above inputs 14 and 7 is 2.0\n",
      "Finally block gets executed regardless of the try/except block results\n"
     ]
    }
   ],
   "source": [
    "divide(10,2)\n",
    "divide(9,5)\n",
    "divide(10,2)\n",
    "divide(14,7)"
   ]
  },
  {
   "cell_type": "code",
   "execution_count": 14,
   "id": "40456a12",
   "metadata": {},
   "outputs": [
    {
     "name": "stdout",
     "output_type": "stream",
     "text": [
      "The else block will be executed once the try block is successfully executed\n",
      "If the try block fails, else block will not execute\n"
     ]
    }
   ],
   "source": [
    "try:\n",
    "    f=open(\"text1.txt\",\"w\")\n",
    "    f.write(\"This is my code in try block\")\n",
    "\n",
    "except Exception as e:\n",
    "    print(\"This is my exception handler statement\", e)\n",
    "\n",
    "else:\n",
    "    print(\"The else block will be executed once the try block is successfully executed\")\n",
    "    print(\"If the try block fails, else block will not execute\")"
   ]
  },
  {
   "cell_type": "code",
   "execution_count": 15,
   "id": "5151530b",
   "metadata": {},
   "outputs": [],
   "source": [
    "f.close()"
   ]
  },
  {
   "cell_type": "code",
   "execution_count": 16,
   "id": "19384494",
   "metadata": {},
   "outputs": [
    {
     "name": "stdout",
     "output_type": "stream",
     "text": [
      "This is my exception handler statement not writable\n"
     ]
    }
   ],
   "source": [
    "try:\n",
    "    f=open(\"text1.txt\",\"r\")\n",
    "    f.write(\"This is my code in try block\")\n",
    "\n",
    "except Exception as e:\n",
    "    print(\"This is my exception handler statement\", e)\n",
    "\n",
    "else:\n",
    "    print(\"The else block will be executed once the try block is successfully executed\")\n",
    "    print(\"If the try block fails, else block will not execute\")\n",
    "    \n",
    "# try block has an error/failed. except block executed. hence, else not working!"
   ]
  },
  {
   "cell_type": "markdown",
   "id": "02df07a7",
   "metadata": {},
   "source": [
    "## finally\n",
    "\n",
    "1. else block executes only when try block has successfully executed without errors and there was no necessity of exception block.\n",
    "\n",
    "2. Finally block executes all the time, doesnot matter whether try has failed or not and except block has been executed or not!\n",
    "\n",
    "3. Finally block is always executed.\n",
    "\n",
    "4. try--except--else--finally <------ All can be present together!\n",
    "\n",
    "5. everything can be multiple/nested. Only take care of the indentation."
   ]
  },
  {
   "cell_type": "code",
   "execution_count": 17,
   "id": "280ed315",
   "metadata": {},
   "outputs": [
    {
     "name": "stdout",
     "output_type": "stream",
     "text": [
      "This is inside the exception block [Errno 2] No such file or directory: 'text'\n",
      "I am inside the 'finally' block\n"
     ]
    }
   ],
   "source": [
    "try:\n",
    "    f=open(\"text\",'r')                  # error ashbe!\n",
    "\n",
    "except Exception as e:\n",
    "    print(\"This is inside the exception block\", e)       # Exception block executed\n",
    "    \n",
    "finally:\n",
    "    print(\"I am inside the 'finally' block\")             # finally block executes everytime!!"
   ]
  },
  {
   "cell_type": "code",
   "execution_count": 18,
   "id": "30014470",
   "metadata": {},
   "outputs": [
    {
     "name": "stdout",
     "output_type": "stream",
     "text": [
      "Statement in else block means try block has successfully executed\n",
      "Whatever happens, I know I am gonna get this line from the finally block!\n"
     ]
    }
   ],
   "source": [
    "try:\n",
    "    f=open(\"text1.txt\",\"r+\")\n",
    "    f.write(\"This is the statement from try-except-else-finally code in try block\")\n",
    "\n",
    "except Exception as e:\n",
    "    print(\"Try block has failed and we are in our error handler block\", e)\n",
    "    \n",
    "else:\n",
    "    f.close()\n",
    "    print(\"Statement in else block means try block has successfully executed\")\n",
    "    \n",
    "finally:\n",
    "    print(\"Whatever happens, I know I am gonna get this line from the finally block!\")"
   ]
  },
  {
   "cell_type": "code",
   "execution_count": 20,
   "id": "8149fe17",
   "metadata": {},
   "outputs": [],
   "source": [
    "#_Example: Exception handling inside a function\n",
    "\n",
    "def ask_int():\n",
    "    try:\n",
    "        a=int(input(\"Enter an integer: \"))\n",
    "        return a\n",
    "    except Exception as e:\n",
    "        print(\"inside exception block\", e)\n",
    "        "
   ]
  },
  {
   "cell_type": "code",
   "execution_count": 23,
   "id": "d254dad2",
   "metadata": {},
   "outputs": [
    {
     "name": "stdout",
     "output_type": "stream",
     "text": [
      "Enter an integer: sudh\n",
      "inside exception block invalid literal for int() with base 10: 'sudh'\n"
     ]
    }
   ],
   "source": [
    "ask_int()"
   ]
  },
  {
   "cell_type": "code",
   "execution_count": 24,
   "id": "78efc356",
   "metadata": {},
   "outputs": [
    {
     "name": "stdout",
     "output_type": "stream",
     "text": [
      "Enter an integer: 345\n"
     ]
    },
    {
     "data": {
      "text/plain": [
       "345"
      ]
     },
     "execution_count": 24,
     "metadata": {},
     "output_type": "execute_result"
    }
   ],
   "source": [
    "ask_int()"
   ]
  },
  {
   "cell_type": "code",
   "execution_count": 29,
   "id": "c8240518",
   "metadata": {},
   "outputs": [],
   "source": [
    "#_Study_\n",
    "# Problem: Write a function which keeps on asking to enter an integer unless an integer is inputed.\n",
    "\n",
    "def enter_int():\n",
    "    try:\n",
    "        a=int(input(\"Enter an integer: \"))\n",
    "        return a\n",
    "    except Exception as e:\n",
    "        print(\"There is an error\", e)\n",
    "    else:\n",
    "        print(f\"The input data type of {a} is integer and we are in else block\")\n",
    "    finally:\n",
    "        try:\n",
    "            if type(a)!= int:\n",
    "                print(\"Input is not an integer.\")\n",
    "                \n",
    "            else:\n",
    "                print(f\"Yes! You have entered a valid integer {a}\")\n",
    "        except:\n",
    "            a=int(input(\"Please enter a valid integer input: \"))"
   ]
  },
  {
   "cell_type": "code",
   "execution_count": 30,
   "id": "5d0b05f4",
   "metadata": {},
   "outputs": [
    {
     "name": "stdout",
     "output_type": "stream",
     "text": [
      "Enter an integer: 4\n",
      "Yes! You have entered a valid integer 4\n"
     ]
    },
    {
     "data": {
      "text/plain": [
       "4"
      ]
     },
     "execution_count": 30,
     "metadata": {},
     "output_type": "execute_result"
    }
   ],
   "source": [
    "enter_int()"
   ]
  },
  {
   "cell_type": "code",
   "execution_count": 31,
   "id": "f476af40",
   "metadata": {},
   "outputs": [
    {
     "name": "stdout",
     "output_type": "stream",
     "text": [
      "Enter an integer: dadf\n",
      "There is an error invalid literal for int() with base 10: 'dadf'\n",
      "Please enter a valid integer input: cda\n"
     ]
    },
    {
     "ename": "ValueError",
     "evalue": "invalid literal for int() with base 10: 'cda'",
     "output_type": "error",
     "traceback": [
      "\u001b[1;31m---------------------------------------------------------------------------\u001b[0m",
      "\u001b[1;31mUnboundLocalError\u001b[0m                         Traceback (most recent call last)",
      "Input \u001b[1;32mIn [29]\u001b[0m, in \u001b[0;36menter_int\u001b[1;34m()\u001b[0m\n\u001b[0;32m     12\u001b[0m \u001b[38;5;28;01mtry\u001b[39;00m:\n\u001b[1;32m---> 13\u001b[0m     \u001b[38;5;28;01mif\u001b[39;00m \u001b[38;5;28mtype\u001b[39m(\u001b[43ma\u001b[49m)\u001b[38;5;241m!=\u001b[39m \u001b[38;5;28mint\u001b[39m:\n\u001b[0;32m     14\u001b[0m         \u001b[38;5;28mprint\u001b[39m(\u001b[38;5;124m\"\u001b[39m\u001b[38;5;124mInput is not an integer.\u001b[39m\u001b[38;5;124m\"\u001b[39m)\n",
      "\u001b[1;31mUnboundLocalError\u001b[0m: local variable 'a' referenced before assignment",
      "\nDuring handling of the above exception, another exception occurred:\n",
      "\u001b[1;31mValueError\u001b[0m                                Traceback (most recent call last)",
      "Input \u001b[1;32mIn [31]\u001b[0m, in \u001b[0;36m<cell line: 1>\u001b[1;34m()\u001b[0m\n\u001b[1;32m----> 1\u001b[0m \u001b[43menter_int\u001b[49m\u001b[43m(\u001b[49m\u001b[43m)\u001b[49m\n",
      "Input \u001b[1;32mIn [29]\u001b[0m, in \u001b[0;36menter_int\u001b[1;34m()\u001b[0m\n\u001b[0;32m     17\u001b[0m         \u001b[38;5;28mprint\u001b[39m(\u001b[38;5;124mf\u001b[39m\u001b[38;5;124m\"\u001b[39m\u001b[38;5;124mYes! You have entered a valid integer \u001b[39m\u001b[38;5;132;01m{\u001b[39;00ma\u001b[38;5;132;01m}\u001b[39;00m\u001b[38;5;124m\"\u001b[39m)\n\u001b[0;32m     18\u001b[0m \u001b[38;5;28;01mexcept\u001b[39;00m:\n\u001b[1;32m---> 19\u001b[0m     a\u001b[38;5;241m=\u001b[39m\u001b[38;5;28;43mint\u001b[39;49m\u001b[43m(\u001b[49m\u001b[38;5;28;43minput\u001b[39;49m\u001b[43m(\u001b[49m\u001b[38;5;124;43m\"\u001b[39;49m\u001b[38;5;124;43mPlease enter a valid integer input: \u001b[39;49m\u001b[38;5;124;43m\"\u001b[39;49m\u001b[43m)\u001b[49m\u001b[43m)\u001b[49m\n",
      "\u001b[1;31mValueError\u001b[0m: invalid literal for int() with base 10: 'cda'"
     ]
    }
   ],
   "source": [
    "enter_int()         # Aro sophisticated howa uchit!"
   ]
  },
  {
   "cell_type": "code",
   "execution_count": 32,
   "id": "e4d1c3b1",
   "metadata": {},
   "outputs": [],
   "source": [
    "def enter_int():\n",
    "    try:\n",
    "        a=(input(\"Enter an integer: \"))\n",
    "        \n",
    "        while type(a)!= int:\n",
    "            print(\"You have not entered a valid integer!\")\n",
    "            a=(input(\"Enter a Valid Integer: \"))\n",
    "                    \n",
    "        else:\n",
    "            print(f\"Yes! You have entered a valid integer {a}\")\n",
    "            \n",
    "        \n",
    "        return a\n",
    "    \n",
    "    except Exception as e:\n",
    "        print(\"There is an error\", e)\n",
    "    else:\n",
    "        print(f\"The input data type of {a} is integer and we are in else block\")\n",
    "    finally:\n",
    "        print(f\"You have entered the input as {a}\")\n",
    "                "
   ]
  },
  {
   "cell_type": "code",
   "execution_count": 33,
   "id": "7f72da32",
   "metadata": {},
   "outputs": [
    {
     "name": "stdout",
     "output_type": "stream",
     "text": [
      "Enter an integer: 4\n",
      "You have not entered a valid integer!\n",
      "Enter a Valid Integer: hgf\n",
      "You have not entered a valid integer!\n",
      "Enter a Valid Integer: hyu\n",
      "You have not entered a valid integer!\n",
      "Enter a Valid Integer: 45\n",
      "You have not entered a valid integer!\n",
      "You have entered the input as 45\n"
     ]
    },
    {
     "ename": "KeyboardInterrupt",
     "evalue": "Interrupted by user",
     "output_type": "error",
     "traceback": [
      "\u001b[1;31m---------------------------------------------------------------------------\u001b[0m",
      "\u001b[1;31mKeyboardInterrupt\u001b[0m                         Traceback (most recent call last)",
      "Input \u001b[1;32mIn [33]\u001b[0m, in \u001b[0;36m<cell line: 1>\u001b[1;34m()\u001b[0m\n\u001b[1;32m----> 1\u001b[0m \u001b[43menter_int\u001b[49m\u001b[43m(\u001b[49m\u001b[43m)\u001b[49m\n",
      "Input \u001b[1;32mIn [32]\u001b[0m, in \u001b[0;36menter_int\u001b[1;34m()\u001b[0m\n\u001b[0;32m      5\u001b[0m \u001b[38;5;28;01mwhile\u001b[39;00m \u001b[38;5;28mtype\u001b[39m(a)\u001b[38;5;241m!=\u001b[39m \u001b[38;5;28mint\u001b[39m:\n\u001b[0;32m      6\u001b[0m     \u001b[38;5;28mprint\u001b[39m(\u001b[38;5;124m\"\u001b[39m\u001b[38;5;124mYou have not entered a valid integer!\u001b[39m\u001b[38;5;124m\"\u001b[39m)\n\u001b[1;32m----> 7\u001b[0m     a\u001b[38;5;241m=\u001b[39m(\u001b[38;5;28;43minput\u001b[39;49m\u001b[43m(\u001b[49m\u001b[38;5;124;43m\"\u001b[39;49m\u001b[38;5;124;43mEnter a Valid Integer: \u001b[39;49m\u001b[38;5;124;43m\"\u001b[39;49m\u001b[43m)\u001b[49m)\n\u001b[0;32m      9\u001b[0m \u001b[38;5;28;01melse\u001b[39;00m:\n\u001b[0;32m     10\u001b[0m     \u001b[38;5;28mprint\u001b[39m(\u001b[38;5;124mf\u001b[39m\u001b[38;5;124m\"\u001b[39m\u001b[38;5;124mYes! You have entered a valid integer \u001b[39m\u001b[38;5;132;01m{\u001b[39;00ma\u001b[38;5;132;01m}\u001b[39;00m\u001b[38;5;124m\"\u001b[39m)\n",
      "File \u001b[1;32m~\\anaconda3\\lib\\site-packages\\ipykernel\\kernelbase.py:1075\u001b[0m, in \u001b[0;36mKernel.raw_input\u001b[1;34m(self, prompt)\u001b[0m\n\u001b[0;32m   1071\u001b[0m \u001b[38;5;28;01mif\u001b[39;00m \u001b[38;5;129;01mnot\u001b[39;00m \u001b[38;5;28mself\u001b[39m\u001b[38;5;241m.\u001b[39m_allow_stdin:\n\u001b[0;32m   1072\u001b[0m     \u001b[38;5;28;01mraise\u001b[39;00m StdinNotImplementedError(\n\u001b[0;32m   1073\u001b[0m         \u001b[38;5;124m\"\u001b[39m\u001b[38;5;124mraw_input was called, but this frontend does not support input requests.\u001b[39m\u001b[38;5;124m\"\u001b[39m\n\u001b[0;32m   1074\u001b[0m     )\n\u001b[1;32m-> 1075\u001b[0m \u001b[38;5;28;01mreturn\u001b[39;00m \u001b[38;5;28;43mself\u001b[39;49m\u001b[38;5;241;43m.\u001b[39;49m\u001b[43m_input_request\u001b[49m\u001b[43m(\u001b[49m\n\u001b[0;32m   1076\u001b[0m \u001b[43m    \u001b[49m\u001b[38;5;28;43mstr\u001b[39;49m\u001b[43m(\u001b[49m\u001b[43mprompt\u001b[49m\u001b[43m)\u001b[49m\u001b[43m,\u001b[49m\n\u001b[0;32m   1077\u001b[0m \u001b[43m    \u001b[49m\u001b[38;5;28;43mself\u001b[39;49m\u001b[38;5;241;43m.\u001b[39;49m\u001b[43m_parent_ident\u001b[49m\u001b[43m[\u001b[49m\u001b[38;5;124;43m\"\u001b[39;49m\u001b[38;5;124;43mshell\u001b[39;49m\u001b[38;5;124;43m\"\u001b[39;49m\u001b[43m]\u001b[49m\u001b[43m,\u001b[49m\n\u001b[0;32m   1078\u001b[0m \u001b[43m    \u001b[49m\u001b[38;5;28;43mself\u001b[39;49m\u001b[38;5;241;43m.\u001b[39;49m\u001b[43mget_parent\u001b[49m\u001b[43m(\u001b[49m\u001b[38;5;124;43m\"\u001b[39;49m\u001b[38;5;124;43mshell\u001b[39;49m\u001b[38;5;124;43m\"\u001b[39;49m\u001b[43m)\u001b[49m\u001b[43m,\u001b[49m\n\u001b[0;32m   1079\u001b[0m \u001b[43m    \u001b[49m\u001b[43mpassword\u001b[49m\u001b[38;5;241;43m=\u001b[39;49m\u001b[38;5;28;43;01mFalse\u001b[39;49;00m\u001b[43m,\u001b[49m\n\u001b[0;32m   1080\u001b[0m \u001b[43m\u001b[49m\u001b[43m)\u001b[49m\n",
      "File \u001b[1;32m~\\anaconda3\\lib\\site-packages\\ipykernel\\kernelbase.py:1120\u001b[0m, in \u001b[0;36mKernel._input_request\u001b[1;34m(self, prompt, ident, parent, password)\u001b[0m\n\u001b[0;32m   1117\u001b[0m             \u001b[38;5;28;01mbreak\u001b[39;00m\n\u001b[0;32m   1118\u001b[0m \u001b[38;5;28;01mexcept\u001b[39;00m \u001b[38;5;167;01mKeyboardInterrupt\u001b[39;00m:\n\u001b[0;32m   1119\u001b[0m     \u001b[38;5;66;03m# re-raise KeyboardInterrupt, to truncate traceback\u001b[39;00m\n\u001b[1;32m-> 1120\u001b[0m     \u001b[38;5;28;01mraise\u001b[39;00m \u001b[38;5;167;01mKeyboardInterrupt\u001b[39;00m(\u001b[38;5;124m\"\u001b[39m\u001b[38;5;124mInterrupted by user\u001b[39m\u001b[38;5;124m\"\u001b[39m) \u001b[38;5;28;01mfrom\u001b[39;00m \u001b[38;5;28mNone\u001b[39m\n\u001b[0;32m   1121\u001b[0m \u001b[38;5;28;01mexcept\u001b[39;00m \u001b[38;5;167;01mException\u001b[39;00m:\n\u001b[0;32m   1122\u001b[0m     \u001b[38;5;28mself\u001b[39m\u001b[38;5;241m.\u001b[39mlog\u001b[38;5;241m.\u001b[39mwarning(\u001b[38;5;124m\"\u001b[39m\u001b[38;5;124mInvalid Message:\u001b[39m\u001b[38;5;124m\"\u001b[39m, exc_info\u001b[38;5;241m=\u001b[39m\u001b[38;5;28;01mTrue\u001b[39;00m)\n",
      "\u001b[1;31mKeyboardInterrupt\u001b[0m: Interrupted by user"
     ]
    }
   ],
   "source": [
    "enter_int()"
   ]
  },
  {
   "cell_type": "code",
   "execution_count": null,
   "id": "4e8bf7b5",
   "metadata": {},
   "outputs": [],
   "source": [
    "enter_int()"
   ]
  },
  {
   "cell_type": "code",
   "execution_count": 1,
   "id": "98a01f71",
   "metadata": {},
   "outputs": [],
   "source": [
    "# Problem: Write a function which keeps on asking to enter an integer unless an integer is inputed.\n",
    "\n",
    "#___SOLUTION___1\n",
    "\n",
    "def func1():\n",
    "    flag = True        # flag is just a variable, which is true and the while loop runs...\n",
    "    while flag:\n",
    "        try:\n",
    "            a=int(input(\"Enter an integer: \"))\n",
    "            if type(a)==int:\n",
    "                print(\"Yes, the input is an integer\")\n",
    "                flag=False                                # This false ends the while loop\n",
    "                \n",
    "        except Exception as e:\n",
    "            print(\"Case koreche\",e)\n",
    "           \n",
    "    return a\n",
    "            \n"
   ]
  },
  {
   "cell_type": "code",
   "execution_count": 2,
   "id": "e9ae0507",
   "metadata": {},
   "outputs": [
    {
     "name": "stdout",
     "output_type": "stream",
     "text": [
      "Enter an integer: wd\n",
      "Case koreche invalid literal for int() with base 10: 'wd'\n",
      "Enter an integer: sxcd\n",
      "Case koreche invalid literal for int() with base 10: 'sxcd'\n",
      "Enter an integer: wsx\n",
      "Case koreche invalid literal for int() with base 10: 'wsx'\n",
      "Enter an integer: 4\n",
      "Yes, the input is an integer\n"
     ]
    },
    {
     "data": {
      "text/plain": [
       "4"
      ]
     },
     "execution_count": 2,
     "metadata": {},
     "output_type": "execute_result"
    }
   ],
   "source": [
    "func1()"
   ]
  },
  {
   "cell_type": "code",
   "execution_count": 3,
   "id": "3de5f76c",
   "metadata": {},
   "outputs": [],
   "source": [
    "#__SOLUTION2:\n",
    "\n",
    "def test1():\n",
    "    while True:\n",
    "        try:\n",
    "            a=int(input(\"Enter Integer: \"))\n",
    "            break\n",
    "        except Exception as e:\n",
    "            print(e)\n",
    "    return a"
   ]
  },
  {
   "cell_type": "code",
   "execution_count": 4,
   "id": "32cd60a9",
   "metadata": {},
   "outputs": [
    {
     "name": "stdout",
     "output_type": "stream",
     "text": [
      "Enter Integer: as\n",
      "invalid literal for int() with base 10: 'as'\n",
      "Enter Integer: scd\n",
      "invalid literal for int() with base 10: 'scd'\n",
      "Enter Integer: sdc\n",
      "invalid literal for int() with base 10: 'sdc'\n",
      "Enter Integer: 34\n"
     ]
    },
    {
     "data": {
      "text/plain": [
       "34"
      ]
     },
     "execution_count": 4,
     "metadata": {},
     "output_type": "execute_result"
    }
   ],
   "source": [
    "test1()"
   ]
  },
  {
   "cell_type": "code",
   "execution_count": 5,
   "id": "a1d432fa",
   "metadata": {},
   "outputs": [],
   "source": [
    "#__SOLUTION3:\n",
    "\n",
    "def test2():\n",
    "    while True:\n",
    "        try:\n",
    "            a=int(input(\"Enter an integer: \"))\n",
    "            break\n",
    "        except Exception as e:\n",
    "            print(\"Please enter integer\",e)\n",
    "            continue\n",
    "    return a"
   ]
  },
  {
   "cell_type": "code",
   "execution_count": 6,
   "id": "f27afed3",
   "metadata": {},
   "outputs": [
    {
     "name": "stdout",
     "output_type": "stream",
     "text": [
      "Enter an integer: dc\n",
      "Please enter integer invalid literal for int() with base 10: 'dc'\n",
      "Enter an integer: dct\n",
      "Please enter integer invalid literal for int() with base 10: 'dct'\n",
      "Enter an integer: okn\n",
      "Please enter integer invalid literal for int() with base 10: 'okn'\n",
      "Enter an integer: 35\n"
     ]
    },
    {
     "data": {
      "text/plain": [
       "35"
      ]
     },
     "execution_count": 6,
     "metadata": {},
     "output_type": "execute_result"
    }
   ],
   "source": [
    "test2()"
   ]
  },
  {
   "cell_type": "code",
   "execution_count": 16,
   "id": "323064f5",
   "metadata": {},
   "outputs": [],
   "source": [
    "#_How to raise an exception by ourselves?\n",
    "\n",
    "def test(a):\n",
    "    if a<0:\n",
    "        raise Exception(\"You have entered a negative value\",a)    #_SUPERCLASS\n",
    "        return a"
   ]
  },
  {
   "cell_type": "code",
   "execution_count": 17,
   "id": "5747daae",
   "metadata": {},
   "outputs": [],
   "source": [
    "test(4)"
   ]
  },
  {
   "cell_type": "code",
   "execution_count": 18,
   "id": "bbfade34",
   "metadata": {},
   "outputs": [
    {
     "ename": "Exception",
     "evalue": "('You have entered a negative value', -4)",
     "output_type": "error",
     "traceback": [
      "\u001b[1;31m---------------------------------------------------------------------------\u001b[0m",
      "\u001b[1;31mException\u001b[0m                                 Traceback (most recent call last)",
      "Input \u001b[1;32mIn [18]\u001b[0m, in \u001b[0;36m<cell line: 1>\u001b[1;34m()\u001b[0m\n\u001b[1;32m----> 1\u001b[0m \u001b[43mtest\u001b[49m\u001b[43m(\u001b[49m\u001b[38;5;241;43m-\u001b[39;49m\u001b[38;5;241;43m4\u001b[39;49m\u001b[43m)\u001b[49m\n",
      "Input \u001b[1;32mIn [16]\u001b[0m, in \u001b[0;36mtest\u001b[1;34m(a)\u001b[0m\n\u001b[0;32m      3\u001b[0m \u001b[38;5;28;01mdef\u001b[39;00m \u001b[38;5;21mtest\u001b[39m(a):\n\u001b[0;32m      4\u001b[0m     \u001b[38;5;28;01mif\u001b[39;00m a\u001b[38;5;241m<\u001b[39m\u001b[38;5;241m0\u001b[39m:\n\u001b[1;32m----> 5\u001b[0m         \u001b[38;5;28;01mraise\u001b[39;00m \u001b[38;5;167;01mException\u001b[39;00m(\u001b[38;5;124m\"\u001b[39m\u001b[38;5;124mYou have entered a negative value\u001b[39m\u001b[38;5;124m\"\u001b[39m,a)\n\u001b[0;32m      6\u001b[0m         \u001b[38;5;28;01mreturn\u001b[39;00m a\n",
      "\u001b[1;31mException\u001b[0m: ('You have entered a negative value', -4)"
     ]
    }
   ],
   "source": [
    "test(-4)            # Exception raised!"
   ]
  },
  {
   "cell_type": "markdown",
   "id": "a5a4df0b",
   "metadata": {},
   "source": [
    "### raise ---> reserved keyword in python to raise exceptions"
   ]
  },
  {
   "cell_type": "code",
   "execution_count": 19,
   "id": "f1bd573b",
   "metadata": {},
   "outputs": [],
   "source": [
    "def test(a):\n",
    "    if a<0:\n",
    "        raise ValueError(\"You have entered a negative value\",a)   \n",
    "        return a\n",
    "    \n",
    "#SUBCLASS: jerom icha error raise kora jay"
   ]
  },
  {
   "cell_type": "code",
   "execution_count": 20,
   "id": "34a1879b",
   "metadata": {},
   "outputs": [
    {
     "ename": "ValueError",
     "evalue": "('You have entered a negative value', -2)",
     "output_type": "error",
     "traceback": [
      "\u001b[1;31m---------------------------------------------------------------------------\u001b[0m",
      "\u001b[1;31mValueError\u001b[0m                                Traceback (most recent call last)",
      "Input \u001b[1;32mIn [20]\u001b[0m, in \u001b[0;36m<cell line: 1>\u001b[1;34m()\u001b[0m\n\u001b[1;32m----> 1\u001b[0m \u001b[43mtest\u001b[49m\u001b[43m(\u001b[49m\u001b[38;5;241;43m-\u001b[39;49m\u001b[38;5;241;43m2\u001b[39;49m\u001b[43m)\u001b[49m\n",
      "Input \u001b[1;32mIn [19]\u001b[0m, in \u001b[0;36mtest\u001b[1;34m(a)\u001b[0m\n\u001b[0;32m      1\u001b[0m \u001b[38;5;28;01mdef\u001b[39;00m \u001b[38;5;21mtest\u001b[39m(a):\n\u001b[0;32m      2\u001b[0m     \u001b[38;5;28;01mif\u001b[39;00m a\u001b[38;5;241m<\u001b[39m\u001b[38;5;241m0\u001b[39m:\n\u001b[1;32m----> 3\u001b[0m         \u001b[38;5;28;01mraise\u001b[39;00m \u001b[38;5;167;01mValueError\u001b[39;00m(\u001b[38;5;124m\"\u001b[39m\u001b[38;5;124mYou have entered a negative value\u001b[39m\u001b[38;5;124m\"\u001b[39m,a)\n\u001b[0;32m      4\u001b[0m         \u001b[38;5;28;01mreturn\u001b[39;00m a\n",
      "\u001b[1;31mValueError\u001b[0m: ('You have entered a negative value', -2)"
     ]
    }
   ],
   "source": [
    "test(-2)"
   ]
  },
  {
   "cell_type": "code",
   "execution_count": 25,
   "id": "5d7629e3",
   "metadata": {},
   "outputs": [
    {
     "name": "stdout",
     "output_type": "stream",
     "text": [
      "-4\n",
      "calling my raised exception ('You have entered a negative value', -4)\n"
     ]
    }
   ],
   "source": [
    "#_'raise' has raised the exception... Now, how to handle it?/\n",
    "\n",
    "try:\n",
    "    a=int(input())\n",
    "    test(a)\n",
    "except Exception as e:                        # try block failed, hence except block executed!\n",
    "    print(\"calling my raised exception\",e)"
   ]
  },
  {
   "cell_type": "code",
   "execution_count": null,
   "id": "35868189",
   "metadata": {},
   "outputs": [],
   "source": []
  },
  {
   "cell_type": "code",
   "execution_count": null,
   "id": "19752cef",
   "metadata": {},
   "outputs": [],
   "source": []
  },
  {
   "cell_type": "code",
   "execution_count": 7,
   "id": "3277f784",
   "metadata": {},
   "outputs": [
    {
     "name": "stdout",
     "output_type": "stream",
     "text": [
      "I am in outer try block\n",
      "nested try block begins...\n",
      "I am in Outer Except block\n",
      "division by zero\n"
     ]
    }
   ],
   "source": [
    "#__PRACTICE: IMRAN's Class.. Current Batch!\n",
    "\n",
    "#__NESTED TRY/EXCEPT__\n",
    "\n",
    "x=10\n",
    "y=0\n",
    "\n",
    "try:\n",
    "    print(\"I am in outer try block\")\n",
    "    try:\n",
    "        print(\"nested try block begins...\")\n",
    "        print(x/y)\n",
    "    except TypeError as te:\n",
    "        print(\"nested EXCEPT block\")\n",
    "        print(te)\n",
    "except ZeroDivisionError as ze:\n",
    "    print(\"I am in Outer Except block\")\n",
    "    print(ze)\n",
    "    "
   ]
  },
  {
   "cell_type": "code",
   "execution_count": 8,
   "id": "ab5cf5a3",
   "metadata": {},
   "outputs": [],
   "source": [
    "#Problem: Keep on asking for integers until you get one!\n",
    "\n",
    "def func1():\n",
    "    flag=True\n",
    "    while flag:\n",
    "        try:\n",
    "            a=int(input(\"Enter integer \"))\n",
    "            if type(a)==int:\n",
    "                return \"yes, you have entered an integer\"\n",
    "            flag=False\n",
    "        except Exception as e:\n",
    "            print(\"You didnot enter an integer\",e)\n",
    "            "
   ]
  },
  {
   "cell_type": "code",
   "execution_count": 9,
   "id": "cd49b5de",
   "metadata": {},
   "outputs": [
    {
     "name": "stdout",
     "output_type": "stream",
     "text": [
      "Enter integer t\n",
      "You didnot enter an integer invalid literal for int() with base 10: 't'\n",
      "Enter integer d\n",
      "You didnot enter an integer invalid literal for int() with base 10: 'd'\n",
      "Enter integer 3\n"
     ]
    },
    {
     "data": {
      "text/plain": [
       "'yes, you have entered an integer'"
      ]
     },
     "execution_count": 9,
     "metadata": {},
     "output_type": "execute_result"
    }
   ],
   "source": [
    "func1()"
   ]
  },
  {
   "cell_type": "code",
   "execution_count": 13,
   "id": "201e92a0",
   "metadata": {},
   "outputs": [
    {
     "name": "stdout",
     "output_type": "stream",
     "text": [
      "Issue with code---Running in exception block\n",
      "(1, 2, 3, 5, 6, 7)\n",
      "hi\n",
      "outside 'tuple' object does not support item assignment\n"
     ]
    }
   ],
   "source": [
    "#__Example of NESTED TRY-EXCEPT!\n",
    "\n",
    "try:\n",
    "    l=[1,2,3,5,6,7]\n",
    "    l[10]\n",
    "except:\n",
    "    print(\"Issue with code---Running in exception block\")\n",
    "    t=(1,2,3,5,6,7)\n",
    "    print(t)\n",
    "    try:\n",
    "        print(\"hi\")\n",
    "        t[0]=\"imran\"\n",
    "        try:\n",
    "            k=list(t)\n",
    "            print(k)\n",
    "        except Exception as e:\n",
    "            print(\"inside\",e)\n",
    "    except Exception as e:\n",
    "        print(\"outside\",e)\n",
    "    \n",
    "else:\n",
    "    print(\"There is no issue with the code\")"
   ]
  },
  {
   "cell_type": "code",
   "execution_count": null,
   "id": "a3b25988",
   "metadata": {},
   "outputs": [],
   "source": []
  },
  {
   "cell_type": "code",
   "execution_count": null,
   "id": "4aa4a88d",
   "metadata": {},
   "outputs": [],
   "source": []
  },
  {
   "cell_type": "code",
   "execution_count": null,
   "id": "23dc7d7c",
   "metadata": {},
   "outputs": [],
   "source": []
  },
  {
   "cell_type": "code",
   "execution_count": null,
   "id": "5858c4d4",
   "metadata": {},
   "outputs": [],
   "source": []
  },
  {
   "cell_type": "code",
   "execution_count": null,
   "id": "65e21140",
   "metadata": {},
   "outputs": [],
   "source": []
  },
  {
   "cell_type": "code",
   "execution_count": null,
   "id": "5aa19e45",
   "metadata": {},
   "outputs": [],
   "source": []
  },
  {
   "cell_type": "code",
   "execution_count": null,
   "id": "9c1c3f6b",
   "metadata": {},
   "outputs": [],
   "source": []
  },
  {
   "cell_type": "code",
   "execution_count": null,
   "id": "33ce0912",
   "metadata": {},
   "outputs": [],
   "source": []
  },
  {
   "cell_type": "code",
   "execution_count": null,
   "id": "3ae5c2a7",
   "metadata": {},
   "outputs": [],
   "source": []
  },
  {
   "cell_type": "code",
   "execution_count": null,
   "id": "46e1fe5c",
   "metadata": {},
   "outputs": [],
   "source": []
  },
  {
   "cell_type": "code",
   "execution_count": null,
   "id": "40424890",
   "metadata": {},
   "outputs": [],
   "source": []
  },
  {
   "cell_type": "code",
   "execution_count": null,
   "id": "93d83327",
   "metadata": {},
   "outputs": [],
   "source": []
  },
  {
   "cell_type": "code",
   "execution_count": null,
   "id": "f8bb8b36",
   "metadata": {},
   "outputs": [],
   "source": []
  },
  {
   "cell_type": "code",
   "execution_count": null,
   "id": "aff94694",
   "metadata": {},
   "outputs": [],
   "source": []
  },
  {
   "cell_type": "code",
   "execution_count": null,
   "id": "03de191e",
   "metadata": {},
   "outputs": [],
   "source": []
  },
  {
   "cell_type": "code",
   "execution_count": null,
   "id": "6e369f0a",
   "metadata": {},
   "outputs": [],
   "source": []
  },
  {
   "cell_type": "code",
   "execution_count": null,
   "id": "3809fec0",
   "metadata": {},
   "outputs": [],
   "source": []
  },
  {
   "cell_type": "code",
   "execution_count": null,
   "id": "013533c2",
   "metadata": {},
   "outputs": [],
   "source": []
  },
  {
   "cell_type": "code",
   "execution_count": null,
   "id": "af4b043a",
   "metadata": {},
   "outputs": [],
   "source": []
  },
  {
   "cell_type": "code",
   "execution_count": null,
   "id": "f28b88f8",
   "metadata": {},
   "outputs": [],
   "source": []
  },
  {
   "cell_type": "code",
   "execution_count": null,
   "id": "3bba1ba6",
   "metadata": {},
   "outputs": [],
   "source": []
  },
  {
   "cell_type": "code",
   "execution_count": null,
   "id": "4c4a1c8a",
   "metadata": {},
   "outputs": [],
   "source": []
  },
  {
   "cell_type": "code",
   "execution_count": null,
   "id": "3b82b800",
   "metadata": {},
   "outputs": [],
   "source": []
  },
  {
   "cell_type": "code",
   "execution_count": null,
   "id": "e09d7ed9",
   "metadata": {},
   "outputs": [],
   "source": []
  },
  {
   "cell_type": "code",
   "execution_count": null,
   "id": "6486c089",
   "metadata": {},
   "outputs": [],
   "source": []
  },
  {
   "cell_type": "code",
   "execution_count": null,
   "id": "88bdf41d",
   "metadata": {},
   "outputs": [],
   "source": []
  },
  {
   "cell_type": "code",
   "execution_count": null,
   "id": "b94abeed",
   "metadata": {},
   "outputs": [],
   "source": []
  },
  {
   "cell_type": "code",
   "execution_count": null,
   "id": "5fae1501",
   "metadata": {},
   "outputs": [],
   "source": []
  },
  {
   "cell_type": "code",
   "execution_count": null,
   "id": "3e3f6016",
   "metadata": {},
   "outputs": [],
   "source": []
  },
  {
   "cell_type": "code",
   "execution_count": null,
   "id": "75b554bf",
   "metadata": {},
   "outputs": [],
   "source": []
  },
  {
   "cell_type": "code",
   "execution_count": null,
   "id": "6091b36f",
   "metadata": {},
   "outputs": [],
   "source": []
  },
  {
   "cell_type": "code",
   "execution_count": null,
   "id": "16f2815f",
   "metadata": {},
   "outputs": [],
   "source": []
  },
  {
   "cell_type": "code",
   "execution_count": null,
   "id": "15b1eccc",
   "metadata": {},
   "outputs": [],
   "source": []
  },
  {
   "cell_type": "code",
   "execution_count": null,
   "id": "ff759c3c",
   "metadata": {},
   "outputs": [],
   "source": []
  },
  {
   "cell_type": "code",
   "execution_count": null,
   "id": "7108302f",
   "metadata": {},
   "outputs": [],
   "source": []
  },
  {
   "cell_type": "code",
   "execution_count": null,
   "id": "f68833e8",
   "metadata": {},
   "outputs": [],
   "source": []
  },
  {
   "cell_type": "code",
   "execution_count": null,
   "id": "f89baba2",
   "metadata": {},
   "outputs": [],
   "source": []
  },
  {
   "cell_type": "code",
   "execution_count": null,
   "id": "065479d4",
   "metadata": {},
   "outputs": [],
   "source": []
  },
  {
   "cell_type": "code",
   "execution_count": null,
   "id": "df46ef6b",
   "metadata": {},
   "outputs": [],
   "source": []
  },
  {
   "cell_type": "code",
   "execution_count": null,
   "id": "93ab1d50",
   "metadata": {},
   "outputs": [],
   "source": []
  },
  {
   "cell_type": "code",
   "execution_count": null,
   "id": "4770dbc9",
   "metadata": {},
   "outputs": [],
   "source": []
  },
  {
   "cell_type": "code",
   "execution_count": null,
   "id": "f67c0dbe",
   "metadata": {},
   "outputs": [],
   "source": []
  },
  {
   "cell_type": "code",
   "execution_count": null,
   "id": "7f65b634",
   "metadata": {},
   "outputs": [],
   "source": []
  },
  {
   "cell_type": "code",
   "execution_count": null,
   "id": "5ab36451",
   "metadata": {},
   "outputs": [],
   "source": []
  },
  {
   "cell_type": "code",
   "execution_count": null,
   "id": "c084b31f",
   "metadata": {},
   "outputs": [],
   "source": []
  },
  {
   "cell_type": "code",
   "execution_count": null,
   "id": "038daaf5",
   "metadata": {},
   "outputs": [],
   "source": []
  },
  {
   "cell_type": "code",
   "execution_count": null,
   "id": "8af43846",
   "metadata": {},
   "outputs": [],
   "source": []
  },
  {
   "cell_type": "code",
   "execution_count": null,
   "id": "45dcaf30",
   "metadata": {},
   "outputs": [],
   "source": []
  },
  {
   "cell_type": "code",
   "execution_count": null,
   "id": "ed2626cb",
   "metadata": {},
   "outputs": [],
   "source": []
  },
  {
   "cell_type": "code",
   "execution_count": null,
   "id": "ab1bd205",
   "metadata": {},
   "outputs": [],
   "source": []
  },
  {
   "cell_type": "code",
   "execution_count": null,
   "id": "5e6ea1bc",
   "metadata": {},
   "outputs": [],
   "source": []
  },
  {
   "cell_type": "code",
   "execution_count": null,
   "id": "35f4036c",
   "metadata": {},
   "outputs": [],
   "source": []
  },
  {
   "cell_type": "code",
   "execution_count": null,
   "id": "b70b5e70",
   "metadata": {},
   "outputs": [],
   "source": []
  },
  {
   "cell_type": "code",
   "execution_count": null,
   "id": "4244d30e",
   "metadata": {},
   "outputs": [],
   "source": []
  },
  {
   "cell_type": "code",
   "execution_count": null,
   "id": "ad8898f6",
   "metadata": {},
   "outputs": [],
   "source": []
  },
  {
   "cell_type": "code",
   "execution_count": null,
   "id": "15e9d598",
   "metadata": {},
   "outputs": [],
   "source": []
  },
  {
   "cell_type": "code",
   "execution_count": null,
   "id": "bd8117a7",
   "metadata": {},
   "outputs": [],
   "source": []
  },
  {
   "cell_type": "code",
   "execution_count": null,
   "id": "2762ae2f",
   "metadata": {},
   "outputs": [],
   "source": []
  },
  {
   "cell_type": "code",
   "execution_count": null,
   "id": "0766d165",
   "metadata": {},
   "outputs": [],
   "source": []
  },
  {
   "cell_type": "code",
   "execution_count": null,
   "id": "a70ce940",
   "metadata": {},
   "outputs": [],
   "source": []
  }
 ],
 "metadata": {
  "kernelspec": {
   "display_name": "Python 3 (ipykernel)",
   "language": "python",
   "name": "python3"
  },
  "language_info": {
   "codemirror_mode": {
    "name": "ipython",
    "version": 3
   },
   "file_extension": ".py",
   "mimetype": "text/x-python",
   "name": "python",
   "nbconvert_exporter": "python",
   "pygments_lexer": "ipython3",
   "version": "3.9.12"
  }
 },
 "nbformat": 4,
 "nbformat_minor": 5
}
