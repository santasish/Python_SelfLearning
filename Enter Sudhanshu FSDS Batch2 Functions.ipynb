{
 "cells": [
  {
   "cell_type": "markdown",
   "id": "d0f3c414",
   "metadata": {},
   "source": [
    "## Functions\n",
    "1. Reuseablity of code\n",
    "2. Write once, use many timezzz"
   ]
  },
  {
   "cell_type": "code",
   "execution_count": 1,
   "id": "10d004ac",
   "metadata": {},
   "outputs": [
    {
     "data": {
      "text/plain": [
       "4"
      ]
     },
     "execution_count": 1,
     "metadata": {},
     "output_type": "execute_result"
    }
   ],
   "source": [
    "a = \"sudh\"\n",
    "len(a)             # len is an in-built function"
   ]
  },
  {
   "cell_type": "code",
   "execution_count": 2,
   "id": "b7cf6eb9",
   "metadata": {},
   "outputs": [
    {
     "data": {
      "text/plain": [
       "6"
      ]
     },
     "execution_count": 2,
     "metadata": {},
     "output_type": "execute_result"
    }
   ],
   "source": [
    "l = [2,3,4,5,\"sudh\",4.67]\n",
    "len(l)"
   ]
  },
  {
   "cell_type": "code",
   "execution_count": 3,
   "id": "e099d316",
   "metadata": {},
   "outputs": [],
   "source": [
    "def test():                    # Defining a FUNCTION WITH def keyword & name_of_function\n",
    "    pass                       # pass keyword to simply pass as of now...maybe comeback later!"
   ]
  },
  {
   "cell_type": "code",
   "execution_count": 4,
   "id": "8088d1bc",
   "metadata": {},
   "outputs": [],
   "source": [
    "def test1():\n",
    "    print(\"This is my first fuction in Python\")               #..defining a function"
   ]
  },
  {
   "cell_type": "code",
   "execution_count": 5,
   "id": "6d9af1ce",
   "metadata": {},
   "outputs": [
    {
     "name": "stdout",
     "output_type": "stream",
     "text": [
      "This is my first fuction in Python\n"
     ]
    }
   ],
   "source": [
    "test1()                         # Calling a function"
   ]
  },
  {
   "cell_type": "code",
   "execution_count": 6,
   "id": "90320076",
   "metadata": {},
   "outputs": [
    {
     "name": "stdout",
     "output_type": "stream",
     "text": [
      "This is my first fuction in Python\n"
     ]
    }
   ],
   "source": [
    "b = test1()"
   ]
  },
  {
   "cell_type": "code",
   "execution_count": 7,
   "id": "47a951d5",
   "metadata": {},
   "outputs": [
    {
     "name": "stdout",
     "output_type": "stream",
     "text": [
      "None\n"
     ]
    }
   ],
   "source": [
    "print(b)"
   ]
  },
  {
   "cell_type": "code",
   "execution_count": 8,
   "id": "6699357f",
   "metadata": {},
   "outputs": [
    {
     "data": {
      "text/plain": [
       "NoneType"
      ]
     },
     "execution_count": 8,
     "metadata": {},
     "output_type": "execute_result"
    }
   ],
   "source": [
    "# how to store outcome of the function in a variable??\n",
    "b\n",
    "type(b)                                   # What is NoneType?"
   ]
  },
  {
   "cell_type": "code",
   "execution_count": 9,
   "id": "7f9ec1c5",
   "metadata": {
    "scrolled": true
   },
   "outputs": [
    {
     "name": "stdout",
     "output_type": "stream",
     "text": [
      "This is my first fuction in Python\n"
     ]
    },
    {
     "data": {
      "text/plain": [
       "NoneType"
      ]
     },
     "execution_count": 9,
     "metadata": {},
     "output_type": "execute_result"
    }
   ],
   "source": [
    "type(test1())"
   ]
  },
  {
   "cell_type": "code",
   "execution_count": 10,
   "id": "9f6658f8",
   "metadata": {
    "scrolled": true
   },
   "outputs": [
    {
     "name": "stdout",
     "output_type": "stream",
     "text": [
      "hello\n"
     ]
    },
    {
     "data": {
      "text/plain": [
       "NoneType"
      ]
     },
     "execution_count": 10,
     "metadata": {},
     "output_type": "execute_result"
    }
   ],
   "source": [
    "type(print(\"hello\"))"
   ]
  },
  {
   "cell_type": "markdown",
   "id": "f02a8d3b",
   "metadata": {},
   "source": [
    "##### print always returns a NoneType: which cannot be stored in any variable"
   ]
  },
  {
   "cell_type": "code",
   "execution_count": 11,
   "id": "87a981b9",
   "metadata": {},
   "outputs": [],
   "source": [
    "def test2():\n",
    "    return 5"
   ]
  },
  {
   "cell_type": "code",
   "execution_count": 12,
   "id": "39ebe8ca",
   "metadata": {},
   "outputs": [
    {
     "data": {
      "text/plain": [
       "5"
      ]
     },
     "execution_count": 12,
     "metadata": {},
     "output_type": "execute_result"
    }
   ],
   "source": [
    "test2()"
   ]
  },
  {
   "cell_type": "code",
   "execution_count": 13,
   "id": "e5711e03",
   "metadata": {},
   "outputs": [
    {
     "data": {
      "text/plain": [
       "5"
      ]
     },
     "execution_count": 13,
     "metadata": {},
     "output_type": "execute_result"
    }
   ],
   "source": [
    "d = test2()\n",
    "d"
   ]
  },
  {
   "cell_type": "code",
   "execution_count": 14,
   "id": "fead0821",
   "metadata": {},
   "outputs": [],
   "source": [
    "#Example\n",
    "\n",
    "def test3():\n",
    "    return 5"
   ]
  },
  {
   "cell_type": "code",
   "execution_count": 15,
   "id": "c881fc71",
   "metadata": {},
   "outputs": [],
   "source": [
    "def test4():\n",
    "    print(\"Hello\")       # print returns a NoneType"
   ]
  },
  {
   "cell_type": "code",
   "execution_count": 16,
   "id": "dc6532da",
   "metadata": {},
   "outputs": [
    {
     "data": {
      "text/plain": [
       "5"
      ]
     },
     "execution_count": 16,
     "metadata": {},
     "output_type": "execute_result"
    }
   ],
   "source": [
    "test3()"
   ]
  },
  {
   "cell_type": "code",
   "execution_count": 17,
   "id": "b687edb1",
   "metadata": {},
   "outputs": [
    {
     "name": "stdout",
     "output_type": "stream",
     "text": [
      "Hello\n"
     ]
    }
   ],
   "source": [
    "test4()"
   ]
  },
  {
   "cell_type": "code",
   "execution_count": 18,
   "id": "c6e3fdfa",
   "metadata": {},
   "outputs": [
    {
     "data": {
      "text/plain": [
       "int"
      ]
     },
     "execution_count": 18,
     "metadata": {},
     "output_type": "execute_result"
    }
   ],
   "source": [
    "type(test3())"
   ]
  },
  {
   "cell_type": "code",
   "execution_count": 19,
   "id": "96370ff0",
   "metadata": {},
   "outputs": [
    {
     "name": "stdout",
     "output_type": "stream",
     "text": [
      "Hello\n"
     ]
    },
    {
     "data": {
      "text/plain": [
       "NoneType"
      ]
     },
     "execution_count": 19,
     "metadata": {},
     "output_type": "execute_result"
    }
   ],
   "source": [
    "type(test4())"
   ]
  },
  {
   "cell_type": "code",
   "execution_count": 20,
   "id": "96dd1a21",
   "metadata": {},
   "outputs": [],
   "source": [
    "# use return rather than print to perform primitive operations!"
   ]
  },
  {
   "cell_type": "code",
   "execution_count": 10,
   "id": "d00a7aba",
   "metadata": {},
   "outputs": [],
   "source": [
    "def test3():\n",
    "    return \"Hello\""
   ]
  },
  {
   "cell_type": "code",
   "execution_count": 11,
   "id": "928e6d7b",
   "metadata": {},
   "outputs": [
    {
     "data": {
      "text/plain": [
       "str"
      ]
     },
     "execution_count": 11,
     "metadata": {},
     "output_type": "execute_result"
    }
   ],
   "source": [
    "type(test3())"
   ]
  },
  {
   "cell_type": "code",
   "execution_count": 12,
   "id": "31c79ae2",
   "metadata": {},
   "outputs": [
    {
     "data": {
      "text/plain": [
       "'HelloWorld'"
      ]
     },
     "execution_count": 12,
     "metadata": {},
     "output_type": "execute_result"
    }
   ],
   "source": [
    "test3() +\"World\"      #_NoneType + str -------> ERROR! "
   ]
  },
  {
   "cell_type": "code",
   "execution_count": 15,
   "id": "9c4d1d13",
   "metadata": {},
   "outputs": [],
   "source": [
    "def test4():\n",
    "    print(\"This is my Print return\")"
   ]
  },
  {
   "cell_type": "code",
   "execution_count": 16,
   "id": "c2879dc2",
   "metadata": {},
   "outputs": [
    {
     "name": "stdout",
     "output_type": "stream",
     "text": [
      "This is my Print return\n"
     ]
    }
   ],
   "source": [
    "e=test4()"
   ]
  },
  {
   "cell_type": "code",
   "execution_count": 17,
   "id": "e667ed92",
   "metadata": {},
   "outputs": [
    {
     "data": {
      "text/plain": [
       "NoneType"
      ]
     },
     "execution_count": 17,
     "metadata": {},
     "output_type": "execute_result"
    }
   ],
   "source": [
    "type(e)"
   ]
  },
  {
   "cell_type": "code",
   "execution_count": 18,
   "id": "f2701493",
   "metadata": {},
   "outputs": [],
   "source": [
    "def test3():\n",
    "    return \"sudh\""
   ]
  },
  {
   "cell_type": "code",
   "execution_count": 19,
   "id": "82c20fc2",
   "metadata": {
    "scrolled": true
   },
   "outputs": [
    {
     "data": {
      "text/plain": [
       "str"
      ]
     },
     "execution_count": 19,
     "metadata": {},
     "output_type": "execute_result"
    }
   ],
   "source": [
    "type(test3())"
   ]
  },
  {
   "cell_type": "code",
   "execution_count": 20,
   "id": "5be987d5",
   "metadata": {},
   "outputs": [
    {
     "data": {
      "text/plain": [
       "str"
      ]
     },
     "execution_count": 20,
     "metadata": {},
     "output_type": "execute_result"
    }
   ],
   "source": [
    "a=test3()                                       # Assigning a function to a variable\n",
    "type(a)"
   ]
  },
  {
   "cell_type": "code",
   "execution_count": 21,
   "id": "0d03a8c8",
   "metadata": {},
   "outputs": [
    {
     "data": {
      "text/plain": [
       "'sudh kumar'"
      ]
     },
     "execution_count": 21,
     "metadata": {},
     "output_type": "execute_result"
    }
   ],
   "source": [
    "test3()+\" kumar\""
   ]
  },
  {
   "cell_type": "code",
   "execution_count": 22,
   "id": "e9f6fcd1",
   "metadata": {},
   "outputs": [
    {
     "data": {
      "text/plain": [
       "'sudh kumar'"
      ]
     },
     "execution_count": 22,
     "metadata": {},
     "output_type": "execute_result"
    }
   ],
   "source": [
    "a+ \" kumar\""
   ]
  },
  {
   "cell_type": "code",
   "execution_count": 23,
   "id": "56011d9e",
   "metadata": {},
   "outputs": [],
   "source": [
    "def test5():\n",
    "    return 1,3,[3,4,5,\"sudh\"],(3,4,5,6)        #_RETURNS A TUPLE when multiple datatypes are given"
   ]
  },
  {
   "cell_type": "code",
   "execution_count": 24,
   "id": "ce1cb312",
   "metadata": {},
   "outputs": [
    {
     "data": {
      "text/plain": [
       "(1, 3, [3, 4, 5, 'sudh'], (3, 4, 5, 6))"
      ]
     },
     "execution_count": 24,
     "metadata": {},
     "output_type": "execute_result"
    }
   ],
   "source": [
    "test5()"
   ]
  },
  {
   "cell_type": "code",
   "execution_count": 25,
   "id": "793d8580",
   "metadata": {},
   "outputs": [
    {
     "data": {
      "text/plain": [
       "tuple"
      ]
     },
     "execution_count": 25,
     "metadata": {},
     "output_type": "execute_result"
    }
   ],
   "source": [
    "type(test5())                             # returns in a tuple   # data integrity maybe..."
   ]
  },
  {
   "cell_type": "code",
   "execution_count": 26,
   "id": "ad39284d",
   "metadata": {},
   "outputs": [
    {
     "data": {
      "text/plain": [
       "3"
      ]
     },
     "execution_count": 26,
     "metadata": {},
     "output_type": "execute_result"
    }
   ],
   "source": [
    "test5()[1]                          #_Fetching elements in the tuple using indexing"
   ]
  },
  {
   "cell_type": "code",
   "execution_count": 27,
   "id": "e859ed9b",
   "metadata": {},
   "outputs": [
    {
     "data": {
      "text/plain": [
       "[3, 4, 5, 'sudh']"
      ]
     },
     "execution_count": 27,
     "metadata": {},
     "output_type": "execute_result"
    }
   ],
   "source": [
    "test5()[2]                          #_Fetching elements in the tuple using indexing"
   ]
  },
  {
   "cell_type": "code",
   "execution_count": 28,
   "id": "dc39e473",
   "metadata": {},
   "outputs": [],
   "source": [
    "#_Important_STUDY                       # MULTIPLE VARIABLE MAPPING\n",
    "\n",
    "def test6():\n",
    "    return 1,3,[3,4,5,\"sudh\"],(3,4,5,6)"
   ]
  },
  {
   "cell_type": "code",
   "execution_count": 29,
   "id": "c10fa732",
   "metadata": {},
   "outputs": [
    {
     "data": {
      "text/plain": [
       "(1, 3, [3, 4, 5, 'sudh'], (3, 4, 5, 6))"
      ]
     },
     "execution_count": 29,
     "metadata": {},
     "output_type": "execute_result"
    }
   ],
   "source": [
    "test6()                                   # Returns as tuples when multiple data types are present"
   ]
  },
  {
   "cell_type": "code",
   "execution_count": 30,
   "id": "eb508bb7",
   "metadata": {},
   "outputs": [],
   "source": [
    "a,b,c,d= test6()                          #_variable mapping in sequence (...mapped respectively!)"
   ]
  },
  {
   "cell_type": "code",
   "execution_count": 31,
   "id": "8c7640f3",
   "metadata": {},
   "outputs": [
    {
     "data": {
      "text/plain": [
       "1"
      ]
     },
     "execution_count": 31,
     "metadata": {},
     "output_type": "execute_result"
    }
   ],
   "source": [
    "a"
   ]
  },
  {
   "cell_type": "code",
   "execution_count": 32,
   "id": "d3f5c7ee",
   "metadata": {},
   "outputs": [
    {
     "data": {
      "text/plain": [
       "3"
      ]
     },
     "execution_count": 32,
     "metadata": {},
     "output_type": "execute_result"
    }
   ],
   "source": [
    "b"
   ]
  },
  {
   "cell_type": "code",
   "execution_count": 33,
   "id": "19de242a",
   "metadata": {},
   "outputs": [
    {
     "data": {
      "text/plain": [
       "[3, 4, 5, 'sudh']"
      ]
     },
     "execution_count": 33,
     "metadata": {},
     "output_type": "execute_result"
    }
   ],
   "source": [
    "c"
   ]
  },
  {
   "cell_type": "code",
   "execution_count": 34,
   "id": "97a1fa07",
   "metadata": {},
   "outputs": [
    {
     "data": {
      "text/plain": [
       "(3, 4, 5, 6)"
      ]
     },
     "execution_count": 34,
     "metadata": {},
     "output_type": "execute_result"
    }
   ],
   "source": [
    "d"
   ]
  },
  {
   "cell_type": "code",
   "execution_count": 4,
   "id": "d69849f4",
   "metadata": {},
   "outputs": [],
   "source": [
    "def test7():\n",
    "    a = 4*5+8\n",
    "    return a"
   ]
  },
  {
   "cell_type": "code",
   "execution_count": 5,
   "id": "39651a82",
   "metadata": {},
   "outputs": [
    {
     "data": {
      "text/plain": [
       "28"
      ]
     },
     "execution_count": 5,
     "metadata": {},
     "output_type": "execute_result"
    }
   ],
   "source": [
    "test7()"
   ]
  },
  {
   "cell_type": "code",
   "execution_count": 6,
   "id": "36813b96",
   "metadata": {},
   "outputs": [
    {
     "data": {
      "text/plain": [
       "int"
      ]
     },
     "execution_count": 6,
     "metadata": {},
     "output_type": "execute_result"
    }
   ],
   "source": [
    "type(test7())"
   ]
  },
  {
   "cell_type": "code",
   "execution_count": 30,
   "id": "c8ffc571",
   "metadata": {},
   "outputs": [],
   "source": [
    "#Problem_Data\n",
    "\n",
    "l=[2,3,4,5,6,7,8,9]"
   ]
  },
  {
   "cell_type": "code",
   "execution_count": 31,
   "id": "dc613f23",
   "metadata": {},
   "outputs": [],
   "source": [
    "#Problem: Summation of all elements in the list\n",
    "\n",
    "l=[2,3,4,5,6,7,8,9]\n",
    "\n",
    "def sum_total():\n",
    "    a=0\n",
    "    for i in range(len(l)):\n",
    "        a=a+l[i]\n",
    "    return a \n",
    "    \n"
   ]
  },
  {
   "cell_type": "code",
   "execution_count": 32,
   "id": "0bc2d7b7",
   "metadata": {},
   "outputs": [
    {
     "data": {
      "text/plain": [
       "44"
      ]
     },
     "execution_count": 32,
     "metadata": {},
     "output_type": "execute_result"
    }
   ],
   "source": [
    "sum_total()"
   ]
  },
  {
   "cell_type": "code",
   "execution_count": 15,
   "id": "fdb81336",
   "metadata": {},
   "outputs": [
    {
     "name": "stdout",
     "output_type": "stream",
     "text": [
      "44\n"
     ]
    }
   ],
   "source": [
    "#Same problem             \n",
    "\n",
    "a=0\n",
    "for i in l:\n",
    "    a=i+a\n",
    "print(a)"
   ]
  },
  {
   "cell_type": "code",
   "execution_count": null,
   "id": "89409569",
   "metadata": {},
   "outputs": [],
   "source": []
  },
  {
   "cell_type": "code",
   "execution_count": 34,
   "id": "796ef2f7",
   "metadata": {},
   "outputs": [],
   "source": [
    "def test9():\n",
    "    l = [2,3,4,5,6,7,8,9,\"sudh\"]\n",
    "    a = 0\n",
    "    for i in l:\n",
    "        if type(i) == int:\n",
    "            a = i + a\n",
    "    return a        "
   ]
  },
  {
   "cell_type": "code",
   "execution_count": 35,
   "id": "a0a47db4",
   "metadata": {},
   "outputs": [
    {
     "data": {
      "text/plain": [
       "44"
      ]
     },
     "execution_count": 35,
     "metadata": {},
     "output_type": "execute_result"
    }
   ],
   "source": [
    "test9()"
   ]
  },
  {
   "cell_type": "code",
   "execution_count": 36,
   "id": "922672b1",
   "metadata": {},
   "outputs": [],
   "source": [
    "l1 = [4,5,6,7,7,8,\"kumar\",4.56]            # argument"
   ]
  },
  {
   "cell_type": "code",
   "execution_count": 37,
   "id": "63d5cdc2",
   "metadata": {},
   "outputs": [],
   "source": [
    "def test10(argument):\n",
    "    \n",
    "    a = 0\n",
    "    for i in l:\n",
    "        if type(i) == int:\n",
    "            a = i + a\n",
    "    return a        "
   ]
  },
  {
   "cell_type": "code",
   "execution_count": 38,
   "id": "3f1a5f87",
   "metadata": {},
   "outputs": [
    {
     "data": {
      "text/plain": [
       "44"
      ]
     },
     "execution_count": 38,
     "metadata": {},
     "output_type": "execute_result"
    }
   ],
   "source": [
    "test10(l1)"
   ]
  },
  {
   "cell_type": "code",
   "execution_count": 39,
   "id": "af2f1064",
   "metadata": {},
   "outputs": [],
   "source": [
    "def test11(a,b):\n",
    "    \"\"\"Helps to add a and b\"\"\"          #_'doc string' to write/document about the function \n",
    "    return a+b"
   ]
  },
  {
   "cell_type": "code",
   "execution_count": 40,
   "id": "71af070a",
   "metadata": {},
   "outputs": [
    {
     "data": {
      "text/plain": [
       "5"
      ]
     },
     "execution_count": 40,
     "metadata": {},
     "output_type": "execute_result"
    }
   ],
   "source": [
    "test11(2,3)"
   ]
  },
  {
   "cell_type": "code",
   "execution_count": 41,
   "id": "f5b0d21f",
   "metadata": {},
   "outputs": [
    {
     "data": {
      "text/plain": [
       "'HelloWorld'"
      ]
     },
     "execution_count": 41,
     "metadata": {},
     "output_type": "execute_result"
    }
   ],
   "source": [
    "test11(\"Hello\",\"World\")"
   ]
  },
  {
   "cell_type": "code",
   "execution_count": 1,
   "id": "543733fd",
   "metadata": {},
   "outputs": [],
   "source": [
    "list1 =[3,4,5,6,7,8,\"sudh\",5,6,7,\"kumar\",\"inueron\"]"
   ]
  },
  {
   "cell_type": "code",
   "execution_count": 2,
   "id": "e60733bc",
   "metadata": {},
   "outputs": [],
   "source": [
    "def test12(list1):\n",
    "    l1 = list()\n",
    "    for i in list1 :\n",
    "        if type(i)==str:\n",
    "            l1.append(i)\n",
    "            print(l1)       # use RETURN in place of print & the problem reappears--> displays only the first string\n"
   ]
  },
  {
   "cell_type": "code",
   "execution_count": 73,
   "id": "d750419d",
   "metadata": {
    "scrolled": true
   },
   "outputs": [
    {
     "name": "stdout",
     "output_type": "stream",
     "text": [
      "['sudh']\n",
      "['sudh', 'kumar']\n",
      "['sudh', 'kumar', 'inueron']\n"
     ]
    }
   ],
   "source": [
    "test12(list1)             #_WHY IS IT ONLY GIVING THE FIRST STRING when RETURN is being used in place of print??"
   ]
  },
  {
   "cell_type": "code",
   "execution_count": 74,
   "id": "d298d51d",
   "metadata": {},
   "outputs": [
    {
     "name": "stdout",
     "output_type": "stream",
     "text": [
      "['sasn']\n",
      "['sasn', 'fdas']\n",
      "['sasn', 'fdas', 'fwecvfvf']\n"
     ]
    }
   ],
   "source": [
    "list2=[\"sasn\",\"fdas\",\"fwecvfvf\"]          \n",
    "\n",
    "test12(list2)"
   ]
  },
  {
   "cell_type": "code",
   "execution_count": 60,
   "id": "be040024",
   "metadata": {},
   "outputs": [
    {
     "data": {
      "text/plain": [
       "<function __main__.test11(a, b)>"
      ]
     },
     "execution_count": 60,
     "metadata": {},
     "output_type": "execute_result"
    }
   ],
   "source": [
    "test11             #...press shift+tab"
   ]
  },
  {
   "cell_type": "markdown",
   "id": "e02dde3d",
   "metadata": {},
   "source": [
    "#### Assignment:\n",
    "    1. write a function that finds out length of a string without using an in built len function\n",
    "    2. write a function which will be able to print the index of 'list' elements\n",
    "    3. write a function which will be able to print the ip address of your system\n",
    "    4. write a function which will shutdown your system\n",
    "    5. write a function which will take input as a list with any kind of numeric value and output is multiplication of the numeric data.\n",
    "       list = [3.5,6.56,4,5,\"sudh\",\"inueron\",\"fsds bootcamp 2.0\"]\n",
    "      \n",
    "    6. write a function which will be able to read all the mails\n",
    "    7. write a function which will send mail to anyone\n",
    "    8. write a function which will be able to read a doc/word file from your system\n",
    "    \n",
    "    mail: query@ineuron.ai"
   ]
  },
  {
   "cell_type": "markdown",
   "id": "d6e29979",
   "metadata": {},
   "source": [
    "### Functions : Class 2 [LIVE CLASS]"
   ]
  },
  {
   "cell_type": "code",
   "execution_count": 28,
   "id": "3e26dcd3",
   "metadata": {},
   "outputs": [],
   "source": [
    "#Solutions\n",
    "\n",
    "# 1. write a function that finds out length of a string without using an in built len function.\n",
    "\n",
    "\n",
    "def test01(l):\n",
    "    \"\"\"this is a function that helps to find the length of a string\"\"\"\n",
    "    count=0\n",
    "    for i in l:\n",
    "        #if type(i)==str:               #...commenting it out to use it in the 2nd problem...\n",
    "            count=count+1\n",
    "    return count\n",
    "        "
   ]
  },
  {
   "cell_type": "code",
   "execution_count": 29,
   "id": "ea4a90e4",
   "metadata": {},
   "outputs": [
    {
     "data": {
      "text/plain": [
       "5"
      ]
     },
     "execution_count": 29,
     "metadata": {},
     "output_type": "execute_result"
    }
   ],
   "source": [
    "test01(\"hello\")"
   ]
  },
  {
   "cell_type": "code",
   "execution_count": 30,
   "id": "367fb03a",
   "metadata": {},
   "outputs": [],
   "source": [
    "l= [1,2,3,4,\"sudh\",\"inueron\"]"
   ]
  },
  {
   "cell_type": "code",
   "execution_count": 31,
   "id": "6144387b",
   "metadata": {},
   "outputs": [],
   "source": [
    "# 2. write a function which will be able to print the index of 'list' elements.\n",
    "\n",
    "def test02(l):\n",
    "    \n",
    "    for i in range(0,len(l)):\n",
    "        print(l[i],\":\",i)\n",
    "        \n",
    "        \n"
   ]
  },
  {
   "cell_type": "code",
   "execution_count": 32,
   "id": "d311428d",
   "metadata": {
    "scrolled": true
   },
   "outputs": [
    {
     "name": "stdout",
     "output_type": "stream",
     "text": [
      "1 : 0\n",
      "2 : 1\n",
      "3 : 2\n",
      "4 : 3\n",
      "sudh : 4\n",
      "inueron : 5\n"
     ]
    }
   ],
   "source": [
    "test02(l)"
   ]
  },
  {
   "cell_type": "code",
   "execution_count": 33,
   "id": "a7ea8c1c",
   "metadata": {},
   "outputs": [],
   "source": [
    "l= [1,2,3,4,\"sudh\",\"inueron\"]"
   ]
  },
  {
   "cell_type": "code",
   "execution_count": 34,
   "id": "c9d9e0c1",
   "metadata": {},
   "outputs": [],
   "source": [
    "#_Using my own function:\n",
    "\n",
    "def test02(l):\n",
    "    \n",
    "    for i in range(0,test01(l)):\n",
    "        print(l[i],\":\",i)"
   ]
  },
  {
   "cell_type": "code",
   "execution_count": 35,
   "id": "c090b68b",
   "metadata": {},
   "outputs": [
    {
     "name": "stdout",
     "output_type": "stream",
     "text": [
      "1 : 0\n",
      "2 : 1\n",
      "3 : 2\n",
      "4 : 3\n",
      "sudh : 4\n",
      "inueron : 5\n"
     ]
    }
   ],
   "source": [
    "test02(l)"
   ]
  },
  {
   "cell_type": "code",
   "execution_count": 37,
   "id": "3247e9c3",
   "metadata": {},
   "outputs": [
    {
     "data": {
      "text/plain": [
       "'------- To find IP Address, open cmd and type \"ipconfig\"----------'"
      ]
     },
     "execution_count": 37,
     "metadata": {},
     "output_type": "execute_result"
    }
   ],
   "source": [
    "# 3. write a function which will be able to print the ip address of your system.\n",
    "\n",
    "\"\"\"------- To find IP Address, open cmd and type \"ipconfig\"----------\"\"\"\n",
    "\n",
    "# ----------'socket' library in Python ------------------>>>\n"
   ]
  },
  {
   "cell_type": "code",
   "execution_count": 39,
   "id": "59a980c2",
   "metadata": {},
   "outputs": [
    {
     "data": {
      "text/plain": [
       "'192.168.1.6'"
      ]
     },
     "execution_count": 39,
     "metadata": {},
     "output_type": "execute_result"
    }
   ],
   "source": [
    "import socket\n",
    "\n",
    "socket.gethostbyname(socket.gethostname())\n"
   ]
  },
  {
   "cell_type": "code",
   "execution_count": 42,
   "id": "f2f76e51",
   "metadata": {},
   "outputs": [],
   "source": [
    "# Creating a function.... \n",
    "\n",
    "import socket\n",
    "\n",
    "def test03():\n",
    "    ip= socket.gethostbyname(socket.gethostname())\n",
    "    return ip"
   ]
  },
  {
   "cell_type": "code",
   "execution_count": 43,
   "id": "244fb190",
   "metadata": {},
   "outputs": [
    {
     "data": {
      "text/plain": [
       "'192.168.1.6'"
      ]
     },
     "execution_count": 43,
     "metadata": {},
     "output_type": "execute_result"
    }
   ],
   "source": [
    "test03()"
   ]
  },
  {
   "cell_type": "code",
   "execution_count": null,
   "id": "8fa66e01",
   "metadata": {},
   "outputs": [],
   "source": [
    "# 4. write a function which will shutdown your system. [SHANGHATIK!]\n",
    "\n",
    "import os\n",
    "\n",
    "os.system(\"shutdown /s /t 4\")\n",
    "\n",
    "# /s -- shut down\n",
    "# /r -- restart\n",
    "# /t -- timer"
   ]
  },
  {
   "cell_type": "code",
   "execution_count": null,
   "id": "e5945809",
   "metadata": {},
   "outputs": [],
   "source": []
  },
  {
   "cell_type": "code",
   "execution_count": 2,
   "id": "730a1d72",
   "metadata": {},
   "outputs": [],
   "source": [
    "# 5. write a function which will take input as a list with any kind of numeric value and output is multiplication of the numeric data.\n",
    " #   list = [3.5,6.56,4,5,\"sudh\",\"inueron\",\"fsds bootcamp 2.0\"]"
   ]
  },
  {
   "cell_type": "code",
   "execution_count": 5,
   "id": "2c168db7",
   "metadata": {},
   "outputs": [],
   "source": [
    "#MySoln:\n",
    "    \n",
    "l= [3.5,6.56,4,5,\"sudh\",\"inueron\",\"fsds bootcamp 2.0\"]  \n",
    " \n",
    "new_list=list()   \n",
    "def mul_(l):    \n",
    "    for i in l:\n",
    "        if type(i)==int or type(i)==float:\n",
    "            new_list.append(i)\n",
    "    result=1\n",
    "    for i in new_list:\n",
    "        result=result*i\n",
    "        \n",
    "    return result\n",
    "        "
   ]
  },
  {
   "cell_type": "code",
   "execution_count": 6,
   "id": "be2068d2",
   "metadata": {},
   "outputs": [
    {
     "data": {
      "text/plain": [
       "459.19999999999993"
      ]
     },
     "execution_count": 6,
     "metadata": {},
     "output_type": "execute_result"
    }
   ],
   "source": [
    "mul_(l)"
   ]
  },
  {
   "cell_type": "code",
   "execution_count": 10,
   "id": "9ad82880",
   "metadata": {},
   "outputs": [],
   "source": [
    "l= [3.5,6.56,4,5,\"sudh\",\"inueron\",\"fsds bootcamp 2.0\"] "
   ]
  },
  {
   "cell_type": "code",
   "execution_count": 15,
   "id": "647c8fc8",
   "metadata": {},
   "outputs": [],
   "source": [
    "#_Same Solution\n",
    "\n",
    "def test3(l):\n",
    "    mul = 1\n",
    "    for i in l:\n",
    "        if type(i)==int or type(i)==float:\n",
    "            mul = mul*i\n",
    "    return mul"
   ]
  },
  {
   "cell_type": "code",
   "execution_count": 16,
   "id": "913cd1ae",
   "metadata": {},
   "outputs": [
    {
     "data": {
      "text/plain": [
       "459.19999999999993"
      ]
     },
     "execution_count": 16,
     "metadata": {},
     "output_type": "execute_result"
    }
   ],
   "source": [
    "test3(l)"
   ]
  },
  {
   "cell_type": "code",
   "execution_count": null,
   "id": "e922a633",
   "metadata": {},
   "outputs": [],
   "source": [
    "# 6. write a function which will be able to read all the mails"
   ]
  },
  {
   "cell_type": "code",
   "execution_count": 18,
   "id": "f05d9f0f",
   "metadata": {},
   "outputs": [],
   "source": [
    "# 7. write a function which will send mail to anyone.\n",
    "\n",
    "import smtplib,ssl        #_SMTP--> Simple Mail Tranfer Protocol  #_SSL: Secure Sockets Layer\n"
   ]
  },
  {
   "cell_type": "code",
   "execution_count": null,
   "id": "59b4f54c",
   "metadata": {},
   "outputs": [],
   "source": []
  },
  {
   "cell_type": "markdown",
   "id": "7d079876",
   "metadata": {},
   "source": [
    "### SUDHANSHU LIVE CLASS: FUNCTIONS 3rd Class"
   ]
  },
  {
   "cell_type": "code",
   "execution_count": 1,
   "id": "b407e515",
   "metadata": {},
   "outputs": [],
   "source": [
    "def test():\n",
    "    a=5+6\n",
    "    return a"
   ]
  },
  {
   "cell_type": "code",
   "execution_count": 2,
   "id": "6aeea0c4",
   "metadata": {},
   "outputs": [
    {
     "data": {
      "text/plain": [
       "11"
      ]
     },
     "execution_count": 2,
     "metadata": {},
     "output_type": "execute_result"
    }
   ],
   "source": [
    "test()"
   ]
  },
  {
   "cell_type": "code",
   "execution_count": 3,
   "id": "a35c7d29",
   "metadata": {},
   "outputs": [],
   "source": [
    "def test2(a,b):\n",
    "    return a+b"
   ]
  },
  {
   "cell_type": "code",
   "execution_count": 4,
   "id": "35465631",
   "metadata": {},
   "outputs": [
    {
     "data": {
      "text/plain": [
       "15"
      ]
     },
     "execution_count": 4,
     "metadata": {},
     "output_type": "execute_result"
    }
   ],
   "source": [
    "test2(10,5)"
   ]
  },
  {
   "cell_type": "code",
   "execution_count": 5,
   "id": "f5f53755",
   "metadata": {},
   "outputs": [
    {
     "data": {
      "text/plain": [
       "3"
      ]
     },
     "execution_count": 5,
     "metadata": {},
     "output_type": "execute_result"
    }
   ],
   "source": [
    "test2(1,2)                     # Reusability of function"
   ]
  },
  {
   "cell_type": "code",
   "execution_count": 6,
   "id": "59be2162",
   "metadata": {},
   "outputs": [
    {
     "data": {
      "text/plain": [
       "'sudh kumar'"
      ]
     },
     "execution_count": 6,
     "metadata": {},
     "output_type": "execute_result"
    }
   ],
   "source": [
    "test2(\"sudh\",\" kumar\")         # also does string concatenation"
   ]
  },
  {
   "cell_type": "code",
   "execution_count": 7,
   "id": "1869a9b5",
   "metadata": {},
   "outputs": [
    {
     "data": {
      "text/plain": [
       "'cdwqacwdc'"
      ]
     },
     "execution_count": 7,
     "metadata": {},
     "output_type": "execute_result"
    }
   ],
   "source": [
    "test2(b=\"wdc\",a=\"cdwqac\")"
   ]
  },
  {
   "cell_type": "code",
   "execution_count": null,
   "id": "4b62e969",
   "metadata": {},
   "outputs": [],
   "source": [
    "\n"
   ]
  },
  {
   "cell_type": "code",
   "execution_count": null,
   "id": "ce8b56ed",
   "metadata": {},
   "outputs": [],
   "source": []
  },
  {
   "cell_type": "code",
   "execution_count": 8,
   "id": "2c7c5038",
   "metadata": {},
   "outputs": [],
   "source": [
    "#_Simple_Explanation\n",
    "\n",
    "def test3(*args):\n",
    "    return args"
   ]
  },
  {
   "cell_type": "code",
   "execution_count": 9,
   "id": "cf382910",
   "metadata": {},
   "outputs": [
    {
     "data": {
      "text/plain": [
       "(1, 2, 3, 4, 'sudh')"
      ]
     },
     "execution_count": 9,
     "metadata": {},
     "output_type": "execute_result"
    }
   ],
   "source": [
    "test3(1,2,3,4,\"sudh\")        # output comes naturally inside a tuple\n",
    "                             # data type of args is tuple"
   ]
  },
  {
   "cell_type": "code",
   "execution_count": 11,
   "id": "0487ee94",
   "metadata": {},
   "outputs": [
    {
     "data": {
      "text/plain": [
       "tuple"
      ]
     },
     "execution_count": 11,
     "metadata": {},
     "output_type": "execute_result"
    }
   ],
   "source": [
    "type(test3(1,2,3,4,\"sudh\"))   # arguments in args is stored in tuples"
   ]
  },
  {
   "cell_type": "code",
   "execution_count": 12,
   "id": "7d66b91b",
   "metadata": {},
   "outputs": [],
   "source": [
    "# When number of data inputs in a function can vary.... (multiple inputs)\n",
    "\n",
    "# Problem: Create a function to take any number of inputs and output should be in a list.\n",
    "\n",
    "def test1(*args):                  # * --> any number of inputs\n",
    "    return list(args)              # simply typecasting tuple into list"
   ]
  },
  {
   "cell_type": "code",
   "execution_count": 15,
   "id": "a5ca279d",
   "metadata": {},
   "outputs": [
    {
     "data": {
      "text/plain": [
       "[1, 2, 3, 0.5, 67, 'you', 'new_enitity', 88]"
      ]
     },
     "execution_count": 15,
     "metadata": {},
     "output_type": "execute_result"
    }
   ],
   "source": [
    "test1(1,2,3,0.5,67,\"you\",\"new_enitity\",88)"
   ]
  },
  {
   "cell_type": "code",
   "execution_count": 16,
   "id": "070b9966",
   "metadata": {},
   "outputs": [
    {
     "data": {
      "text/plain": [
       "['sudh', True, (8+7j), 34, 34.67]"
      ]
     },
     "execution_count": 16,
     "metadata": {},
     "output_type": "execute_result"
    }
   ],
   "source": [
    "test1(\"sudh\", True, 8+7j,34,34.67)"
   ]
  },
  {
   "cell_type": "code",
   "execution_count": 19,
   "id": "cd638fee",
   "metadata": {},
   "outputs": [],
   "source": [
    "#_SAME PROBLEM_ DIFF SOLn\n",
    "\n",
    "def test5(*args):\n",
    "    l= list()             # creating a new list\n",
    "    for i in args:        # iterating over 'args' tuple\n",
    "        l.append(i)       # appending to the new list\n",
    "    return l              # returning the new list"
   ]
  },
  {
   "cell_type": "code",
   "execution_count": 20,
   "id": "9343dc48",
   "metadata": {},
   "outputs": [
    {
     "data": {
      "text/plain": [
       "[1, 2, 3, 56.78, 'sudh', True, 3.14]"
      ]
     },
     "execution_count": 20,
     "metadata": {},
     "output_type": "execute_result"
    }
   ],
   "source": [
    "test5(1,2,3,56.78,\"sudh\", True, 3.14)"
   ]
  },
  {
   "cell_type": "code",
   "execution_count": 21,
   "id": "518c823a",
   "metadata": {},
   "outputs": [],
   "source": [
    "#  \"*\" ---> means multiple arguments can be taken in!     \"*\" ---> is Important NOT args!!\n",
    "\n",
    "def test6(*sudh):        # args is not a reserved keyword, it is just a standard notation(convention)!\n",
    "    return list(sudh)\n",
    "    "
   ]
  },
  {
   "cell_type": "code",
   "execution_count": 22,
   "id": "65e4605b",
   "metadata": {},
   "outputs": [
    {
     "data": {
      "text/plain": [
       "[1, 2, 3.14, 'sudh']"
      ]
     },
     "execution_count": 22,
     "metadata": {},
     "output_type": "execute_result"
    }
   ],
   "source": [
    "test6(1,2,3.14,\"sudh\")"
   ]
  },
  {
   "cell_type": "markdown",
   "id": "263d0eef",
   "metadata": {},
   "source": [
    "## DICTIONARY\n",
    "1. holds data in {key:value} pairs\n",
    "2. Value can be duplicate but not the key"
   ]
  },
  {
   "cell_type": "code",
   "execution_count": 25,
   "id": "6b57575c",
   "metadata": {},
   "outputs": [],
   "source": [
    "# Previous data collections studied:\n",
    "\n",
    "l=[1,2,3,4]                 # list\n",
    "t=(4,5,6,7)                 # tuple\n",
    "s={4,3,7,2,2,2,6,6,7}       # set"
   ]
  },
  {
   "cell_type": "code",
   "execution_count": 26,
   "id": "9b160d60",
   "metadata": {},
   "outputs": [
    {
     "data": {
      "text/plain": [
       "{2, 3, 4, 6, 7}"
      ]
     },
     "execution_count": 26,
     "metadata": {},
     "output_type": "execute_result"
    }
   ],
   "source": [
    "s                          # set always holds unique elements"
   ]
  },
  {
   "cell_type": "code",
   "execution_count": 27,
   "id": "03e7a7ad",
   "metadata": {},
   "outputs": [],
   "source": [
    "d={}"
   ]
  },
  {
   "cell_type": "code",
   "execution_count": 28,
   "id": "4cec1838",
   "metadata": {},
   "outputs": [
    {
     "data": {
      "text/plain": [
       "dict"
      ]
     },
     "execution_count": 28,
     "metadata": {},
     "output_type": "execute_result"
    }
   ],
   "source": [
    "type(d)"
   ]
  },
  {
   "cell_type": "code",
   "execution_count": 29,
   "id": "e6b32d8e",
   "metadata": {},
   "outputs": [],
   "source": [
    "d1={1,2,3,4,5}"
   ]
  },
  {
   "cell_type": "code",
   "execution_count": 30,
   "id": "36900670",
   "metadata": {},
   "outputs": [
    {
     "data": {
      "text/plain": [
       "set"
      ]
     },
     "execution_count": 30,
     "metadata": {},
     "output_type": "execute_result"
    }
   ],
   "source": [
    "type(d1)"
   ]
  },
  {
   "cell_type": "code",
   "execution_count": 31,
   "id": "f549a0ff",
   "metadata": {},
   "outputs": [],
   "source": [
    "d2={\"key1\": \"sudh\",\"key2\": [1,2,3,4,5]}            #_holding data in a dictionary"
   ]
  },
  {
   "cell_type": "code",
   "execution_count": 33,
   "id": "57f86599",
   "metadata": {},
   "outputs": [
    {
     "data": {
      "text/plain": [
       "{'key1': 'sudh', 'key2': [1, 2, 3, 4, 5]}"
      ]
     },
     "execution_count": 33,
     "metadata": {},
     "output_type": "execute_result"
    }
   ],
   "source": [
    "d2                        #_key works like index, value is the value in the index poisition (key)"
   ]
  },
  {
   "cell_type": "code",
   "execution_count": 34,
   "id": "4d9b9034",
   "metadata": {},
   "outputs": [],
   "source": [
    "d3={234234:\"sudh\"}          # key can be integers but not special case characters...like $,#,@ etc"
   ]
  },
  {
   "cell_type": "code",
   "execution_count": 35,
   "id": "ada2f7c1",
   "metadata": {},
   "outputs": [
    {
     "data": {
      "text/plain": [
       "{234234: 'sudh'}"
      ]
     },
     "execution_count": 35,
     "metadata": {},
     "output_type": "execute_result"
    }
   ],
   "source": [
    "d3"
   ]
  },
  {
   "cell_type": "code",
   "execution_count": 36,
   "id": "7038e009",
   "metadata": {},
   "outputs": [
    {
     "ename": "TypeError",
     "evalue": "unhashable type: 'list'",
     "output_type": "error",
     "traceback": [
      "\u001b[1;31m---------------------------------------------------------------------------\u001b[0m",
      "\u001b[1;31mTypeError\u001b[0m                                 Traceback (most recent call last)",
      "Input \u001b[1;32mIn [36]\u001b[0m, in \u001b[0;36m<cell line: 1>\u001b[1;34m()\u001b[0m\n\u001b[1;32m----> 1\u001b[0m d4\u001b[38;5;241m=\u001b[39m{[\u001b[38;5;241m1\u001b[39m,\u001b[38;5;241m2\u001b[39m,\u001b[38;5;241m3\u001b[39m,\u001b[38;5;241m4\u001b[39m]:\u001b[38;5;241m123\u001b[39m}\n",
      "\u001b[1;31mTypeError\u001b[0m: unhashable type: 'list'"
     ]
    }
   ],
   "source": [
    "d4={[1,2,3,4]:123}       # key cannot be a list!"
   ]
  },
  {
   "cell_type": "code",
   "execution_count": 37,
   "id": "5ee0a37f",
   "metadata": {},
   "outputs": [],
   "source": [
    "d5={(2,3,4):123}      # key can be a tuple but NOT a List. Tuples are immutable!"
   ]
  },
  {
   "cell_type": "code",
   "execution_count": 38,
   "id": "11c38b66",
   "metadata": {},
   "outputs": [
    {
     "data": {
      "text/plain": [
       "{(2, 3, 4): 123}"
      ]
     },
     "execution_count": 38,
     "metadata": {},
     "output_type": "execute_result"
    }
   ],
   "source": [
    "d5"
   ]
  },
  {
   "cell_type": "code",
   "execution_count": 39,
   "id": "226ec368",
   "metadata": {},
   "outputs": [],
   "source": [
    "d6={\"name\":\"sudhanshu\",\"organization\":\"inueron\",\"email\":\"sudh@inueron.ai\",\"name\":\"sudh\"}"
   ]
  },
  {
   "cell_type": "code",
   "execution_count": 40,
   "id": "98310297",
   "metadata": {},
   "outputs": [
    {
     "data": {
      "text/plain": [
       "{'name': 'sudh', 'organization': 'inueron', 'email': 'sudh@inueron.ai'}"
      ]
     },
     "execution_count": 40,
     "metadata": {},
     "output_type": "execute_result"
    }
   ],
   "source": [
    "d6    # name being the same key(duplicate), the value updates for the latest value of the key!\n",
    "\n",
    "#But, remember Python is case sensitive! Hence take care!!"
   ]
  },
  {
   "cell_type": "code",
   "execution_count": 42,
   "id": "9846ad89",
   "metadata": {},
   "outputs": [],
   "source": [
    "#_Dictionary inside Dictionary\n",
    "\n",
    "d8 = {\"name\":\"sudh\",\"mentor\":{\"fsds\":\"imran\",\"fsda\":\"anand\",\"bigdata\":\"shashank\"}}"
   ]
  },
  {
   "cell_type": "code",
   "execution_count": 43,
   "id": "81ef4c6c",
   "metadata": {},
   "outputs": [
    {
     "data": {
      "text/plain": [
       "{'name': 'sudh',\n",
       " 'mentor': {'fsds': 'imran', 'fsda': 'anand', 'bigdata': 'shashank'}}"
      ]
     },
     "execution_count": 43,
     "metadata": {},
     "output_type": "execute_result"
    }
   ],
   "source": [
    "d8"
   ]
  },
  {
   "cell_type": "code",
   "execution_count": 44,
   "id": "274c9560",
   "metadata": {},
   "outputs": [
    {
     "data": {
      "text/plain": [
       "{'name': 'sudh', 'organization': 'inueron', 'email': 'sudh@inueron.ai'}"
      ]
     },
     "execution_count": 44,
     "metadata": {},
     "output_type": "execute_result"
    }
   ],
   "source": [
    "d6"
   ]
  },
  {
   "cell_type": "code",
   "execution_count": 45,
   "id": "655667a5",
   "metadata": {},
   "outputs": [
    {
     "data": {
      "text/plain": [
       "'sudh@inueron.ai'"
      ]
     },
     "execution_count": 45,
     "metadata": {},
     "output_type": "execute_result"
    }
   ],
   "source": [
    "d6[\"email\"]       # Data Extraction is same like using indexing! Call the key_name!"
   ]
  },
  {
   "cell_type": "code",
   "execution_count": 49,
   "id": "c5bf5d0c",
   "metadata": {},
   "outputs": [
    {
     "data": {
      "text/plain": [
       "'shashank'"
      ]
     },
     "execution_count": 49,
     "metadata": {},
     "output_type": "execute_result"
    }
   ],
   "source": [
    "d8[\"mentor\"][\"bigdata\"]           # data extraction from dictionary within a dictionary."
   ]
  },
  {
   "cell_type": "code",
   "execution_count": 50,
   "id": "62c419be",
   "metadata": {},
   "outputs": [
    {
     "data": {
      "text/plain": [
       "dict_keys(['name', 'organization', 'email'])"
      ]
     },
     "execution_count": 50,
     "metadata": {},
     "output_type": "execute_result"
    }
   ],
   "source": [
    "d6.keys()                    # after . press tab to get the list of in-built functions..."
   ]
  },
  {
   "cell_type": "code",
   "execution_count": 52,
   "id": "8cd3ab03",
   "metadata": {},
   "outputs": [
    {
     "data": {
      "text/plain": [
       "['sudh', 'inueron', 'sudh@inueron.ai']"
      ]
     },
     "execution_count": 52,
     "metadata": {},
     "output_type": "execute_result"
    }
   ],
   "source": [
    "list(d6.values())                   # returns all the values in a list when we do type conversion"
   ]
  },
  {
   "cell_type": "code",
   "execution_count": 55,
   "id": "310ab049",
   "metadata": {},
   "outputs": [
    {
     "data": {
      "text/plain": [
       "[('name', 'sudh'), ('organization', 'inueron'), ('email', 'sudh@inueron.ai')]"
      ]
     },
     "execution_count": 55,
     "metadata": {},
     "output_type": "execute_result"
    }
   ],
   "source": [
    "list(d6.items())        # output comes as a list but the key:value pairs are put in a tuple!"
   ]
  },
  {
   "cell_type": "code",
   "execution_count": 56,
   "id": "fd404d71",
   "metadata": {},
   "outputs": [
    {
     "data": {
      "text/plain": [
       "{'name': 'sudh',\n",
       " 'mentor': {'fsds': 'imran', 'fsda': 'anand', 'bigdata': 'shashank'}}"
      ]
     },
     "execution_count": 56,
     "metadata": {},
     "output_type": "execute_result"
    }
   ],
   "source": [
    "# EXTRACT THE VALUES OF THE DICT WITHIN A DICT\n",
    "\n",
    "d8"
   ]
  },
  {
   "cell_type": "code",
   "execution_count": 58,
   "id": "7a94cf67",
   "metadata": {},
   "outputs": [
    {
     "data": {
      "text/plain": [
       "['imran', 'anand', 'shashank']"
      ]
     },
     "execution_count": 58,
     "metadata": {},
     "output_type": "execute_result"
    }
   ],
   "source": [
    "list(d8[\"mentor\"].values())"
   ]
  },
  {
   "cell_type": "code",
   "execution_count": 59,
   "id": "cd35e631",
   "metadata": {},
   "outputs": [],
   "source": [
    "l1=list()\n",
    "for i in d8.keys():\n",
    "    if type(d8[i])==dict:\n",
    "        l1.append(list(d8[i].values()))\n",
    "        "
   ]
  },
  {
   "cell_type": "code",
   "execution_count": 60,
   "id": "9dcd6659",
   "metadata": {},
   "outputs": [
    {
     "data": {
      "text/plain": [
       "[['imran', 'anand', 'shashank']]"
      ]
     },
     "execution_count": 60,
     "metadata": {},
     "output_type": "execute_result"
    }
   ],
   "source": [
    "l1"
   ]
  },
  {
   "cell_type": "code",
   "execution_count": 62,
   "id": "8f60b689",
   "metadata": {},
   "outputs": [],
   "source": [
    "D9={\"name\":\"sudh\",\"mentor\":{\"fsds\":\"imran\",\"fsda\":\"anand\",\"bigdata\":\"shashank\"},\"mailid\":{\"imran\":\"imran@inueron.ai\",\"anand\":\"anand.inueron.ai\",\"shashank\":\"shashank.inueron.ai\"}}"
   ]
  },
  {
   "cell_type": "code",
   "execution_count": 63,
   "id": "a5c0d41f",
   "metadata": {},
   "outputs": [
    {
     "data": {
      "text/plain": [
       "{'name': 'sudh',\n",
       " 'mentor': {'fsds': 'imran', 'fsda': 'anand', 'bigdata': 'shashank'},\n",
       " 'mailid': {'imran': 'imran@inueron.ai',\n",
       "  'anand': 'anand.inueron.ai',\n",
       "  'shashank': 'shashank.inueron.ai'}}"
      ]
     },
     "execution_count": 63,
     "metadata": {},
     "output_type": "execute_result"
    }
   ],
   "source": [
    "D9"
   ]
  },
  {
   "cell_type": "code",
   "execution_count": 66,
   "id": "24eb923c",
   "metadata": {},
   "outputs": [],
   "source": [
    "#Problem: For every value that is available as a dictionary, extract all the values in a list.\n",
    "\n",
    "l2=list()\n",
    "\n",
    "for i in D9.keys():\n",
    "    if type(D9[i])==dict:\n",
    "        l2.append((list(D9[i].values())))"
   ]
  },
  {
   "cell_type": "code",
   "execution_count": 67,
   "id": "9cada141",
   "metadata": {},
   "outputs": [
    {
     "data": {
      "text/plain": [
       "[['imran', 'anand', 'shashank'],\n",
       " ['imran@inueron.ai', 'anand.inueron.ai', 'shashank.inueron.ai']]"
      ]
     },
     "execution_count": 67,
     "metadata": {},
     "output_type": "execute_result"
    }
   ],
   "source": [
    "l2                        # returns the list of dictionary values"
   ]
  },
  {
   "cell_type": "code",
   "execution_count": 68,
   "id": "fe50438b",
   "metadata": {},
   "outputs": [],
   "source": [
    "# How to convert this as a function??\n",
    "\n",
    "def test9(d):\n",
    "    l=list()\n",
    "\n",
    "    for i in d.keys():\n",
    "        if type(d[i])==dict:\n",
    "            l.append((list(d[i].values())))\n",
    "    \n",
    "    return l\n",
    "    "
   ]
  },
  {
   "cell_type": "code",
   "execution_count": 69,
   "id": "ba12eeda",
   "metadata": {},
   "outputs": [
    {
     "data": {
      "text/plain": [
       "[['imran', 'anand', 'shashank'],\n",
       " ['imran@inueron.ai', 'anand.inueron.ai', 'shashank.inueron.ai']]"
      ]
     },
     "execution_count": 69,
     "metadata": {},
     "output_type": "execute_result"
    }
   ],
   "source": [
    "test9(D9)                                 #...calling the function and passing dict as a parameter"
   ]
  },
  {
   "cell_type": "code",
   "execution_count": 70,
   "id": "09623223",
   "metadata": {},
   "outputs": [
    {
     "data": {
      "text/plain": [
       "[['imran', 'anand', 'shashank']]"
      ]
     },
     "execution_count": 70,
     "metadata": {},
     "output_type": "execute_result"
    }
   ],
   "source": [
    "test9(d8)"
   ]
  },
  {
   "cell_type": "code",
   "execution_count": 72,
   "id": "2980e409",
   "metadata": {},
   "outputs": [
    {
     "data": {
      "text/plain": [
       "{'name': 'sudh',\n",
       " 'mentor': {'fsds': 'imran', 'fsda': 'anand', 'bigdata': 'shashank'},\n",
       " 'mailid': {'imran': 'imran@inueron.ai',\n",
       "  'anand': 'anand.inueron.ai',\n",
       "  'shashank': 'shashank.inueron.ai'}}"
      ]
     },
     "execution_count": 72,
     "metadata": {},
     "output_type": "execute_result"
    }
   ],
   "source": [
    "# How to create a new key:value pair inside D9???\n",
    "\n",
    "D9"
   ]
  },
  {
   "cell_type": "code",
   "execution_count": 74,
   "id": "5d9b2eb9",
   "metadata": {},
   "outputs": [],
   "source": [
    "D9[\"mobile\"]=(2424,34452,4365576)"
   ]
  },
  {
   "cell_type": "code",
   "execution_count": 75,
   "id": "5cefc993",
   "metadata": {},
   "outputs": [
    {
     "data": {
      "text/plain": [
       "{'name': 'sudh',\n",
       " 'mentor': {'fsds': 'imran', 'fsda': 'anand', 'bigdata': 'shashank'},\n",
       " 'mailid': {'imran': 'imran@inueron.ai',\n",
       "  'anand': 'anand.inueron.ai',\n",
       "  'shashank': 'shashank.inueron.ai'},\n",
       " 'mobile': (2424, 34452, 4365576)}"
      ]
     },
     "execution_count": 75,
     "metadata": {},
     "output_type": "execute_result"
    }
   ],
   "source": [
    "D9"
   ]
  },
  {
   "cell_type": "code",
   "execution_count": 76,
   "id": "66c5d63b",
   "metadata": {},
   "outputs": [],
   "source": [
    "D9[\"name\"]=\"sudhanshu kumar\"          # name getting updated..."
   ]
  },
  {
   "cell_type": "code",
   "execution_count": 77,
   "id": "6c720127",
   "metadata": {},
   "outputs": [
    {
     "data": {
      "text/plain": [
       "{'name': 'sudhanshu kumar',\n",
       " 'mentor': {'fsds': 'imran', 'fsda': 'anand', 'bigdata': 'shashank'},\n",
       " 'mailid': {'imran': 'imran@inueron.ai',\n",
       "  'anand': 'anand.inueron.ai',\n",
       "  'shashank': 'shashank.inueron.ai'},\n",
       " 'mobile': (2424, 34452, 4365576)}"
      ]
     },
     "execution_count": 77,
     "metadata": {},
     "output_type": "execute_result"
    }
   ],
   "source": [
    "D9"
   ]
  },
  {
   "cell_type": "code",
   "execution_count": 78,
   "id": "90ff9331",
   "metadata": {},
   "outputs": [],
   "source": [
    "# Delete name from dictioanry D9...\\\n",
    "del D9[\"name\"]"
   ]
  },
  {
   "cell_type": "code",
   "execution_count": 79,
   "id": "9578860d",
   "metadata": {},
   "outputs": [
    {
     "data": {
      "text/plain": [
       "{'mentor': {'fsds': 'imran', 'fsda': 'anand', 'bigdata': 'shashank'},\n",
       " 'mailid': {'imran': 'imran@inueron.ai',\n",
       "  'anand': 'anand.inueron.ai',\n",
       "  'shashank': 'shashank.inueron.ai'},\n",
       " 'mobile': (2424, 34452, 4365576)}"
      ]
     },
     "execution_count": 79,
     "metadata": {},
     "output_type": "execute_result"
    }
   ],
   "source": [
    "D9"
   ]
  },
  {
   "cell_type": "code",
   "execution_count": 80,
   "id": "780f5e0f",
   "metadata": {},
   "outputs": [
    {
     "data": {
      "text/plain": [
       "{'fsds': 'imran', 'fsda': 'anand', 'bigdata': 'shashank'}"
      ]
     },
     "execution_count": 80,
     "metadata": {},
     "output_type": "execute_result"
    }
   ],
   "source": [
    "D9.pop('mentor')"
   ]
  },
  {
   "cell_type": "code",
   "execution_count": 81,
   "id": "9349e405",
   "metadata": {},
   "outputs": [
    {
     "data": {
      "text/plain": [
       "{'mailid': {'imran': 'imran@inueron.ai',\n",
       "  'anand': 'anand.inueron.ai',\n",
       "  'shashank': 'shashank.inueron.ai'},\n",
       " 'mobile': (2424, 34452, 4365576)}"
      ]
     },
     "execution_count": 81,
     "metadata": {},
     "output_type": "execute_result"
    }
   ],
   "source": [
    "D9"
   ]
  },
  {
   "cell_type": "markdown",
   "id": "630f0a0f",
   "metadata": {},
   "source": [
    "### ..... GOING BACK TO FUNCTIONS..."
   ]
  },
  {
   "cell_type": "code",
   "execution_count": 84,
   "id": "9d7a3f47",
   "metadata": {},
   "outputs": [],
   "source": [
    "# Create a function that will take variable names and values...\n",
    "\n",
    "def test10(**kwargs):                       # keyword pair arguments--> kwargs\n",
    "    return kwargs\n",
    "\n",
    "\n",
    "# '**kwargs' can take any number of key value pairs as input and returns as a dictionary!"
   ]
  },
  {
   "cell_type": "code",
   "execution_count": 88,
   "id": "0b7e239b",
   "metadata": {},
   "outputs": [
    {
     "data": {
      "text/plain": [
       "{'key1': 1234, 'a': 7, 'b': 90, 'sudh': 'sudhanshu'}"
      ]
     },
     "execution_count": 88,
     "metadata": {},
     "output_type": "execute_result"
    }
   ],
   "source": [
    " test10(key1=1234,a=7,b=90,sudh=\"sudhanshu\")\n",
    "    \n",
    "# returns as key value pair in a dictionary!"
   ]
  },
  {
   "cell_type": "code",
   "execution_count": 89,
   "id": "6c8b9c92",
   "metadata": {},
   "outputs": [],
   "source": [
    "def test11(**sudh):\n",
    "    return sudh"
   ]
  },
  {
   "cell_type": "code",
   "execution_count": 90,
   "id": "79fa7621",
   "metadata": {},
   "outputs": [
    {
     "data": {
      "text/plain": [
       "{'a': 234, 'b': 897, 'c': 'like'}"
      ]
     },
     "execution_count": 90,
     "metadata": {},
     "output_type": "execute_result"
    }
   ],
   "source": [
    "test11(a=234,b=897,c=\"like\")"
   ]
  },
  {
   "cell_type": "markdown",
   "id": "3b898af2",
   "metadata": {},
   "source": [
    "### .....FUNCTIONS INSIDE FUNCTIONS...."
   ]
  },
  {
   "cell_type": "code",
   "execution_count": 4,
   "id": "9f359a13",
   "metadata": {},
   "outputs": [],
   "source": [
    "#Function being passed as an argument inside a function\n",
    "\n",
    "\n",
    "def test12(a):\n",
    "    return a\n",
    "def test13(b):\n",
    "    return b\n",
    "def test14(func_name):\n",
    "    return func_name(\"sudh\")    #_returns the function name alongwith argument \"sudh\""
   ]
  },
  {
   "cell_type": "code",
   "execution_count": 5,
   "id": "b8edb182",
   "metadata": {},
   "outputs": [
    {
     "data": {
      "text/plain": [
       "'sudh'"
      ]
     },
     "execution_count": 5,
     "metadata": {},
     "output_type": "execute_result"
    }
   ],
   "source": [
    "test14(test12)"
   ]
  },
  {
   "cell_type": "code",
   "execution_count": 6,
   "id": "a6814b31",
   "metadata": {},
   "outputs": [
    {
     "data": {
      "text/plain": [
       "'sudh'"
      ]
     },
     "execution_count": 6,
     "metadata": {},
     "output_type": "execute_result"
    }
   ],
   "source": [
    "test14(test13)"
   ]
  },
  {
   "cell_type": "code",
   "execution_count": 7,
   "id": "c410e57e",
   "metadata": {},
   "outputs": [],
   "source": [
    "def test12(a):\n",
    "    return a\n",
    "def test13():\n",
    "    return \"sudh\"\n",
    "def test14(func_name):\n",
    "    return func_name(\"sudh\")"
   ]
  },
  {
   "cell_type": "code",
   "execution_count": 8,
   "id": "b94bdd48",
   "metadata": {},
   "outputs": [
    {
     "data": {
      "text/plain": [
       "'sudh'"
      ]
     },
     "execution_count": 8,
     "metadata": {},
     "output_type": "execute_result"
    }
   ],
   "source": [
    "test14(test12)"
   ]
  },
  {
   "cell_type": "code",
   "execution_count": 9,
   "id": "2e8c13e1",
   "metadata": {},
   "outputs": [
    {
     "ename": "TypeError",
     "evalue": "test13() takes 0 positional arguments but 1 was given",
     "output_type": "error",
     "traceback": [
      "\u001b[1;31m---------------------------------------------------------------------------\u001b[0m",
      "\u001b[1;31mTypeError\u001b[0m                                 Traceback (most recent call last)",
      "Input \u001b[1;32mIn [9]\u001b[0m, in \u001b[0;36m<cell line: 1>\u001b[1;34m()\u001b[0m\n\u001b[1;32m----> 1\u001b[0m \u001b[43mtest14\u001b[49m\u001b[43m(\u001b[49m\u001b[43mtest13\u001b[49m\u001b[43m)\u001b[49m\n",
      "Input \u001b[1;32mIn [7]\u001b[0m, in \u001b[0;36mtest14\u001b[1;34m(func_name)\u001b[0m\n\u001b[0;32m      5\u001b[0m \u001b[38;5;28;01mdef\u001b[39;00m \u001b[38;5;21mtest14\u001b[39m(func_name):\n\u001b[1;32m----> 6\u001b[0m     \u001b[38;5;28;01mreturn\u001b[39;00m \u001b[43mfunc_name\u001b[49m\u001b[43m(\u001b[49m\u001b[38;5;124;43m\"\u001b[39;49m\u001b[38;5;124;43msudh\u001b[39;49m\u001b[38;5;124;43m\"\u001b[39;49m\u001b[43m)\u001b[49m\n",
      "\u001b[1;31mTypeError\u001b[0m: test13() takes 0 positional arguments but 1 was given"
     ]
    }
   ],
   "source": [
    "test14(test13)"
   ]
  },
  {
   "cell_type": "code",
   "execution_count": 10,
   "id": "5940a6b9",
   "metadata": {},
   "outputs": [],
   "source": [
    "def test12(a):\n",
    "    return a\n",
    "def test13(*args):\n",
    "    return \"sudh\"\n",
    "def test14(func_name):\n",
    "    return func_name(\"sudh\")"
   ]
  },
  {
   "cell_type": "code",
   "execution_count": 11,
   "id": "a6d2e285",
   "metadata": {},
   "outputs": [
    {
     "data": {
      "text/plain": [
       "'sudh'"
      ]
     },
     "execution_count": 11,
     "metadata": {},
     "output_type": "execute_result"
    }
   ],
   "source": [
    "test14(test13)"
   ]
  },
  {
   "cell_type": "code",
   "execution_count": 16,
   "id": "a25efdd3",
   "metadata": {},
   "outputs": [],
   "source": [
    "#_Function inside a function\n",
    "\n",
    "def test15(a):\n",
    "    print(\"this is my test 15\")\n",
    "    \n",
    "    def test16():\n",
    "        print(\"This is my test16\")\n",
    "        \n",
    "    def test17():\n",
    "        print(\"This is my test17\")\n",
    "        \n",
    "    if a==\"sudh\":\n",
    "        return test16()\n",
    "    elif a==\"kumar\":\n",
    "        return test17()"
   ]
  },
  {
   "cell_type": "code",
   "execution_count": 18,
   "id": "bd03a9fa",
   "metadata": {},
   "outputs": [
    {
     "name": "stdout",
     "output_type": "stream",
     "text": [
      "this is my test 15\n",
      "This is my test16\n"
     ]
    }
   ],
   "source": [
    "test15(\"sudh\")"
   ]
  },
  {
   "cell_type": "code",
   "execution_count": 19,
   "id": "22344289",
   "metadata": {},
   "outputs": [
    {
     "name": "stdout",
     "output_type": "stream",
     "text": [
      "this is my test 15\n",
      "This is my test17\n"
     ]
    }
   ],
   "source": [
    "test15(\"kumar\")"
   ]
  },
  {
   "cell_type": "code",
   "execution_count": 26,
   "id": "717cef5c",
   "metadata": {},
   "outputs": [],
   "source": [
    "#__STUDY__\n",
    "\n",
    "def test18(func):\n",
    "    def test19():                      # test19 is going to print and also call the func!\n",
    "        print(\"i am inside test19\")    # print statement of test19\n",
    "        func()                         # test19 calling the func which was passed as an argument!\n",
    "    return test19()                    # final return of test18(func) is it returns test19!"
   ]
  },
  {
   "cell_type": "code",
   "execution_count": 27,
   "id": "08fdc07f",
   "metadata": {},
   "outputs": [],
   "source": [
    "def test13(*args):                     # test13 is being used as the func for test18!\n",
    "    print(\"this is return of test13\")  # print statement of test13!"
   ]
  },
  {
   "cell_type": "code",
   "execution_count": 28,
   "id": "224e14c0",
   "metadata": {},
   "outputs": [
    {
     "name": "stdout",
     "output_type": "stream",
     "text": [
      "i am inside test19\n",
      "this is return of test13\n"
     ]
    }
   ],
   "source": [
    "test18(test13)                         # now calling test18(func) & it should return test19()"
   ]
  },
  {
   "cell_type": "code",
   "execution_count": 29,
   "id": "10a836c8",
   "metadata": {},
   "outputs": [
    {
     "ename": "NameError",
     "evalue": "name 'test19' is not defined",
     "output_type": "error",
     "traceback": [
      "\u001b[1;31m---------------------------------------------------------------------------\u001b[0m",
      "\u001b[1;31mNameError\u001b[0m                                 Traceback (most recent call last)",
      "Input \u001b[1;32mIn [29]\u001b[0m, in \u001b[0;36m<cell line: 3>\u001b[1;34m()\u001b[0m\n\u001b[0;32m      1\u001b[0m \u001b[38;5;66;03m# How to call test19???\u001b[39;00m\n\u001b[1;32m----> 3\u001b[0m \u001b[43mtest19\u001b[49m()\n",
      "\u001b[1;31mNameError\u001b[0m: name 'test19' is not defined"
     ]
    }
   ],
   "source": [
    "# How to call test19???\n",
    "\n",
    "test19()"
   ]
  },
  {
   "cell_type": "code",
   "execution_count": 30,
   "id": "e0652449",
   "metadata": {},
   "outputs": [
    {
     "ename": "TypeError",
     "evalue": "test18() missing 1 required positional argument: 'func'",
     "output_type": "error",
     "traceback": [
      "\u001b[1;31m---------------------------------------------------------------------------\u001b[0m",
      "\u001b[1;31mTypeError\u001b[0m                                 Traceback (most recent call last)",
      "Input \u001b[1;32mIn [30]\u001b[0m, in \u001b[0;36m<cell line: 1>\u001b[1;34m()\u001b[0m\n\u001b[1;32m----> 1\u001b[0m \u001b[43mtest18\u001b[49m\u001b[43m(\u001b[49m\u001b[43m)\u001b[49m\n",
      "\u001b[1;31mTypeError\u001b[0m: test18() missing 1 required positional argument: 'func'"
     ]
    }
   ],
   "source": [
    "test18()"
   ]
  },
  {
   "cell_type": "code",
   "execution_count": 32,
   "id": "3f831fc2",
   "metadata": {},
   "outputs": [],
   "source": [
    "def test18(func):\n",
    "    def test19():\n",
    "        print(\"i am inside test19\")\n",
    "        #func()                           # commenting out the external func() calling....\n",
    "    return test19()"
   ]
  },
  {
   "cell_type": "code",
   "execution_count": 33,
   "id": "01b798f9",
   "metadata": {},
   "outputs": [
    {
     "name": "stdout",
     "output_type": "stream",
     "text": [
      "i am inside test19\n"
     ]
    }
   ],
   "source": [
    "test18(test13)"
   ]
  },
  {
   "cell_type": "markdown",
   "id": "5d23ed41",
   "metadata": {},
   "source": [
    "## DECORATOR"
   ]
  },
  {
   "cell_type": "code",
   "execution_count": 20,
   "id": "c252ba52",
   "metadata": {},
   "outputs": [],
   "source": [
    "def test18(func):      # test18 takes input as a function\n",
    "    def test19():      # test19 is inside test18\n",
    "        print(\"I am inside test19 and this will behave as a decorator to any function\")\n",
    "        func()\n",
    "    return test19()"
   ]
  },
  {
   "cell_type": "code",
   "execution_count": 26,
   "id": "29d161f6",
   "metadata": {},
   "outputs": [],
   "source": [
    "def test20():\n",
    "    return \"This is my test20\""
   ]
  },
  {
   "cell_type": "code",
   "execution_count": 27,
   "id": "e45af4c9",
   "metadata": {},
   "outputs": [
    {
     "data": {
      "text/plain": [
       "'This is my test20'"
      ]
     },
     "execution_count": 27,
     "metadata": {},
     "output_type": "execute_result"
    }
   ],
   "source": [
    " test20()"
   ]
  },
  {
   "cell_type": "code",
   "execution_count": 28,
   "id": "19671f95",
   "metadata": {},
   "outputs": [
    {
     "name": "stdout",
     "output_type": "stream",
     "text": [
      "I am inside test19 and this will behave as a decorator to any function\n"
     ]
    }
   ],
   "source": [
    "test18(test20)"
   ]
  },
  {
   "cell_type": "code",
   "execution_count": 29,
   "id": "c0c27523",
   "metadata": {},
   "outputs": [
    {
     "name": "stdout",
     "output_type": "stream",
     "text": [
      "I am inside test19 and this will behave as a decorator to any function\n",
      "this is test20\n"
     ]
    }
   ],
   "source": [
    "# How to call a decorator?\n",
    "\n",
    "@test18\n",
    "def test20():\n",
    "    print(\"this is test20\") "
   ]
  },
  {
   "cell_type": "code",
   "execution_count": 30,
   "id": "ff81f126",
   "metadata": {},
   "outputs": [
    {
     "ename": "TypeError",
     "evalue": "'NoneType' object is not callable",
     "output_type": "error",
     "traceback": [
      "\u001b[1;31m---------------------------------------------------------------------------\u001b[0m",
      "\u001b[1;31mTypeError\u001b[0m                                 Traceback (most recent call last)",
      "Input \u001b[1;32mIn [30]\u001b[0m, in \u001b[0;36m<cell line: 1>\u001b[1;34m()\u001b[0m\n\u001b[1;32m----> 1\u001b[0m \u001b[43mtest20\u001b[49m\u001b[43m(\u001b[49m\u001b[43m)\u001b[49m\n",
      "\u001b[1;31mTypeError\u001b[0m: 'NoneType' object is not callable"
     ]
    }
   ],
   "source": [
    "test20()            #____ ???????"
   ]
  },
  {
   "cell_type": "code",
   "execution_count": 32,
   "id": "91ceb711",
   "metadata": {},
   "outputs": [],
   "source": [
    "#how to print a directory??\n",
    "\n",
    "import os\n",
    "\n",
    "def test18(func):      # test18 takes input as a function\n",
    "    def test19():      # test19 is inside test18\n",
    "        print(\"I am inside test19 and this will behave as a decorator to any function\")\n",
    "        print(os.getcwd())   # PRINTING THE PRESENT DIRECTORY\n",
    "        func()\n",
    "    return test19"
   ]
  },
  {
   "cell_type": "code",
   "execution_count": 33,
   "id": "4be43fcb",
   "metadata": {},
   "outputs": [],
   "source": [
    "@test18\n",
    "def test20():\n",
    "    print(\"this is test20\")"
   ]
  },
  {
   "cell_type": "code",
   "execution_count": 34,
   "id": "7603e6da",
   "metadata": {},
   "outputs": [
    {
     "name": "stdout",
     "output_type": "stream",
     "text": [
      "I am inside test19 and this will behave as a decorator to any function\n",
      "C:\\Users\\santa\n",
      "this is test20\n"
     ]
    }
   ],
   "source": [
    "test20()"
   ]
  },
  {
   "cell_type": "code",
   "execution_count": 31,
   "id": "cfe45afa",
   "metadata": {},
   "outputs": [
    {
     "data": {
      "text/plain": [
       "'C:\\\\Users\\\\santa'"
      ]
     },
     "execution_count": 31,
     "metadata": {},
     "output_type": "execute_result"
    }
   ],
   "source": [
    "#_simple present working directory printing...\n",
    "\n",
    "pwd()"
   ]
  },
  {
   "cell_type": "markdown",
   "id": "5990378a",
   "metadata": {},
   "source": [
    "##__Example 2 of DECORATOR:"
   ]
  },
  {
   "cell_type": "code",
   "execution_count": 35,
   "id": "32c0b2e1",
   "metadata": {},
   "outputs": [],
   "source": [
    "def test20(func):\n",
    "    def test21():\n",
    "        func()\n",
    "        print(os.getcwd())\n",
    "    return test21"
   ]
  },
  {
   "cell_type": "code",
   "execution_count": 36,
   "id": "c51acc72",
   "metadata": {},
   "outputs": [],
   "source": [
    "def test22():\n",
    "    print(\"this is inside test22\")"
   ]
  },
  {
   "cell_type": "code",
   "execution_count": 37,
   "id": "6b2024fd",
   "metadata": {},
   "outputs": [
    {
     "name": "stdout",
     "output_type": "stream",
     "text": [
      "this is inside test22\n"
     ]
    }
   ],
   "source": [
    "test22()"
   ]
  },
  {
   "cell_type": "code",
   "execution_count": 38,
   "id": "7bdea1d2",
   "metadata": {},
   "outputs": [],
   "source": [
    "#Problem: Whenever you are executing test22() you should also print the current directory!!\n",
    "\n",
    "#Ans: Simply decorate test22 with a decorator test20!!\n",
    "\n",
    "@test20\n",
    "def test22():\n",
    "    print(\"this is inside test22\")\n"
   ]
  },
  {
   "cell_type": "code",
   "execution_count": 39,
   "id": "7ff1899d",
   "metadata": {},
   "outputs": [
    {
     "name": "stdout",
     "output_type": "stream",
     "text": [
      "this is inside test22\n",
      "C:\\Users\\santa\n"
     ]
    }
   ],
   "source": [
    "test22()"
   ]
  },
  {
   "cell_type": "code",
   "execution_count": 40,
   "id": "e03ddb0a",
   "metadata": {},
   "outputs": [],
   "source": [
    "#__Ja Ichha Tai guru... #Decorator [Decorating with multiple functions]\n",
    "\n",
    "@test18\n",
    "@test20\n",
    "def test22():\n",
    "    print(\"this is inside test22\")"
   ]
  },
  {
   "cell_type": "code",
   "execution_count": 41,
   "id": "c25c1a6f",
   "metadata": {},
   "outputs": [
    {
     "name": "stdout",
     "output_type": "stream",
     "text": [
      "I am inside test19 and this will behave as a decorator to any function\n",
      "C:\\Users\\santa\n",
      "this is inside test22\n",
      "C:\\Users\\santa\n"
     ]
    }
   ],
   "source": [
    "test22()"
   ]
  },
  {
   "cell_type": "code",
   "execution_count": 65,
   "id": "4aa73d78",
   "metadata": {},
   "outputs": [
    {
     "name": "stdout",
     "output_type": "stream",
     "text": [
      "start\n",
      "0.0\n"
     ]
    }
   ],
   "source": [
    "#_Problem: What is the execution timing to run a function??\n",
    "\n",
    "# Write a program to find out the execution time of the function.\n",
    "\n",
    "import time\n",
    "\n",
    "start = time.time()          #_START time capture\n",
    "print(\"start\")\n",
    "\n",
    "end = time.time()            #_END  time capture\n",
    "print(end - start)           # Final difference btw end and start = execution time of the program!"
   ]
  },
  {
   "cell_type": "code",
   "execution_count": 66,
   "id": "466c2719",
   "metadata": {},
   "outputs": [
    {
     "data": {
      "text/plain": [
       "1672922014.8632326"
      ]
     },
     "execution_count": 66,
     "metadata": {},
     "output_type": "execute_result"
    }
   ],
   "source": [
    "time.time()                  # gives the current time"
   ]
  },
  {
   "cell_type": "code",
   "execution_count": 67,
   "id": "de878d3a",
   "metadata": {},
   "outputs": [],
   "source": [
    "#_Creating a function which will act as a decorator for other functions in the future!\n",
    "\n",
    "import time\n",
    "\n",
    "def test25(func):                      #__decorator function\n",
    "    \"\"\"This is a decorator function to calculate the runtime/execution time of any function\"\"\"\n",
    "    def test26():\n",
    "        print(\"This will give you execution time of a function \")\n",
    "        start = time.time()\n",
    "        func()\n",
    "        print(func())\n",
    "        end = time.time()\n",
    "        print(end - start)\n",
    "    \n",
    "    return test26\n",
    "        "
   ]
  },
  {
   "cell_type": "code",
   "execution_count": 68,
   "id": "55bc4e5c",
   "metadata": {},
   "outputs": [],
   "source": [
    "def test27():                           #__creating the func\n",
    "    l = [4,5,6,7,8,9]\n",
    "    l1=list()\n",
    "    for i in l:\n",
    "        if type(i)==int:\n",
    "            l1.append(i+2)\n",
    "        \n",
    "    return l1"
   ]
  },
  {
   "cell_type": "code",
   "execution_count": 69,
   "id": "9fdf2a85",
   "metadata": {},
   "outputs": [
    {
     "data": {
      "text/plain": [
       "[6, 7, 8, 9, 10, 11]"
      ]
     },
     "execution_count": 69,
     "metadata": {},
     "output_type": "execute_result"
    }
   ],
   "source": [
    "test27()"
   ]
  },
  {
   "cell_type": "code",
   "execution_count": 70,
   "id": "a1a1f5d7",
   "metadata": {},
   "outputs": [],
   "source": [
    "# Now using the execution time function as a decorator...\n",
    "\n",
    "@test25\n",
    "def test27():\n",
    "    \"\"\"This function creates a new list and holds +2 values from the integers in input list\"\"\"\n",
    "    l = [4,5,6,7,8,9]\n",
    "    l1=list()\n",
    "    for i in l:\n",
    "        if type(i)==int:\n",
    "            l1.append(i+2)\n",
    "    return l1"
   ]
  },
  {
   "cell_type": "code",
   "execution_count": 71,
   "id": "d2b382a9",
   "metadata": {},
   "outputs": [
    {
     "name": "stdout",
     "output_type": "stream",
     "text": [
      "This will give you execution time of a function \n",
      "[6, 7, 8, 9, 10, 11]\n",
      "0.0009937286376953125\n"
     ]
    }
   ],
   "source": [
    "test27()"
   ]
  },
  {
   "cell_type": "markdown",
   "id": "891ac2c7",
   "metadata": {},
   "source": [
    "## Class 4: Functions (Live Batch)    "
   ]
  },
  {
   "cell_type": "code",
   "execution_count": 75,
   "id": "b95789ce",
   "metadata": {},
   "outputs": [],
   "source": [
    "def test1(func):\n",
    "    def test2():\n",
    "        print(\"I am inside test2\")\n",
    "        func()\n",
    "        print(\"func executed\")\n",
    "    return test2"
   ]
  },
  {
   "cell_type": "code",
   "execution_count": 76,
   "id": "18015938",
   "metadata": {},
   "outputs": [],
   "source": [
    "def test3():\n",
    "    return 5+6"
   ]
  },
  {
   "cell_type": "code",
   "execution_count": 77,
   "id": "943f021c",
   "metadata": {},
   "outputs": [
    {
     "data": {
      "text/plain": [
       "11"
      ]
     },
     "execution_count": 77,
     "metadata": {},
     "output_type": "execute_result"
    }
   ],
   "source": [
    "test3()"
   ]
  },
  {
   "cell_type": "code",
   "execution_count": 78,
   "id": "9d367906",
   "metadata": {},
   "outputs": [
    {
     "data": {
      "text/plain": [
       "<function __main__.test1.<locals>.test2()>"
      ]
     },
     "execution_count": 78,
     "metadata": {},
     "output_type": "execute_result"
    }
   ],
   "source": [
    "test1(test3)"
   ]
  },
  {
   "cell_type": "code",
   "execution_count": 81,
   "id": "738f9998",
   "metadata": {},
   "outputs": [],
   "source": [
    "@test1\n",
    "def test3():\n",
    "    print(\"this is my test3\") "
   ]
  },
  {
   "cell_type": "code",
   "execution_count": 82,
   "id": "712edb8f",
   "metadata": {},
   "outputs": [
    {
     "name": "stdout",
     "output_type": "stream",
     "text": [
      "I am inside test2\n",
      "this is my test3\n",
      "func executed\n"
     ]
    }
   ],
   "source": [
    "test3()                   #_test2 dekh tahole chronology bujhbi"
   ]
  },
  {
   "cell_type": "code",
   "execution_count": 83,
   "id": "9ddf445a",
   "metadata": {},
   "outputs": [],
   "source": [
    "@test1\n",
    "def test4():\n",
    "    return \"this is my test4\"        "
   ]
  },
  {
   "cell_type": "code",
   "execution_count": 84,
   "id": "b2e27804",
   "metadata": {},
   "outputs": [
    {
     "name": "stdout",
     "output_type": "stream",
     "text": [
      "I am inside test2\n",
      "func executed\n"
     ]
    }
   ],
   "source": [
    "test4()                      # no return for test4 but decorator working!"
   ]
  },
  {
   "cell_type": "code",
   "execution_count": 94,
   "id": "ca7c6839",
   "metadata": {},
   "outputs": [],
   "source": [
    "#_How to get the return printed??\n",
    "\n",
    "def test1(func):\n",
    "    def test2():\n",
    "        print(\"I am inside test2\")\n",
    "        func()\n",
    "        print(func())                       #_new_line_added\n",
    "        print(\"func executed\")\n",
    "    return test2"
   ]
  },
  {
   "cell_type": "code",
   "execution_count": 95,
   "id": "169bca1c",
   "metadata": {},
   "outputs": [],
   "source": [
    "@test1\n",
    "def test4():\n",
    "    return \"this is my test4\""
   ]
  },
  {
   "cell_type": "code",
   "execution_count": 96,
   "id": "dd983674",
   "metadata": {},
   "outputs": [
    {
     "name": "stdout",
     "output_type": "stream",
     "text": [
      "I am inside test2\n",
      "this is my test4\n",
      "func executed\n"
     ]
    }
   ],
   "source": [
    "test4()"
   ]
  },
  {
   "cell_type": "code",
   "execution_count": 97,
   "id": "252d36a6",
   "metadata": {},
   "outputs": [
    {
     "name": "stdout",
     "output_type": "stream",
     "text": [
      "I am inside test2\n",
      "this is my test4\n",
      "func executed\n"
     ]
    }
   ],
   "source": [
    "a = test4()          # storing the return in a variable"
   ]
  },
  {
   "cell_type": "code",
   "execution_count": 99,
   "id": "4ffdfc7f",
   "metadata": {},
   "outputs": [
    {
     "name": "stdout",
     "output_type": "stream",
     "text": [
      "None\n"
     ]
    }
   ],
   "source": [
    "print(a)             # but not getting output when called through the variable name!"
   ]
  },
  {
   "cell_type": "code",
   "execution_count": 100,
   "id": "fae2190f",
   "metadata": {},
   "outputs": [
    {
     "name": "stdout",
     "output_type": "stream",
     "text": [
      "I am inside test2\n",
      "this is my test4\n",
      "func executed\n"
     ]
    },
    {
     "ename": "TypeError",
     "evalue": "unsupported operand type(s) for +: 'NoneType' and 'int'",
     "output_type": "error",
     "traceback": [
      "\u001b[1;31m---------------------------------------------------------------------------\u001b[0m",
      "\u001b[1;31mTypeError\u001b[0m                                 Traceback (most recent call last)",
      "Input \u001b[1;32mIn [100]\u001b[0m, in \u001b[0;36m<cell line: 1>\u001b[1;34m()\u001b[0m\n\u001b[1;32m----> 1\u001b[0m \u001b[43mtest4\u001b[49m\u001b[43m(\u001b[49m\u001b[43m)\u001b[49m\u001b[38;5;241;43m+\u001b[39;49m\u001b[38;5;241;43m12\u001b[39;49m\n",
      "\u001b[1;31mTypeError\u001b[0m: unsupported operand type(s) for +: 'NoneType' and 'int'"
     ]
    }
   ],
   "source": [
    "test4()+12                     # why is it acting as NoneType???...."
   ]
  },
  {
   "cell_type": "markdown",
   "id": "4fbc35ae",
   "metadata": {},
   "source": [
    "##_Solution to fix this issue!! even \"return\" is giving a NoneType!! \n",
    "         {print to emni e dey!} ekhon 'return' o!!\n",
    "### _This happens when decorators are being used.\n",
    "\n"
   ]
  },
  {
   "cell_type": "code",
   "execution_count": 101,
   "id": "30738715",
   "metadata": {},
   "outputs": [],
   "source": [
    "def test5():\n",
    "    return 4+5"
   ]
  },
  {
   "cell_type": "code",
   "execution_count": 102,
   "id": "5d195486",
   "metadata": {},
   "outputs": [
    {
     "data": {
      "text/plain": [
       "int"
      ]
     },
     "execution_count": 102,
     "metadata": {},
     "output_type": "execute_result"
    }
   ],
   "source": [
    "type(test5())"
   ]
  },
  {
   "cell_type": "code",
   "execution_count": 103,
   "id": "7e9b8ba1",
   "metadata": {},
   "outputs": [
    {
     "data": {
      "text/plain": [
       "20"
      ]
     },
     "execution_count": 103,
     "metadata": {},
     "output_type": "execute_result"
    }
   ],
   "source": [
    "test5()+11                      #_ these primitive operations are working for test5.. "
   ]
  },
  {
   "cell_type": "code",
   "execution_count": 104,
   "id": "55b3a0a1",
   "metadata": {},
   "outputs": [
    {
     "name": "stdout",
     "output_type": "stream",
     "text": [
      "I am inside test2\n",
      "this is my test4\n",
      "func executed\n"
     ]
    },
    {
     "data": {
      "text/plain": [
       "NoneType"
      ]
     },
     "execution_count": 104,
     "metadata": {},
     "output_type": "execute_result"
    }
   ],
   "source": [
    "#_problem arises while using a decorator!!\n",
    "\n",
    "type(test4())"
   ]
  },
  {
   "cell_type": "code",
   "execution_count": 105,
   "id": "58e81c09",
   "metadata": {},
   "outputs": [],
   "source": [
    "#how to get the correct datatype??...How to decorate the decorator to give the correct data-type??\n",
    "\n",
    "def test1(func):\n",
    "    def test2():                             #_Ans: Add a return for the wrapper function test2!\n",
    "        print(\"I am inside test2\")\n",
    "        func()\n",
    "        print(func())                       #_old_line_added_last_time\n",
    "        print(\"func executed\")\n",
    "        \n",
    "        return func()           #_khela!   #new_line_added!\n",
    "    \n",
    "    return test2"
   ]
  },
  {
   "cell_type": "code",
   "execution_count": 106,
   "id": "d91042b0",
   "metadata": {},
   "outputs": [],
   "source": [
    "@test1\n",
    "def test4():\n",
    "    return \"this is my test4\""
   ]
  },
  {
   "cell_type": "code",
   "execution_count": 108,
   "id": "efbf32ca",
   "metadata": {},
   "outputs": [
    {
     "name": "stdout",
     "output_type": "stream",
     "text": [
      "I am inside test2\n",
      "this is my test4\n",
      "func executed\n"
     ]
    },
    {
     "data": {
      "text/plain": [
       "str"
      ]
     },
     "execution_count": 108,
     "metadata": {},
     "output_type": "execute_result"
    }
   ],
   "source": [
    "type(test4())                                   #_Problem Solved!"
   ]
  },
  {
   "cell_type": "code",
   "execution_count": 109,
   "id": "97e218e1",
   "metadata": {},
   "outputs": [
    {
     "name": "stdout",
     "output_type": "stream",
     "text": [
      "I am inside test2\n",
      "this is my test4\n",
      "func executed\n"
     ]
    },
    {
     "data": {
      "text/plain": [
       "\"this is my test4! Let's 'CONCATENATE'\""
      ]
     },
     "execution_count": 109,
     "metadata": {},
     "output_type": "execute_result"
    }
   ],
   "source": [
    "test4()+\"! Let's 'CONCATENATE'\"                        #_WORKING....!"
   ]
  },
  {
   "cell_type": "code",
   "execution_count": 134,
   "id": "4e5c16b0",
   "metadata": {},
   "outputs": [],
   "source": [
    "#_Another_Example\n",
    "\n",
    "def test6(func):\n",
    "    def test7():\n",
    "        func()\n",
    "        print(func())                # ---> to print the return of the func after executing it!\n",
    "        print(\"this is my decorator function\")\n",
    "        #return func()               # ---> needed to get the correct datatype or else NoneType\n",
    "    return test7                              #[only while using decorator!]"
   ]
  },
  {
   "cell_type": "code",
   "execution_count": 135,
   "id": "c498fd5b",
   "metadata": {},
   "outputs": [],
   "source": [
    "def test8():\n",
    "    return 5+7"
   ]
  },
  {
   "cell_type": "code",
   "execution_count": 136,
   "id": "72c57d9b",
   "metadata": {},
   "outputs": [
    {
     "data": {
      "text/plain": [
       "12"
      ]
     },
     "execution_count": 136,
     "metadata": {},
     "output_type": "execute_result"
    }
   ],
   "source": [
    "test8()"
   ]
  },
  {
   "cell_type": "code",
   "execution_count": 137,
   "id": "2da189c3",
   "metadata": {},
   "outputs": [
    {
     "data": {
      "text/plain": [
       "24"
      ]
     },
     "execution_count": 137,
     "metadata": {},
     "output_type": "execute_result"
    }
   ],
   "source": [
    "test8()+12"
   ]
  },
  {
   "cell_type": "code",
   "execution_count": 138,
   "id": "b452fb70",
   "metadata": {},
   "outputs": [],
   "source": [
    "@test6                            #_Same thing with decorator\n",
    "def test8():\n",
    "    return 5+7\n"
   ]
  },
  {
   "cell_type": "code",
   "execution_count": 139,
   "id": "031bef15",
   "metadata": {},
   "outputs": [
    {
     "name": "stdout",
     "output_type": "stream",
     "text": [
      "12\n",
      "this is my decorator function\n"
     ]
    }
   ],
   "source": [
    "test8()              "
   ]
  },
  {
   "cell_type": "code",
   "execution_count": 140,
   "id": "a06a5787",
   "metadata": {},
   "outputs": [
    {
     "name": "stdout",
     "output_type": "stream",
     "text": [
      "12\n",
      "this is my decorator function\n"
     ]
    },
    {
     "data": {
      "text/plain": [
       "NoneType"
      ]
     },
     "execution_count": 140,
     "metadata": {},
     "output_type": "execute_result"
    }
   ],
   "source": [
    "type(test8())                #_return for the wrapper function is hashed out! Hence giving NoneType"
   ]
  },
  {
   "cell_type": "code",
   "execution_count": 141,
   "id": "1c24103b",
   "metadata": {},
   "outputs": [],
   "source": [
    "#_Add a return to the wrapper function to get the correct datatype instead of NoneType while using decorator!\n",
    "\n",
    "def test6(func):\n",
    "    def test7():\n",
    "        func()\n",
    "        print(func())                                      # important_1\n",
    "        print(\"this is my decorator function\")\n",
    "        return func()                                      # important_2\n",
    "    return test7"
   ]
  },
  {
   "cell_type": "code",
   "execution_count": 142,
   "id": "1cb5bbba",
   "metadata": {},
   "outputs": [],
   "source": [
    "@test6                            \n",
    "def test8():\n",
    "    return 5+7"
   ]
  },
  {
   "cell_type": "code",
   "execution_count": 143,
   "id": "1a814a7b",
   "metadata": {},
   "outputs": [
    {
     "name": "stdout",
     "output_type": "stream",
     "text": [
      "12\n",
      "this is my decorator function\n"
     ]
    },
    {
     "data": {
      "text/plain": [
       "12"
      ]
     },
     "execution_count": 143,
     "metadata": {},
     "output_type": "execute_result"
    }
   ],
   "source": [
    "test8()"
   ]
  },
  {
   "cell_type": "code",
   "execution_count": 144,
   "id": "cab91955",
   "metadata": {},
   "outputs": [
    {
     "name": "stdout",
     "output_type": "stream",
     "text": [
      "12\n",
      "this is my decorator function\n"
     ]
    },
    {
     "data": {
      "text/plain": [
       "int"
      ]
     },
     "execution_count": 144,
     "metadata": {},
     "output_type": "execute_result"
    }
   ],
   "source": [
    "type(test8())         # datatype 'int'"
   ]
  },
  {
   "cell_type": "code",
   "execution_count": 145,
   "id": "b209b6b5",
   "metadata": {},
   "outputs": [
    {
     "name": "stdout",
     "output_type": "stream",
     "text": [
      "12\n",
      "this is my decorator function\n"
     ]
    },
    {
     "data": {
      "text/plain": [
       "112"
      ]
     },
     "execution_count": 145,
     "metadata": {},
     "output_type": "execute_result"
    }
   ],
   "source": [
    "test8()+100"
   ]
  },
  {
   "cell_type": "code",
   "execution_count": 1,
   "id": "94602b60",
   "metadata": {},
   "outputs": [],
   "source": [
    "#_New_Problem: Another situation where the calling func needs 2 arguments\n",
    "\n",
    "def test6(func):\n",
    "    def test7():\n",
    "        func()\n",
    "        print(func())\n",
    "        print(\"func done! Now, it is under decorator function\")\n",
    "        return func()\n",
    "    return test7\n",
    "        "
   ]
  },
  {
   "cell_type": "code",
   "execution_count": 2,
   "id": "529b756b",
   "metadata": {},
   "outputs": [],
   "source": [
    "def test8(a,b):                         # NOT USING DECORATOR!\n",
    "    return a+b"
   ]
  },
  {
   "cell_type": "code",
   "execution_count": 4,
   "id": "d5da51f9",
   "metadata": {},
   "outputs": [
    {
     "ename": "TypeError",
     "evalue": "test8() missing 2 required positional arguments: 'a' and 'b'",
     "output_type": "error",
     "traceback": [
      "\u001b[1;31m---------------------------------------------------------------------------\u001b[0m",
      "\u001b[1;31mTypeError\u001b[0m                                 Traceback (most recent call last)",
      "Input \u001b[1;32mIn [4]\u001b[0m, in \u001b[0;36m<cell line: 1>\u001b[1;34m()\u001b[0m\n\u001b[1;32m----> 1\u001b[0m \u001b[43mtest8\u001b[49m\u001b[43m(\u001b[49m\u001b[43m)\u001b[49m\n",
      "\u001b[1;31mTypeError\u001b[0m: test8() missing 2 required positional arguments: 'a' and 'b'"
     ]
    }
   ],
   "source": [
    "test8()                  # ERROR! ......How to solve?"
   ]
  },
  {
   "cell_type": "code",
   "execution_count": 5,
   "id": "31790d92",
   "metadata": {},
   "outputs": [
    {
     "data": {
      "text/plain": [
       "'sudhkumar'"
      ]
     },
     "execution_count": 5,
     "metadata": {},
     "output_type": "execute_result"
    }
   ],
   "source": [
    "test8(\"sudh\",\"kumar\")"
   ]
  },
  {
   "cell_type": "code",
   "execution_count": 6,
   "id": "b9cdfc2c",
   "metadata": {},
   "outputs": [],
   "source": [
    "#_STUDY_:\n",
    "\n",
    "@test6\n",
    "def test8(a,b):                         #_USING DECORATOR!\n",
    "    return a+b"
   ]
  },
  {
   "cell_type": "code",
   "execution_count": 8,
   "id": "733530b3",
   "metadata": {},
   "outputs": [
    {
     "ename": "TypeError",
     "evalue": "test8() missing 2 required positional arguments: 'a' and 'b'",
     "output_type": "error",
     "traceback": [
      "\u001b[1;31m---------------------------------------------------------------------------\u001b[0m",
      "\u001b[1;31mTypeError\u001b[0m                                 Traceback (most recent call last)",
      "Input \u001b[1;32mIn [8]\u001b[0m, in \u001b[0;36m<cell line: 1>\u001b[1;34m()\u001b[0m\n\u001b[1;32m----> 1\u001b[0m \u001b[43mtest8\u001b[49m\u001b[43m(\u001b[49m\u001b[43m)\u001b[49m\n",
      "Input \u001b[1;32mIn [1]\u001b[0m, in \u001b[0;36mtest6.<locals>.test7\u001b[1;34m()\u001b[0m\n\u001b[0;32m      4\u001b[0m \u001b[38;5;28;01mdef\u001b[39;00m \u001b[38;5;21mtest7\u001b[39m():\n\u001b[1;32m----> 5\u001b[0m     \u001b[43mfunc\u001b[49m\u001b[43m(\u001b[49m\u001b[43m)\u001b[49m\n\u001b[0;32m      6\u001b[0m     \u001b[38;5;28mprint\u001b[39m(func())\n\u001b[0;32m      7\u001b[0m     \u001b[38;5;28mprint\u001b[39m(\u001b[38;5;124m\"\u001b[39m\u001b[38;5;124mfunc done! Now, it is under decorator function\u001b[39m\u001b[38;5;124m\"\u001b[39m)\n",
      "\u001b[1;31mTypeError\u001b[0m: test8() missing 2 required positional arguments: 'a' and 'b'"
     ]
    }
   ],
   "source": [
    "test8()"
   ]
  },
  {
   "cell_type": "code",
   "execution_count": 7,
   "id": "b284c444",
   "metadata": {},
   "outputs": [
    {
     "ename": "TypeError",
     "evalue": "test7() takes 0 positional arguments but 2 were given",
     "output_type": "error",
     "traceback": [
      "\u001b[1;31m---------------------------------------------------------------------------\u001b[0m",
      "\u001b[1;31mTypeError\u001b[0m                                 Traceback (most recent call last)",
      "Input \u001b[1;32mIn [7]\u001b[0m, in \u001b[0;36m<cell line: 1>\u001b[1;34m()\u001b[0m\n\u001b[1;32m----> 1\u001b[0m \u001b[43mtest8\u001b[49m\u001b[43m(\u001b[49m\u001b[38;5;124;43m\"\u001b[39;49m\u001b[38;5;124;43msudh\u001b[39;49m\u001b[38;5;124;43m\"\u001b[39;49m\u001b[43m,\u001b[49m\u001b[38;5;124;43m\"\u001b[39;49m\u001b[38;5;124;43mkumar\u001b[39;49m\u001b[38;5;124;43m\"\u001b[39;49m\u001b[43m)\u001b[49m\n",
      "\u001b[1;31mTypeError\u001b[0m: test7() takes 0 positional arguments but 2 were given"
     ]
    }
   ],
   "source": [
    "test8(\"sudh\",\"kumar\")"
   ]
  },
  {
   "cell_type": "code",
   "execution_count": 9,
   "id": "89b7dfed",
   "metadata": {},
   "outputs": [],
   "source": [
    "#_WHAT TO DO?? \n",
    "\n",
    "#Soln: when test8(a,b) has 2 arguments, 'func' in decorator function must also have \"func(a,b)\"\"!!\n",
    "\n",
    "def test6(func):\n",
    "    def test7(a,b):   # (a,b) doesnt matter. Need not be same but it must mean 2 arguments required!\n",
    "        func(a,b)     # can be (c,d)! Name doesnt matter. Underlying meaning does!\n",
    "        print(func(a,b))    # naming of arguments need not match the naming in test8() or calling func\n",
    "        print(\"func done! Now, it is under decorator function\")\n",
    "        return func(a,b)\n",
    "    return test7\n",
    "        "
   ]
  },
  {
   "cell_type": "code",
   "execution_count": 10,
   "id": "44fc7990",
   "metadata": {},
   "outputs": [],
   "source": [
    "@test6\n",
    "def test8(a,b):                         #_USING DECORATOR!\n",
    "    return a+b"
   ]
  },
  {
   "cell_type": "code",
   "execution_count": 11,
   "id": "05ab5676",
   "metadata": {},
   "outputs": [
    {
     "name": "stdout",
     "output_type": "stream",
     "text": [
      "sudhkumar\n",
      "func done! Now, it is under decorator function\n"
     ]
    },
    {
     "data": {
      "text/plain": [
       "'sudhkumar'"
      ]
     },
     "execution_count": 11,
     "metadata": {},
     "output_type": "execute_result"
    }
   ],
   "source": [
    "test8(\"sudh\",\"kumar\")"
   ]
  },
  {
   "cell_type": "code",
   "execution_count": 12,
   "id": "379498a8",
   "metadata": {},
   "outputs": [],
   "source": [
    "#_Another problem:\n",
    "\n",
    "@test6\n",
    "def test8(a,b,c):                         #_USING DECORATOR!\n",
    "    return a+b+c"
   ]
  },
  {
   "cell_type": "code",
   "execution_count": 13,
   "id": "2fd07a3b",
   "metadata": {},
   "outputs": [
    {
     "ename": "TypeError",
     "evalue": "test7() takes 2 positional arguments but 3 were given",
     "output_type": "error",
     "traceback": [
      "\u001b[1;31m---------------------------------------------------------------------------\u001b[0m",
      "\u001b[1;31mTypeError\u001b[0m                                 Traceback (most recent call last)",
      "Input \u001b[1;32mIn [13]\u001b[0m, in \u001b[0;36m<cell line: 1>\u001b[1;34m()\u001b[0m\n\u001b[1;32m----> 1\u001b[0m \u001b[43mtest8\u001b[49m\u001b[43m(\u001b[49m\u001b[38;5;124;43m\"\u001b[39;49m\u001b[38;5;124;43msudh\u001b[39;49m\u001b[38;5;124;43m\"\u001b[39;49m\u001b[43m,\u001b[49m\u001b[38;5;124;43m\"\u001b[39;49m\u001b[38;5;124;43mkumar\u001b[39;49m\u001b[38;5;124;43m\"\u001b[39;49m\u001b[43m,\u001b[49m\u001b[38;5;124;43m\"\u001b[39;49m\u001b[38;5;124;43mjha\u001b[39;49m\u001b[38;5;124;43m\"\u001b[39;49m\u001b[43m)\u001b[49m\n",
      "\u001b[1;31mTypeError\u001b[0m: test7() takes 2 positional arguments but 3 were given"
     ]
    }
   ],
   "source": [
    "test8(\"sudh\",\"kumar\",\"jha\")     # No. of arguments in base func change hole abar shei ek shomoshha!"
   ]
  },
  {
   "cell_type": "code",
   "execution_count": 23,
   "id": "98cfdd1f",
   "metadata": {},
   "outputs": [],
   "source": [
    "#_These things require some universal solutions....\n",
    "\n",
    "def test6(func):\n",
    "    def test7(*args):\n",
    "        #func(*args)\n",
    "        #print(func(*args))                       # Hash it in to see the effect in the output\n",
    "        print(\"This is my decorator function\")\n",
    "        return func(*args)\n",
    "    return test7                       # *args all argument requirements in the decorator function!"
   ]
  },
  {
   "cell_type": "code",
   "execution_count": 24,
   "id": "7e81e74d",
   "metadata": {},
   "outputs": [],
   "source": [
    "@test6                           #_then, Any number of parameters in the base func will work!\n",
    "def test8(a,b,c):\n",
    "    return a+b+c"
   ]
  },
  {
   "cell_type": "code",
   "execution_count": 25,
   "id": "6b0beccd",
   "metadata": {},
   "outputs": [
    {
     "name": "stdout",
     "output_type": "stream",
     "text": [
      "This is my decorator function\n"
     ]
    },
    {
     "data": {
      "text/plain": [
       "20"
      ]
     },
     "execution_count": 25,
     "metadata": {},
     "output_type": "execute_result"
    }
   ],
   "source": [
    "test8(10,5,5)"
   ]
  },
  {
   "cell_type": "code",
   "execution_count": 26,
   "id": "2f23ad53",
   "metadata": {},
   "outputs": [],
   "source": [
    "@test6                               #_When the base func arguments require key:value pairs!\n",
    "def test9(**kwargs):\n",
    "    return kwargs"
   ]
  },
  {
   "cell_type": "code",
   "execution_count": 28,
   "id": "16d24286",
   "metadata": {},
   "outputs": [
    {
     "ename": "TypeError",
     "evalue": "test7() got an unexpected keyword argument 'a'",
     "output_type": "error",
     "traceback": [
      "\u001b[1;31m---------------------------------------------------------------------------\u001b[0m",
      "\u001b[1;31mTypeError\u001b[0m                                 Traceback (most recent call last)",
      "Input \u001b[1;32mIn [28]\u001b[0m, in \u001b[0;36m<cell line: 1>\u001b[1;34m()\u001b[0m\n\u001b[1;32m----> 1\u001b[0m \u001b[43mtest9\u001b[49m\u001b[43m(\u001b[49m\u001b[43ma\u001b[49m\u001b[38;5;241;43m=\u001b[39;49m\u001b[38;5;241;43m89\u001b[39;49m\u001b[43m,\u001b[49m\u001b[43mb\u001b[49m\u001b[38;5;241;43m=\u001b[39;49m\u001b[38;5;241;43m67\u001b[39;49m\u001b[43m)\u001b[49m\n",
      "\u001b[1;31mTypeError\u001b[0m: test7() got an unexpected keyword argument 'a'"
     ]
    }
   ],
   "source": [
    "test9(a=89,b=67)                           #_Again failed!"
   ]
  },
  {
   "cell_type": "code",
   "execution_count": 29,
   "id": "fd1a25fa",
   "metadata": {},
   "outputs": [],
   "source": [
    "#_Making the decorator function totally universal!!\n",
    "\n",
    "def test6(func):\n",
    "    def test7(*args,**kwargs):\n",
    "        func(*args,**kwargs)\n",
    "        print(func(*args,**kwargs))\n",
    "        print(\"I am inside Decorator function\")\n",
    "        return func(*args,**kwargs)\n",
    "    return test7"
   ]
  },
  {
   "cell_type": "code",
   "execution_count": 31,
   "id": "633154ea",
   "metadata": {},
   "outputs": [],
   "source": [
    "@test6                               \n",
    "def test9(**kwargs):\n",
    "    return kwargs"
   ]
  },
  {
   "cell_type": "code",
   "execution_count": 32,
   "id": "835a43dd",
   "metadata": {},
   "outputs": [
    {
     "name": "stdout",
     "output_type": "stream",
     "text": [
      "{'a': 89, 'b': 67}\n",
      "I am inside Decorator function\n"
     ]
    },
    {
     "data": {
      "text/plain": [
       "{'a': 89, 'b': 67}"
      ]
     },
     "execution_count": 32,
     "metadata": {},
     "output_type": "execute_result"
    }
   ],
   "source": [
    "test9(a=89,b=67)     "
   ]
  },
  {
   "cell_type": "code",
   "execution_count": 33,
   "id": "bdb7e7fd",
   "metadata": {},
   "outputs": [],
   "source": [
    "@test6                           #_then, Any number of parameters in the base func will work!\n",
    "def test8(a,b,c):\n",
    "    return a+b+c"
   ]
  },
  {
   "cell_type": "code",
   "execution_count": 34,
   "id": "890f7575",
   "metadata": {},
   "outputs": [
    {
     "name": "stdout",
     "output_type": "stream",
     "text": [
      "sudhkumarchandak\n",
      "I am inside Decorator function\n"
     ]
    },
    {
     "data": {
      "text/plain": [
       "'sudhkumarchandak'"
      ]
     },
     "execution_count": 34,
     "metadata": {},
     "output_type": "execute_result"
    }
   ],
   "source": [
    "test8(\"sudh\",\"kumar\",\"chandak\")"
   ]
  },
  {
   "cell_type": "markdown",
   "id": "02c2070e",
   "metadata": {},
   "source": [
    "It is a Standard Procedure while creating a wrapper function, to use both \"*args\" and \"**kwargs\" by default!\n",
    "Also, use the same while writing a \"return\".\n",
    "In general, we are always creating \"Global Wrapper Functions\"."
   ]
  },
  {
   "cell_type": "markdown",
   "id": "4c25da1c",
   "metadata": {},
   "source": [
    "### ANONYMOUS FUNCTION  /  LAMBDA FUNCTION"
   ]
  },
  {
   "cell_type": "markdown",
   "id": "5556edfa",
   "metadata": {},
   "source": [
    "Naming the function is not required. Simply, write lambda and a function would be created"
   ]
  },
  {
   "cell_type": "code",
   "execution_count": 35,
   "id": "033e1c44",
   "metadata": {},
   "outputs": [],
   "source": [
    "def test10(a,b):\n",
    "    return a+b"
   ]
  },
  {
   "cell_type": "code",
   "execution_count": 36,
   "id": "6b0379e4",
   "metadata": {},
   "outputs": [
    {
     "data": {
      "text/plain": [
       "7"
      ]
     },
     "execution_count": 36,
     "metadata": {},
     "output_type": "execute_result"
    }
   ],
   "source": [
    "test10(3,4)"
   ]
  },
  {
   "cell_type": "code",
   "execution_count": 37,
   "id": "b85fa000",
   "metadata": {},
   "outputs": [
    {
     "data": {
      "text/plain": [
       "'sudh kumar'"
      ]
     },
     "execution_count": 37,
     "metadata": {},
     "output_type": "execute_result"
    }
   ],
   "source": [
    "test10(\"sudh \",\"kumar\")"
   ]
  },
  {
   "cell_type": "code",
   "execution_count": 43,
   "id": "2c262bf4",
   "metadata": {},
   "outputs": [
    {
     "data": {
      "text/plain": [
       "<function __main__.<lambda>(a, b)>"
      ]
     },
     "execution_count": 43,
     "metadata": {},
     "output_type": "execute_result"
    }
   ],
   "source": [
    "#_Now using ANONYMOUS FUNCTION:-  \n",
    "#lambda is the 'reserve keyword'.  <lambda>(a,b)\n",
    "#lambda means to initialize an anonymous function. Similar to 'def' while initializing a function!\n",
    "#NO NEED for Names.. just pass the  \"ARGUMENTS : COMPUTATION\"!!\n",
    "\n",
    "lambda a,b: a+b"
   ]
  },
  {
   "cell_type": "markdown",
   "id": "a4ab72b1",
   "metadata": {},
   "source": [
    "A function kind of an 'object' is created which is taking inputs (a,b)! Match the Out[38] & Out[39]"
   ]
  },
  {
   "cell_type": "code",
   "execution_count": 44,
   "id": "e933b1ec",
   "metadata": {},
   "outputs": [
    {
     "data": {
      "text/plain": [
       "<function __main__.test10(a, b)>"
      ]
     },
     "execution_count": 44,
     "metadata": {},
     "output_type": "execute_result"
    }
   ],
   "source": [
    "test10               # Simply calling the name, both are same. Match the out[38] & out[39]"
   ]
  },
  {
   "cell_type": "code",
   "execution_count": 47,
   "id": "856e66de",
   "metadata": {},
   "outputs": [],
   "source": [
    "#_How To Use LAMBDA Function?\n",
    "\n",
    "c = lambda a , b : a + b"
   ]
  },
  {
   "cell_type": "code",
   "execution_count": 48,
   "id": "1f956d4b",
   "metadata": {},
   "outputs": [
    {
     "data": {
      "text/plain": [
       "'sudh kumar'"
      ]
     },
     "execution_count": 48,
     "metadata": {},
     "output_type": "execute_result"
    }
   ],
   "source": [
    "c(\"sudh\",\" kumar\")"
   ]
  },
  {
   "cell_type": "code",
   "execution_count": 49,
   "id": "26dcfa31",
   "metadata": {},
   "outputs": [],
   "source": [
    "d = lambda a,b,c,d : a*b+c/d"
   ]
  },
  {
   "cell_type": "code",
   "execution_count": 50,
   "id": "3de43adc",
   "metadata": {},
   "outputs": [
    {
     "data": {
      "text/plain": [
       "12.833333333333334"
      ]
     },
     "execution_count": 50,
     "metadata": {},
     "output_type": "execute_result"
    }
   ],
   "source": [
    "d(3,4,5,6)"
   ]
  },
  {
   "cell_type": "code",
   "execution_count": 51,
   "id": "1cc37810",
   "metadata": {},
   "outputs": [],
   "source": [
    "e = lambda *args: args"
   ]
  },
  {
   "cell_type": "code",
   "execution_count": 52,
   "id": "15ac3dcd",
   "metadata": {},
   "outputs": [
    {
     "data": {
      "text/plain": [
       "()"
      ]
     },
     "execution_count": 52,
     "metadata": {},
     "output_type": "execute_result"
    }
   ],
   "source": [
    "e()"
   ]
  },
  {
   "cell_type": "code",
   "execution_count": 53,
   "id": "26d83da5",
   "metadata": {},
   "outputs": [
    {
     "data": {
      "text/plain": [
       "(3, 4, 5)"
      ]
     },
     "execution_count": 53,
     "metadata": {},
     "output_type": "execute_result"
    }
   ],
   "source": [
    "e(3,4,5)"
   ]
  },
  {
   "cell_type": "markdown",
   "id": "20e5ec79",
   "metadata": {},
   "source": [
    "## map()   function\n",
    "\n",
    "1. All elements of the iterable object(data) is mapped with the function passed. \n",
    "2. map(function_name, data)"
   ]
  },
  {
   "cell_type": "code",
   "execution_count": 58,
   "id": "5acf92bb",
   "metadata": {},
   "outputs": [],
   "source": [
    "l=[1,2,3,4,5,6,7]\n",
    "\n",
    "l1= list()\n",
    "\n",
    "def test1():\n",
    "    \"\"\"This function creates a list by adding 10 to every element in the input list\"\"\"\n",
    "    for i in l:\n",
    "        l1.append(i+10)\n",
    "        #print(l1)          #..ei print ta diley every step a append gulo print hobe, like triangle!\n",
    "    return l1"
   ]
  },
  {
   "cell_type": "code",
   "execution_count": 59,
   "id": "fb8b5ea6",
   "metadata": {},
   "outputs": [
    {
     "data": {
      "text/plain": [
       "[11, 12, 13, 14, 15, 16, 17]"
      ]
     },
     "execution_count": 59,
     "metadata": {},
     "output_type": "execute_result"
    }
   ],
   "source": [
    "test1()"
   ]
  },
  {
   "cell_type": "code",
   "execution_count": 1,
   "id": "95dac3a2",
   "metadata": {},
   "outputs": [],
   "source": [
    "def test2(a):\n",
    "    return a+10"
   ]
  },
  {
   "cell_type": "code",
   "execution_count": 3,
   "id": "5316f1ec",
   "metadata": {},
   "outputs": [
    {
     "data": {
      "text/plain": [
       "<map at 0x22263014220>"
      ]
     },
     "execution_count": 3,
     "metadata": {},
     "output_type": "execute_result"
    }
   ],
   "source": [
    "#_map\n",
    "\n",
    "l=[1,2,3,4,5,6,7]   #...data input\n",
    "\n",
    "map(test2,l)        # Press Ctrl+Tab... map(function name, data)..."
   ]
  },
  {
   "cell_type": "code",
   "execution_count": 5,
   "id": "71c41b21",
   "metadata": {},
   "outputs": [
    {
     "data": {
      "text/plain": [
       "[11, 12, 13, 14, 15, 16, 17]"
      ]
     },
     "execution_count": 5,
     "metadata": {},
     "output_type": "execute_result"
    }
   ],
   "source": [
    "list(map(test2,l))            # typecasting the map results into a list to get the output..."
   ]
  },
  {
   "cell_type": "markdown",
   "id": "9cfa9f99",
   "metadata": {},
   "source": [
    "### Instead of writing the external function, we could use lambda function...\n",
    "\n",
    "\n",
    "\n"
   ]
  },
  {
   "cell_type": "code",
   "execution_count": 6,
   "id": "f0d2ce1b",
   "metadata": {},
   "outputs": [
    {
     "data": {
      "text/plain": [
       "[11, 12, 13, 14, 15, 16, 17]"
      ]
     },
     "execution_count": 6,
     "metadata": {},
     "output_type": "execute_result"
    }
   ],
   "source": [
    "list(map(lambda a : a+10 , l))     # study_lambda_(one input:computation,  call data of map function)"
   ]
  },
  {
   "cell_type": "markdown",
   "id": "6e9ad3ea",
   "metadata": {},
   "source": [
    "Same outcome in a single line.\n"
   ]
  },
  {
   "cell_type": "code",
   "execution_count": 7,
   "id": "c4108d0c",
   "metadata": {},
   "outputs": [],
   "source": [
    "#_breaking it down...\n",
    "\n",
    "n = lambda a:a+10"
   ]
  },
  {
   "cell_type": "code",
   "execution_count": 8,
   "id": "7eb054a1",
   "metadata": {},
   "outputs": [
    {
     "data": {
      "text/plain": [
       "[11, 12, 13, 14, 15, 16, 17]"
      ]
     },
     "execution_count": 8,
     "metadata": {},
     "output_type": "execute_result"
    }
   ],
   "source": [
    "list(map(n,l))"
   ]
  },
  {
   "cell_type": "code",
   "execution_count": 9,
   "id": "23e06fc6",
   "metadata": {},
   "outputs": [
    {
     "ename": "AttributeError",
     "evalue": "'list' object has no attribute 'uppercase'",
     "output_type": "error",
     "traceback": [
      "\u001b[1;31m---------------------------------------------------------------------------\u001b[0m",
      "\u001b[1;31mAttributeError\u001b[0m                            Traceback (most recent call last)",
      "Input \u001b[1;32mIn [9]\u001b[0m, in \u001b[0;36m<cell line: 4>\u001b[1;34m()\u001b[0m\n\u001b[0;32m      1\u001b[0m \u001b[38;5;66;03m# Convert elements of the list into UPPERCASE.\u001b[39;00m\n\u001b[0;32m      3\u001b[0m l \u001b[38;5;241m=\u001b[39m [\u001b[38;5;124m\"\u001b[39m\u001b[38;5;124msudh\u001b[39m\u001b[38;5;124m\"\u001b[39m,\u001b[38;5;124m\"\u001b[39m\u001b[38;5;124mkumar\u001b[39m\u001b[38;5;124m\"\u001b[39m,\u001b[38;5;124m\"\u001b[39m\u001b[38;5;124minueron\u001b[39m\u001b[38;5;124m\"\u001b[39m]\n\u001b[1;32m----> 4\u001b[0m \u001b[43ml\u001b[49m\u001b[38;5;241;43m.\u001b[39;49m\u001b[43muppercase\u001b[49m()\n",
      "\u001b[1;31mAttributeError\u001b[0m: 'list' object has no attribute 'uppercase'"
     ]
    }
   ],
   "source": [
    "# Convert elements of the list into UPPERCASE.\n",
    "\n",
    "l = [\"sudh\",\"kumar\",\"inueron\"]\n",
    "\n",
    "l.uppercase()"
   ]
  },
  {
   "cell_type": "code",
   "execution_count": 10,
   "id": "ded25fce",
   "metadata": {},
   "outputs": [],
   "source": [
    "#_Soln:1\n",
    "\n",
    "l1=list()\n",
    "for i in l:\n",
    "    l1.append(i.upper())"
   ]
  },
  {
   "cell_type": "code",
   "execution_count": 11,
   "id": "6aedf079",
   "metadata": {},
   "outputs": [
    {
     "data": {
      "text/plain": [
       "['SUDH', 'KUMAR', 'INUERON']"
      ]
     },
     "execution_count": 11,
     "metadata": {},
     "output_type": "execute_result"
    }
   ],
   "source": [
    "l1"
   ]
  },
  {
   "cell_type": "code",
   "execution_count": 12,
   "id": "03bb744f",
   "metadata": {},
   "outputs": [
    {
     "data": {
      "text/plain": [
       "['SUDH', 'KUMAR', 'INUERON']"
      ]
     },
     "execution_count": 12,
     "metadata": {},
     "output_type": "execute_result"
    }
   ],
   "source": [
    "#_Soln:2\n",
    "\n",
    "list(map(lambda a: a.upper(),l))"
   ]
  },
  {
   "cell_type": "code",
   "execution_count": 13,
   "id": "dfb99a4b",
   "metadata": {},
   "outputs": [
    {
     "data": {
      "text/plain": [
       "['SUDH', 'KUMAR', 'INUERON']"
      ]
     },
     "execution_count": 13,
     "metadata": {},
     "output_type": "execute_result"
    }
   ],
   "source": [
    "#Soln:3  str is a class, str.upper is an in-built function\n",
    "\n",
    "list(map(str.upper,l))"
   ]
  },
  {
   "cell_type": "code",
   "execution_count": 14,
   "id": "45bcc6cb",
   "metadata": {},
   "outputs": [],
   "source": [
    "#Soln:4\n",
    "\n",
    "def upper_string(a):\n",
    "    return a.upper()"
   ]
  },
  {
   "cell_type": "code",
   "execution_count": 15,
   "id": "690add7e",
   "metadata": {},
   "outputs": [
    {
     "data": {
      "text/plain": [
       "['SUDH', 'KUMAR', 'INUERON']"
      ]
     },
     "execution_count": 15,
     "metadata": {},
     "output_type": "execute_result"
    }
   ],
   "source": [
    "list(map(upper_string,l))"
   ]
  },
  {
   "cell_type": "code",
   "execution_count": 25,
   "id": "f74a5782",
   "metadata": {},
   "outputs": [
    {
     "data": {
      "text/plain": [
       "['sudh', 'kumar', 'inueron']"
      ]
     },
     "execution_count": 25,
     "metadata": {},
     "output_type": "execute_result"
    }
   ],
   "source": [
    "#_Problem: Give a list with length of all the strings...\n",
    "\n",
    "l"
   ]
  },
  {
   "cell_type": "code",
   "execution_count": 26,
   "id": "fca39ffd",
   "metadata": {},
   "outputs": [
    {
     "data": {
      "text/plain": [
       "[4, 5, 7]"
      ]
     },
     "execution_count": 26,
     "metadata": {},
     "output_type": "execute_result"
    }
   ],
   "source": [
    "list(map(len,l))"
   ]
  },
  {
   "cell_type": "code",
   "execution_count": 27,
   "id": "b55adcb5",
   "metadata": {},
   "outputs": [
    {
     "data": {
      "text/plain": [
       "[4, 5, 7]"
      ]
     },
     "execution_count": 27,
     "metadata": {},
     "output_type": "execute_result"
    }
   ],
   "source": [
    "list(map(lambda a: len(a),l))"
   ]
  },
  {
   "cell_type": "markdown",
   "id": "7a5e5ab7",
   "metadata": {},
   "source": [
    "## FILTER FUNCTION"
   ]
  },
  {
   "cell_type": "code",
   "execution_count": 28,
   "id": "f20678e3",
   "metadata": {},
   "outputs": [],
   "source": [
    "l = [1,2,3,4,5,6,7,8]"
   ]
  },
  {
   "cell_type": "code",
   "execution_count": 45,
   "id": "d0a1fe8e",
   "metadata": {},
   "outputs": [],
   "source": [
    "#_Problem: Filter out the even numbers from given list.\n",
    "\n",
    "def filter_even(*args):\n",
    "    \"\"\"This function filters out the even numbers and returns output in a new list\"\"\"\n",
    "    l1=list()\n",
    "    if type(l)==list:\n",
    "        for i in l:\n",
    "            if i%2 != 0:\n",
    "                continue\n",
    "            else:\n",
    "                l1.append(i)\n",
    "    return l1\n",
    "    "
   ]
  },
  {
   "cell_type": "code",
   "execution_count": 46,
   "id": "a0babf88",
   "metadata": {},
   "outputs": [
    {
     "data": {
      "text/plain": [
       "[2, 4, 6, 8]"
      ]
     },
     "execution_count": 46,
     "metadata": {},
     "output_type": "execute_result"
    }
   ],
   "source": [
    "filter_even(l)"
   ]
  },
  {
   "cell_type": "code",
   "execution_count": 47,
   "id": "10bbfb14",
   "metadata": {},
   "outputs": [
    {
     "data": {
      "text/plain": [
       "[2, 4, 6, 8]"
      ]
     },
     "execution_count": 47,
     "metadata": {},
     "output_type": "execute_result"
    }
   ],
   "source": [
    "#_LIST COMPREHENSION\n",
    "\n",
    "[i for i in l if i%2 == 0]"
   ]
  },
  {
   "cell_type": "code",
   "execution_count": 49,
   "id": "79f59822",
   "metadata": {},
   "outputs": [],
   "source": [
    "#_Using Lambda\n",
    "\n",
    "a = lambda a : a if a%2 == 0 else None"
   ]
  },
  {
   "cell_type": "code",
   "execution_count": 56,
   "id": "d8986da3",
   "metadata": {
    "scrolled": true
   },
   "outputs": [
    {
     "data": {
      "text/plain": [
       "<function __main__.<lambda>(a)>"
      ]
     },
     "execution_count": 56,
     "metadata": {},
     "output_type": "execute_result"
    }
   ],
   "source": [
    "a"
   ]
  },
  {
   "cell_type": "code",
   "execution_count": 57,
   "id": "b22ff2fe",
   "metadata": {},
   "outputs": [
    {
     "data": {
      "text/plain": [
       "[None, 2, None, 4, None, 6, None, 8]"
      ]
     },
     "execution_count": 57,
     "metadata": {},
     "output_type": "execute_result"
    }
   ],
   "source": [
    "list(map(a,l))                         #_However, answer must be a list of only even numbers!"
   ]
  },
  {
   "cell_type": "markdown",
   "id": "ac3b736c",
   "metadata": {},
   "source": [
    "Coming back to actual FILTER FUNCTION.... \n",
    "\n",
    "### filter(func_name, data)..  #similar to \"map\"\n",
    "\n",
    "### FILTER FUNCTION works ONLY on 1 Principle: TRUE OR FALSE (Boolean)\n",
    "\n",
    "1. if condition is true: returns that element\n",
    "2. if condition is false: doesnt return"
   ]
  },
  {
   "cell_type": "code",
   "execution_count": 58,
   "id": "4b1749c1",
   "metadata": {},
   "outputs": [
    {
     "data": {
      "text/plain": [
       "[2, 4, 6, 8]"
      ]
     },
     "execution_count": 58,
     "metadata": {},
     "output_type": "execute_result"
    }
   ],
   "source": [
    "list(filter(a,l))              "
   ]
  },
  {
   "cell_type": "code",
   "execution_count": 61,
   "id": "2008bb76",
   "metadata": {},
   "outputs": [],
   "source": [
    "#_Ex:\n",
    "\n",
    "def test25(a):\n",
    "    if a%2 == 0:\n",
    "        return True\n",
    "    else:\n",
    "        return False"
   ]
  },
  {
   "cell_type": "code",
   "execution_count": 62,
   "id": "ec2f7755",
   "metadata": {},
   "outputs": [
    {
     "data": {
      "text/plain": [
       "False"
      ]
     },
     "execution_count": 62,
     "metadata": {},
     "output_type": "execute_result"
    }
   ],
   "source": [
    "test25(35)"
   ]
  },
  {
   "cell_type": "code",
   "execution_count": 63,
   "id": "9af19bbb",
   "metadata": {},
   "outputs": [
    {
     "data": {
      "text/plain": [
       "True"
      ]
     },
     "execution_count": 63,
     "metadata": {},
     "output_type": "execute_result"
    }
   ],
   "source": [
    "test25(36)"
   ]
  },
  {
   "cell_type": "code",
   "execution_count": 64,
   "id": "0a053ba6",
   "metadata": {},
   "outputs": [
    {
     "data": {
      "text/plain": [
       "[2, 4, 6, 8]"
      ]
     },
     "execution_count": 64,
     "metadata": {},
     "output_type": "execute_result"
    }
   ],
   "source": [
    "list(filter(test25,l))"
   ]
  },
  {
   "cell_type": "code",
   "execution_count": 65,
   "id": "b32ac82d",
   "metadata": {},
   "outputs": [
    {
     "data": {
      "text/plain": [
       "[1, 2, 3, 4, 5, 6, 7, 8]"
      ]
     },
     "execution_count": 65,
     "metadata": {},
     "output_type": "execute_result"
    }
   ],
   "source": [
    "#_Problem: Summation of all the elements in a list\n",
    "\n",
    "l"
   ]
  },
  {
   "cell_type": "code",
   "execution_count": 66,
   "id": "937521c8",
   "metadata": {},
   "outputs": [
    {
     "data": {
      "text/plain": [
       "36"
      ]
     },
     "execution_count": 66,
     "metadata": {},
     "output_type": "execute_result"
    }
   ],
   "source": [
    "sum(l)"
   ]
  },
  {
   "cell_type": "code",
   "execution_count": 67,
   "id": "f001f880",
   "metadata": {},
   "outputs": [
    {
     "ename": "NameError",
     "evalue": "name 'mul' is not defined",
     "output_type": "error",
     "traceback": [
      "\u001b[1;31m---------------------------------------------------------------------------\u001b[0m",
      "\u001b[1;31mNameError\u001b[0m                                 Traceback (most recent call last)",
      "Input \u001b[1;32mIn [67]\u001b[0m, in \u001b[0;36m<cell line: 1>\u001b[1;34m()\u001b[0m\n\u001b[1;32m----> 1\u001b[0m \u001b[43mmul\u001b[49m(l)\n",
      "\u001b[1;31mNameError\u001b[0m: name 'mul' is not defined"
     ]
    }
   ],
   "source": [
    "mul(l)                    # Orom kichu hoy na... atleast nijer function toh create kore ne~!"
   ]
  },
  {
   "cell_type": "code",
   "execution_count": 72,
   "id": "bd7ba596",
   "metadata": {},
   "outputs": [],
   "source": [
    "#_Write a function that multiplies the elements in the input list!\n",
    "\n",
    "def test26(*args):\n",
    "    \"Multiplies the elements in a list\"               #Pati jinish pari ni! #Check later\n",
    "    if type(args) == list:\n",
    "       \n",
    "        for i in args:\n",
    "            mul=1\n",
    "            mul=mul*i\n",
    "    return mul"
   ]
  },
  {
   "cell_type": "code",
   "execution_count": 73,
   "id": "f4268df3",
   "metadata": {},
   "outputs": [
    {
     "ename": "UnboundLocalError",
     "evalue": "local variable 'mul' referenced before assignment",
     "output_type": "error",
     "traceback": [
      "\u001b[1;31m---------------------------------------------------------------------------\u001b[0m",
      "\u001b[1;31mUnboundLocalError\u001b[0m                         Traceback (most recent call last)",
      "Input \u001b[1;32mIn [73]\u001b[0m, in \u001b[0;36m<cell line: 1>\u001b[1;34m()\u001b[0m\n\u001b[1;32m----> 1\u001b[0m \u001b[43mtest26\u001b[49m\u001b[43m(\u001b[49m\u001b[43ml\u001b[49m\u001b[43m)\u001b[49m\n",
      "Input \u001b[1;32mIn [72]\u001b[0m, in \u001b[0;36mtest26\u001b[1;34m(*args)\u001b[0m\n\u001b[0;32m      6\u001b[0m         mul\u001b[38;5;241m=\u001b[39m\u001b[38;5;241m1\u001b[39m\n\u001b[0;32m      7\u001b[0m         mul\u001b[38;5;241m=\u001b[39mmul\u001b[38;5;241m*\u001b[39mi\n\u001b[1;32m----> 8\u001b[0m \u001b[38;5;28;01mreturn\u001b[39;00m \u001b[43mmul\u001b[49m\n",
      "\u001b[1;31mUnboundLocalError\u001b[0m: local variable 'mul' referenced before assignment"
     ]
    }
   ],
   "source": [
    "test26(l)"
   ]
  },
  {
   "cell_type": "code",
   "execution_count": 74,
   "id": "45c8368a",
   "metadata": {},
   "outputs": [],
   "source": [
    "from functools import reduce\n"
   ]
  },
  {
   "cell_type": "code",
   "execution_count": 76,
   "id": "650ee976",
   "metadata": {},
   "outputs": [
    {
     "data": {
      "text/plain": [
       "40320"
      ]
     },
     "execution_count": 76,
     "metadata": {},
     "output_type": "execute_result"
    }
   ],
   "source": [
    "reduce(lambda a,b: a*b,l)             # Shift+Tab __ Read the \"\"\"docstring\"\"\""
   ]
  },
  {
   "cell_type": "code",
   "execution_count": 78,
   "id": "519d7776",
   "metadata": {},
   "outputs": [
    {
     "data": {
      "text/plain": [
       "[1, 2, 3, 4, 5, 6, 7, 8]"
      ]
     },
     "execution_count": 78,
     "metadata": {},
     "output_type": "execute_result"
    }
   ],
   "source": [
    "l"
   ]
  },
  {
   "cell_type": "code",
   "execution_count": 79,
   "id": "90c1d964",
   "metadata": {},
   "outputs": [],
   "source": [
    "l1 = [3]"
   ]
  },
  {
   "cell_type": "code",
   "execution_count": 80,
   "id": "6399afaa",
   "metadata": {},
   "outputs": [
    {
     "data": {
      "text/plain": [
       "3"
      ]
     },
     "execution_count": 80,
     "metadata": {},
     "output_type": "execute_result"
    }
   ],
   "source": [
    "reduce(lambda a,b:a*b,l1)        "
   ]
  },
  {
   "cell_type": "code",
   "execution_count": 88,
   "id": "04dc71ae",
   "metadata": {},
   "outputs": [],
   "source": [
    "# ARROW ->  arrow hints the next programmer on the datatype of inputs for the function/SIGNATURE!\n",
    "\n",
    "def test26(a: int,b:int) -> int:                      # hinting that input must be integer\n",
    "    \"\"\"this is my docstring for hint\"\"\"      # check docstring by Shift+Tab\n",
    "    return a+b"
   ]
  },
  {
   "cell_type": "code",
   "execution_count": 89,
   "id": "79071c6e",
   "metadata": {},
   "outputs": [
    {
     "data": {
      "text/plain": [
       "30"
      ]
     },
     "execution_count": 89,
     "metadata": {},
     "output_type": "execute_result"
    }
   ],
   "source": [
    "test26(10,20)                                     # Press Shift+Tab"
   ]
  },
  {
   "cell_type": "code",
   "execution_count": 91,
   "id": "8662fdd5",
   "metadata": {},
   "outputs": [
    {
     "data": {
      "text/plain": [
       "'sudhkumar'"
      ]
     },
     "execution_count": 91,
     "metadata": {},
     "output_type": "execute_result"
    }
   ],
   "source": [
    "test26(\"sudh\",\"kumar\")       \n",
    "\n",
    "#_Hence, a hint is a hint! An indicative notification! Programmers can use it however they want!"
   ]
  },
  {
   "cell_type": "code",
   "execution_count": 95,
   "id": "33d27fb3",
   "metadata": {},
   "outputs": [],
   "source": [
    "#_DEFAULT VALUE \"c\"_\n",
    "\n",
    "def test26(a: int,b:int, c: int=234) -> int:                      # hinting that input must be integer\n",
    "    \"\"\"this is my docstring for hint \"\"\"      # check docstring by Shift+Tab\n",
    "    return a+b +c"
   ]
  },
  {
   "cell_type": "code",
   "execution_count": 93,
   "id": "d0f870e4",
   "metadata": {},
   "outputs": [
    {
     "data": {
      "text/plain": [
       "264"
      ]
     },
     "execution_count": 93,
     "metadata": {},
     "output_type": "execute_result"
    }
   ],
   "source": [
    "test26(10,20)"
   ]
  },
  {
   "cell_type": "code",
   "execution_count": 94,
   "id": "3bf0ef28",
   "metadata": {},
   "outputs": [
    {
     "data": {
      "text/plain": [
       "60"
      ]
     },
     "execution_count": 94,
     "metadata": {},
     "output_type": "execute_result"
    }
   ],
   "source": [
    "#_OVER-RIDING THE DEFAULT VALUE\n",
    "\n",
    "test26(10,20,30)"
   ]
  },
  {
   "cell_type": "code",
   "execution_count": null,
   "id": "b67a201f",
   "metadata": {},
   "outputs": [],
   "source": []
  },
  {
   "cell_type": "code",
   "execution_count": null,
   "id": "8b113022",
   "metadata": {},
   "outputs": [],
   "source": []
  },
  {
   "cell_type": "code",
   "execution_count": null,
   "id": "7d0883ac",
   "metadata": {},
   "outputs": [],
   "source": []
  },
  {
   "cell_type": "code",
   "execution_count": null,
   "id": "8123e362",
   "metadata": {},
   "outputs": [],
   "source": []
  },
  {
   "cell_type": "code",
   "execution_count": null,
   "id": "7cdc651e",
   "metadata": {},
   "outputs": [],
   "source": []
  },
  {
   "cell_type": "code",
   "execution_count": null,
   "id": "e60c46d6",
   "metadata": {},
   "outputs": [],
   "source": []
  },
  {
   "cell_type": "markdown",
   "id": "7662e10f",
   "metadata": {},
   "source": [
    "### ....Going Back to Basics: Sudhanshu Py_Basics Recorded Lesson for FUNCTIONS()"
   ]
  },
  {
   "cell_type": "code",
   "execution_count": 1,
   "id": "d6e21300",
   "metadata": {},
   "outputs": [],
   "source": [
    "def test2():\n",
    "    return \"hi\""
   ]
  },
  {
   "cell_type": "code",
   "execution_count": 3,
   "id": "ba05fc56",
   "metadata": {},
   "outputs": [
    {
     "data": {
      "text/plain": [
       "str"
      ]
     },
     "execution_count": 3,
     "metadata": {},
     "output_type": "execute_result"
    }
   ],
   "source": [
    "type(test2())"
   ]
  },
  {
   "cell_type": "code",
   "execution_count": 4,
   "id": "1ddac14d",
   "metadata": {},
   "outputs": [
    {
     "data": {
      "text/plain": [
       "'hiHello'"
      ]
     },
     "execution_count": 4,
     "metadata": {},
     "output_type": "execute_result"
    }
   ],
   "source": [
    "test2()+\"Hello\""
   ]
  },
  {
   "cell_type": "code",
   "execution_count": 5,
   "id": "2a250921",
   "metadata": {},
   "outputs": [],
   "source": [
    "def test3():\n",
    "    return 324523"
   ]
  },
  {
   "cell_type": "code",
   "execution_count": 6,
   "id": "4fcf3cee",
   "metadata": {},
   "outputs": [
    {
     "data": {
      "text/plain": [
       "324523"
      ]
     },
     "execution_count": 6,
     "metadata": {},
     "output_type": "execute_result"
    }
   ],
   "source": [
    "test3()"
   ]
  },
  {
   "cell_type": "code",
   "execution_count": 7,
   "id": "5c3f4f7c",
   "metadata": {},
   "outputs": [
    {
     "data": {
      "text/plain": [
       "int"
      ]
     },
     "execution_count": 7,
     "metadata": {},
     "output_type": "execute_result"
    }
   ],
   "source": [
    "type(test3())"
   ]
  },
  {
   "cell_type": "code",
   "execution_count": 35,
   "id": "fe2128d9",
   "metadata": {},
   "outputs": [],
   "source": [
    "#Problem: LIST AS AN INPUT AND LIST AS OUTPUT WITH ONLY INTEGERS\n",
    "\n",
    "l = [3,4,5,6,7,7,\"sudh\",[1,3,4,54,56]]\n",
    "\n"
   ]
  },
  {
   "cell_type": "code",
   "execution_count": 41,
   "id": "03350455",
   "metadata": {},
   "outputs": [],
   "source": [
    "def test4(a):\n",
    "    n = list()\n",
    "    if type(a) == list:\n",
    "        for i in a:\n",
    "            if type(i) == int:\n",
    "                n.append(i)\n",
    "            #elif type(i) == list:\n",
    "                #for k in i:\n",
    "                   # if type(k) == int:\n",
    "                       # n.append(k)\n",
    "                \n",
    "    return n\n",
    "            "
   ]
  },
  {
   "cell_type": "code",
   "execution_count": 42,
   "id": "f4fefaa5",
   "metadata": {
    "scrolled": true
   },
   "outputs": [
    {
     "data": {
      "text/plain": [
       "[3, 4, 5, 6, 7, 7]"
      ]
     },
     "execution_count": 42,
     "metadata": {},
     "output_type": "execute_result"
    }
   ],
   "source": [
    "test4(l)"
   ]
  },
  {
   "cell_type": "code",
   "execution_count": 50,
   "id": "2250674f",
   "metadata": {},
   "outputs": [
    {
     "data": {
      "text/plain": [
       "dict"
      ]
     },
     "execution_count": 50,
     "metadata": {},
     "output_type": "execute_result"
    }
   ],
   "source": [
    "d1 = {\"a\":1, \"b\" :22, \"c\":42}\n",
    "type(d)"
   ]
  },
  {
   "cell_type": "code",
   "execution_count": 51,
   "id": "5ac8bfc4",
   "metadata": {},
   "outputs": [],
   "source": [
    "#Problem: FUNCTION TO RETURN KEYS FROM A DICTIONARY\n",
    "\n",
    "def test5(d):\n",
    "    if type(d) == dict:\n",
    "        return d.keys()\n",
    "    else:\n",
    "        return \"that's not a dictionary\"\n",
    "    "
   ]
  },
  {
   "cell_type": "code",
   "execution_count": 52,
   "id": "8f939f98",
   "metadata": {},
   "outputs": [
    {
     "data": {
      "text/plain": [
       "\"that's not a dictionary\""
      ]
     },
     "execution_count": 52,
     "metadata": {},
     "output_type": "execute_result"
    }
   ],
   "source": [
    "test5(\"giuyg\")"
   ]
  },
  {
   "cell_type": "code",
   "execution_count": 53,
   "id": "321e22c6",
   "metadata": {},
   "outputs": [
    {
     "data": {
      "text/plain": [
       "dict_keys(['a', 'b', 'c'])"
      ]
     },
     "execution_count": 53,
     "metadata": {},
     "output_type": "execute_result"
    }
   ],
   "source": [
    "test5(d1)"
   ]
  },
  {
   "cell_type": "code",
   "execution_count": 69,
   "id": "92f8b3e7",
   "metadata": {},
   "outputs": [],
   "source": [
    "#Problem: INPUT FROM 2 LISTS AND THEN EXTEND INTO SINGLE LIST\n",
    "\n",
    "def test6(a,b) :\n",
    "    if type(a) == list and type(b) == list :\n",
    "        return a.extend(b)\n",
    "    else :\n",
    "        return \"ENTER 2 LISTS! some are NOT\"\n",
    "\n"
   ]
  },
  {
   "cell_type": "code",
   "execution_count": 70,
   "id": "b630ac6c",
   "metadata": {},
   "outputs": [],
   "source": [
    "a,b =[1,2,3],[4,5,6]"
   ]
  },
  {
   "cell_type": "code",
   "execution_count": 71,
   "id": "a8cf1dd1",
   "metadata": {},
   "outputs": [],
   "source": [
    "test6(a,b)"
   ]
  },
  {
   "cell_type": "code",
   "execution_count": 72,
   "id": "c5a75486",
   "metadata": {},
   "outputs": [
    {
     "data": {
      "text/plain": [
       "[1, 2, 3, 4, 5, 6]"
      ]
     },
     "execution_count": 72,
     "metadata": {},
     "output_type": "execute_result"
    }
   ],
   "source": [
    "a                               # a.extend(b) creates the single list in 'a'"
   ]
  },
  {
   "cell_type": "code",
   "execution_count": 73,
   "id": "208caa1d",
   "metadata": {},
   "outputs": [],
   "source": [
    "# So... write it together!          ..........{same problem}\n",
    "\n",
    "def test6(a,b) :\n",
    "    if type(a) == list and type(b) == list :\n",
    "        a.extend(b)\n",
    "        return a\n",
    "    else :\n",
    "        return \"ENTER 2 LISTS! some are NOT\""
   ]
  },
  {
   "cell_type": "code",
   "execution_count": 74,
   "id": "e2f1fe01",
   "metadata": {},
   "outputs": [],
   "source": [
    "a,b =[1,2,3],[4,5,6]"
   ]
  },
  {
   "cell_type": "code",
   "execution_count": 75,
   "id": "f638cc9f",
   "metadata": {},
   "outputs": [
    {
     "data": {
      "text/plain": [
       "[1, 2, 3, 4, 5, 6]"
      ]
     },
     "execution_count": 75,
     "metadata": {},
     "output_type": "execute_result"
    }
   ],
   "source": [
    "test6(a,b)"
   ]
  },
  {
   "cell_type": "code",
   "execution_count": 76,
   "id": "3ce24300",
   "metadata": {},
   "outputs": [],
   "source": [
    "#Problem: Print a triangle\n",
    "\n",
    "def test7(n):\n",
    "    for i in range(0,n):\n",
    "        for j in range(0,i+1):\n",
    "            print(\"*\", end=\"\")\n",
    "        print(\"\\r\")"
   ]
  },
  {
   "cell_type": "code",
   "execution_count": 78,
   "id": "357f7465",
   "metadata": {},
   "outputs": [
    {
     "name": "stdout",
     "output_type": "stream",
     "text": [
      "*\r\n",
      "**\r\n",
      "***\r\n",
      "****\r\n",
      "*****\r\n"
     ]
    }
   ],
   "source": [
    "test7(5)"
   ]
  },
  {
   "cell_type": "code",
   "execution_count": 85,
   "id": "084d32eb",
   "metadata": {},
   "outputs": [],
   "source": [
    "#Same Problem:                                   # how to?? __STUDY__\n",
    "\n",
    "def create_triangle(row_no):\n",
    "    n = row_no\n",
    "    k = n - 1\n",
    "    \n",
    "    for i in range(0, n):\n",
    "        \n",
    "        for j in range(0, k):\n",
    "            print(end=\" \")\n",
    "            \n",
    "        k = k - 1\n",
    "        \n",
    "        for j in range(0, i+1):\n",
    "            print(\"* \", end=\"\")\n",
    "            \n",
    "        print(\"\\r\")\n",
    "        "
   ]
  },
  {
   "cell_type": "code",
   "execution_count": 86,
   "id": "842867fd",
   "metadata": {},
   "outputs": [
    {
     "name": "stdout",
     "output_type": "stream",
     "text": [
      "    * \r\n",
      "   * * \r\n",
      "  * * * \r\n",
      " * * * * \r\n",
      "* * * * * \r\n"
     ]
    }
   ],
   "source": [
    "create_triangle(5)"
   ]
  },
  {
   "cell_type": "code",
   "execution_count": null,
   "id": "7439cb9f",
   "metadata": {},
   "outputs": [],
   "source": [
    "#RECREATE THIS EXAMPLE STEP BY STEP...\n",
    "\n"
   ]
  },
  {
   "cell_type": "code",
   "execution_count": 95,
   "id": "e6e0e088",
   "metadata": {},
   "outputs": [],
   "source": [
    "# ADDING DOC STRING TO A FUNCTION  ------> use triple quotes like multi-line commenting\n",
    "\n",
    "def create_triangle(row_no):\n",
    "    \"\"\"creates a triangle by entering any number of rows in the conditions section\n",
    "    enter input as an integer & get output as a triangle\"\"\"\n",
    "    n = row_no\n",
    "    k = n - 1\n",
    "    \n",
    "    for i in range(0, n):\n",
    "        \n",
    "        for j in range(0, k):\n",
    "            print(end=\" \")\n",
    "            \n",
    "        k = k - 1\n",
    "        \n",
    "        for j in range(0, i+1):\n",
    "            print(\"* \", end=\"\")\n",
    "            \n",
    "        print(\"\\r\")\n",
    "        \n"
   ]
  },
  {
   "cell_type": "markdown",
   "id": "b3a65c6a",
   "metadata": {},
   "source": [
    "#### To view a docstring of a function, PRESS SHIFT + TAB"
   ]
  },
  {
   "cell_type": "code",
   "execution_count": 98,
   "id": "fd54df50",
   "metadata": {
    "scrolled": true
   },
   "outputs": [
    {
     "name": "stdout",
     "output_type": "stream",
     "text": [
      "       * \r\n",
      "      * * \r\n",
      "     * * * \r\n",
      "    * * * * \r\n",
      "   * * * * * \r\n",
      "  * * * * * * \r\n",
      " * * * * * * * \r\n",
      "* * * * * * * * \r\n"
     ]
    }
   ],
   "source": [
    "create_triangle(8)"
   ]
  },
  {
   "cell_type": "code",
   "execution_count": 97,
   "id": "9c982af4",
   "metadata": {},
   "outputs": [
    {
     "name": "stdout",
     "output_type": "stream",
     "text": [
      "Help on function create_triangle in module __main__:\n",
      "\n",
      "create_triangle(row_no)\n",
      "    creates a triangle by entering any number of rows in the conditions section\n",
      "    enter input as an integer & get output as a triangle\n",
      "\n"
     ]
    }
   ],
   "source": [
    "help(create_triangle)"
   ]
  },
  {
   "cell_type": "code",
   "execution_count": null,
   "id": "7305d18a",
   "metadata": {},
   "outputs": [],
   "source": []
  },
  {
   "cell_type": "markdown",
   "id": "fa5c6f7b",
   "metadata": {},
   "source": [
    "### PyBasics:Functions--> class 2 [Recorded] [START OF MODULAR CODING]"
   ]
  },
  {
   "cell_type": "code",
   "execution_count": 1,
   "id": "0bce1b50",
   "metadata": {},
   "outputs": [],
   "source": [
    "# 1.Create a func where func takes in multiple inputs\n",
    "\n",
    "def test_f(a,b,c,d,e):      # if 5 inputs need to be taken (fixed)\n",
    "    return a,b,c,d,e"
   ]
  },
  {
   "cell_type": "code",
   "execution_count": 2,
   "id": "22ea39e9",
   "metadata": {},
   "outputs": [
    {
     "data": {
      "text/plain": [
       "(1, 2, 3, 4, 5)"
      ]
     },
     "execution_count": 2,
     "metadata": {},
     "output_type": "execute_result"
    }
   ],
   "source": [
    "test_f(1,2,3,4,5)"
   ]
  },
  {
   "cell_type": "code",
   "execution_count": 8,
   "id": "58355055",
   "metadata": {},
   "outputs": [],
   "source": [
    "# 2. when number of inputs are variable (any number of inputs/argument)\n",
    "\n",
    "def test1(*args):            # * --> any number of arguments can be passed\n",
    "    return args              # args ---> just a standard notation: anything could be used"
   ]
  },
  {
   "cell_type": "code",
   "execution_count": 9,
   "id": "f97f8f78",
   "metadata": {},
   "outputs": [
    {
     "data": {
      "text/plain": [
       "('abc', 11, 35, 98, 'sudh')"
      ]
     },
     "execution_count": 9,
     "metadata": {},
     "output_type": "execute_result"
    }
   ],
   "source": [
    "test1(\"abc\",11,35,98,\"sudh\")"
   ]
  },
  {
   "cell_type": "code",
   "execution_count": 11,
   "id": "b3900d9e",
   "metadata": {},
   "outputs": [
    {
     "data": {
      "text/plain": [
       "((34, 35, 67), ['hello', 89], (34+7j))"
      ]
     },
     "execution_count": 11,
     "metadata": {},
     "output_type": "execute_result"
    }
   ],
   "source": [
    "test1((34,35,67),[\"hello\",89], 34+7j)"
   ]
  },
  {
   "cell_type": "code",
   "execution_count": 12,
   "id": "abfa6342",
   "metadata": {},
   "outputs": [],
   "source": [
    "# 3. taking multiple inputs using *\n",
    "\n",
    "def test2(*sudh):            # args is not a reserved keyword. We are using \"sudh\" over here!\n",
    "    return sudh              # this tries to keep multiple data entries in a bunch and returns a tuple"
   ]
  },
  {
   "cell_type": "code",
   "execution_count": 13,
   "id": "7d4a546d",
   "metadata": {},
   "outputs": [
    {
     "data": {
      "text/plain": [
       "('fsds', 4.1243, 'pi')"
      ]
     },
     "execution_count": 13,
     "metadata": {},
     "output_type": "execute_result"
    }
   ],
   "source": [
    "test2(\"fsds\",4.1243,\"pi\")   # arguments always returns as tuples"
   ]
  },
  {
   "cell_type": "code",
   "execution_count": 72,
   "id": "dd72a8cf",
   "metadata": {},
   "outputs": [],
   "source": [
    "# 4. Create a function that takes 2 Lists as an input and concatenates\n",
    "\n",
    "def sum_c(a,b):\n",
    "    if type(a) or type(b) != list:\n",
    "        return \"Inputs are not a list\"\n",
    "    else:\n",
    "        return a + b"
   ]
  },
  {
   "cell_type": "code",
   "execution_count": 73,
   "id": "7d21a2d9",
   "metadata": {},
   "outputs": [
    {
     "data": {
      "text/plain": [
       "'Inputs are not a list'"
      ]
     },
     "execution_count": 73,
     "metadata": {},
     "output_type": "execute_result"
    }
   ],
   "source": [
    "sum_c(1,[2,3])"
   ]
  },
  {
   "cell_type": "code",
   "execution_count": 74,
   "id": "adf4509c",
   "metadata": {},
   "outputs": [
    {
     "data": {
      "text/plain": [
       "'Inputs are not a list'"
      ]
     },
     "execution_count": 74,
     "metadata": {},
     "output_type": "execute_result"
    }
   ],
   "source": [
    "sum_c([10,18],[17,47,420])            # check!!"
   ]
  },
  {
   "cell_type": "code",
   "execution_count": 24,
   "id": "02d1509a",
   "metadata": {},
   "outputs": [],
   "source": [
    "#5. Alongwith taking n number of data, also take specific arguments\n",
    "\n",
    "def test3(*sudh, a):\n",
    "    return sudh , a"
   ]
  },
  {
   "cell_type": "code",
   "execution_count": 26,
   "id": "e6c2d813",
   "metadata": {},
   "outputs": [
    {
     "data": {
      "text/plain": [
       "((1, 2, 3), 4)"
      ]
     },
     "execution_count": 26,
     "metadata": {},
     "output_type": "execute_result"
    }
   ],
   "source": [
    "test3(1,2,3, a=4)"
   ]
  },
  {
   "cell_type": "code",
   "execution_count": 27,
   "id": "f0ed6724",
   "metadata": {},
   "outputs": [],
   "source": [
    "def test4(*san,a,b,c,d):\n",
    "    return san,a,b,c,d"
   ]
  },
  {
   "cell_type": "code",
   "execution_count": 28,
   "id": "a1e97981",
   "metadata": {},
   "outputs": [
    {
     "data": {
      "text/plain": [
       "(([1, 2, 3], 89, (56, 'santa')), 'hi', 'i', 'think', \"it's working!\")"
      ]
     },
     "execution_count": 28,
     "metadata": {},
     "output_type": "execute_result"
    }
   ],
   "source": [
    "test4([1,2,3],89,(56,\"santa\"),a=\"hi\",b=\"i\",c=\"think\",d=\"it's working!\")"
   ]
  },
  {
   "cell_type": "code",
   "execution_count": 29,
   "id": "39f28428",
   "metadata": {},
   "outputs": [],
   "source": [
    "def test3(a, *sudh):\n",
    "    return sudh , a"
   ]
  },
  {
   "cell_type": "code",
   "execution_count": 30,
   "id": "5189e898",
   "metadata": {},
   "outputs": [
    {
     "data": {
      "text/plain": [
       "((43, 56, 45, 89), [12, 13, 'a'])"
      ]
     },
     "execution_count": 30,
     "metadata": {},
     "output_type": "execute_result"
    }
   ],
   "source": [
    "test3([12,13,\"a\"],43,56,45,89)          # return:  sudh, a\n",
    "\n",
    "                               # a is automatically assigned the value for 1st dataset"
   ]
  },
  {
   "cell_type": "code",
   "execution_count": 31,
   "id": "fa13eed1",
   "metadata": {},
   "outputs": [],
   "source": [
    "def test5(a, *sudh, b, c):\n",
    "    return a, sudh, b, c"
   ]
  },
  {
   "cell_type": "code",
   "execution_count": 33,
   "id": "1b923551",
   "metadata": {},
   "outputs": [
    {
     "data": {
      "text/plain": [
       "('fsds', ([2, 3, 4, 5], 435, 5435, 5), 45, 656)"
      ]
     },
     "execution_count": 33,
     "metadata": {},
     "output_type": "execute_result"
    }
   ],
   "source": [
    "test5(\"fsds\",[2,3,4,5], 435,5435,5,b=45,c=656)"
   ]
  },
  {
   "cell_type": "code",
   "execution_count": 39,
   "id": "ffc866d7",
   "metadata": {},
   "outputs": [],
   "source": [
    "# 6. user can pass anything as input and the function returns only the list and nothing else!\n",
    "\n",
    "def test6(*args):\n",
    "    list1=list()\n",
    "    for i in args:\n",
    "        if type(i)==list:\n",
    "            list1.append(i)\n",
    "        else:\n",
    "            continue\n",
    "    return list1"
   ]
  },
  {
   "cell_type": "code",
   "execution_count": 41,
   "id": "986ede3c",
   "metadata": {},
   "outputs": [
    {
     "data": {
      "text/plain": [
       "[[3, 2, 1, 'list']]"
      ]
     },
     "execution_count": 41,
     "metadata": {},
     "output_type": "execute_result"
    }
   ],
   "source": [
    "test6(1,2,3,[3,2,1,\"list\"])"
   ]
  },
  {
   "cell_type": "code",
   "execution_count": 42,
   "id": "e1c6f000",
   "metadata": {},
   "outputs": [
    {
     "data": {
      "text/plain": [
       "[[23, 45, 7, 89.67]]"
      ]
     },
     "execution_count": 42,
     "metadata": {},
     "output_type": "execute_result"
    }
   ],
   "source": [
    "test6(45,56,67,76,[23,45,7,89.67])"
   ]
  },
  {
   "cell_type": "code",
   "execution_count": 40,
   "id": "384dc59d",
   "metadata": {},
   "outputs": [
    {
     "data": {
      "text/plain": [
       "[[244, 4354], [8, 9, 60]]"
      ]
     },
     "execution_count": 40,
     "metadata": {},
     "output_type": "execute_result"
    }
   ],
   "source": [
    "test6(546,[244,4354],[8,9,60])  "
   ]
  },
  {
   "cell_type": "code",
   "execution_count": 47,
   "id": "d1fb9cb5",
   "metadata": {},
   "outputs": [],
   "source": [
    "# 7. Create a function where system takes n number of data but considers them as key:value pair\n",
    "\n",
    "def test7(**kwargs):                                # ** --> input in any formation of key value pairs\n",
    "    return kwargs                                  # kwargs--> standard notation --> \"keyword argument\",\n",
    "                                               # but anything could've been used... like as in args"
   ]
  },
  {
   "cell_type": "code",
   "execution_count": 49,
   "id": "38ab9f48",
   "metadata": {},
   "outputs": [
    {
     "data": {
      "text/plain": [
       "{'a': 345, 'b': [45, 5, 54, 6, 6]}"
      ]
     },
     "execution_count": 49,
     "metadata": {},
     "output_type": "execute_result"
    }
   ],
   "source": [
    "test7(a=345, b=[45,5,54,6,6])         # the arguments needed to be passed in {key:value} pairs\n",
    "\n",
    "# a and b are taken as keys, and following as values\n",
    "# returns as a dictionary by default"
   ]
  },
  {
   "cell_type": "code",
   "execution_count": 50,
   "id": "c4562c65",
   "metadata": {},
   "outputs": [],
   "source": [
    "def test8(**sudh):              # ** ---> converts entire data input into key:value pairs\n",
    "    return sudh"
   ]
  },
  {
   "cell_type": "code",
   "execution_count": 51,
   "id": "deb9fe06",
   "metadata": {},
   "outputs": [
    {
     "data": {
      "text/plain": [
       "{'b': 787, 'g': 235, 'f': [345, 76, 78, 87, 87]}"
      ]
     },
     "execution_count": 51,
     "metadata": {},
     "output_type": "execute_result"
    }
   ],
   "source": [
    "test8(b=787,g=235,f=[345,76,78,87,87])"
   ]
  },
  {
   "cell_type": "code",
   "execution_count": 52,
   "id": "aa403698",
   "metadata": {},
   "outputs": [],
   "source": [
    "#8. Taking user details\n",
    "\n",
    "def test9(**kwargs):\n",
    "    return kwargs"
   ]
  },
  {
   "cell_type": "code",
   "execution_count": 53,
   "id": "24448413",
   "metadata": {},
   "outputs": [
    {
     "data": {
      "text/plain": [
       "{'name': 'sudh',\n",
       " 'age': '31',\n",
       " 'phone_num': '987564732',\n",
       " 'mail': 'sdfc@abc.com',\n",
       " 'address': '403,7th A Road'}"
      ]
     },
     "execution_count": 53,
     "metadata": {},
     "output_type": "execute_result"
    }
   ],
   "source": [
    "test9(name=\"sudh\", age=\"31\", phone_num=\"987564732\",mail=\"sdfc@abc.com\",address=\"403,7th A Road\")"
   ]
  },
  {
   "cell_type": "code",
   "execution_count": 57,
   "id": "c2058f1f",
   "metadata": {},
   "outputs": [],
   "source": [
    "def test10(aa,**sudh):\n",
    "    return aa, sudh"
   ]
  },
  {
   "cell_type": "code",
   "execution_count": 58,
   "id": "a76171dd",
   "metadata": {},
   "outputs": [
    {
     "data": {
      "text/plain": [
       "(45, {'a': 67, 'b': 78, 'c': 7, 'd': 8, 'e': 78})"
      ]
     },
     "execution_count": 58,
     "metadata": {},
     "output_type": "execute_result"
    }
   ],
   "source": [
    "test10(45,a=67,b=78,c=7,d=8,e=78)"
   ]
  },
  {
   "cell_type": "code",
   "execution_count": 59,
   "id": "0d5f4d26",
   "metadata": {},
   "outputs": [
    {
     "ename": "SyntaxError",
     "evalue": "invalid syntax (27668646.py, line 1)",
     "output_type": "error",
     "traceback": [
      "\u001b[1;36m  Input \u001b[1;32mIn [59]\u001b[1;36m\u001b[0m\n\u001b[1;33m    def test11(a, **sudh, *args):\u001b[0m\n\u001b[1;37m                          ^\u001b[0m\n\u001b[1;31mSyntaxError\u001b[0m\u001b[1;31m:\u001b[0m invalid syntax\n"
     ]
    }
   ],
   "source": [
    "def test11(a, **sudh, *args):\n",
    "    return a,sudh,args                # throws an error"
   ]
  },
  {
   "cell_type": "code",
   "execution_count": 61,
   "id": "da83f7ef",
   "metadata": {},
   "outputs": [],
   "source": [
    "#9. Taking positional arguments as a specific argument,multiple inputs,multiple key:value pair inputs\n",
    "\n",
    "def test12(a, *args, **kwargs):          # positioning/placement is important!\n",
    "    return a, args, kwargs              # first single *, then double **\n",
    "                                       # * --->multiple data entries, ** ---> key value pair"
   ]
  },
  {
   "cell_type": "code",
   "execution_count": 64,
   "id": "b5b6ab95",
   "metadata": {},
   "outputs": [
    {
     "data": {
      "text/plain": [
       "(1, ([23, 43, 56, 'hi'], (33, 'hello')), {'Aa': 123, 'b': 432, 'c': 765})"
      ]
     },
     "execution_count": 64,
     "metadata": {},
     "output_type": "execute_result"
    }
   ],
   "source": [
    "test12(1,[23,43,56,\"hi\"],(33,\"hello\"),Aa=123,b=432,c=765)"
   ]
  },
  {
   "cell_type": "markdown",
   "id": "67d1e47c",
   "metadata": {},
   "source": [
    "#### LAMBDA FUNCTION: ANONYMOUS FUNCTION"
   ]
  },
  {
   "cell_type": "code",
   "execution_count": 66,
   "id": "0d765da5",
   "metadata": {},
   "outputs": [
    {
     "data": {
      "text/plain": [
       "<function __main__.<lambda>(a, b)>"
      ]
     },
     "execution_count": 66,
     "metadata": {},
     "output_type": "execute_result"
    }
   ],
   "source": [
    "# 10. Creating a function without using a name for the function [Creating an Anonymous function]\n",
    "\n",
    "# LAMBDA FUNCTION --> Anonymous function without a name!!\n",
    "\n",
    "# lambda is a reserved keyword for defining a function without name!\n",
    "\n",
    "lambda a,b : a*b     # inputs are taken as 'a' and 'b' and the output is written after colon, : a*b\n",
    "\n"
   ]
  },
  {
   "cell_type": "code",
   "execution_count": 67,
   "id": "bf5fe9a5",
   "metadata": {},
   "outputs": [],
   "source": [
    "# For calling the function, lets save this function in a simple normal variable...suppose 'a'--->\n",
    "\n",
    "a = lambda a ,b : a*b"
   ]
  },
  {
   "cell_type": "code",
   "execution_count": 68,
   "id": "391dadca",
   "metadata": {},
   "outputs": [
    {
     "data": {
      "text/plain": [
       "10"
      ]
     },
     "execution_count": 68,
     "metadata": {},
     "output_type": "execute_result"
    }
   ],
   "source": [
    "a(5,2)                   #... calling the function through the variable 'a'"
   ]
  },
  {
   "cell_type": "code",
   "execution_count": 69,
   "id": "5477d5c8",
   "metadata": {},
   "outputs": [],
   "source": [
    "a = lambda a ,b : (a*b , a+b)  # returning multiple outputs simultaneously\n",
    "\n",
    "\n",
    "#Lambda is used in simple functions but when complex things are to be done, always use 'def' keyword!\n",
    "# 'def' function is more modular and can handle complexity"
   ]
  },
  {
   "cell_type": "code",
   "execution_count": 72,
   "id": "fc325544",
   "metadata": {},
   "outputs": [
    {
     "data": {
      "text/plain": [
       "(20, 9)"
      ]
     },
     "execution_count": 72,
     "metadata": {},
     "output_type": "execute_result"
    }
   ],
   "source": [
    "a(5,4)                # returns a*b, a+b"
   ]
  },
  {
   "cell_type": "code",
   "execution_count": 74,
   "id": "e2a7fae1",
   "metadata": {},
   "outputs": [],
   "source": [
    "# using * with lambda\n",
    "\n",
    "a = lambda *a : a            # *a is for multiple input, : a is the return output\n"
   ]
  },
  {
   "cell_type": "code",
   "execution_count": 75,
   "id": "54bccda5",
   "metadata": {},
   "outputs": [
    {
     "data": {
      "text/plain": [
       "(954, 67, 'sudh', 88)"
      ]
     },
     "execution_count": 75,
     "metadata": {},
     "output_type": "execute_result"
    }
   ],
   "source": [
    "a(954,67,\"sudh\",88)"
   ]
  },
  {
   "cell_type": "code",
   "execution_count": 81,
   "id": "54f3b678",
   "metadata": {},
   "outputs": [],
   "source": [
    "x = lambda *i:i**2 "
   ]
  },
  {
   "cell_type": "code",
   "execution_count": 84,
   "id": "dbf9de11",
   "metadata": {},
   "outputs": [
    {
     "ename": "TypeError",
     "evalue": "unsupported operand type(s) for ** or pow(): 'tuple' and 'int'",
     "output_type": "error",
     "traceback": [
      "\u001b[1;31m---------------------------------------------------------------------------\u001b[0m",
      "\u001b[1;31mTypeError\u001b[0m                                 Traceback (most recent call last)",
      "Input \u001b[1;32mIn [84]\u001b[0m, in \u001b[0;36m<cell line: 1>\u001b[1;34m()\u001b[0m\n\u001b[1;32m----> 1\u001b[0m \u001b[43mx\u001b[49m\u001b[43m(\u001b[49m\u001b[38;5;241;43m2\u001b[39;49m\u001b[43m,\u001b[49m\u001b[38;5;241;43m3\u001b[39;49m\u001b[43m)\u001b[49m\n",
      "Input \u001b[1;32mIn [81]\u001b[0m, in \u001b[0;36m<lambda>\u001b[1;34m(*i)\u001b[0m\n\u001b[1;32m----> 1\u001b[0m x \u001b[38;5;241m=\u001b[39m \u001b[38;5;28;01mlambda\u001b[39;00m \u001b[38;5;241m*\u001b[39mi:\u001b[43mi\u001b[49m\u001b[38;5;241;43m*\u001b[39;49m\u001b[38;5;241;43m*\u001b[39;49m\u001b[38;5;241;43m2\u001b[39;49m\n",
      "\u001b[1;31mTypeError\u001b[0m: unsupported operand type(s) for ** or pow(): 'tuple' and 'int'"
     ]
    }
   ],
   "source": [
    "x(2,3)     # multiple entries through *i returns data as a tuple. Hence tuple cannot be squared!"
   ]
  },
  {
   "cell_type": "code",
   "execution_count": 82,
   "id": "1967ed3a",
   "metadata": {},
   "outputs": [],
   "source": [
    "a= lambda a,b : (a*b,a+b)"
   ]
  },
  {
   "cell_type": "code",
   "execution_count": 83,
   "id": "26a9d27e",
   "metadata": {},
   "outputs": [
    {
     "data": {
      "text/plain": [
       "(42, 13)"
      ]
     },
     "execution_count": 83,
     "metadata": {},
     "output_type": "execute_result"
    }
   ],
   "source": [
    "a(6,7)"
   ]
  },
  {
   "cell_type": "code",
   "execution_count": 91,
   "id": "8b0bd8a0",
   "metadata": {},
   "outputs": [],
   "source": [
    "# Iterating a loop inside a lambda function using list comprehension methodology \n",
    "\n",
    "x = lambda x: [i for i in x]   #_square brackets are used to hold the iteration values inside a list\n"
   ]
  },
  {
   "cell_type": "code",
   "execution_count": 92,
   "id": "ee139e63",
   "metadata": {},
   "outputs": [
    {
     "data": {
      "text/plain": [
       "[5, 5, 66, 6]"
      ]
     },
     "execution_count": 92,
     "metadata": {},
     "output_type": "execute_result"
    }
   ],
   "source": [
    "x([5,5,66,6])   #_the arguments are also placed inside a list as there is only one positional argument"
   ]
  },
  {
   "cell_type": "markdown",
   "id": "2c60d84b",
   "metadata": {},
   "source": [
    "#### Lambda function should only be used while writing a one-liner,else always use 'def' keyword"
   ]
  },
  {
   "cell_type": "code",
   "execution_count": 98,
   "id": "92f60a6d",
   "metadata": {},
   "outputs": [
    {
     "data": {
      "text/plain": [
       "[8, 10, 12, 14, 16]"
      ]
     },
     "execution_count": 98,
     "metadata": {},
     "output_type": "execute_result"
    }
   ],
   "source": [
    "#_STUDY\n",
    "\n",
    "l = [4,5,6,7,8]\n",
    "l1=list()\n",
    "for i in l:\n",
    "    l1.append(i*2)\n",
    "\n",
    "l1  \n",
    "    "
   ]
  },
  {
   "cell_type": "code",
   "execution_count": 100,
   "id": "da8b570b",
   "metadata": {},
   "outputs": [],
   "source": [
    "x = lambda x:[i for i in x]"
   ]
  },
  {
   "cell_type": "code",
   "execution_count": 102,
   "id": "ab177533",
   "metadata": {},
   "outputs": [
    {
     "data": {
      "text/plain": [
       "[8, 10, 12, 14, 16]"
      ]
     },
     "execution_count": 102,
     "metadata": {},
     "output_type": "execute_result"
    }
   ],
   "source": [
    "x(l1)"
   ]
  },
  {
   "cell_type": "code",
   "execution_count": 103,
   "id": "07708e22",
   "metadata": {},
   "outputs": [],
   "source": [
    "a = lambda **kwargs : kwargs"
   ]
  },
  {
   "cell_type": "code",
   "execution_count": 104,
   "id": "e6a3588b",
   "metadata": {},
   "outputs": [
    {
     "data": {
      "text/plain": [
       "{'a': 13, 'b': 33}"
      ]
     },
     "execution_count": 104,
     "metadata": {},
     "output_type": "execute_result"
    }
   ],
   "source": [
    "a(a=13, b=33)"
   ]
  },
  {
   "cell_type": "code",
   "execution_count": 105,
   "id": "c9bc03e0",
   "metadata": {},
   "outputs": [
    {
     "data": {
      "text/plain": [
       "function"
      ]
     },
     "execution_count": 105,
     "metadata": {},
     "output_type": "execute_result"
    }
   ],
   "source": [
    "type(a)"
   ]
  },
  {
   "cell_type": "code",
   "execution_count": 107,
   "id": "ab66ac17",
   "metadata": {},
   "outputs": [],
   "source": [
    "# 11. Taking a variable outside the function (external values)\n",
    "\n",
    "a=10\n",
    "\n",
    "def test15(c,d):\n",
    "    return c*d "
   ]
  },
  {
   "cell_type": "code",
   "execution_count": 108,
   "id": "8ac04107",
   "metadata": {},
   "outputs": [
    {
     "data": {
      "text/plain": [
       "500"
      ]
     },
     "execution_count": 108,
     "metadata": {},
     "output_type": "execute_result"
    }
   ],
   "source": [
    "test15(a,50)    #'a' is a variable which is present outside the function!!\n",
    "                # here, 'a'(external value) becomes --> 'c'(inside the function)"
   ]
  },
  {
   "cell_type": "code",
   "execution_count": 110,
   "id": "b167c892",
   "metadata": {},
   "outputs": [],
   "source": [
    "a=10                # 'a' is a global declaration\n",
    "\n",
    "def test16(c,d):\n",
    "    a=5             # this 'a' is not being used inside the function\n",
    "    return c*d"
   ]
  },
  {
   "cell_type": "code",
   "execution_count": 111,
   "id": "3cbec1ef",
   "metadata": {},
   "outputs": [
    {
     "data": {
      "text/plain": [
       "500"
      ]
     },
     "execution_count": 111,
     "metadata": {},
     "output_type": "execute_result"
    }
   ],
   "source": [
    "test16(a,50)"
   ]
  },
  {
   "cell_type": "code",
   "execution_count": 112,
   "id": "9557b31d",
   "metadata": {},
   "outputs": [],
   "source": [
    "c = 10           # The value of 'c' is a global declaration [GLOBAL VARIABLE]\n",
    "\n",
    "def test16(c,d):\n",
    "    c = 5          # However, here, the value of 'c' is getting updated when inside the function\n",
    "    return c*d"
   ]
  },
  {
   "cell_type": "code",
   "execution_count": 115,
   "id": "3209b756",
   "metadata": {},
   "outputs": [
    {
     "data": {
      "text/plain": [
       "75"
      ]
     },
     "execution_count": 115,
     "metadata": {},
     "output_type": "execute_result"
    }
   ],
   "source": [
    "test16(c,15)       # c=5, as value of c is updated inside the function as 5 [LOCAL VARIABLE]"
   ]
  },
  {
   "cell_type": "code",
   "execution_count": 116,
   "id": "f85f6181",
   "metadata": {},
   "outputs": [
    {
     "data": {
      "text/plain": [
       "10"
      ]
     },
     "execution_count": 116,
     "metadata": {},
     "output_type": "execute_result"
    }
   ],
   "source": [
    "c           # this value of c is derived from the global declaration = 10"
   ]
  },
  {
   "cell_type": "code",
   "execution_count": null,
   "id": "44224971",
   "metadata": {},
   "outputs": [],
   "source": []
  },
  {
   "cell_type": "markdown",
   "id": "2bf94003",
   "metadata": {},
   "source": [
    "### [LIST COMPREHENSION] OPERATIONS (COMPETITIVE CODING) "
   ]
  },
  {
   "cell_type": "code",
   "execution_count": 121,
   "id": "cf94bdb8",
   "metadata": {},
   "outputs": [
    {
     "data": {
      "text/plain": [
       "[3, 4, 5, 6, 58, 80, 9, 90, 9]"
      ]
     },
     "execution_count": 121,
     "metadata": {},
     "output_type": "execute_result"
    }
   ],
   "source": [
    "#Example_Data:\n",
    "\n",
    "l = [1,2,3,4,56,78,7,88,7]\n",
    "\n",
    "l1=list()\n",
    "for i in l: l1.append(i+2)\n",
    "l1"
   ]
  },
  {
   "cell_type": "code",
   "execution_count": 124,
   "id": "b2fd5deb",
   "metadata": {},
   "outputs": [],
   "source": [
    "# Same Problem using functions\n",
    "\n",
    "def test17(a):\n",
    "    l1=list()\n",
    "    for i in a:\n",
    "        l1.append(i+2)\n",
    "    return l1"
   ]
  },
  {
   "cell_type": "code",
   "execution_count": 125,
   "id": "8a662d34",
   "metadata": {},
   "outputs": [
    {
     "data": {
      "text/plain": [
       "[3, 4, 5, 6, 58, 80, 9, 90, 9]"
      ]
     },
     "execution_count": 125,
     "metadata": {},
     "output_type": "execute_result"
    }
   ],
   "source": [
    "test17(l)"
   ]
  },
  {
   "cell_type": "code",
   "execution_count": 126,
   "id": "43e6fd4e",
   "metadata": {},
   "outputs": [],
   "source": [
    "# Same Problem using lambda function\n",
    "\n",
    "a=lambda a: [i+2 for i in a]"
   ]
  },
  {
   "cell_type": "code",
   "execution_count": 127,
   "id": "af8c2513",
   "metadata": {},
   "outputs": [
    {
     "data": {
      "text/plain": [
       "[3, 4, 5, 6, 58, 80, 9, 90, 9]"
      ]
     },
     "execution_count": 127,
     "metadata": {},
     "output_type": "execute_result"
    }
   ],
   "source": [
    "a(l)"
   ]
  },
  {
   "cell_type": "code",
   "execution_count": 128,
   "id": "b74c62a6",
   "metadata": {},
   "outputs": [
    {
     "data": {
      "text/plain": [
       "[3, 4, 5, 6, 58, 80, 9, 90, 9]"
      ]
     },
     "execution_count": 128,
     "metadata": {},
     "output_type": "execute_result"
    }
   ],
   "source": [
    "# Same Problem using List Comprehension---> [] <--- notation for list comprehension\n",
    "\n",
    "[i+2 for i in l]"
   ]
  },
  {
   "cell_type": "code",
   "execution_count": 129,
   "id": "eac1e8c4",
   "metadata": {},
   "outputs": [
    {
     "data": {
      "text/plain": [
       "[(1, 3), (2, 4), (3, 5), (4, 6), (56, 58), (78, 80), (7, 9), (88, 90), (7, 9)]"
      ]
     },
     "execution_count": 129,
     "metadata": {},
     "output_type": "execute_result"
    }
   ],
   "source": [
    "# getting the return in tuples using List Comprehension technique\n",
    "\n",
    "[(i,i+2) for i in l]"
   ]
  },
  {
   "cell_type": "code",
   "execution_count": 131,
   "id": "cdd7c589",
   "metadata": {},
   "outputs": [
    {
     "data": {
      "text/plain": [
       "[(1, 3), (2, 4), (3, 5), (4, 6)]"
      ]
     },
     "execution_count": 131,
     "metadata": {},
     "output_type": "execute_result"
    }
   ],
   "source": [
    "# Increasing the complexity...\n",
    "\n",
    "[(i,i+2) for i in l if i <= 4]"
   ]
  },
  {
   "cell_type": "code",
   "execution_count": 146,
   "id": "c0a34d22",
   "metadata": {},
   "outputs": [],
   "source": [
    "#Problem: Create a dictionary where the keys are numbers and values are the square of it!\n",
    "\n",
    "n = 11\n",
    "\n",
    "l_keys= list()\n",
    "l_values= list()\n",
    "for i in range(1,n):\n",
    "    l_keys.append(i)\n",
    "    l_values.append(i**2)"
   ]
  },
  {
   "cell_type": "code",
   "execution_count": 147,
   "id": "bbcdbf5b",
   "metadata": {},
   "outputs": [
    {
     "data": {
      "text/plain": [
       "[1, 2, 3, 4, 5, 6, 7, 8, 9, 10]"
      ]
     },
     "execution_count": 147,
     "metadata": {},
     "output_type": "execute_result"
    }
   ],
   "source": [
    "l_keys"
   ]
  },
  {
   "cell_type": "code",
   "execution_count": 148,
   "id": "fa843772",
   "metadata": {},
   "outputs": [
    {
     "data": {
      "text/plain": [
       "[1, 4, 9, 16, 25, 36, 49, 64, 81, 100]"
      ]
     },
     "execution_count": 148,
     "metadata": {},
     "output_type": "execute_result"
    }
   ],
   "source": [
    "l_values"
   ]
  },
  {
   "cell_type": "code",
   "execution_count": 149,
   "id": "6f8ae2a7",
   "metadata": {},
   "outputs": [
    {
     "data": {
      "text/plain": [
       "{1: 1, 2: 4, 3: 9, 4: 16, 5: 25, 6: 36, 7: 49, 8: 64, 9: 81, 10: 100}"
      ]
     },
     "execution_count": 149,
     "metadata": {},
     "output_type": "execute_result"
    }
   ],
   "source": [
    "#ALTERNATIVE:\n",
    "\n",
    "{i:i**2 for i in range(1,11)}"
   ]
  },
  {
   "cell_type": "code",
   "execution_count": 150,
   "id": "36e2cc5d",
   "metadata": {},
   "outputs": [],
   "source": [
    "#_Solution: But Real Method without mind fucks!!\n",
    "\n",
    "d = dict()\n",
    "\n",
    "for i in range(1,11):\n",
    "    d[i] = i**2\n",
    "\n"
   ]
  },
  {
   "cell_type": "code",
   "execution_count": 151,
   "id": "502dbc44",
   "metadata": {},
   "outputs": [
    {
     "data": {
      "text/plain": [
       "{1: 1, 2: 4, 3: 9, 4: 16, 5: 25, 6: 36, 7: 49, 8: 64, 9: 81, 10: 100}"
      ]
     },
     "execution_count": 151,
     "metadata": {},
     "output_type": "execute_result"
    }
   ],
   "source": [
    "d"
   ]
  },
  {
   "cell_type": "code",
   "execution_count": 153,
   "id": "9e20ff12",
   "metadata": {},
   "outputs": [
    {
     "data": {
      "text/plain": [
       "<generator object <genexpr> at 0x000001C5FD557AC0>"
      ]
     },
     "execution_count": 153,
     "metadata": {},
     "output_type": "execute_result"
    }
   ],
   "source": [
    "#_TUPLE COMPREHENSION\n",
    "\n",
    "(i for i in range(10))                    # GENERATOR_OBJECT"
   ]
  },
  {
   "cell_type": "code",
   "execution_count": 154,
   "id": "7dc175f8",
   "metadata": {},
   "outputs": [
    {
     "data": {
      "text/plain": [
       "(0, 1, 2, 3, 4, 5, 6, 7, 8, 9)"
      ]
     },
     "execution_count": 154,
     "metadata": {},
     "output_type": "execute_result"
    }
   ],
   "source": [
    "tuple(i for i in range(10)) "
   ]
  },
  {
   "cell_type": "markdown",
   "id": "9d9811dc",
   "metadata": {},
   "source": [
    "## What are Iterators and Generators?"
   ]
  },
  {
   "cell_type": "code",
   "execution_count": null,
   "id": "f765fd9a",
   "metadata": {},
   "outputs": [],
   "source": []
  },
  {
   "cell_type": "code",
   "execution_count": null,
   "id": "c7a8afdb",
   "metadata": {},
   "outputs": [],
   "source": []
  },
  {
   "cell_type": "code",
   "execution_count": null,
   "id": "745edc5b",
   "metadata": {},
   "outputs": [],
   "source": []
  },
  {
   "cell_type": "code",
   "execution_count": null,
   "id": "c920f7e6",
   "metadata": {},
   "outputs": [],
   "source": []
  },
  {
   "cell_type": "code",
   "execution_count": null,
   "id": "25baa7fe",
   "metadata": {},
   "outputs": [],
   "source": []
  },
  {
   "cell_type": "code",
   "execution_count": null,
   "id": "a573065d",
   "metadata": {},
   "outputs": [],
   "source": []
  },
  {
   "cell_type": "code",
   "execution_count": null,
   "id": "2bde091a",
   "metadata": {},
   "outputs": [],
   "source": []
  }
 ],
 "metadata": {
  "kernelspec": {
   "display_name": "Python 3 (ipykernel)",
   "language": "python",
   "name": "python3"
  },
  "language_info": {
   "codemirror_mode": {
    "name": "ipython",
    "version": 3
   },
   "file_extension": ".py",
   "mimetype": "text/x-python",
   "name": "python",
   "nbconvert_exporter": "python",
   "pygments_lexer": "ipython3",
   "version": "3.9.12"
  }
 },
 "nbformat": 4,
 "nbformat_minor": 5
}
