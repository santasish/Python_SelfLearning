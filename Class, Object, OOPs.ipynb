{
 "cells": [
  {
   "cell_type": "code",
   "execution_count": null,
   "id": "c2129de4",
   "metadata": {},
   "outputs": [],
   "source": [
    "#_Normal Pythonic Script\n",
    "\n",
    "l=[1,2,3,4,5]\n",
    "for i in l:\n",
    "    print(i,end=\" \")"
   ]
  },
  {
   "cell_type": "markdown",
   "id": "82cfe86d",
   "metadata": {},
   "source": [
    "#_Enterprise level we need to use modules & packages.\n",
    "#_Oops gives the capacity to create a structured module for different tasks and sub tasks!"
   ]
  },
  {
   "cell_type": "markdown",
   "id": "439b2e32",
   "metadata": {},
   "source": [
    "### OBJECT-ORIENTED PROGRAMMING"
   ]
  },
  {
   "cell_type": "markdown",
   "id": "2f3773e6",
   "metadata": {},
   "source": [
    "#### 1. Class: car --> blueprint \n",
    "#### 2. Object: honda city --> entity which is an instance of the blueprint"
   ]
  },
  {
   "cell_type": "markdown",
   "id": "25a45d26",
   "metadata": {},
   "source": [
    " Packages--> Modules ||\n",
    " class--> object --> functions and methods"
   ]
  },
  {
   "cell_type": "markdown",
   "id": "e5a0b3f6",
   "metadata": {},
   "source": [
    "In OOPs ==> derive everything as objects and bind inside classes to perform any task!"
   ]
  },
  {
   "cell_type": "code",
   "execution_count": null,
   "id": "3069c17e",
   "metadata": {},
   "outputs": [],
   "source": [
    "class car:                     # creating a class...\n",
    "    pass"
   ]
  },
  {
   "cell_type": "code",
   "execution_count": null,
   "id": "cc60399d",
   "metadata": {},
   "outputs": [],
   "source": []
  },
  {
   "cell_type": "code",
   "execution_count": null,
   "id": "e82434db",
   "metadata": {},
   "outputs": [],
   "source": [
    "class car:                                                # class\n",
    "    def __init__(self,brand_name,fuel_type,body_type):    # __init__ inbuilt function\n",
    "        \n",
    "        self.brand_name = brand_name                      # self is just a pointer, not keyword\n",
    "        self.fuel_type = fuel_type                        # binding the variable with the class(self)\n",
    "        self.body_type = body_type\n",
    "        \n",
    "    def desc_car(self):\n",
    "        print(self.brand_name, self.fuel_type, self.body_type)\n",
    "        "
   ]
  },
  {
   "cell_type": "markdown",
   "id": "c11379ee",
   "metadata": {},
   "source": [
    "__init__ method ==> initializer => constructor ==> provides data to the class when an object is created "
   ]
  },
  {
   "cell_type": "markdown",
   "id": "cb9b3bf2",
   "metadata": {},
   "source": [
    "self ==> pointer helps the class to understand what data/method to bind with the class"
   ]
  },
  {
   "cell_type": "code",
   "execution_count": null,
   "id": "43d7dd4b",
   "metadata": {},
   "outputs": [],
   "source": [
    "innova= car(\"toyota\",\"petrol\",\"suv\")                      # objects\n",
    "nexon=car(\"tata\",\"petrol\",\"min suv\")\n",
    "fortuner=car(\"toyota\",\"diesel\",\"suv\")\n"
   ]
  },
  {
   "cell_type": "code",
   "execution_count": null,
   "id": "1c7d1cd0",
   "metadata": {},
   "outputs": [],
   "source": [
    "innova.desc_car()"
   ]
  },
  {
   "cell_type": "code",
   "execution_count": null,
   "id": "696bfcde",
   "metadata": {},
   "outputs": [],
   "source": [
    "innova.brand_name"
   ]
  },
  {
   "cell_type": "code",
   "execution_count": null,
   "id": "99267ad5",
   "metadata": {},
   "outputs": [],
   "source": [
    "fortuner.desc_car()"
   ]
  },
  {
   "cell_type": "code",
   "execution_count": null,
   "id": "654ec54c",
   "metadata": {},
   "outputs": [],
   "source": [
    "a=10\n",
    "print(type(a))"
   ]
  },
  {
   "cell_type": "code",
   "execution_count": null,
   "id": "73d0024b",
   "metadata": {},
   "outputs": [],
   "source": [
    "s=\"sudh\"\n",
    "print(type(s))"
   ]
  },
  {
   "cell_type": "markdown",
   "id": "da48cdc4",
   "metadata": {},
   "source": [
    "### OOPS [Part:1][RECORDED]"
   ]
  },
  {
   "cell_type": "code",
   "execution_count": null,
   "id": "55142c0a",
   "metadata": {},
   "outputs": [],
   "source": [
    "class car:\n",
    "    def __init__(self,body_type,engine,fuel_type):\n",
    "        self.body_type = body_type                                  #_creating class variables\n",
    "        self.engine = engine                    # self is the pointer that helps to bind variable\n",
    "        self.fuel_type = fuel_type\n",
    "        \n",
    "    def test(self):\n",
    "        print('this is my first method in my car class')"
   ]
  },
  {
   "cell_type": "code",
   "execution_count": null,
   "id": "f82ae4a4",
   "metadata": {},
   "outputs": [],
   "source": [
    "fortuner=car(\"suv\",\"bs4\",\"diesel\")\n",
    "nexon=car(\"su\",\"Fsd\",\"petrol\")"
   ]
  },
  {
   "cell_type": "code",
   "execution_count": null,
   "id": "8abcce38",
   "metadata": {},
   "outputs": [],
   "source": [
    "nexon.body_type "
   ]
  },
  {
   "cell_type": "code",
   "execution_count": null,
   "id": "0b61ea34",
   "metadata": {},
   "outputs": [],
   "source": [
    "class car:\n",
    "    def __init__(self,body_type,engine,fuel_type):\n",
    "        self.body_type01 = body_type                                  #_creating class variables\n",
    "        self.engine = engine                    # self is the pointer that helps to bind variable\n",
    "        self.fuel_type = fuel_type\n",
    "        \n",
    "    def test(self):\n",
    "        print('this is my first method in my car class')"
   ]
  },
  {
   "cell_type": "code",
   "execution_count": null,
   "id": "789c79ce",
   "metadata": {},
   "outputs": [],
   "source": [
    "fortuner.body_type                 # self.body_type01"
   ]
  },
  {
   "cell_type": "code",
   "execution_count": null,
   "id": "719cedd7",
   "metadata": {},
   "outputs": [],
   "source": [
    "fortuner = car(\"suv\",\"bs4\")"
   ]
  },
  {
   "cell_type": "code",
   "execution_count": null,
   "id": "96d05526",
   "metadata": {},
   "outputs": [],
   "source": [
    "# __init__ is called automatically (in-built method - constructor)\n",
    "# Constructor is a method that provides data to the classes "
   ]
  },
  {
   "cell_type": "code",
   "execution_count": null,
   "id": "bb550bd6",
   "metadata": {},
   "outputs": [],
   "source": [
    "fortuner.body_type01"
   ]
  },
  {
   "cell_type": "code",
   "execution_count": null,
   "id": "68345fe2",
   "metadata": {},
   "outputs": [],
   "source": [
    "class dhemna:\n",
    "    def __init__(ganja,dhemna_type,dhemna_level,remarks):   # self is ganja <--- pointer\n",
    "        ganja.dhemna_type = dhemna_type\n",
    "        ganja.dhemna_level = dhemna_level\n",
    "        ganja.remarks = remarks\n",
    "        \n",
    "    def ashol_katha(ganja):                          # ganja is just a pointer, NOT a parameter\n",
    "        print(\"Dhemna dol r Prithibi\")"
   ]
  },
  {
   "cell_type": "code",
   "execution_count": null,
   "id": "0b9df44e",
   "metadata": {},
   "outputs": [],
   "source": [
    "kundu = dhemna(\"haramjada\",11,\"dhemna khemta\")\n",
    "shila = dhemna(\"motherchod\",\"pro dhemna\",\"khankir chele\")\n",
    "g_da = dhemna(\"GG\",\"God level\",\"G da\")\n"
   ]
  },
  {
   "cell_type": "code",
   "execution_count": null,
   "id": "cfe5e1bb",
   "metadata": {},
   "outputs": [],
   "source": [
    "kundu.dhemna_level"
   ]
  },
  {
   "cell_type": "code",
   "execution_count": null,
   "id": "424afbdd",
   "metadata": {},
   "outputs": [],
   "source": [
    "kundu.dhemna_type"
   ]
  },
  {
   "cell_type": "code",
   "execution_count": null,
   "id": "c6fd7dd2",
   "metadata": {},
   "outputs": [],
   "source": [
    "kundu.remarks"
   ]
  },
  {
   "cell_type": "code",
   "execution_count": null,
   "id": "57a9c488",
   "metadata": {},
   "outputs": [],
   "source": [
    "shila.ashol_katha()"
   ]
  },
  {
   "cell_type": "code",
   "execution_count": null,
   "id": "5bf30d32",
   "metadata": {},
   "outputs": [],
   "source": [
    "# __init__ method helps to pass the data to class when required.\n",
    "#__init__ initializes at the time of object creation and passing data to a variable.\n",
    "\n",
    "class car:\n",
    "    \n",
    "    def test(sudh):\n",
    "        print(\"This is my first method\")"
   ]
  },
  {
   "cell_type": "code",
   "execution_count": null,
   "id": "549e7054",
   "metadata": {},
   "outputs": [],
   "source": [
    "x=car()          # x is an object"
   ]
  },
  {
   "cell_type": "code",
   "execution_count": null,
   "id": "a8aa12b9",
   "metadata": {},
   "outputs": [],
   "source": [
    "x.test()"
   ]
  },
  {
   "cell_type": "markdown",
   "id": "0b22a29b",
   "metadata": {},
   "source": [
    "### __init__ method is required when data is being passed at the time of variable initialization of classes"
   ]
  },
  {
   "cell_type": "markdown",
   "id": "031bed74",
   "metadata": {},
   "source": [
    "constructor is used to pass the data at the time of creation of object"
   ]
  },
  {
   "cell_type": "markdown",
   "id": "4e28d4f1",
   "metadata": {},
   "source": [
    "self is a convention of creating a pointer for any kind of method so that it binds any object which is created within a class"
   ]
  },
  {
   "cell_type": "code",
   "execution_count": null,
   "id": "edb42d0e",
   "metadata": {},
   "outputs": [],
   "source": [
    "class car:\n",
    "    def test(sud,b,c):                            # 'sud' is  pointer... 1st variable is a pointer\n",
    "        print(\"This is my method python \")"
   ]
  },
  {
   "cell_type": "code",
   "execution_count": null,
   "id": "372507f9",
   "metadata": {},
   "outputs": [],
   "source": [
    "x=car()                 # 'x' is an object of the car class ==> constructor is not being used __init__"
   ]
  },
  {
   "cell_type": "code",
   "execution_count": null,
   "id": "b9d1d9c4",
   "metadata": {},
   "outputs": [],
   "source": [
    "x.test(\"120cc\",\"TATA\")"
   ]
  },
  {
   "cell_type": "code",
   "execution_count": null,
   "id": "cbe96a32",
   "metadata": {},
   "outputs": [],
   "source": [
    "print(type(x))            # variable of class is an object\n",
    "\n",
    "                         # __main__ is a superclass of every classes!"
   ]
  },
  {
   "cell_type": "code",
   "execution_count": null,
   "id": "73e22274",
   "metadata": {},
   "outputs": [],
   "source": [
    "#_Parse a list and give output \n",
    "\n",
    "class list_parser:\n",
    "    def parcer(self,a):\n",
    "        if type(a)==list:\n",
    "            for i in a:\n",
    "                print(i)\n",
    "                \n",
    "            "
   ]
  },
  {
   "cell_type": "code",
   "execution_count": null,
   "id": "5286fc2d",
   "metadata": {},
   "outputs": [],
   "source": [
    "c = list_parser()          # creating 'c' as a class object\n",
    "c.parcer([2,3,4,5,6])"
   ]
  },
  {
   "cell_type": "code",
   "execution_count": null,
   "id": "e72c3698",
   "metadata": {},
   "outputs": [],
   "source": [
    "#_Scaling up the levels with 2 functions in a class\n",
    "\n",
    "class list_parser:\n",
    "    def parcer(self,a):\n",
    "        if type(a)==list:\n",
    "            for i in a:\n",
    "                print(i)\n",
    "    \n",
    "    def reverser_list(self,z):\n",
    "        if type(z)==list:\n",
    "            return z[::-1]"
   ]
  },
  {
   "cell_type": "code",
   "execution_count": null,
   "id": "75552a5e",
   "metadata": {},
   "outputs": [],
   "source": [
    "c= list_parser()                  # creating an object of the list_parser class"
   ]
  },
  {
   "cell_type": "code",
   "execution_count": null,
   "id": "6b6db87b",
   "metadata": {},
   "outputs": [],
   "source": [
    "c.                               # Press tab but the data needs to be passed once and output must come"
   ]
  },
  {
   "cell_type": "code",
   "execution_count": null,
   "id": "cc71f1c3",
   "metadata": {},
   "outputs": [],
   "source": [
    "c.reverser_list([2,3,4,5,6])"
   ]
  },
  {
   "cell_type": "code",
   "execution_count": null,
   "id": "98036f86",
   "metadata": {},
   "outputs": [],
   "source": [
    "c.parcer([2,3,4,5,6])                   # but here the data needs to be inputted individually"
   ]
  },
  {
   "cell_type": "code",
   "execution_count": null,
   "id": "ab0b8524",
   "metadata": {},
   "outputs": [],
   "source": [
    "#_Problem Statement: Input data ekbar, Output nikle lagataar!\n",
    "#_Soln:   __init__ is required as data needs to be held within the class so objects can access it!\n",
    "#         using the pointer self, data is held and passed onto when required!\n",
    "\n",
    "class list_parser:\n",
    "    \n",
    "    def __init__(self,l):       # class is being initialized with innit\n",
    "        self.list1=l\n",
    "        \n",
    "    \n",
    "    def parcer(self):\n",
    "        if type(self.list1)==list:\n",
    "            for i in self.list1:\n",
    "                print(i)\n",
    "    \n",
    "    def reverser_list(self):\n",
    "        if type(self.list1)==list:\n",
    "            return self.list1[::-1]"
   ]
  },
  {
   "cell_type": "code",
   "execution_count": null,
   "id": "c39d6eae",
   "metadata": {},
   "outputs": [],
   "source": [
    "c = list_parser([2,3,4,5,6,7,8])          #creating an object/class variable with data...\n",
    "                                          #input gaya ekbar........."
   ]
  },
  {
   "cell_type": "code",
   "execution_count": null,
   "id": "5d8deb9b",
   "metadata": {},
   "outputs": [],
   "source": [
    "c.list1                                   # output nikle lagataar..."
   ]
  },
  {
   "cell_type": "code",
   "execution_count": null,
   "id": "9e1d1e21",
   "metadata": {},
   "outputs": [],
   "source": [
    "c.parcer()                                 # output nikle lagataar..."
   ]
  },
  {
   "cell_type": "code",
   "execution_count": null,
   "id": "3b601092",
   "metadata": {},
   "outputs": [],
   "source": [
    "c.reverser_list()                           # output nikle lagataar.....!"
   ]
  },
  {
   "cell_type": "markdown",
   "id": "25a70e01",
   "metadata": {},
   "source": [
    "Pass the value once, enjoy the output multiple times "
   ]
  },
  {
   "cell_type": "code",
   "execution_count": null,
   "id": "44c6a8da",
   "metadata": {},
   "outputs": [],
   "source": [
    "# Problem: Create a class for Dictionary Parsing :-\n",
    "\"\"\"1. Give all the keys\n",
    "   2. Give all the values\n",
    "   3. Throws an exception incase input is not dictionary\n",
    "   4. Take user input and then parse a key and value out of dictionary\n",
    "   5. Function to insert new key value pair into dictionary\"\"\"\n"
   ]
  },
  {
   "cell_type": "code",
   "execution_count": null,
   "id": "b0b077c5",
   "metadata": {},
   "outputs": [],
   "source": [
    "class dic_parser:\n",
    "    \n",
    "    def __init__(self, d):\n",
    "        self.d=d\n",
    "    \n",
    "    def keys(self):\n",
    "        if type(self.d)==dict:\n",
    "            l1=list()\n",
    "            l1.append(self.d.keys())\n",
    "            print(l)\n",
    "            \n",
    "    def value(self):\n",
    "        if type(self.d)== dict:\n",
    "            l2=list()\n",
    "            l2.append(self.d.values())\n",
    "    \n",
    "    def user_input(a):\n",
    "        a=dict(input(\"Enter a Dictionary: \"))\n",
    "        if type(a)=! dict:\n",
    "            print(\"Please enter the input in the form of a dictionary\")\n",
    "        else:\n",
    "            \n",
    "            \n",
    "            \n",
    "    def insert_data(a):\n",
    "        \n",
    "        \n",
    "        \n",
    "        \n",
    "        \n",
    "        \n",
    "        \n",
    "        \n",
    "        \n",
    "            \n",
    "            \n",
    "        \n",
    "        "
   ]
  },
  {
   "cell_type": "code",
   "execution_count": null,
   "id": "fc555dbd",
   "metadata": {},
   "outputs": [],
   "source": [
    "#_Solution1: \n",
    "\n",
    "class dict_parse:\n",
    "  # complete by using __innit__\n",
    "\n",
    "    def keys_dict(self,d):\n",
    "        for i in d.keys():\n",
    "            print(i)\n",
    "            \n",
    "    def keys_dict(self,d):\n",
    "        for i in d.values():\n",
    "            print(i)\n",
    "            \n",
    "    def dict_check(self,d):\n",
    "        if type(d) != dict:\n",
    "            raise Exception(\"Input is not a dictionary\")\n",
    "    \n",
    "    def user_input(self,d,a=int(input())):\n",
    "        print(d[a])\n",
    "        \n",
    "    def insert_data(self,d,key,value):\n",
    "        d[key]=value\n",
    "                "
   ]
  },
  {
   "cell_type": "code",
   "execution_count": 4,
   "id": "950d1500",
   "metadata": {},
   "outputs": [],
   "source": [
    "#_Solution2:\n",
    "\n",
    "class dict_parsing:\n",
    "    \n",
    "    def __init__(self,d):\n",
    "        self.d = d\n",
    "        \n",
    "    def not_dict(self):\n",
    "        if type(self.d) != dict:\n",
    "            raise Exception(self.d,\"Not a dictionary\")\n",
    "            return 1\n",
    "    \n",
    "     def get_keys(self):\n",
    "        if type(self.d)==dict:\n",
    "            l1=list()\n",
    "            l1.append(self.d.keys())\n",
    "            print(l)\n",
    "            \n",
    "    def get_values(self):\n",
    "        if type(self.d)== dict:\n",
    "            l2=list()\n",
    "            l2.append(self.d.values())\n",
    "            \n",
    "    #def get_keys(self):\n",
    "        #if self.not_dict():\n",
    "            #print(list(self.a.keys())) \n",
    "            \n",
    "        \n",
    "    #def get_values(self):\n",
    "        #if self.not_dict():\n",
    "            #print(list(self.a.values()))\n",
    "            \n",
    "        \n",
    "    def user_input(self):\n",
    "        self.a = eval(input()) # eval is used to evaluate the input ---> into a dict or else input is always a string\n",
    "        print(self.d,type(self.d))              # _imp_ \n",
    "        print(self.get_keys())\n",
    "        print(self.get_values())\n",
    "   # to call a function within a class, always associate the pointer to call method within class.     \n",
    "    def insert_data(self,k,v):\n",
    "        self.d[k]=v\n",
    "        print(self.d)\n",
    "              "
   ]
  },
  {
   "cell_type": "code",
   "execution_count": 5,
   "id": "b6120d47",
   "metadata": {},
   "outputs": [
    {
     "ename": "Exception",
     "evalue": "([1, 2, 3], 'Not a dictionary')",
     "output_type": "error",
     "traceback": [
      "\u001b[1;31m---------------------------------------------------------------------------\u001b[0m",
      "\u001b[1;31mException\u001b[0m                                 Traceback (most recent call last)",
      "Input \u001b[1;32mIn [5]\u001b[0m, in \u001b[0;36m<cell line: 2>\u001b[1;34m()\u001b[0m\n\u001b[0;32m      1\u001b[0m d\u001b[38;5;241m=\u001b[39m dict_parsing([\u001b[38;5;241m1\u001b[39m,\u001b[38;5;241m2\u001b[39m,\u001b[38;5;241m3\u001b[39m])\n\u001b[1;32m----> 2\u001b[0m \u001b[43md\u001b[49m\u001b[38;5;241;43m.\u001b[39;49m\u001b[43mnot_dict\u001b[49m\u001b[43m(\u001b[49m\u001b[43m)\u001b[49m\n",
      "Input \u001b[1;32mIn [4]\u001b[0m, in \u001b[0;36mdict_parsing.not_dict\u001b[1;34m(self)\u001b[0m\n\u001b[0;32m      8\u001b[0m \u001b[38;5;28;01mdef\u001b[39;00m \u001b[38;5;21mnot_dict\u001b[39m(\u001b[38;5;28mself\u001b[39m):\n\u001b[0;32m      9\u001b[0m     \u001b[38;5;28;01mif\u001b[39;00m \u001b[38;5;28mtype\u001b[39m(\u001b[38;5;28mself\u001b[39m\u001b[38;5;241m.\u001b[39md) \u001b[38;5;241m!=\u001b[39m \u001b[38;5;28mdict\u001b[39m:\n\u001b[1;32m---> 10\u001b[0m         \u001b[38;5;28;01mraise\u001b[39;00m \u001b[38;5;167;01mException\u001b[39;00m(\u001b[38;5;28mself\u001b[39m\u001b[38;5;241m.\u001b[39md,\u001b[38;5;124m\"\u001b[39m\u001b[38;5;124mNot a dictionary\u001b[39m\u001b[38;5;124m\"\u001b[39m)\n\u001b[0;32m     11\u001b[0m         \u001b[38;5;28;01mreturn\u001b[39;00m \u001b[38;5;241m1\u001b[39m\n",
      "\u001b[1;31mException\u001b[0m: ([1, 2, 3], 'Not a dictionary')"
     ]
    }
   ],
   "source": [
    "d= dict_parsing([1,2,3])\n",
    "d.not_dict()"
   ]
  },
  {
   "cell_type": "code",
   "execution_count": 6,
   "id": "5ed61c06",
   "metadata": {},
   "outputs": [],
   "source": [
    "d = dict_parsing({\"k\":\"sudh\",\"k2\":[3,4,5,6,7,8]})"
   ]
  },
  {
   "cell_type": "code",
   "execution_count": 7,
   "id": "71ed7b01",
   "metadata": {},
   "outputs": [],
   "source": [
    "d.get_values()"
   ]
  },
  {
   "cell_type": "code",
   "execution_count": 8,
   "id": "d036d4e1",
   "metadata": {},
   "outputs": [
    {
     "ename": "NameError",
     "evalue": "name 'l' is not defined",
     "output_type": "error",
     "traceback": [
      "\u001b[1;31m---------------------------------------------------------------------------\u001b[0m",
      "\u001b[1;31mNameError\u001b[0m                                 Traceback (most recent call last)",
      "Input \u001b[1;32mIn [8]\u001b[0m, in \u001b[0;36m<cell line: 1>\u001b[1;34m()\u001b[0m\n\u001b[1;32m----> 1\u001b[0m \u001b[43md\u001b[49m\u001b[38;5;241;43m.\u001b[39;49m\u001b[43mget_keys\u001b[49m\u001b[43m(\u001b[49m\u001b[43m)\u001b[49m\n",
      "Input \u001b[1;32mIn [4]\u001b[0m, in \u001b[0;36mdict_parsing.get_keys\u001b[1;34m(self)\u001b[0m\n\u001b[0;32m     15\u001b[0m l1\u001b[38;5;241m=\u001b[39m\u001b[38;5;28mlist\u001b[39m()\n\u001b[0;32m     16\u001b[0m l1\u001b[38;5;241m.\u001b[39mappend(\u001b[38;5;28mself\u001b[39m\u001b[38;5;241m.\u001b[39md\u001b[38;5;241m.\u001b[39mkeys())\n\u001b[1;32m---> 17\u001b[0m \u001b[38;5;28mprint\u001b[39m(\u001b[43ml\u001b[49m)\n",
      "\u001b[1;31mNameError\u001b[0m: name 'l' is not defined"
     ]
    }
   ],
   "source": [
    "d.get_keys()"
   ]
  },
  {
   "cell_type": "code",
   "execution_count": null,
   "id": "4928dc12",
   "metadata": {},
   "outputs": [],
   "source": [
    "d.user_input()"
   ]
  },
  {
   "cell_type": "code",
   "execution_count": 21,
   "id": "f9f89634",
   "metadata": {},
   "outputs": [
    {
     "name": "stdout",
     "output_type": "stream",
     "text": [
      "{'k': 'sudh', 'k2': [3, 4, 5, 6, 7, 8], 'key': 343}\n"
     ]
    }
   ],
   "source": [
    "d.insert_data(\"key\",343)"
   ]
  },
  {
   "cell_type": "code",
   "execution_count": 1,
   "id": "b0d00890",
   "metadata": {},
   "outputs": [],
   "source": [
    "#_another soln \n",
    "\n",
    "class dictionary():\n",
    "    def __init__(self,d):\n",
    "        self.d=d\n",
    "        \n",
    "    def parse_dict(self):\n",
    "        self.d={}\n",
    "        while(True):\n",
    "            key=input(\"Enter key:  . Press -1 to exit\")\n",
    "            value=input(\"Enter value:  . Press -1 to exit\")\n",
    "            \n",
    "            if key == '-1' or value =='-1':\n",
    "                break\n",
    "                \n",
    "            self.d[key]=value\n",
    "            \n",
    "        print(f\"Your dictionary is {self.d}\")\n",
    "        \n",
    "        "
   ]
  },
  {
   "cell_type": "code",
   "execution_count": 2,
   "id": "277409d7",
   "metadata": {},
   "outputs": [],
   "source": [
    "# another solution\n",
    "\n",
    "class dict_parser:\n",
    "    def __init__(self,dic):\n",
    "        if type(dic) != dict:\n",
    "            raise ValueError(\"Input is not a dictionary\")\n",
    "        self.dictionary = dic\n",
    "        \n",
    "    def get_keys(self):\n",
    "        return self.dictionary.keys()\n",
    "    \n",
    "    def get_values(self):\n",
    "        return self.dictionary.values()\n",
    "    \n",
    "    def take_input(self):\n",
    "        a=input(\"Enter key: \")\n",
    "        b=input(\"Enter value: \")\n",
    "        self.dictionary[a]=b\n",
    "        \n",
    "    def insert_key_val_pair(self,key,value):\n",
    "        self.dictionary[key] = value"
   ]
  },
  {
   "cell_type": "code",
   "execution_count": 4,
   "id": "0ac91c6b",
   "metadata": {},
   "outputs": [],
   "source": [
    "#__Another Solution\n",
    "\n",
    "class dict_activity():\n",
    "    def __init__(self,dic):\n",
    "        self.dic = dic\n",
    "    \n",
    "    def check_thetype(self):\n",
    "        if isinstance(self.dic,dict)==0:\n",
    "            raise Exception(\"You've entered \" , type(self.dic))\n",
    "            \n",
    "    def give_allkeys(self):\n",
    "        if self.check_thetype():\n",
    "            return self.dic.keys()\n",
    "        \n",
    "    def give_allvalues(self):\n",
    "        if self.check_thetype():\n",
    "            return self.dic.values()\n",
    "        \n",
    "    def enter_key_value(self):\n",
    "        if self.check_thetype():\n",
    "            key=input(\"Enter the key: \")\n",
    "            value=input(\"Enter the value: \")\n",
    "            \n",
    "            self.dic[key]=value\n",
    "            \n",
    "    def insert(self,**kwargs):\n",
    "        for k,v in kwargs.items():\n",
    "            self.dic[k] = v\n",
    "            print(\"Value inserted\")"
   ]
  },
  {
   "cell_type": "code",
   "execution_count": 5,
   "id": "42bbed2b",
   "metadata": {},
   "outputs": [],
   "source": [
    "#_Another variation\n",
    "\n",
    "import logging as lg\n",
    "lg.basicConfig(filename=\"dict_parser.log\")\n",
    "\n",
    "class dict_parser:\n",
    "    \n",
    "    def __init__(self,a):\n",
    "        self.a = a\n",
    "        \n",
    "    def dic_keys(self):\n",
    "        try:\n",
    "            l=list(self.a.keys())\n",
    "            return l\n",
    "        except:\n",
    "            self.logger(\"Enter Dictionary..Not a Dictionary!\")\n",
    "    \n",
    "    def dic_values(self):\n",
    "        try:\n",
    "            return list(self.a.values())\n",
    "        except:\n",
    "            self.logger(\"Not a Dictionary! Enter Dictionary\")\n",
    "            \n",
    "    def insert_dic(self,**kwargs):\n",
    "        try:\n",
    "            self.a.update(kwargs)\n",
    "            return self.a\n",
    "        except:\n",
    "            self.logger(\"Input was Not a Dictionary. Kindly enter Dictionary\")\n",
    "            \n",
    "    def logger(self,log):\n",
    "        logger = lg.error(log)\n",
    "    \n",
    "    def check(self):\n",
    "        if type(self.a) != dict:\n",
    "            raise Exception (\"Not a Dictionary\")\n",
    "        else:\n",
    "            print(\"Input is a dictionary\")\n",
    "            \n",
    "    def __str__(self):\n",
    "        return 'this is class for dictionary parsing'\n",
    "            "
   ]
  },
  {
   "cell_type": "markdown",
   "id": "72fae75e",
   "metadata": {},
   "source": [
    "###### HOW TO INTEGRATE THESE(CLASSES & OBJECTS) INTO MODULES AND PACKAGES?!"
   ]
  },
  {
   "cell_type": "code",
   "execution_count": 6,
   "id": "ca8743a7",
   "metadata": {},
   "outputs": [
    {
     "data": {
      "text/plain": [
       "<_io.TextIOWrapper name='mydict.py' mode='w' encoding='cp1252'>"
      ]
     },
     "execution_count": 6,
     "metadata": {},
     "output_type": "execute_result"
    }
   ],
   "source": [
    "open(\"mydict.py\",\"w\")"
   ]
  },
  {
   "cell_type": "code",
   "execution_count": 7,
   "id": "697778d9",
   "metadata": {},
   "outputs": [
    {
     "name": "stdout",
     "output_type": "stream",
     "text": [
      " Volume in drive C is OS\n",
      " Volume Serial Number is 1600-9EB4\n",
      "\n",
      " Directory of C:\\Users\\santa\n",
      "\n",
      "17-02-2023  13:56    <DIR>          .\n",
      "22-09-2022  14:03    <DIR>          ..\n",
      "22-08-2022  12:19    <DIR>          .anaconda\n",
      "08-02-2023  16:31    <DIR>          .conda\n",
      "22-08-2022  12:19                25 .condarc\n",
      "22-08-2022  12:18    <DIR>          .continuum\n",
      "24-01-2023  17:50                53 .git-for-windows-updater\n",
      "10-07-2022  18:25    <DIR>          .idlerc\n",
      "10-02-2023  15:11    <DIR>          .ipynb_checkpoints\n",
      "22-08-2022  13:10    <DIR>          .ipython\n",
      "22-08-2022  14:04    <DIR>          .jupyter\n",
      "27-08-2022  08:26                43 .python_history\n",
      "21-01-2023  19:46               527 .vivaldi_reporting_data\n",
      "04-01-2023  10:28    <DIR>          .vscode\n",
      "31-01-2023  15:31    <DIR>          __pycache__\n",
      "18-09-2022  17:45    <DIR>          anaconda3\n",
      "18-07-2022  15:52    <DIR>          ansel\n",
      "27-01-2023  16:55             1,448 calculator1.log\n",
      "17-02-2023  13:56            30,833 Class, Object, OOPs.ipynb\n",
      "12-01-2023  18:20             8,858 CodeWithHarry_Python_100days.ipynb\n",
      "22-09-2022  16:10    <DIR>          Contacts\n",
      "17-02-2023  11:18                 0 dict_parser.log\n",
      "26-07-2022  17:58    <DIR>          Documents\n",
      "14-02-2023  20:39    <DIR>          Downloads\n",
      "08-02-2023  22:04           167,077 Enter Sudhanshu FSDS Batch2 Functions.ipynb\n",
      "24-01-2023  20:11            72,003 Exception Handling.ipynb\n",
      "22-09-2022  16:10    <DIR>          Favorites\n",
      "03-01-2023  12:52           944,404 iNeuron_Recorded FSDS Bootcamp_Sudhanshu (Py_Basics).ipynb\n",
      "24-01-2023  20:08            36,079 Iterator Generator File Handling [Recorded Lesson Sudhanshu][Advanced Python] ? ?.ipynb\n",
      "22-09-2022  16:10    <DIR>          Links\n",
      "17-12-2022  16:09            10,700 Live class 17-12-2022.ipynb\n",
      "27-01-2023  17:49            15,509 Logging.ipynb\n",
      "08-02-2023  22:01            15,100 Modules & Packages.ipynb\n",
      "22-09-2022  16:10    <DIR>          Music\n",
      "31-01-2023  15:30               218 my_module.py\n",
      "17-02-2023  13:56                 0 mydict.py\n",
      "29-10-2022  10:45            62,638 MyGreatLearning_Free_Python_Practice.ipynb\n",
      "27-01-2023  17:05               785 namecheck.log\n",
      "27-01-2023  17:05               249 namecheck_1.log\n",
      "16-02-2023  17:43    <DIR>          OneDrive\n",
      "30-01-2023  12:03                 0 PracticeNOTEPAD++.txt\n",
      "12-01-2023  12:51            13,501 Py_Practice_Questions.ipynb\n",
      "08-02-2023  16:30    <DIR>          PycharmProjects\n",
      "22-12-2022  17:49    <DIR>          Saved Games\n",
      "22-09-2022  16:10    <DIR>          Searches\n",
      "01-11-2022  16:56           107,648 Sunny_Bhaveen_Chandra_Py_Basics_FSDS-2.ipynb\n",
      "23-01-2023  16:37               451 test.log\n",
      "19-01-2023  12:29                20 test.txt\n",
      "30-01-2023  19:34               156 test1.py\n",
      "13-01-2023  16:50                38 test1.txt\n",
      "23-01-2023  17:19               646 test2.log\n",
      "30-01-2023  19:15                 0 test2.py\n",
      "24-01-2023  17:37               115 test2.txt\n",
      "23-01-2023  17:49             5,083 test3.log\n",
      "24-01-2023  17:02                 0 test4.txt\n",
      "24-01-2023  17:26                18 text1.txt\n",
      "18-09-2022  16:56    <DIR>          Untitled Folder\n",
      "10-02-2023  15:21             5,212 Untitled.ipynb\n",
      "16-02-2023  17:42    <DIR>          Videos\n",
      "              34 File(s)      1,499,437 bytes\n",
      "              25 Dir(s)  118,043,353,088 bytes free\n"
     ]
    }
   ],
   "source": [
    "ls"
   ]
  },
  {
   "cell_type": "code",
   "execution_count": 8,
   "id": "0ef742ac",
   "metadata": {},
   "outputs": [],
   "source": [
    "import mydict                  # mydict module"
   ]
  },
  {
   "cell_type": "code",
   "execution_count": 9,
   "id": "52d64356",
   "metadata": {},
   "outputs": [],
   "source": [
    "d= mydict.dict_parsing({\"k1\":\"sudh\",\"k2\":\"[1,2,3]\"})  #creating an object d in class dict_parsing     "
   ]
  },
  {
   "cell_type": "code",
   "execution_count": 10,
   "id": "5f06aa34",
   "metadata": {},
   "outputs": [
    {
     "data": {
      "text/plain": [
       "['k1', 'k2']"
      ]
     },
     "execution_count": 10,
     "metadata": {},
     "output_type": "execute_result"
    }
   ],
   "source": [
    "d.getkeys()"
   ]
  },
  {
   "cell_type": "code",
   "execution_count": 11,
   "id": "1a810a5f",
   "metadata": {},
   "outputs": [
    {
     "data": {
      "text/plain": [
       "['sudh', '[1,2,3]']"
      ]
     },
     "execution_count": 11,
     "metadata": {},
     "output_type": "execute_result"
    }
   ],
   "source": [
    "d.getvalues()"
   ]
  },
  {
   "cell_type": "code",
   "execution_count": 12,
   "id": "bbbcd283",
   "metadata": {},
   "outputs": [],
   "source": [
    "#__Alternate method\n",
    "\n",
    "import mydict                     # imports the entire module\n",
    "from mydict import dict_parsing   # imports specific methods within a module"
   ]
  },
  {
   "cell_type": "code",
   "execution_count": 13,
   "id": "307aac66",
   "metadata": {},
   "outputs": [],
   "source": [
    "d1 = dict_parsing({\"k1\":\"sudh\",\"k2\":\"[1,2,3]\"})"
   ]
  },
  {
   "cell_type": "code",
   "execution_count": 14,
   "id": "552b9192",
   "metadata": {},
   "outputs": [
    {
     "data": {
      "text/plain": [
       "['sudh', '[1,2,3]']"
      ]
     },
     "execution_count": 14,
     "metadata": {},
     "output_type": "execute_result"
    }
   ],
   "source": [
    "d1.getvalues()"
   ]
  },
  {
   "cell_type": "markdown",
   "id": "baef7d58",
   "metadata": {},
   "source": [
    "#### [Homework]\n",
    "##### 1. Create your own package for all the list function\n",
    "##### 2. Create your own package for all the tuple function\n",
    "##### 3. Create your own package for all the dictionary functions\n",
    "##### 4. Create your own package for all the set function"
   ]
  },
  {
   "cell_type": "code",
   "execution_count": null,
   "id": "b3612904",
   "metadata": {},
   "outputs": [],
   "source": []
  },
  {
   "cell_type": "code",
   "execution_count": null,
   "id": "daacb21e",
   "metadata": {},
   "outputs": [],
   "source": []
  },
  {
   "cell_type": "markdown",
   "id": "10b84a94",
   "metadata": {},
   "source": [
    "## oops [part 2][recorded lesson]"
   ]
  },
  {
   "cell_type": "markdown",
   "id": "6e78e08c",
   "metadata": {},
   "source": [
    "# The Concept of Inheritance "
   ]
  },
  {
   "cell_type": "code",
   "execution_count": 15,
   "id": "fdc4ce79",
   "metadata": {},
   "outputs": [],
   "source": [
    "class xyz:\n",
    "    def __init__(self, a,b,c):\n",
    "        self.a = a\n",
    "        self.b = b\n",
    "        self.c = c\n",
    "        \n",
    "    def test(self):\n",
    "        print(\"this is my first test method of xyz class\")\n",
    "        \n",
    "    def test1(self):\n",
    "        print(\"this is my test1 method of xyz class\")\n",
    "        \n",
    "    def test2(self):\n",
    "        print(\"this is my test2 method of xyz class\")\n",
    "        \n",
    "        "
   ]
  },
  {
   "cell_type": "code",
   "execution_count": null,
   "id": "697e655f",
   "metadata": {},
   "outputs": [],
   "source": [
    "#_creating an object of xyz class:\n",
    "\n",
    "p = xyz(1,2,3)           # 'p' is a variable of xyz class ----> object!"
   ]
  },
  {
   "cell_type": "code",
   "execution_count": null,
   "id": "67246d9d",
   "metadata": {},
   "outputs": [],
   "source": []
  },
  {
   "cell_type": "code",
   "execution_count": 16,
   "id": "7225c5fe",
   "metadata": {},
   "outputs": [],
   "source": [
    "class xyz1(xyz):               # inheritance: calling the class(xyz) as a method\n",
    "                     # calling properties of xyz class inside xyz1 class (inheritance)\n",
    "    pass           # We are trying to inherit the property of xyz class (as a method) in xyz1 class.\n"
   ]
  },
  {
   "cell_type": "code",
   "execution_count": 18,
   "id": "0c1bdf8b",
   "metadata": {},
   "outputs": [
    {
     "ename": "TypeError",
     "evalue": "__init__() missing 3 required positional arguments: 'a', 'b', and 'c'",
     "output_type": "error",
     "traceback": [
      "\u001b[1;31m---------------------------------------------------------------------------\u001b[0m",
      "\u001b[1;31mTypeError\u001b[0m                                 Traceback (most recent call last)",
      "Input \u001b[1;32mIn [18]\u001b[0m, in \u001b[0;36m<cell line: 1>\u001b[1;34m()\u001b[0m\n\u001b[1;32m----> 1\u001b[0m q\u001b[38;5;241m=\u001b[39m\u001b[43mxyz1\u001b[49m\u001b[43m(\u001b[49m\u001b[43m)\u001b[49m\n",
      "\u001b[1;31mTypeError\u001b[0m: __init__() missing 3 required positional arguments: 'a', 'b', and 'c'"
     ]
    }
   ],
   "source": [
    "q=xyz1()"
   ]
  },
  {
   "cell_type": "code",
   "execution_count": 19,
   "id": "edcdfe76",
   "metadata": {},
   "outputs": [],
   "source": [
    "q=xyz1(3,4,5)      # {3 parameters required} --> property inherited from parent('xyz' class)"
   ]
  },
  {
   "cell_type": "code",
   "execution_count": null,
   "id": "26f1ab40",
   "metadata": {},
   "outputs": [],
   "source": [
    "q.                 # Press Tab to see the methods (test,test1,test2: being inherited from xyz class)"
   ]
  },
  {
   "cell_type": "code",
   "execution_count": 20,
   "id": "90e97501",
   "metadata": {},
   "outputs": [
    {
     "name": "stdout",
     "output_type": "stream",
     "text": [
      "this is my test1 method of xyz class\n"
     ]
    }
   ],
   "source": [
    "q.test1()          # calling test1 function of parent class in xyz1 child class"
   ]
  },
  {
   "cell_type": "code",
   "execution_count": 21,
   "id": "3e63dd97",
   "metadata": {},
   "outputs": [],
   "source": [
    "class xyz1(xyz):\n",
    "    def test(self):  # this test method is available by default.. as it was in xyz class \n",
    "        print(\"this is a test method available in xyz1\")  #...over ride the function in parent class"
   ]
  },
  {
   "cell_type": "code",
   "execution_count": 22,
   "id": "b36a91a4",
   "metadata": {},
   "outputs": [],
   "source": [
    "g=xyz1(4,5,6)"
   ]
  },
  {
   "cell_type": "code",
   "execution_count": 23,
   "id": "d27b2934",
   "metadata": {},
   "outputs": [
    {
     "name": "stdout",
     "output_type": "stream",
     "text": [
      "this is a test method available in xyz1\n"
     ]
    }
   ],
   "source": [
    "g.test()   # property of child class is over riding the property of parent class"
   ]
  },
  {
   "cell_type": "code",
   "execution_count": 24,
   "id": "4a01269d",
   "metadata": {},
   "outputs": [],
   "source": [
    "#_Creating 2 separate independent classes (xyz,xyz1) \n",
    "\n",
    "class xyz:\n",
    "    def __init__(self, a,b,c):\n",
    "        self.a=a\n",
    "        self.b=b\n",
    "        self.c=c\n",
    "        \n",
    "    def test(self):\n",
    "        print(\"this is a method of xyz class\")\n",
    "        \n",
    "class xyz1:\n",
    "    def __init__(self, p,q,v):\n",
    "        self.p=p\n",
    "        self.v=v\n",
    "        self.q=q\n",
    "        \n",
    "    def test1(self):\n",
    "        print(\"this is a menthod from xyz1 class\")\n",
    "        \n",
    "class child(xyz,xyz1): \n",
    "    pass    \n",
    "\n",
    "# child class inherits properties from 2 parents (xyz, xyz1) <-- multi-class inheritance \n"
   ]
  },
  {
   "cell_type": "code",
   "execution_count": 25,
   "id": "ed40febb",
   "metadata": {},
   "outputs": [
    {
     "ename": "TypeError",
     "evalue": "__init__() missing 3 required positional arguments: 'a', 'b', and 'c'",
     "output_type": "error",
     "traceback": [
      "\u001b[1;31m---------------------------------------------------------------------------\u001b[0m",
      "\u001b[1;31mTypeError\u001b[0m                                 Traceback (most recent call last)",
      "Input \u001b[1;32mIn [25]\u001b[0m, in \u001b[0;36m<cell line: 1>\u001b[1;34m()\u001b[0m\n\u001b[1;32m----> 1\u001b[0m n \u001b[38;5;241m=\u001b[39m \u001b[43mchild\u001b[49m\u001b[43m(\u001b[49m\u001b[43m)\u001b[49m\n",
      "\u001b[1;31mTypeError\u001b[0m: __init__() missing 3 required positional arguments: 'a', 'b', and 'c'"
     ]
    }
   ],
   "source": [
    "n = child()                 # n is a variable(object) of child class"
   ]
  },
  {
   "cell_type": "code",
   "execution_count": 26,
   "id": "9067e467",
   "metadata": {},
   "outputs": [],
   "source": [
    "n = child(4,5,6)"
   ]
  },
  {
   "cell_type": "code",
   "execution_count": null,
   "id": "13f883a3",
   "metadata": {},
   "outputs": [],
   "source": [
    "n.                    # press Tab & you'll see all variables of xyz class(1st arg) being inherited + \n",
    "                      # functions/method from both the parents are inherited"
   ]
  },
  {
   "cell_type": "code",
   "execution_count": 27,
   "id": "7678b628",
   "metadata": {},
   "outputs": [],
   "source": [
    "#_How to inherit variables from both the classes?\n",
    "\n",
    "class xyz:\n",
    "    def __init__(self, a,b,c):\n",
    "        self.a=a\n",
    "        self.b=b\n",
    "        self.c=c\n",
    "        \n",
    "    def test(self):\n",
    "        print(\"this is a method of xyz class\")\n",
    "        \n",
    "class xyz1:\n",
    "    def __init__(self, p,q,v):\n",
    "        self.p=p\n",
    "        self.v=v\n",
    "        self.q=q\n",
    "        \n",
    "    def test1(self):\n",
    "        print(\"this is a menthod from xyz1 class\")\n",
    "        \n",
    "class child(xyz,xyz1):                                #... starting from here\n",
    "    def __init__(self):                      # creating a constructor for child class\n",
    "        \n",
    "        xyz.__init__(self)\n",
    "        xyz1.__init__(self)\n",
    "        \n",
    "            "
   ]
  },
  {
   "cell_type": "code",
   "execution_count": 28,
   "id": "ab65a05c",
   "metadata": {},
   "outputs": [
    {
     "ename": "TypeError",
     "evalue": "__init__() takes 1 positional argument but 4 were given",
     "output_type": "error",
     "traceback": [
      "\u001b[1;31m---------------------------------------------------------------------------\u001b[0m",
      "\u001b[1;31mTypeError\u001b[0m                                 Traceback (most recent call last)",
      "Input \u001b[1;32mIn [28]\u001b[0m, in \u001b[0;36m<cell line: 1>\u001b[1;34m()\u001b[0m\n\u001b[1;32m----> 1\u001b[0m n \u001b[38;5;241m=\u001b[39m \u001b[43mchild\u001b[49m\u001b[43m(\u001b[49m\u001b[38;5;241;43m4\u001b[39;49m\u001b[43m,\u001b[49m\u001b[38;5;241;43m5\u001b[39;49m\u001b[43m,\u001b[49m\u001b[38;5;241;43m6\u001b[39;49m\u001b[43m)\u001b[49m\n",
      "\u001b[1;31mTypeError\u001b[0m: __init__() takes 1 positional argument but 4 were given"
     ]
    }
   ],
   "source": [
    "n = child(4,5,6)                                      #__Study the error..!"
   ]
  },
  {
   "cell_type": "code",
   "execution_count": 1,
   "id": "59aaef24",
   "metadata": {},
   "outputs": [],
   "source": [
    "#_Mission is to import a,b,c & p,v,q both inside the child class...\n",
    "\n",
    "class xyz:\n",
    "    def __init__(self, a,b,c):\n",
    "        self.a=a\n",
    "        self.b=b\n",
    "        self.c=c\n",
    "        \n",
    "    def test(self):\n",
    "        print(\"this is a method of xyz class\")\n",
    "        \n",
    "class xyz1:\n",
    "    def __init__(self, p,q,v):\n",
    "        self.p=p\n",
    "        self.v=v\n",
    "        self.q=q\n",
    "        \n",
    "    def test1(self):\n",
    "        print(\"this is a menthod from xyz1 class\")\n",
    "        \n",
    "class child(xyz,xyz1):                                #... starting from here\n",
    "    def __init__(self,*args):                      # creating a constructor for child class\n",
    "        \n",
    "        xyz.__init__(self,*args)\n",
    "        xyz1.__init__(self,*args)\n",
    "\n"
   ]
  },
  {
   "cell_type": "code",
   "execution_count": 2,
   "id": "379bcb55",
   "metadata": {},
   "outputs": [],
   "source": [
    "n=child(4,5,6)"
   ]
  },
  {
   "cell_type": "code",
   "execution_count": null,
   "id": "2205adec",
   "metadata": {},
   "outputs": [],
   "source": [
    "n.                            # press tab to see mission is complete"
   ]
  },
  {
   "cell_type": "code",
   "execution_count": 3,
   "id": "421bd7dc",
   "metadata": {},
   "outputs": [
    {
     "data": {
      "text/plain": [
       "4"
      ]
     },
     "execution_count": 3,
     "metadata": {},
     "output_type": "execute_result"
    }
   ],
   "source": [
    "n.p"
   ]
  },
  {
   "cell_type": "code",
   "execution_count": 4,
   "id": "0da47532",
   "metadata": {},
   "outputs": [
    {
     "data": {
      "text/plain": [
       "4"
      ]
     },
     "execution_count": 4,
     "metadata": {},
     "output_type": "execute_result"
    }
   ],
   "source": [
    "n.a         # value of a,b,c and p,q,v os same.. constructor created for both"
   ]
  },
  {
   "cell_type": "code",
   "execution_count": 6,
   "id": "850e631b",
   "metadata": {},
   "outputs": [],
   "source": [
    "class xyz:\n",
    "    def __init__(self, a,b,c):\n",
    "        self.a=a\n",
    "        self.b=b\n",
    "        self.c=c\n",
    "        \n",
    "    def test(self):\n",
    "        print(\"this is a method of xyz class\")\n",
    "        \n",
    "class xyz1:\n",
    "    def __init__(self, p,q,v):\n",
    "        self.p=p\n",
    "        self.v=v\n",
    "        self.q=q\n",
    "        \n",
    "    def test1(self):\n",
    "        print(\"this is a menthod from xyz1 class\")\n",
    "        \n",
    "class child(xyz,xyz1):                                #... starting from here\n",
    "    def __init__(self,*args,**kwargs):                      # creating a constructor for child class\n",
    "        \n",
    "        xyz.__init__(self,*args)           # 2 separate constructor for 2 __inits__to access variables\n",
    "        xyz1.__init__(self,**kwargs)\n"
   ]
  },
  {
   "cell_type": "code",
   "execution_count": 7,
   "id": "f8f40500",
   "metadata": {},
   "outputs": [
    {
     "ename": "TypeError",
     "evalue": "__init__() missing 3 required positional arguments: 'p', 'q', and 'v'",
     "output_type": "error",
     "traceback": [
      "\u001b[1;31m---------------------------------------------------------------------------\u001b[0m",
      "\u001b[1;31mTypeError\u001b[0m                                 Traceback (most recent call last)",
      "Input \u001b[1;32mIn [7]\u001b[0m, in \u001b[0;36m<cell line: 1>\u001b[1;34m()\u001b[0m\n\u001b[1;32m----> 1\u001b[0m n\u001b[38;5;241m=\u001b[39m\u001b[43mchild\u001b[49m\u001b[43m(\u001b[49m\u001b[38;5;241;43m4\u001b[39;49m\u001b[43m,\u001b[49m\u001b[38;5;241;43m5\u001b[39;49m\u001b[43m,\u001b[49m\u001b[38;5;241;43m6\u001b[39;49m\u001b[43m)\u001b[49m\n",
      "Input \u001b[1;32mIn [6]\u001b[0m, in \u001b[0;36mchild.__init__\u001b[1;34m(self, *args, **kwargs)\u001b[0m\n\u001b[0;32m     20\u001b[0m \u001b[38;5;28;01mdef\u001b[39;00m \u001b[38;5;21m__init__\u001b[39m(\u001b[38;5;28mself\u001b[39m,\u001b[38;5;241m*\u001b[39margs,\u001b[38;5;241m*\u001b[39m\u001b[38;5;241m*\u001b[39mkwargs):                      \u001b[38;5;66;03m# creating a constructor for child class\u001b[39;00m\n\u001b[0;32m     22\u001b[0m     xyz\u001b[38;5;241m.\u001b[39m\u001b[38;5;21m__init__\u001b[39m(\u001b[38;5;28mself\u001b[39m,\u001b[38;5;241m*\u001b[39margs)           \u001b[38;5;66;03m# 2 separate constructor for 2 __inits__\u001b[39;00m\n\u001b[1;32m---> 23\u001b[0m     xyz1\u001b[38;5;241m.\u001b[39m\u001b[38;5;21m__init__\u001b[39m(\u001b[38;5;28mself\u001b[39m,\u001b[38;5;241m*\u001b[39m\u001b[38;5;241m*\u001b[39mkwargs)\n",
      "\u001b[1;31mTypeError\u001b[0m: __init__() missing 3 required positional arguments: 'p', 'q', and 'v'"
     ]
    }
   ],
   "source": [
    "n=child(4,5,6)"
   ]
  },
  {
   "cell_type": "code",
   "execution_count": 8,
   "id": "a7779f6f",
   "metadata": {},
   "outputs": [],
   "source": [
    "#|__How to fix?\n",
    "\n",
    "n=child(4,5,6,p=3,q=33,v=15)"
   ]
  },
  {
   "cell_type": "code",
   "execution_count": 9,
   "id": "00bb90b4",
   "metadata": {},
   "outputs": [
    {
     "data": {
      "text/plain": [
       "33"
      ]
     },
     "execution_count": 9,
     "metadata": {},
     "output_type": "execute_result"
    }
   ],
   "source": [
    "n.q"
   ]
  },
  {
   "cell_type": "code",
   "execution_count": 10,
   "id": "da138295",
   "metadata": {},
   "outputs": [
    {
     "data": {
      "text/plain": [
       "4"
      ]
     },
     "execution_count": 10,
     "metadata": {},
     "output_type": "execute_result"
    }
   ],
   "source": [
    "n.a"
   ]
  },
  {
   "cell_type": "code",
   "execution_count": 11,
   "id": "acf62e06",
   "metadata": {},
   "outputs": [
    {
     "data": {
      "text/plain": [
       "15"
      ]
     },
     "execution_count": 11,
     "metadata": {},
     "output_type": "execute_result"
    }
   ],
   "source": [
    "n.v"
   ]
  },
  {
   "cell_type": "code",
   "execution_count": 12,
   "id": "34e88115",
   "metadata": {},
   "outputs": [
    {
     "name": "stdout",
     "output_type": "stream",
     "text": [
      "this is a method of xyz class\n"
     ]
    }
   ],
   "source": [
    "n.test()"
   ]
  },
  {
   "cell_type": "code",
   "execution_count": 13,
   "id": "8bab7889",
   "metadata": {},
   "outputs": [],
   "source": [
    "#__MULTI-LEVEL INHERITANCE\n",
    "\n",
    "class xyz:\n",
    "    def __init__(self,a,b,c):\n",
    "        self.a = a\n",
    "        self.b = b\n",
    "        self.c = c\n",
    "        \n",
    "    def test(self):\n",
    "        print(\"This is my method of xyz class\")\n",
    "        \n",
    "class xyz1(xyz):\n",
    "    def test1(self):\n",
    "        print(\"This is my method from xyz1 class\")\n",
    "    \n",
    "class xyz2(xyz1):\n",
    "    def test2(self):\n",
    "        print(\"This is my method from xyz2 class\")\n"
   ]
  },
  {
   "cell_type": "code",
   "execution_count": 14,
   "id": "6b9c875c",
   "metadata": {},
   "outputs": [
    {
     "ename": "TypeError",
     "evalue": "__init__() missing 3 required positional arguments: 'a', 'b', and 'c'",
     "output_type": "error",
     "traceback": [
      "\u001b[1;31m---------------------------------------------------------------------------\u001b[0m",
      "\u001b[1;31mTypeError\u001b[0m                                 Traceback (most recent call last)",
      "Input \u001b[1;32mIn [14]\u001b[0m, in \u001b[0;36m<cell line: 1>\u001b[1;34m()\u001b[0m\n\u001b[1;32m----> 1\u001b[0m v\u001b[38;5;241m=\u001b[39m\u001b[43mxyz2\u001b[49m\u001b[43m(\u001b[49m\u001b[43m)\u001b[49m\n",
      "\u001b[1;31mTypeError\u001b[0m: __init__() missing 3 required positional arguments: 'a', 'b', and 'c'"
     ]
    }
   ],
   "source": [
    "v=xyz2()"
   ]
  },
  {
   "cell_type": "markdown",
   "id": "77b4414e",
   "metadata": {},
   "source": [
    "#### why is it asking for a , b , c ??\n",
    "\n",
    "## Ans: Grandparent ---> Parent ---> Child [Multi-level Inheritance]"
   ]
  },
  {
   "cell_type": "code",
   "execution_count": 15,
   "id": "89460d7e",
   "metadata": {},
   "outputs": [],
   "source": [
    "v=xyz2(5,6,7)"
   ]
  },
  {
   "cell_type": "code",
   "execution_count": null,
   "id": "059bc83f",
   "metadata": {},
   "outputs": [],
   "source": [
    "v.                             # Press Tab and see!!"
   ]
  },
  {
   "cell_type": "markdown",
   "id": "e04519e3",
   "metadata": {},
   "source": [
    "All the methods are available to the child. But variables are also required! Hence, create constructors!"
   ]
  },
  {
   "cell_type": "code",
   "execution_count": 16,
   "id": "61eb190b",
   "metadata": {},
   "outputs": [],
   "source": [
    "#_Multi-level Inheritance\n",
    "\n",
    "class xyz:\n",
    "    def __init__(self,a,b,c):\n",
    "        self.a = a\n",
    "        self.b = b\n",
    "        self.c = c\n",
    "        \n",
    "    def test(self):\n",
    "        print(\"This is my method of xyz class\")\n",
    "        \n",
    "class xyz1(xyz):\n",
    "    def test1(self):\n",
    "        print(\"This is my method from xyz1 class\")\n",
    "    \n",
    "class xyz2(xyz1):\n",
    "    def test2(self):\n",
    "        print(\"This is my method from xyz2 class\")\n",
    "\n",
    "class xyz3(xyz2):\n",
    "    def test3(self):\n",
    "        print(\"This is my method from class xyz3\")"
   ]
  },
  {
   "cell_type": "code",
   "execution_count": 17,
   "id": "c21e4b85",
   "metadata": {},
   "outputs": [],
   "source": [
    "v=xyz3(5,6,7)"
   ]
  },
  {
   "cell_type": "code",
   "execution_count": 18,
   "id": "f57d1383",
   "metadata": {},
   "outputs": [
    {
     "name": "stdout",
     "output_type": "stream",
     "text": [
      "This is my method from class xyz3\n"
     ]
    }
   ],
   "source": [
    "v.test3()                           "
   ]
  },
  {
   "cell_type": "markdown",
   "id": "471924e3",
   "metadata": {},
   "source": [
    "### __Problem:\n",
    "\n",
    "##### 1. create a file class for reading data from respective file with method name - read and write\n",
    "\n",
    "##### 2. try to inherit read and write method from parent class to child class to perform r&w operation\n"
   ]
  },
  {
   "cell_type": "code",
   "execution_count": 2,
   "id": "2c5a7594",
   "metadata": {},
   "outputs": [
    {
     "ename": "ValueError",
     "evalue": "Unrecognised argument(s): fomat",
     "output_type": "error",
     "traceback": [
      "\u001b[1;31m---------------------------------------------------------------------------\u001b[0m",
      "\u001b[1;31mValueError\u001b[0m                                Traceback (most recent call last)",
      "Input \u001b[1;32mIn [2]\u001b[0m, in \u001b[0;36m<cell line: 3>\u001b[1;34m()\u001b[0m\n\u001b[0;32m      1\u001b[0m \u001b[38;5;28;01mimport\u001b[39;00m \u001b[38;5;21;01mlogging\u001b[39;00m\n\u001b[1;32m----> 3\u001b[0m \u001b[43mlogging\u001b[49m\u001b[38;5;241;43m.\u001b[39;49m\u001b[43mbasicConfig\u001b[49m\u001b[43m(\u001b[49m\u001b[43mfilename\u001b[49m\u001b[38;5;241;43m=\u001b[39;49m\u001b[38;5;124;43m\"\u001b[39;49m\u001b[38;5;124;43mlist.log\u001b[39;49m\u001b[38;5;124;43m\"\u001b[39;49m\u001b[43m,\u001b[49m\u001b[43mlevel\u001b[49m\u001b[38;5;241;43m=\u001b[39;49m\u001b[43mlogging\u001b[49m\u001b[38;5;241;43m.\u001b[39;49m\u001b[43mDEBUG\u001b[49m\u001b[43m,\u001b[49m\u001b[43mfomat\u001b[49m\u001b[38;5;241;43m=\u001b[39;49m\u001b[38;5;124;43m\"\u001b[39;49m\u001b[38;5;132;43;01m%(asctime)s\u001b[39;49;00m\u001b[38;5;124;43m \u001b[39;49m\u001b[38;5;132;43;01m%(levelname)s\u001b[39;49;00m\u001b[38;5;124;43m \u001b[39;49m\u001b[38;5;132;43;01m%(message)s\u001b[39;49;00m\u001b[38;5;124;43m\"\u001b[39;49m\u001b[43m,\u001b[49m\u001b[43mfilemode\u001b[49m\u001b[38;5;241;43m=\u001b[39;49m\u001b[38;5;124;43m\"\u001b[39;49m\u001b[38;5;124;43mw\u001b[39;49m\u001b[38;5;124;43m\"\u001b[39;49m\u001b[43m)\u001b[49m\n\u001b[0;32m      5\u001b[0m \u001b[38;5;28;01mclass\u001b[39;00m \u001b[38;5;21;01mFile\u001b[39;00m:\n\u001b[0;32m      6\u001b[0m     \u001b[38;5;28;01mdef\u001b[39;00m \u001b[38;5;21m__init__\u001b[39m(\u001b[38;5;28mself\u001b[39m,filename):\n",
      "File \u001b[1;32m~\\anaconda3\\lib\\logging\\__init__.py:2025\u001b[0m, in \u001b[0;36mbasicConfig\u001b[1;34m(**kwargs)\u001b[0m\n\u001b[0;32m   2023\u001b[0m         \u001b[38;5;28;01mif\u001b[39;00m kwargs:\n\u001b[0;32m   2024\u001b[0m             keys \u001b[38;5;241m=\u001b[39m \u001b[38;5;124m'\u001b[39m\u001b[38;5;124m, \u001b[39m\u001b[38;5;124m'\u001b[39m\u001b[38;5;241m.\u001b[39mjoin(kwargs\u001b[38;5;241m.\u001b[39mkeys())\n\u001b[1;32m-> 2025\u001b[0m             \u001b[38;5;28;01mraise\u001b[39;00m \u001b[38;5;167;01mValueError\u001b[39;00m(\u001b[38;5;124m'\u001b[39m\u001b[38;5;124mUnrecognised argument(s): \u001b[39m\u001b[38;5;132;01m%s\u001b[39;00m\u001b[38;5;124m'\u001b[39m \u001b[38;5;241m%\u001b[39m keys)\n\u001b[0;32m   2026\u001b[0m \u001b[38;5;28;01mfinally\u001b[39;00m:\n\u001b[0;32m   2027\u001b[0m     _releaseLock()\n",
      "\u001b[1;31mValueError\u001b[0m: Unrecognised argument(s): fomat"
     ]
    }
   ],
   "source": [
    "import logging\n",
    "\n",
    "logging.basicConfig(filename=\"list.log\",level=logging.DEBUG,fomat=\"%(asctime)s %(levelname)s %(message)s\",filemode=\"w\")\n",
    "\n",
    "class File:\n",
    "    def __init__(self,filename):\n",
    "        logging.info(\"Creating file instance variable\")\n",
    "        self.file=filename\n",
    "        \n",
    "    def read(self):\n",
    "        logging.info(\"Executing read method\")\n",
    "        try:\n",
    "            with open(f\"{self.file}.txt\",'r') as f:\n",
    "                data = f.read()\n",
    "                return data\n",
    "        except FileNotFoundError as e:\n",
    "            logging.error(\"Error occured while opening the file\")\n",
    "            logging.exception(f\"Error is {e}\")\n",
    "            \n",
    "    def write(self):\n",
    "        logging.info(\"Executing write method\")\n",
    "        try:\n",
    "            with open(f\"{self.file}.txt\",\"w\")as f:\n",
    "                data = f.write(data)\n",
    "        except FileNotFoundError as e:\n",
    "            logging.error(\"Something has gone wrong while writing\")\n",
    "                      \n",
    "obj = File(\"abc\")\n",
    "                      \n",
    "                    "
   ]
  },
  {
   "cell_type": "code",
   "execution_count": 3,
   "id": "2fb8ccfc",
   "metadata": {},
   "outputs": [],
   "source": [
    "#__Normal Solution__\n",
    "\n",
    "import logging\n",
    "\n",
    "logging.basicConfig(filename=\"list.log\",level=logging.DEBUG,fomat=\"%(asctime)s %(levelname)s %(message)s\",filemode=\"w\")\n",
    "\n",
    "class File:\n",
    "    def __init__(self,filename):\n",
    "        logging.info(\"Creating file instance variable\")\n",
    "        self.file=filename\n",
    "        \n",
    "    def read(self):\n",
    "        logging.info(\"Executing read method\")\n",
    "        try:\n",
    "            with open(f\"{self.file}.txt\",'r') as f:\n",
    "                data = f.read()\n",
    "                return data\n",
    "        except FileNotFoundError as e:\n",
    "            logging.error(\"Error occured while opening the file\")\n",
    "            logging.exception(f\"Error is {e}\")\n",
    "            \n",
    "    def write(self):\n",
    "        logging.info(\"Executing write method\")\n",
    "        try:\n",
    "            with open(f\"{self.file}.txt\",\"w\")as f:\n",
    "                data = f.write(data)\n",
    "        except FileNotFoundError as e:\n",
    "            logging.error(\"Something has gone wrong while writing\")\n",
    "                      \n",
    "obj = File(\"abc\")\n",
    "                      \n",
    "                    "
   ]
  },
  {
   "cell_type": "code",
   "execution_count": 4,
   "id": "c3c49cc2",
   "metadata": {},
   "outputs": [],
   "source": [
    "#__Solution with Inheritance__\n",
    "\n",
    "class fileoperation:\n",
    "    def __init__(self,filepath):\n",
    "        self.filepath = filepath\n",
    "    \n",
    "    def read(self):\n",
    "        try:\n",
    "            f=open(self.filepath,\"r+\")\n",
    "            print(f.read())\n",
    "        except Exception as e:\n",
    "            print(e)\n",
    "        f.close()\n",
    "        \n",
    "    def write(self,writings=\"\"):\n",
    "        try:\n",
    "            f=open(self.filepath,\"a\")\n",
    "        except Exception as e:\n",
    "            print(e)\n",
    "        f.write(writings)\n",
    "        f.close()\n",
    "\n",
    "class child(fileoperation):\n",
    "    pass\n",
    "            "
   ]
  },
  {
   "cell_type": "code",
   "execution_count": null,
   "id": "5e966ced",
   "metadata": {},
   "outputs": [],
   "source": [
    "child.                                        # Press Tab to see"
   ]
  },
  {
   "cell_type": "markdown",
   "id": "aa1fea60",
   "metadata": {},
   "source": [
    "## PUBLIC, PRIVATE & PROTECTED  [ENCAPSULATION]\n",
    "\n",
    "##### 1. Public Variable: No underscore, readily available and can be accessed and used. Notation: [object.variablename]\n",
    "##### 2. Private Variable: Cannot be accessed readily. Notation: Double__ underscore; access: [a._classname.__b]\n",
    "##### 3. Protected Variable: Can be accessed by class and subclass but not outside subclass. Notation: [.single _ underscore]"
   ]
  },
  {
   "cell_type": "code",
   "execution_count": 5,
   "id": "8845acdd",
   "metadata": {},
   "outputs": [],
   "source": [
    "class test:\n",
    "    def __init__(self, a,b,c):\n",
    "        self.a = a\n",
    "        self.b = b\n",
    "        self.c = c\n",
    "\n",
    "u = test(4,5,6)"
   ]
  },
  {
   "cell_type": "code",
   "execution_count": 6,
   "id": "68354975",
   "metadata": {},
   "outputs": [
    {
     "data": {
      "text/plain": [
       "4"
      ]
     },
     "execution_count": 6,
     "metadata": {},
     "output_type": "execute_result"
    }
   ],
   "source": [
    "u.a                                     # all the variables can be accessed"
   ]
  },
  {
   "cell_type": "code",
   "execution_count": 7,
   "id": "87ee02de",
   "metadata": {},
   "outputs": [],
   "source": [
    "class test:\n",
    "    def __init__(self, a,b,c):\n",
    "        self.a = a\n",
    "        self.b = b\n",
    "        self.c = c\n",
    "        \n",
    "class test1(test):                            # using inheritance in child class\n",
    "    pass\n",
    "\n",
    "u = test(4,5,6)                             \n"
   ]
  },
  {
   "cell_type": "code",
   "execution_count": 8,
   "id": "f3167d68",
   "metadata": {},
   "outputs": [],
   "source": [
    "v= test1(3,4,5)      # creating an object of the child class and the value is also getting modified!"
   ]
  },
  {
   "cell_type": "code",
   "execution_count": 9,
   "id": "eeff00e0",
   "metadata": {},
   "outputs": [
    {
     "data": {
      "text/plain": [
       "3"
      ]
     },
     "execution_count": 9,
     "metadata": {},
     "output_type": "execute_result"
    }
   ],
   "source": [
    "v.a           # still all the variables can be accessed by the child class through inheritance!"
   ]
  },
  {
   "cell_type": "code",
   "execution_count": 13,
   "id": "5fbe1b23",
   "metadata": {},
   "outputs": [],
   "source": [
    "class test:\n",
    "    def __init__(self):\n",
    "        self.a = 4\n",
    "        \n",
    "        \n",
    "class test1(test):                           \n",
    "    pass\n",
    "\n",
    "u = test()          # object of parent class"
   ]
  },
  {
   "cell_type": "code",
   "execution_count": 14,
   "id": "bc68e5f0",
   "metadata": {},
   "outputs": [
    {
     "data": {
      "text/plain": [
       "4"
      ]
     },
     "execution_count": 14,
     "metadata": {},
     "output_type": "execute_result"
    }
   ],
   "source": [
    "u.a"
   ]
  },
  {
   "cell_type": "code",
   "execution_count": 15,
   "id": "07b4248f",
   "metadata": {},
   "outputs": [],
   "source": [
    "w=test1()           # creating an object of the child class"
   ]
  },
  {
   "cell_type": "code",
   "execution_count": 16,
   "id": "bea26c04",
   "metadata": {},
   "outputs": [
    {
     "data": {
      "text/plain": [
       "4"
      ]
     },
     "execution_count": 16,
     "metadata": {},
     "output_type": "execute_result"
    }
   ],
   "source": [
    "w.a"
   ]
  },
  {
   "cell_type": "markdown",
   "id": "82c4470d",
   "metadata": {},
   "source": [
    "Child class is able to access values of the parent class."
   ]
  },
  {
   "cell_type": "code",
   "execution_count": 17,
   "id": "d713d797",
   "metadata": {},
   "outputs": [],
   "source": [
    "#__Time for Modification in the child class__:\n",
    "\n",
    "class test:\n",
    "    def __init__(self):\n",
    "        self.a = 4\n",
    "        \n",
    "        \n",
    "class test1(test):                           \n",
    "    def __init__(self):\n",
    "        self.a = 7\n",
    "        \n",
    "u = test()\n"
   ]
  },
  {
   "cell_type": "code",
   "execution_count": 18,
   "id": "763b981a",
   "metadata": {},
   "outputs": [
    {
     "data": {
      "text/plain": [
       "4"
      ]
     },
     "execution_count": 18,
     "metadata": {},
     "output_type": "execute_result"
    }
   ],
   "source": [
    "u.a                               # a = 4 (parent)"
   ]
  },
  {
   "cell_type": "code",
   "execution_count": 19,
   "id": "eda87cf8",
   "metadata": {},
   "outputs": [],
   "source": [
    "w = test1()"
   ]
  },
  {
   "cell_type": "code",
   "execution_count": 20,
   "id": "1e3bc8e6",
   "metadata": {},
   "outputs": [
    {
     "data": {
      "text/plain": [
       "7"
      ]
     },
     "execution_count": 20,
     "metadata": {},
     "output_type": "execute_result"
    }
   ],
   "source": [
    "w.a                      #_ this time the value changed!          a = 7 (child)"
   ]
  },
  {
   "cell_type": "code",
   "execution_count": 21,
   "id": "8bbcdd99",
   "metadata": {},
   "outputs": [],
   "source": [
    "#__Another style in inheritance \n",
    "\n",
    "class test:\n",
    "    def __init__(self):\n",
    "        self.a = 4\n",
    "        \n",
    "        \n",
    "class test1(test):                           \n",
    "    def __init__(self):\n",
    "        test.__init__(self)\n",
    "        self.a = 7\n",
    "        \n",
    "        \n",
    "u = test()"
   ]
  },
  {
   "cell_type": "code",
   "execution_count": 22,
   "id": "cfffaeac",
   "metadata": {},
   "outputs": [
    {
     "data": {
      "text/plain": [
       "4"
      ]
     },
     "execution_count": 22,
     "metadata": {},
     "output_type": "execute_result"
    }
   ],
   "source": [
    "u.a"
   ]
  },
  {
   "cell_type": "code",
   "execution_count": 23,
   "id": "dd65eeb0",
   "metadata": {},
   "outputs": [],
   "source": [
    "w=test1()"
   ]
  },
  {
   "cell_type": "code",
   "execution_count": 24,
   "id": "d5904229",
   "metadata": {},
   "outputs": [
    {
     "data": {
      "text/plain": [
       "7"
      ]
     },
     "execution_count": 24,
     "metadata": {},
     "output_type": "execute_result"
    }
   ],
   "source": [
    "w.a"
   ]
  },
  {
   "cell_type": "code",
   "execution_count": 25,
   "id": "83a72260",
   "metadata": {},
   "outputs": [],
   "source": [
    "# Notation of Protected: A variable created with a single _ in Python is treated as Protected Variable\n",
    "\n",
    "class test:\n",
    "    def __init__(self):\n",
    "        self._a = 4                   # Notice the _ before a [Notation: _][Protected]\n",
    "        \n",
    "        \n",
    "class test1(test):                           \n",
    "    def __init__(self):\n",
    "        test.__init__(self)\n",
    "        self._a = 7                     # _ ----> protected\n",
    "        \n",
    "        \n",
    "u = test()"
   ]
  },
  {
   "cell_type": "code",
   "execution_count": 26,
   "id": "d9ef8905",
   "metadata": {},
   "outputs": [
    {
     "data": {
      "text/plain": [
       "4"
      ]
     },
     "execution_count": 26,
     "metadata": {},
     "output_type": "execute_result"
    }
   ],
   "source": [
    "u._a                     # access the protected variable similarly by using _"
   ]
  },
  {
   "cell_type": "code",
   "execution_count": 27,
   "id": "1e3b4357",
   "metadata": {},
   "outputs": [
    {
     "ename": "AttributeError",
     "evalue": "'test' object has no attribute 'a'",
     "output_type": "error",
     "traceback": [
      "\u001b[1;31m---------------------------------------------------------------------------\u001b[0m",
      "\u001b[1;31mAttributeError\u001b[0m                            Traceback (most recent call last)",
      "Input \u001b[1;32mIn [27]\u001b[0m, in \u001b[0;36m<cell line: 1>\u001b[1;34m()\u001b[0m\n\u001b[1;32m----> 1\u001b[0m \u001b[43mu\u001b[49m\u001b[38;5;241;43m.\u001b[39;49m\u001b[43ma\u001b[49m\n",
      "\u001b[1;31mAttributeError\u001b[0m: 'test' object has no attribute 'a'"
     ]
    }
   ],
   "source": [
    "u.a"
   ]
  },
  {
   "cell_type": "code",
   "execution_count": 28,
   "id": "2dd8ba4f",
   "metadata": {},
   "outputs": [],
   "source": [
    "w=test1()"
   ]
  },
  {
   "cell_type": "code",
   "execution_count": 29,
   "id": "94a6bb2a",
   "metadata": {},
   "outputs": [
    {
     "data": {
      "text/plain": [
       "7"
      ]
     },
     "execution_count": 29,
     "metadata": {},
     "output_type": "execute_result"
    }
   ],
   "source": [
    "w._a            # access the protected variable similarly by using _"
   ]
  },
  {
   "cell_type": "code",
   "execution_count": 30,
   "id": "a323bfa3",
   "metadata": {},
   "outputs": [
    {
     "ename": "AttributeError",
     "evalue": "'test1' object has no attribute 'a'",
     "output_type": "error",
     "traceback": [
      "\u001b[1;31m---------------------------------------------------------------------------\u001b[0m",
      "\u001b[1;31mAttributeError\u001b[0m                            Traceback (most recent call last)",
      "Input \u001b[1;32mIn [30]\u001b[0m, in \u001b[0;36m<cell line: 1>\u001b[1;34m()\u001b[0m\n\u001b[1;32m----> 1\u001b[0m \u001b[43mw\u001b[49m\u001b[38;5;241;43m.\u001b[39;49m\u001b[43ma\u001b[49m\n",
      "\u001b[1;31mAttributeError\u001b[0m: 'test1' object has no attribute 'a'"
     ]
    }
   ],
   "source": [
    "w.a"
   ]
  },
  {
   "cell_type": "code",
   "execution_count": 31,
   "id": "73da128c",
   "metadata": {},
   "outputs": [],
   "source": [
    "# __ Private : shold not be allowed to be inherited \n",
    "\n",
    "\n",
    "class test:\n",
    "    def __init__(self):\n",
    "        self.__a = 4                   # Notice the double __ before a [Notation: __][]\n",
    "        \n",
    "        \n",
    "class test1(test):                           \n",
    "    def __init__(self):\n",
    "        test.__init__(self)\n",
    "        self.__a = 7                     # __ ----> \n",
    "        \n",
    "        \n",
    "u = test()"
   ]
  },
  {
   "cell_type": "code",
   "execution_count": 32,
   "id": "d80b8ece",
   "metadata": {},
   "outputs": [
    {
     "ename": "AttributeError",
     "evalue": "'test' object has no attribute '__a'",
     "output_type": "error",
     "traceback": [
      "\u001b[1;31m---------------------------------------------------------------------------\u001b[0m",
      "\u001b[1;31mAttributeError\u001b[0m                            Traceback (most recent call last)",
      "Input \u001b[1;32mIn [32]\u001b[0m, in \u001b[0;36m<cell line: 1>\u001b[1;34m()\u001b[0m\n\u001b[1;32m----> 1\u001b[0m \u001b[43mu\u001b[49m\u001b[38;5;241;43m.\u001b[39;49m\u001b[43m__a\u001b[49m\n",
      "\u001b[1;31mAttributeError\u001b[0m: 'test' object has no attribute '__a'"
     ]
    }
   ],
   "source": [
    "u.__a             # can't access!!"
   ]
  },
  {
   "cell_type": "code",
   "execution_count": 33,
   "id": "685f206c",
   "metadata": {},
   "outputs": [],
   "source": [
    "v=test1()"
   ]
  },
  {
   "cell_type": "code",
   "execution_count": 34,
   "id": "e1454280",
   "metadata": {},
   "outputs": [
    {
     "ename": "AttributeError",
     "evalue": "'test1' object has no attribute '__a'",
     "output_type": "error",
     "traceback": [
      "\u001b[1;31m---------------------------------------------------------------------------\u001b[0m",
      "\u001b[1;31mAttributeError\u001b[0m                            Traceback (most recent call last)",
      "Input \u001b[1;32mIn [34]\u001b[0m, in \u001b[0;36m<cell line: 1>\u001b[1;34m()\u001b[0m\n\u001b[1;32m----> 1\u001b[0m \u001b[43mv\u001b[49m\u001b[38;5;241;43m.\u001b[39;49m\u001b[43m__a\u001b[49m\n",
      "\u001b[1;31mAttributeError\u001b[0m: 'test1' object has no attribute '__a'"
     ]
    }
   ],
   "source": [
    "v.__a             # can't access!!"
   ]
  },
  {
   "cell_type": "code",
   "execution_count": 35,
   "id": "c6dc0476",
   "metadata": {},
   "outputs": [],
   "source": [
    "#\n",
    "\n",
    "class test:\n",
    "    def __init__(self,a,b,c):\n",
    "        self.a = a\n",
    "        self.b = b\n",
    "        self.c = c\n",
    "    \n",
    "v=test(4,5,6)"
   ]
  },
  {
   "cell_type": "code",
   "execution_count": 36,
   "id": "1f6d4318",
   "metadata": {},
   "outputs": [
    {
     "data": {
      "text/plain": [
       "4"
      ]
     },
     "execution_count": 36,
     "metadata": {},
     "output_type": "execute_result"
    }
   ],
   "source": [
    "v.a"
   ]
  },
  {
   "cell_type": "code",
   "execution_count": 37,
   "id": "828c7bd1",
   "metadata": {},
   "outputs": [],
   "source": [
    "class test:\n",
    "    def __init__(self,a,b,c):\n",
    "        self._a = a                 # Protected with single _\n",
    "        self.b = b\n",
    "        self.c = c\n",
    "    \n",
    "v=test(4,5,6)"
   ]
  },
  {
   "cell_type": "code",
   "execution_count": 38,
   "id": "a66871dc",
   "metadata": {},
   "outputs": [
    {
     "ename": "AttributeError",
     "evalue": "'test' object has no attribute 'a'",
     "output_type": "error",
     "traceback": [
      "\u001b[1;31m---------------------------------------------------------------------------\u001b[0m",
      "\u001b[1;31mAttributeError\u001b[0m                            Traceback (most recent call last)",
      "Input \u001b[1;32mIn [38]\u001b[0m, in \u001b[0;36m<cell line: 1>\u001b[1;34m()\u001b[0m\n\u001b[1;32m----> 1\u001b[0m \u001b[43mv\u001b[49m\u001b[38;5;241;43m.\u001b[39;49m\u001b[43ma\u001b[49m\n",
      "\u001b[1;31mAttributeError\u001b[0m: 'test' object has no attribute 'a'"
     ]
    }
   ],
   "source": [
    "v.a"
   ]
  },
  {
   "cell_type": "code",
   "execution_count": 39,
   "id": "3edef26a",
   "metadata": {},
   "outputs": [
    {
     "data": {
      "text/plain": [
       "4"
      ]
     },
     "execution_count": 39,
     "metadata": {},
     "output_type": "execute_result"
    }
   ],
   "source": [
    "v._a                  # can be accessed using the same single _"
   ]
  },
  {
   "cell_type": "markdown",
   "id": "75bd0fda",
   "metadata": {},
   "source": [
    "Protected can be used to access within class and sub-class but not outside the sub class"
   ]
  },
  {
   "cell_type": "code",
   "execution_count": 40,
   "id": "7e01a631",
   "metadata": {},
   "outputs": [],
   "source": [
    "class test:\n",
    "    def __init__(self,a,b,c):\n",
    "        self._a = a                 # Protected with single _\n",
    "        self.__b = b              # Making b private by double __\n",
    "        self.c = c\n",
    "    \n",
    "v=test(4,5,6)"
   ]
  },
  {
   "cell_type": "code",
   "execution_count": 41,
   "id": "8fbe4b21",
   "metadata": {},
   "outputs": [
    {
     "data": {
      "text/plain": [
       "4"
      ]
     },
     "execution_count": 41,
     "metadata": {},
     "output_type": "execute_result"
    }
   ],
   "source": [
    "v._a                      # Protected can be accessed using single _"
   ]
  },
  {
   "cell_type": "code",
   "execution_count": 42,
   "id": "023253b0",
   "metadata": {},
   "outputs": [
    {
     "ename": "AttributeError",
     "evalue": "'test' object has no attribute '__b'",
     "output_type": "error",
     "traceback": [
      "\u001b[1;31m---------------------------------------------------------------------------\u001b[0m",
      "\u001b[1;31mAttributeError\u001b[0m                            Traceback (most recent call last)",
      "Input \u001b[1;32mIn [42]\u001b[0m, in \u001b[0;36m<cell line: 1>\u001b[1;34m()\u001b[0m\n\u001b[1;32m----> 1\u001b[0m \u001b[43mv\u001b[49m\u001b[38;5;241;43m.\u001b[39;49m\u001b[43m__b\u001b[49m\n",
      "\u001b[1;31mAttributeError\u001b[0m: 'test' object has no attribute '__b'"
     ]
    }
   ],
   "source": [
    "v.__b                    # Private cannot be accessed using double __"
   ]
  },
  {
   "cell_type": "code",
   "execution_count": 43,
   "id": "8a295c09",
   "metadata": {},
   "outputs": [
    {
     "data": {
      "text/plain": [
       "5"
      ]
     },
     "execution_count": 43,
     "metadata": {},
     "output_type": "execute_result"
    }
   ],
   "source": [
    "#_Then how to access PRIVATE VARIABLE??\n",
    "\n",
    "v._test__b                  # v._classname__b  \n",
    "\n",
    "# REMEMBER THE NOTATION"
   ]
  },
  {
   "cell_type": "code",
   "execution_count": 44,
   "id": "03598731",
   "metadata": {},
   "outputs": [],
   "source": [
    "#__Example with inheritance__\n",
    "\n",
    "class test:                         # Parent CLass\n",
    "    def __init__(self,a,b,c):\n",
    "        self._a = a                 # Protected with single _\n",
    "        self.__b = b                # Private by double __\n",
    "        self.c = c                  # Public variable\n",
    "\n",
    "class test1(test):                  # Child class\n",
    "    pass\n",
    "            \n",
    "    \n",
    "v=test(4,5,6)                 # v is an object of the parent class"
   ]
  },
  {
   "cell_type": "code",
   "execution_count": 45,
   "id": "0874b452",
   "metadata": {},
   "outputs": [
    {
     "data": {
      "text/plain": [
       "4"
      ]
     },
     "execution_count": 45,
     "metadata": {},
     "output_type": "execute_result"
    }
   ],
   "source": [
    "v._a                          # Protected accessed through object of parent class {within a class}"
   ]
  },
  {
   "cell_type": "code",
   "execution_count": 47,
   "id": "8732e192",
   "metadata": {},
   "outputs": [
    {
     "data": {
      "text/plain": [
       "5"
      ]
     },
     "execution_count": 47,
     "metadata": {},
     "output_type": "execute_result"
    }
   ],
   "source": [
    "v._test__b                   # Private accessed through object of parent class {within a class}"
   ]
  },
  {
   "cell_type": "code",
   "execution_count": 49,
   "id": "41d47daa",
   "metadata": {},
   "outputs": [],
   "source": [
    "w = test1(5,6,7)                            # w is an object of child class!"
   ]
  },
  {
   "cell_type": "code",
   "execution_count": 50,
   "id": "16e581a0",
   "metadata": {},
   "outputs": [
    {
     "data": {
      "text/plain": [
       "7"
      ]
     },
     "execution_count": 50,
     "metadata": {},
     "output_type": "execute_result"
    }
   ],
   "source": [
    "w.c                          # Public variable 'c' has been over-riden by the object of child class"
   ]
  },
  {
   "cell_type": "code",
   "execution_count": 51,
   "id": "f0567795",
   "metadata": {},
   "outputs": [
    {
     "data": {
      "text/plain": [
       "5"
      ]
     },
     "execution_count": 51,
     "metadata": {},
     "output_type": "execute_result"
    }
   ],
   "source": [
    "w._a                         # Protected variable _a can be accessed & over-riden in the child class"
   ]
  },
  {
   "cell_type": "code",
   "execution_count": 55,
   "id": "45b20cc7",
   "metadata": {},
   "outputs": [
    {
     "data": {
      "text/plain": [
       "6"
      ]
     },
     "execution_count": 55,
     "metadata": {},
     "output_type": "execute_result"
    }
   ],
   "source": [
    "w._test__b               # follow_notation: [object of child class._parentclassname__variablename]"
   ]
  },
  {
   "cell_type": "code",
   "execution_count": 56,
   "id": "b093e3ee",
   "metadata": {},
   "outputs": [
    {
     "ename": "AttributeError",
     "evalue": "'test1' object has no attribute '_test1__b'",
     "output_type": "error",
     "traceback": [
      "\u001b[1;31m---------------------------------------------------------------------------\u001b[0m",
      "\u001b[1;31mAttributeError\u001b[0m                            Traceback (most recent call last)",
      "Input \u001b[1;32mIn [56]\u001b[0m, in \u001b[0;36m<cell line: 1>\u001b[1;34m()\u001b[0m\n\u001b[1;32m----> 1\u001b[0m \u001b[43mw\u001b[49m\u001b[38;5;241;43m.\u001b[39;49m\u001b[43m_test1__b\u001b[49m\n",
      "\u001b[1;31mAttributeError\u001b[0m: 'test1' object has no attribute '_test1__b'"
     ]
    }
   ],
   "source": [
    "w._test1__b           # Private variable not allowed access using child class"
   ]
  },
  {
   "cell_type": "code",
   "execution_count": 57,
   "id": "e08cefa9",
   "metadata": {},
   "outputs": [
    {
     "data": {
      "text/plain": [
       "6"
      ]
     },
     "execution_count": 57,
     "metadata": {},
     "output_type": "execute_result"
    }
   ],
   "source": [
    "#_Solution: Access using object of child class and using parent class\n",
    "\n",
    "w._test__b               # follow_notation: [object of child class._parentclassname__variablename]\n",
    "\n",
    "# calling a private variable in child class!"
   ]
  },
  {
   "cell_type": "code",
   "execution_count": 59,
   "id": "5669e7ef",
   "metadata": {},
   "outputs": [],
   "source": [
    "#__Example__\n",
    "\n",
    "class bonuscalculator:\n",
    "    def __init__(self, empid,emprating):\n",
    "        self.empid = empid                      # Public variables created\n",
    "        self.emprating = emprating              \n",
    "        self.__bonusforratingA = \"70%\"          # Private variables created  \n",
    "        self.__bonusforratingB = \"60%\"           \n",
    "        self.__bonusforratingC = \"40%\"\n",
    "        \n",
    "    def bonuscalculator(self):                 \n",
    "        if self.emprating == \"A\":\n",
    "            bonus = self.__bonusforratingA        # Accessing the Private variables within the classes\n",
    "            return bonus\n",
    "        elif self.emprating == \"B\":\n",
    "            bonus = self.__bonusforratingB\n",
    "            return bonus\n",
    "        else:\n",
    "            bonus = self.__bonusforratingC\n",
    "            return bonus"
   ]
  },
  {
   "cell_type": "code",
   "execution_count": 67,
   "id": "0c7e04fe",
   "metadata": {},
   "outputs": [],
   "source": [
    "emp1 = bonuscalculator(101,\"A\")              # creating objects for the class\n",
    "emp2 = bonuscalculator(102,\"B\")\n",
    "emp3 = bonuscalculator(103,\"C\")\n"
   ]
  },
  {
   "cell_type": "code",
   "execution_count": 68,
   "id": "2dc93c73",
   "metadata": {},
   "outputs": [
    {
     "data": {
      "text/plain": [
       "'70%'"
      ]
     },
     "execution_count": 68,
     "metadata": {},
     "output_type": "execute_result"
    }
   ],
   "source": [
    "emp1.bonuscalculator()"
   ]
  },
  {
   "cell_type": "code",
   "execution_count": 69,
   "id": "83a2f707",
   "metadata": {},
   "outputs": [
    {
     "data": {
      "text/plain": [
       "101"
      ]
     },
     "execution_count": 69,
     "metadata": {},
     "output_type": "execute_result"
    }
   ],
   "source": [
    "emp1.empid"
   ]
  },
  {
   "cell_type": "code",
   "execution_count": 70,
   "id": "4e6dd563",
   "metadata": {},
   "outputs": [
    {
     "data": {
      "text/plain": [
       "'A'"
      ]
     },
     "execution_count": 70,
     "metadata": {},
     "output_type": "execute_result"
    }
   ],
   "source": [
    "emp1.emprating"
   ]
  },
  {
   "cell_type": "code",
   "execution_count": 73,
   "id": "4cc86163",
   "metadata": {},
   "outputs": [
    {
     "data": {
      "text/plain": [
       "'B'"
      ]
     },
     "execution_count": 73,
     "metadata": {},
     "output_type": "execute_result"
    }
   ],
   "source": [
    "emp2.emprating                                # Press Tab & Kamaal dekho!"
   ]
  },
  {
   "cell_type": "code",
   "execution_count": 72,
   "id": "96d43a8f",
   "metadata": {},
   "outputs": [
    {
     "data": {
      "text/plain": [
       "'40%'"
      ]
     },
     "execution_count": 72,
     "metadata": {},
     "output_type": "execute_result"
    }
   ],
   "source": [
    "emp3.bonuscalculator()"
   ]
  },
  {
   "cell_type": "code",
   "execution_count": 74,
   "id": "395f671d",
   "metadata": {},
   "outputs": [],
   "source": [
    "emp1.empid = 104                       # Over riding the empid"
   ]
  },
  {
   "cell_type": "code",
   "execution_count": 75,
   "id": "05b03ecc",
   "metadata": {},
   "outputs": [
    {
     "data": {
      "text/plain": [
       "104"
      ]
     },
     "execution_count": 75,
     "metadata": {},
     "output_type": "execute_result"
    }
   ],
   "source": [
    "emp1.empid                       # Public variable empid changed!"
   ]
  },
  {
   "cell_type": "code",
   "execution_count": 76,
   "id": "084380ee",
   "metadata": {},
   "outputs": [
    {
     "data": {
      "text/plain": [
       "'70%'"
      ]
     },
     "execution_count": 76,
     "metadata": {},
     "output_type": "execute_result"
    }
   ],
   "source": [
    "emp1.bonuscalculator()       # Empid changed yet bonus is the same as rating hasnt been changed"
   ]
  },
  {
   "cell_type": "code",
   "execution_count": 77,
   "id": "fd61d02e",
   "metadata": {},
   "outputs": [],
   "source": [
    "emp1.emprating=\"B\"                # emp rating is being over-riden"
   ]
  },
  {
   "cell_type": "code",
   "execution_count": 78,
   "id": "7971b020",
   "metadata": {},
   "outputs": [
    {
     "data": {
      "text/plain": [
       "'60%'"
      ]
     },
     "execution_count": 78,
     "metadata": {},
     "output_type": "execute_result"
    }
   ],
   "source": [
    "emp1.bonuscalculator()"
   ]
  },
  {
   "cell_type": "code",
   "execution_count": 79,
   "id": "991e7482",
   "metadata": {},
   "outputs": [],
   "source": [
    "emp1._bonuscalculator__bonusforratingB = \"90%\"      # khela! "
   ]
  },
  {
   "cell_type": "code",
   "execution_count": 80,
   "id": "3e2998b6",
   "metadata": {},
   "outputs": [
    {
     "data": {
      "text/plain": [
       "'90%'"
      ]
     },
     "execution_count": 80,
     "metadata": {},
     "output_type": "execute_result"
    }
   ],
   "source": [
    "emp1.bonuscalculator()"
   ]
  },
  {
   "cell_type": "markdown",
   "id": "249e6ecb",
   "metadata": {},
   "source": [
    "Over-riding a private variable by accessing it through the classname"
   ]
  },
  {
   "cell_type": "code",
   "execution_count": 82,
   "id": "20b1b24f",
   "metadata": {},
   "outputs": [],
   "source": [
    "emp1.__bonusforratingB = \"85%\"                # nahole private variable doesnt work"
   ]
  },
  {
   "cell_type": "code",
   "execution_count": 83,
   "id": "eb14dd54",
   "metadata": {},
   "outputs": [
    {
     "data": {
      "text/plain": [
       "'90%'"
      ]
     },
     "execution_count": 83,
     "metadata": {},
     "output_type": "execute_result"
    }
   ],
   "source": [
    "emp1.bonuscalculator()     # takes data--> doesnt complain--> but doesnt implement also!"
   ]
  },
  {
   "cell_type": "code",
   "execution_count": 84,
   "id": "ec3f4bd1",
   "metadata": {},
   "outputs": [
    {
     "data": {
      "text/plain": [
       "'B'"
      ]
     },
     "execution_count": 84,
     "metadata": {},
     "output_type": "execute_result"
    }
   ],
   "source": [
    "emp2.emprating"
   ]
  },
  {
   "cell_type": "code",
   "execution_count": 85,
   "id": "a50735ad",
   "metadata": {},
   "outputs": [
    {
     "data": {
      "text/plain": [
       "'60%'"
      ]
     },
     "execution_count": 85,
     "metadata": {},
     "output_type": "execute_result"
    }
   ],
   "source": [
    "emp2.bonuscalculator()"
   ]
  },
  {
   "cell_type": "code",
   "execution_count": 86,
   "id": "308add96",
   "metadata": {},
   "outputs": [],
   "source": [
    "emp2.__bonusratingforB = \"100%\"     "
   ]
  },
  {
   "cell_type": "code",
   "execution_count": 87,
   "id": "c0d4a9b6",
   "metadata": {},
   "outputs": [
    {
     "data": {
      "text/plain": [
       "'60%'"
      ]
     },
     "execution_count": 87,
     "metadata": {},
     "output_type": "execute_result"
    }
   ],
   "source": [
    "emp2.bonuscalculator()            "
   ]
  },
  {
   "cell_type": "code",
   "execution_count": 88,
   "id": "5a5fe057",
   "metadata": {},
   "outputs": [],
   "source": [
    "emp2._bonuscalculator__bonusforratingB=\"85%\"  # private variable changed when accessed through class"
   ]
  },
  {
   "cell_type": "code",
   "execution_count": 89,
   "id": "2119f3e1",
   "metadata": {},
   "outputs": [
    {
     "data": {
      "text/plain": [
       "'85%'"
      ]
     },
     "execution_count": 89,
     "metadata": {},
     "output_type": "execute_result"
    }
   ],
   "source": [
    "emp2.bonuscalculator()"
   ]
  },
  {
   "cell_type": "markdown",
   "id": "0a1cfd64",
   "metadata": {},
   "source": [
    "### LECTURE:3 -- [OOPs] [RECORDED]"
   ]
  },
  {
   "cell_type": "markdown",
   "id": "4af286a5",
   "metadata": {},
   "source": [
    "## POLYMORPHISM\n",
    "#### 1. One single entity but its behaviour changes w.r.t different circumstances\n",
    "#### 2. Poly: Multiple, Morph: Forms.... Multiple forms of a single object/entity which differs with circumstances"
   ]
  },
  {
   "cell_type": "code",
   "execution_count": 1,
   "id": "a618fa94",
   "metadata": {},
   "outputs": [],
   "source": [
    "#_Example:\n",
    "\n",
    "def test(a,b):\n",
    "    return a+b            # method is the same"
   ]
  },
  {
   "cell_type": "code",
   "execution_count": 2,
   "id": "dc380e97",
   "metadata": {},
   "outputs": [
    {
     "data": {
      "text/plain": [
       "7"
      ]
     },
     "execution_count": 2,
     "metadata": {},
     "output_type": "execute_result"
    }
   ],
   "source": [
    "test(3,4)                 # + adds for int inputs"
   ]
  },
  {
   "cell_type": "code",
   "execution_count": 3,
   "id": "03b06e43",
   "metadata": {},
   "outputs": [
    {
     "data": {
      "text/plain": [
       "'sudhkumar'"
      ]
     },
     "execution_count": 3,
     "metadata": {},
     "output_type": "execute_result"
    }
   ],
   "source": [
    "test(\"sudh\",\"kumar\")      # + concatenates for str inputs"
   ]
  },
  {
   "cell_type": "markdown",
   "id": "c0f32552",
   "metadata": {},
   "source": [
    "Concept of Polymorphism: Method is the same but behaviour is different for different data(circumstances)"
   ]
  },
  {
   "cell_type": "code",
   "execution_count": 4,
   "id": "6a54d442",
   "metadata": {},
   "outputs": [],
   "source": [
    "class insta:\n",
    "    def share_stories(self):\n",
    "        print(\"This will share my insta story\")\n",
    "        \n",
    "class facebook:\n",
    "    def share_stories(self):\n",
    "        print(\"This is my fb story\")"
   ]
  },
  {
   "cell_type": "code",
   "execution_count": 5,
   "id": "82431d18",
   "metadata": {},
   "outputs": [],
   "source": [
    "def sharestories(app):       # External function created outside classes! Parameter--> object\n",
    "    app.share_stories()                  # simply calling... [object.function_name()]"
   ]
  },
  {
   "cell_type": "code",
   "execution_count": 6,
   "id": "d9fe7808",
   "metadata": {},
   "outputs": [],
   "source": [
    "i = insta()                              # i = instance/object for insta\n",
    "f = facebook()                           # f = instance/object for fb"
   ]
  },
  {
   "cell_type": "code",
   "execution_count": 7,
   "id": "78c1048e",
   "metadata": {},
   "outputs": [
    {
     "name": "stdout",
     "output_type": "stream",
     "text": [
      "This will share my insta story\n"
     ]
    }
   ],
   "source": [
    "sharestories(i)                    # calling the external function using i as the parameter"
   ]
  },
  {
   "cell_type": "code",
   "execution_count": 8,
   "id": "daed231a",
   "metadata": {},
   "outputs": [
    {
     "name": "stdout",
     "output_type": "stream",
     "text": [
      "This is my fb story\n"
     ]
    }
   ],
   "source": [
    "sharestories(f)                   # calling the function using f as the parameter"
   ]
  },
  {
   "cell_type": "markdown",
   "id": "c4311806",
   "metadata": {},
   "source": [
    "sharestories() method remained the same but behaviour varied w.r.t different inputs (i,f)"
   ]
  },
  {
   "cell_type": "code",
   "execution_count": 10,
   "id": "9a604e58",
   "metadata": {},
   "outputs": [],
   "source": [
    "#_Implementing Polymorphism in Inheritance_\n",
    "\n",
    "class social_media:\n",
    "    def share_stories(self):                             \n",
    "        print(\"Share stories in social media\")\n",
    "    def upload_pic(self):\n",
    "        print(\"This is to upload pic on social media\")\n",
    "    \n",
    "        \n",
    "class facebook(social_media):            # using social media inheritance on facebook class\n",
    "    def share_stories(self):             # over-riding a method from parent class\n",
    "        print(\"This is a function to share fb story\") \n",
    "        \n",
    "        \n",
    "class instagram(social_media):           # using social media inheritance on instagram class\n",
    "    def share_stories(self):             # over-riding a method from parent class\n",
    "        print(\"This is a function to share instagram story\")\n",
    "    "
   ]
  },
  {
   "cell_type": "code",
   "execution_count": 11,
   "id": "3e38b40b",
   "metadata": {},
   "outputs": [],
   "source": [
    "f = facebook()\n",
    "i = instagram()"
   ]
  },
  {
   "cell_type": "code",
   "execution_count": 13,
   "id": "fec0a3cb",
   "metadata": {},
   "outputs": [
    {
     "name": "stdout",
     "output_type": "stream",
     "text": [
      "This is a function to share fb story\n"
     ]
    }
   ],
   "source": [
    "f.share_stories()                              # calls the local function "
   ]
  },
  {
   "cell_type": "code",
   "execution_count": 14,
   "id": "2e25b93c",
   "metadata": {},
   "outputs": [
    {
     "name": "stdout",
     "output_type": "stream",
     "text": [
      "This is a function to share instagram story\n"
     ]
    }
   ],
   "source": [
    "i.share_stories()         # function is being called through local class, not parent class!"
   ]
  },
  {
   "cell_type": "markdown",
   "id": "afbb6d2f",
   "metadata": {},
   "source": [
    "Method/Function is same but nature/behaviour/response varies depending on the call (different class object)"
   ]
  },
  {
   "cell_type": "code",
   "execution_count": null,
   "id": "685286b5",
   "metadata": {},
   "outputs": [],
   "source": []
  },
  {
   "cell_type": "markdown",
   "id": "cde75f5e",
   "metadata": {},
   "source": [
    "### How to Create own Custom Exception Class?? [..contd from Exception handling]"
   ]
  },
  {
   "cell_type": "code",
   "execution_count": null,
   "id": "f0c2d133",
   "metadata": {},
   "outputs": [],
   "source": [
    "#_Step1\n",
    "\n",
    "class test(Exception):       # Exception is a parent class which is being inherited in test class.\n",
    "    def                      # Press Tab to see all the available functions."
   ]
  },
  {
   "cell_type": "code",
   "execution_count": 15,
   "id": "a6c7edac",
   "metadata": {},
   "outputs": [],
   "source": [
    "# Creating own custom exception class 'test' by inheritance of parent superclass 'Exception'\n",
    "\n",
    "class test(Exception):\n",
    "    def __init__(self,msg):   # msg needs to be inputted at the time of object creation\n",
    "        self.msg = msg\n",
    "        "
   ]
  },
  {
   "cell_type": "code",
   "execution_count": 16,
   "id": "1bca8334",
   "metadata": {},
   "outputs": [
    {
     "name": "stdout",
     "output_type": "stream",
     "text": [
      "This is my own Exception class\n"
     ]
    }
   ],
   "source": [
    "try:\n",
    "    raise(test(\"This is my own Exception class\"))               # custom message\n",
    "except test as t:                           # calling my own test class rather than exception as e!!\n",
    "    print(t)                                         # own class raises own custom exception --> t\n",
    "    "
   ]
  },
  {
   "cell_type": "code",
   "execution_count": 18,
   "id": "7ae9d94b",
   "metadata": {},
   "outputs": [
    {
     "name": "stdout",
     "output_type": "stream",
     "text": [
      "This is my own Exception class\n"
     ]
    }
   ],
   "source": [
    "try:\n",
    "    raise(test(\"This is my own Exception class\"))  # raise helps to create own custom object\n",
    "    5/0\n",
    "except test as t:                           # calling my own test class \n",
    "    print(t)"
   ]
  },
  {
   "cell_type": "code",
   "execution_count": 19,
   "id": "909697b3",
   "metadata": {},
   "outputs": [],
   "source": [
    "# Adding data to an Example:\n",
    "\n",
    "class test(Exception):\n",
    "    def __init__(self,msg,myval):    # Any number of arguments can be passed in __init__\n",
    "        self.msg = msg\n",
    "        self.myval = myval\n",
    "        "
   ]
  },
  {
   "cell_type": "code",
   "execution_count": 20,
   "id": "725f8f49",
   "metadata": {},
   "outputs": [
    {
     "name": "stdout",
     "output_type": "stream",
     "text": [
      "('This is my own exception class', 50)\n"
     ]
    }
   ],
   "source": [
    "try:\n",
    "    raise(test(\"This is my own exception class\",50))\n",
    "except test as t:\n",
    "    print(t)"
   ]
  },
  {
   "cell_type": "markdown",
   "id": "5ff47b99",
   "metadata": {},
   "source": [
    "#### Practice Problems:\n",
    "\n",
    "##### 1. Create your own class to achieve multiple(more than 1 parent), multilevel (grandparent-->parent-->child)inheritance\n",
    "##### 2. Create your own class to represent polymorphism\n",
    "##### 3. Create own class for custom exception\n",
    "##### 4. Create own class to achieve encapsulation\n",
    "##### 5. Create own class to achieve method over-loading and over-riding"
   ]
  },
  {
   "cell_type": "code",
   "execution_count": 22,
   "id": "59cda179",
   "metadata": {},
   "outputs": [],
   "source": [
    "#_Solution 1__:\n",
    "\n",
    "class Vertebrates:                                    # Parent class 1\n",
    "    def printmsg(self):\n",
    "        print(\"I am a Vertebrate and I have a spinal chord\")\n",
    "        \n",
    "class Animal:                                         # Parent class 2\n",
    "    def makesound(self):\n",
    "        print(\"I am an animal and I make sound\")\n",
    "        \n",
    "class Dog(Animal,Vertebrates):                       # Child class 1 with multiple inheritance\n",
    "    def makesound(self):\n",
    "        print(\"Woof Woof\")                           # Method Over-riding\n",
    "        \n",
    "class Labrador(Dog):                                 # Multi-level inheritance\n",
    "    pass\n",
    "\n",
    "class Cat(Animal,Vertebrates):                       # Child class 2 with multiple inheritance\n",
    "    def makesound(self):                          \n",
    "        print(\"Meeeow\")                              # Method Over-riding\n",
    "    \n",
    "c = Cat()\n",
    "l = Labrador()\n",
    "d = Dog()\n",
    "        "
   ]
  },
  {
   "cell_type": "code",
   "execution_count": 24,
   "id": "00305b48",
   "metadata": {},
   "outputs": [
    {
     "name": "stdout",
     "output_type": "stream",
     "text": [
      "Meeeow\n"
     ]
    }
   ],
   "source": [
    "c.makesound()"
   ]
  },
  {
   "cell_type": "code",
   "execution_count": 25,
   "id": "865f6e80",
   "metadata": {},
   "outputs": [
    {
     "name": "stdout",
     "output_type": "stream",
     "text": [
      "Woof Woof\n"
     ]
    }
   ],
   "source": [
    "d.makesound()"
   ]
  },
  {
   "cell_type": "code",
   "execution_count": 26,
   "id": "3375c326",
   "metadata": {},
   "outputs": [
    {
     "name": "stdout",
     "output_type": "stream",
     "text": [
      "Woof Woof\n"
     ]
    }
   ],
   "source": [
    "l.makesound()"
   ]
  },
  {
   "cell_type": "code",
   "execution_count": 28,
   "id": "ec385dd7",
   "metadata": {},
   "outputs": [
    {
     "name": "stdout",
     "output_type": "stream",
     "text": [
      "I am a Vertebrate and I have a spinal chord\n"
     ]
    }
   ],
   "source": [
    "l.printmsg()"
   ]
  },
  {
   "cell_type": "markdown",
   "id": "1be1dd42",
   "metadata": {},
   "source": [
    "## STATIC VARIABLE"
   ]
  },
  {
   "cell_type": "code",
   "execution_count": 30,
   "id": "4075280f",
   "metadata": {},
   "outputs": [
    {
     "name": "stdout",
     "output_type": "stream",
     "text": [
      "Batch:  2\n",
      "Course:  FSDS\n"
     ]
    }
   ],
   "source": [
    "#_Solution 2__: [Another Example of Multiple Inheritance].. with static variable.... \n",
    "\n",
    "class batch_number:              # Parent Class 1\n",
    "    batchnumber = \"\"                   # static variable/class variable--> no need for object creation\n",
    "    def __init__(self,a,b,c):\n",
    "        self.a = a               # instance variable -> can only be accessed after object creation\n",
    "        self.b = b\n",
    "        self.c = c\n",
    "        \n",
    "    def batch(self):\n",
    "        print(self.batchnumber)\n",
    "        \n",
    "class course_name:               # Parent Class 2\n",
    "    cname = \"\"      # static variable/class variable: can be used direcly through classes &_no objects \n",
    "    def course(self):\n",
    "        print(self.cname)\n",
    "        \n",
    "class student(batch_number,course_name):       # Multiple inheritance from 2 parents by Child Class\n",
    "    def details(self):\n",
    "        print(\"Batch: \",self.batchnumber)\n",
    "        print(\"Course: \",self.cname)\n",
    "\n",
    "s1 = student(4,5,6)                     # object of child class\n",
    "s1.batchnumber = \"2\"\n",
    "s1.cname = \"FSDS\"\n",
    "\n",
    "s1.details()\n"
   ]
  },
  {
   "cell_type": "code",
   "execution_count": 35,
   "id": "50dd2c52",
   "metadata": {},
   "outputs": [
    {
     "data": {
      "text/plain": [
       "4"
      ]
     },
     "execution_count": 35,
     "metadata": {},
     "output_type": "execute_result"
    }
   ],
   "source": [
    "s1.a                        # Press Tab and play around with the methods and variables"
   ]
  },
  {
   "cell_type": "code",
   "execution_count": 37,
   "id": "fe2f4cc7",
   "metadata": {},
   "outputs": [
    {
     "data": {
      "text/plain": [
       "''"
      ]
     },
     "execution_count": 37,
     "metadata": {},
     "output_type": "execute_result"
    }
   ],
   "source": [
    "#__How To access the static/class variable__??\n",
    "\n",
    "# Static variables are class variables which donot change w.r.t objects created!\n",
    "# There are 2 ways to access a static variable:- \n",
    "\n",
    "# 1. By creating an object:-\n",
    "\n",
    "bn = batch_number(4,5,6)     # creating an object bn in class batch_number\n",
    "bn.batchnumber             # accessing class/ static variable by creating an object"
   ]
  },
  {
   "cell_type": "code",
   "execution_count": 40,
   "id": "23f46e45",
   "metadata": {},
   "outputs": [
    {
     "data": {
      "text/plain": [
       "4"
      ]
     },
     "execution_count": 40,
     "metadata": {},
     "output_type": "execute_result"
    }
   ],
   "source": [
    "bn.a                  # accessing instance variable through object, bn."
   ]
  },
  {
   "cell_type": "code",
   "execution_count": 39,
   "id": "53962ffd",
   "metadata": {},
   "outputs": [
    {
     "data": {
      "text/plain": [
       "1"
      ]
     },
     "execution_count": 39,
     "metadata": {},
     "output_type": "execute_result"
    }
   ],
   "source": [
    "bn1 = batch_number(1,2,3) \n",
    "bn1.a                 # instance variable a is being over riden with different input for diff objects"
   ]
  },
  {
   "cell_type": "code",
   "execution_count": 41,
   "id": "b1b06052",
   "metadata": {},
   "outputs": [
    {
     "data": {
      "text/plain": [
       "''"
      ]
     },
     "execution_count": 41,
     "metadata": {},
     "output_type": "execute_result"
    }
   ],
   "source": [
    "bn.batchnumber   # class variable: batchnumber is the same for different objects of same class"
   ]
  },
  {
   "cell_type": "code",
   "execution_count": 42,
   "id": "81d5f6c9",
   "metadata": {},
   "outputs": [
    {
     "data": {
      "text/plain": [
       "''"
      ]
     },
     "execution_count": 42,
     "metadata": {},
     "output_type": "execute_result"
    }
   ],
   "source": [
    "# 2. By directly calling through class name :-\n",
    "\n",
    "batch_number.batchnumber    #[classname.variablename]"
   ]
  },
  {
   "cell_type": "markdown",
   "id": "82dbdd4e",
   "metadata": {},
   "source": [
    "......Continuing with the previous example.... # 1"
   ]
  },
  {
   "cell_type": "code",
   "execution_count": 43,
   "id": "ee07a7fc",
   "metadata": {},
   "outputs": [],
   "source": [
    "# trying to modify data for the static variable through an object bn1 of class batch_number\n",
    "\n",
    "bn1.batchnumber = \"Sudh\""
   ]
  },
  {
   "cell_type": "code",
   "execution_count": 45,
   "id": "ed7e7752",
   "metadata": {},
   "outputs": [
    {
     "data": {
      "text/plain": [
       "'Sudh'"
      ]
     },
     "execution_count": 45,
     "metadata": {},
     "output_type": "execute_result"
    }
   ],
   "source": [
    "bn1.batchnumber                 # value modified for the specific object"
   ]
  },
  {
   "cell_type": "code",
   "execution_count": 46,
   "id": "99c8853c",
   "metadata": {},
   "outputs": [
    {
     "data": {
      "text/plain": [
       "''"
      ]
     },
     "execution_count": 46,
     "metadata": {},
     "output_type": "execute_result"
    }
   ],
   "source": [
    "bn.batchnumber                   # value same for other objects"
   ]
  },
  {
   "cell_type": "code",
   "execution_count": 47,
   "id": "005f92c0",
   "metadata": {},
   "outputs": [
    {
     "data": {
      "text/plain": [
       "''"
      ]
     },
     "execution_count": 47,
     "metadata": {},
     "output_type": "execute_result"
    }
   ],
   "source": [
    "batch_number.batchnumber         # value same for the class"
   ]
  },
  {
   "cell_type": "code",
   "execution_count": 48,
   "id": "bf3086c6",
   "metadata": {},
   "outputs": [],
   "source": [
    "# IF we have to modify the data for the entire class & objects... through classname...\n",
    "\n",
    "batch_number.batchnumber = \"Kumar\""
   ]
  },
  {
   "cell_type": "code",
   "execution_count": 49,
   "id": "dce7ab64",
   "metadata": {},
   "outputs": [
    {
     "data": {
      "text/plain": [
       "'Sudh'"
      ]
     },
     "execution_count": 49,
     "metadata": {},
     "output_type": "execute_result"
    }
   ],
   "source": [
    "bn1.batchnumber     # bn1 has been specifically modified so it remains(local)"
   ]
  },
  {
   "cell_type": "code",
   "execution_count": 50,
   "id": "36389ffa",
   "metadata": {},
   "outputs": [
    {
     "data": {
      "text/plain": [
       "'Kumar'"
      ]
     },
     "execution_count": 50,
     "metadata": {},
     "output_type": "execute_result"
    }
   ],
   "source": [
    "bn.batchnumber    # it has modified for other objects when changes have been made in the class(global)"
   ]
  },
  {
   "cell_type": "code",
   "execution_count": 51,
   "id": "df10f8d3",
   "metadata": {},
   "outputs": [
    {
     "data": {
      "text/plain": [
       "'Kumar'"
      ]
     },
     "execution_count": 51,
     "metadata": {},
     "output_type": "execute_result"
    }
   ],
   "source": [
    "batch_number.batchnumber      # Ofcourse, the class will change!"
   ]
  },
  {
   "cell_type": "markdown",
   "id": "909277e8",
   "metadata": {},
   "source": [
    "### STATIC FUNCTION / METHOD"
   ]
  },
  {
   "cell_type": "code",
   "execution_count": 57,
   "id": "254e9cdd",
   "metadata": {},
   "outputs": [],
   "source": [
    "#__Using same Example for static function!\n",
    "\n",
    "\n",
    "class batch_number:              # Parent Class 1\n",
    "    batchnumber = \"\"                   # static variable/class variable\n",
    "    def __init__(self,a,b,c):\n",
    "        self.a = a                     # instance variable \n",
    "        self.b = b\n",
    "        self.c = c\n",
    "        \n",
    "                       # How to create static function?? 1. Remove self --> associates to object\n",
    "            # How to make available the unction batch only to the class (static function)?\n",
    "        \n",
    "    #def batch(self):                  ....commenting out from previous code(instance function)\n",
    "        #print(self.batchnumber)\n",
    "\n",
    "# .. Creating a static function...\n",
    "    \n",
    "    @staticmethod                     # using the decorator \"@staticmethod\" \n",
    "    def batch():                      # no self to associate the method to an object(not in instance)\n",
    "        print(\"This is a static method\")\n",
    "        \n",
    "        \n",
    "        \n",
    "        "
   ]
  },
  {
   "cell_type": "code",
   "execution_count": 58,
   "id": "a726e830",
   "metadata": {},
   "outputs": [],
   "source": [
    "bn = batch_number(3,4,5)"
   ]
  },
  {
   "cell_type": "code",
   "execution_count": 59,
   "id": "d6c016c0",
   "metadata": {},
   "outputs": [
    {
     "name": "stdout",
     "output_type": "stream",
     "text": [
      "This is a static method\n"
     ]
    }
   ],
   "source": [
    "bn.batch()"
   ]
  },
  {
   "cell_type": "markdown",
   "id": "30c2c002",
   "metadata": {},
   "source": [
    "@  \n",
    "\n",
    "decorators are specially designed functions which help other functions or instances to behave as per definition"
   ]
  },
  {
   "cell_type": "code",
   "execution_count": 61,
   "id": "d059877c",
   "metadata": {},
   "outputs": [],
   "source": [
    "#_Study:\n",
    "\n",
    "class batch_number:\n",
    "    batchnumber=\"02\"                    # static variable --> can be accessed through classname\n",
    "    def __init__(self,a,b,c):\n",
    "        self.a = a                     # instance variable --> cannot be accessed through classname\n",
    "        self.b = b\n",
    "        self.c = c\n",
    "    \n",
    "    @staticmethod\n",
    "    def batch():                         # static function --> can be accessed through classname\n",
    "        print(\"This is a static method\")\n",
    "        \n",
    "    def batch1(self):                    # instance function --> cannot be accessed through classname\n",
    "        print(\"This is a global method -- for instances\")\n",
    "        \n",
    "obj = batch_number(4,5,6)"
   ]
  },
  {
   "cell_type": "code",
   "execution_count": 70,
   "id": "92e668cd",
   "metadata": {},
   "outputs": [
    {
     "data": {
      "text/plain": [
       "'02'"
      ]
     },
     "execution_count": 70,
     "metadata": {},
     "output_type": "execute_result"
    }
   ],
   "source": [
    "batch_number.batchnumber           # static variable --> can be accessed through classname"
   ]
  },
  {
   "cell_type": "code",
   "execution_count": 71,
   "id": "8172bfd6",
   "metadata": {},
   "outputs": [
    {
     "data": {
      "text/plain": [
       "4"
      ]
     },
     "execution_count": 71,
     "metadata": {},
     "output_type": "execute_result"
    }
   ],
   "source": [
    "obj.a                     # instance variable --> accessed through object/instances"
   ]
  },
  {
   "cell_type": "code",
   "execution_count": null,
   "id": "c5157559",
   "metadata": {},
   "outputs": [],
   "source": [
    "obj.                         # Press Tab and see the available methods and variables"
   ]
  },
  {
   "cell_type": "code",
   "execution_count": 63,
   "id": "e483a217",
   "metadata": {},
   "outputs": [
    {
     "name": "stdout",
     "output_type": "stream",
     "text": [
      "This is a static method\n"
     ]
    }
   ],
   "source": [
    "obj.batch()                # accessing static method through object"
   ]
  },
  {
   "cell_type": "code",
   "execution_count": 64,
   "id": "48878b18",
   "metadata": {},
   "outputs": [
    {
     "name": "stdout",
     "output_type": "stream",
     "text": [
      "This is a global method -- for instances\n"
     ]
    }
   ],
   "source": [
    "obj.batch1()                     # accessing instance method through object"
   ]
  },
  {
   "cell_type": "code",
   "execution_count": 66,
   "id": "2b04f366",
   "metadata": {},
   "outputs": [
    {
     "name": "stdout",
     "output_type": "stream",
     "text": [
      "This is a static method\n"
     ]
    }
   ],
   "source": [
    "batch_number.batch()                       # calling through class name"
   ]
  },
  {
   "cell_type": "code",
   "execution_count": 69,
   "id": "00920c4e",
   "metadata": {},
   "outputs": [
    {
     "ename": "TypeError",
     "evalue": "batch1() missing 1 required positional argument: 'self'",
     "output_type": "error",
     "traceback": [
      "\u001b[1;31m---------------------------------------------------------------------------\u001b[0m",
      "\u001b[1;31mTypeError\u001b[0m                                 Traceback (most recent call last)",
      "Input \u001b[1;32mIn [69]\u001b[0m, in \u001b[0;36m<cell line: 1>\u001b[1;34m()\u001b[0m\n\u001b[1;32m----> 1\u001b[0m \u001b[43mbatch_number\u001b[49m\u001b[38;5;241;43m.\u001b[39;49m\u001b[43mbatch1\u001b[49m\u001b[43m(\u001b[49m\u001b[43m)\u001b[49m\n",
      "\u001b[1;31mTypeError\u001b[0m: batch1() missing 1 required positional argument: 'self'"
     ]
    }
   ],
   "source": [
    "batch_number.batch1()            # instance function --> cannot be accessed through classname"
   ]
  },
  {
   "cell_type": "code",
   "execution_count": 72,
   "id": "ba515180",
   "metadata": {},
   "outputs": [
    {
     "name": "stdout",
     "output_type": "stream",
     "text": [
      "This is a global method -- for instances\n"
     ]
    }
   ],
   "source": [
    "obj.batch1()                                 # instance function accessed through objects"
   ]
  },
  {
   "cell_type": "code",
   "execution_count": null,
   "id": "1107a514",
   "metadata": {},
   "outputs": [],
   "source": [
    "#__Example of a Bank Account__\n",
    "\n",
    "class accountdetail:\n",
    "    account_no = \"102934562789\"\n",
    "    def __init__(self,amount):\n",
    "        self.amount = amount\n",
    "        \n",
    "    def show balance(self, deduction):\n",
    "        self.amount = self.amount - deduction\n",
    "        return self.amount, account_no\n",
    "    \n",
    "        "
   ]
  },
  {
   "cell_type": "code",
   "execution_count": null,
   "id": "7b29eddf",
   "metadata": {},
   "outputs": [],
   "source": []
  },
  {
   "cell_type": "code",
   "execution_count": 75,
   "id": "8cca5e9d",
   "metadata": {},
   "outputs": [],
   "source": [
    "#_Multi-level Inheritance\n",
    "\n",
    "class xyz:                                       # Grand parent\n",
    "    def __init__(self,a,b,c):\n",
    "        self.a = a\n",
    "        self.b = b\n",
    "        self.c = c\n",
    "        \n",
    "    def test(self):\n",
    "        print(\"This is method in xyz class\")\n",
    "        \n",
    "class xyz1(xyz):                                # parent (1st level inheritance)\n",
    "    def test1(self):\n",
    "        print(\"This is method in xyz1 class\")\n",
    "        \n",
    "class xyz2(xyz1):                               # child (Multi-level inheritance)\n",
    "    def test2(self):\n",
    "        print(\"This is method in xyz2 class\")\n",
    "        \n",
    "obj=xyz2(4,5,6)                               # creating an object in xyz2 class"
   ]
  },
  {
   "cell_type": "code",
   "execution_count": 76,
   "id": "b253574b",
   "metadata": {},
   "outputs": [
    {
     "name": "stdout",
     "output_type": "stream",
     "text": [
      "This is method in xyz class\n"
     ]
    }
   ],
   "source": [
    "obj.test()                                 # accessing methods of grandparent class"
   ]
  },
  {
   "cell_type": "code",
   "execution_count": 84,
   "id": "6bc1b4bb",
   "metadata": {},
   "outputs": [
    {
     "name": "stdout",
     "output_type": "stream",
     "text": [
      "Enter first number: 10\n",
      "Enter the divisor: 5\n",
      "This is division by 5 error\n"
     ]
    }
   ],
   "source": [
    "# 3. __Solution for Custom Exception Class__\n",
    "\n",
    "class division_by_5(Exception):         # raises exception when divided by 5\n",
    "    def __init__(self,msg):            # input msg during object creation\n",
    "        self.msg = msg\n",
    "\n",
    "try:                                           # [try--except--else]\n",
    "    a=int(input(\"Enter first number: \"))\n",
    "    b=int(input(\"Enter the divisor: \"))\n",
    "    if b == 5:\n",
    "        raise division_by_5(\"This is division by 5 error\")   # raise.. class_name... msg\n",
    "        \n",
    "except ValueError as msg:\n",
    "    print(\"ValueError\",msg)\n",
    "    \n",
    "except ZeroDivisionError as msg:\n",
    "    print(\"ZD ERROR\",msg)\n",
    "\n",
    "except division_by_5 as msg:\n",
    "    print(msg)\n",
    "\n",
    "else:\n",
    "    try:\n",
    "        result = a/b\n",
    "        print(result)\n",
    "        \n",
    "    except ZeroDivisionError as msg:\n",
    "        print(\"ZD ERROR\",msg)"
   ]
  },
  {
   "cell_type": "code",
   "execution_count": 85,
   "id": "d3054182",
   "metadata": {},
   "outputs": [],
   "source": [
    "#__ 4. Example Solution for Polymorphism __\n",
    "\n",
    "class test1:\n",
    "    def a(self):\n",
    "        return \"test1...\"\n",
    "    \n",
    "class test2:\n",
    "    def a(self):\n",
    "        return \"test2...\"\n",
    "    \n",
    "def poly(obj):                     # external function   \n",
    "    print(obj.a())\n",
    "    \n",
    "t1 = test1()\n",
    "t2 = test2()\n"
   ]
  },
  {
   "cell_type": "code",
   "execution_count": 86,
   "id": "a4de3573",
   "metadata": {},
   "outputs": [
    {
     "name": "stdout",
     "output_type": "stream",
     "text": [
      "test1...\n"
     ]
    }
   ],
   "source": [
    "poly(t1)   # passing the object as parameter inside the external function to get a behaviour"
   ]
  },
  {
   "cell_type": "code",
   "execution_count": 87,
   "id": "87d4afe0",
   "metadata": {},
   "outputs": [
    {
     "name": "stdout",
     "output_type": "stream",
     "text": [
      "test2...\n"
     ]
    }
   ],
   "source": [
    "poly(t2)  # passing object of class2 as parameter inside external function to get different behaviour"
   ]
  },
  {
   "cell_type": "markdown",
   "id": "165d9f37",
   "metadata": {},
   "source": [
    "### ABSTRACTION"
   ]
  },
  {
   "cell_type": "code",
   "execution_count": null,
   "id": "007e9f35",
   "metadata": {},
   "outputs": [],
   "source": [
    "multiple packages,modules,classes.\n",
    "breakdown entire project into small modules.\n",
    "difficult to remember all of these.\n",
    "create abstract class                  "
   ]
  },
  {
   "cell_type": "code",
   "execution_count": 1,
   "id": "388c1a22",
   "metadata": {},
   "outputs": [],
   "source": [
    "class abc:             # just creating a blueprint--> abstract class\n",
    "    pass"
   ]
  },
  {
   "cell_type": "code",
   "execution_count": 2,
   "id": "bfcaed8e",
   "metadata": {},
   "outputs": [],
   "source": [
    "#__ABSTRACTION__                                                # simply creating a class blueprint\n",
    "\n",
    "class data_project:                                           \n",
    "                                                    # @ there is also a decorator for abstract method\n",
    "    \n",
    "    def read_file(self):\n",
    "        pass\n",
    "    \n",
    "    def validate_file_name(self):\n",
    "        pass\n",
    "    \n",
    "    def validate_data_type(self):\n",
    "        pass\n",
    "    \n",
    "    def validate_db_connection(self):\n",
    "        pass\n",
    "    \n",
    "    def create_conn_wit_db(self):\n",
    "        pass\n",
    "    \n",
    "    def insert_data(self):\n",
    "        pass\n",
    "    \n",
    "    def delete_data(self):\n",
    "        pass\n",
    "    \n",
    "    def update_data(self):\n",
    "        pass\n",
    "    \n",
    "    def perform_stats(self):\n",
    "        pass\n",
    "    \n",
    "    def perform_eda(self):\n",
    "        pass\n",
    "    \n",
    "    "
   ]
  },
  {
   "cell_type": "code",
   "execution_count": 4,
   "id": "011f5e98",
   "metadata": {},
   "outputs": [],
   "source": [
    "class db_ops(data_project):                               # creating a new class for inheritance\n",
    "    pass\n",
    "                                      "
   ]
  },
  {
   "cell_type": "code",
   "execution_count": 5,
   "id": "ab3da4e7",
   "metadata": {},
   "outputs": [],
   "source": [
    "#__ABSTRACTION__ using decorator                              \n",
    "\n",
    "from abc import abstractmethod                            # import abstractmethod...\n",
    "\n",
    "class data_project:                                           \n",
    "                                                    \n",
    "    @abstractmethod                                         # using a decorator....\n",
    "    def read_file(self):\n",
    "        pass\n",
    "    \n",
    "    def validate_file_name(self):\n",
    "        pass\n",
    "    \n",
    "    def validate_data_type(self):\n",
    "        pass\n",
    "    \n",
    "    def validate_db_connection(self):\n",
    "        pass\n",
    "    \n",
    "    def create_conn_wit_db(self):\n",
    "        pass\n",
    "    \n",
    "    def insert_data(self):\n",
    "        pass\n",
    "    \n",
    "    def delete_data(self):\n",
    "        pass\n",
    "    \n",
    "    def update_data(self):\n",
    "        pass\n",
    "    \n",
    "    def perform_stats(self):\n",
    "        pass\n",
    "    \n",
    "    def perform_eda(self):\n",
    "        pass\n",
    "    \n",
    "    "
   ]
  },
  {
   "cell_type": "markdown",
   "id": "554a76c4",
   "metadata": {},
   "source": [
    "### OVERLOADING & OVER-RIDING\n",
    "\n",
    "1. __init__ is a function which we overload! Similarly,overload __str__\n",
    "2. __str__ gives custom messages anytime during an object call/object print"
   ]
  },
  {
   "cell_type": "code",
   "execution_count": 6,
   "id": "da54c4bf",
   "metadata": {},
   "outputs": [
    {
     "name": "stdout",
     "output_type": "stream",
     "text": [
      "<__main__.test object at 0x000001E30C021F40>\n"
     ]
    }
   ],
   "source": [
    "class test:\n",
    "    def func(self):\n",
    "        print(\"This is my sample func class\")\n",
    "        \n",
    "t = test()\n",
    "print(t)               # OUTPUT prints a hexadecimal object code... \n",
    "\n",
    "# We want to over-ride/overload this coded msg into a meaningful message!"
   ]
  },
  {
   "cell_type": "code",
   "execution_count": 7,
   "id": "0342731e",
   "metadata": {},
   "outputs": [
    {
     "name": "stdout",
     "output_type": "stream",
     "text": [
      "This is object t of class test\n"
     ]
    }
   ],
   "source": [
    "# __str__ --> inbuilt function to print custom msgs when object is called!\n",
    "\n",
    "class test:\n",
    "    def func(self):\n",
    "        print(\"This is my sample func class\")\n",
    "        \n",
    "    def __str__(self):                                     # overloading with __str__\n",
    "        return str(\"This is object t of class test\")       \n",
    "                                                  \n",
    "                                             # custom msg to be displayed at time of object call\n",
    "        \n",
    "t = test()\n",
    "print(t)"
   ]
  },
  {
   "cell_type": "markdown",
   "id": "a84f941c",
   "metadata": {},
   "source": [
    "# oops class 2 [live]"
   ]
  },
  {
   "cell_type": "code",
   "execution_count": 1,
   "id": "ee3c093c",
   "metadata": {},
   "outputs": [],
   "source": [
    "class test:\n",
    "    def method1(self):\n",
    "        return \"1st method\""
   ]
  },
  {
   "cell_type": "code",
   "execution_count": 2,
   "id": "2cccad8c",
   "metadata": {},
   "outputs": [],
   "source": [
    "a=test()"
   ]
  },
  {
   "cell_type": "code",
   "execution_count": 3,
   "id": "e7352fb5",
   "metadata": {},
   "outputs": [
    {
     "data": {
      "text/plain": [
       "'1st method'"
      ]
     },
     "execution_count": 3,
     "metadata": {},
     "output_type": "execute_result"
    }
   ],
   "source": [
    "a.method1()"
   ]
  },
  {
   "cell_type": "code",
   "execution_count": 4,
   "id": "fe017cb0",
   "metadata": {},
   "outputs": [],
   "source": [
    "# without creating an object, how to access method?\n",
    "\n",
    "# Ans: Inheritence\n",
    "\n",
    "class test1(test):\n",
    "    pass"
   ]
  },
  {
   "cell_type": "code",
   "execution_count": 5,
   "id": "25eaaafb",
   "metadata": {},
   "outputs": [],
   "source": [
    "b=test1()"
   ]
  },
  {
   "cell_type": "code",
   "execution_count": 6,
   "id": "d59062a4",
   "metadata": {},
   "outputs": [
    {
     "data": {
      "text/plain": [
       "'1st method'"
      ]
     },
     "execution_count": 6,
     "metadata": {},
     "output_type": "execute_result"
    }
   ],
   "source": [
    "b.method1()"
   ]
  },
  {
   "cell_type": "code",
   "execution_count": 7,
   "id": "cb4207d9",
   "metadata": {},
   "outputs": [],
   "source": [
    "# Ans2: static method\n",
    "\n",
    "class test:\n",
    "    @staticmethod\n",
    "    def method1(self):\n",
    "        return \"static1 method1\"\n",
    "    \n",
    "    def method2(self):\n",
    "        return \"without static method2\"\n",
    "    \n"
   ]
  },
  {
   "cell_type": "code",
   "execution_count": 8,
   "id": "7ba24281",
   "metadata": {},
   "outputs": [],
   "source": [
    "c=test()"
   ]
  },
  {
   "cell_type": "code",
   "execution_count": null,
   "id": "5e03d6c9",
   "metadata": {},
   "outputs": [],
   "source": [
    "c.                 # press tab and check"
   ]
  },
  {
   "cell_type": "code",
   "execution_count": 9,
   "id": "aa8d14f2",
   "metadata": {},
   "outputs": [
    {
     "data": {
      "text/plain": [
       "'without static method2'"
      ]
     },
     "execution_count": 9,
     "metadata": {},
     "output_type": "execute_result"
    }
   ],
   "source": [
    "c.method2()"
   ]
  },
  {
   "cell_type": "code",
   "execution_count": 10,
   "id": "dd3b47a4",
   "metadata": {},
   "outputs": [
    {
     "ename": "TypeError",
     "evalue": "method1() missing 1 required positional argument: 'self'",
     "output_type": "error",
     "traceback": [
      "\u001b[1;31m---------------------------------------------------------------------------\u001b[0m",
      "\u001b[1;31mTypeError\u001b[0m                                 Traceback (most recent call last)",
      "Input \u001b[1;32mIn [10]\u001b[0m, in \u001b[0;36m<cell line: 1>\u001b[1;34m()\u001b[0m\n\u001b[1;32m----> 1\u001b[0m \u001b[43mc\u001b[49m\u001b[38;5;241;43m.\u001b[39;49m\u001b[43mmethod1\u001b[49m\u001b[43m(\u001b[49m\u001b[43m)\u001b[49m\n",
      "\u001b[1;31mTypeError\u001b[0m: method1() missing 1 required positional argument: 'self'"
     ]
    }
   ],
   "source": [
    "c.method1()"
   ]
  },
  {
   "cell_type": "code",
   "execution_count": 11,
   "id": "679398ae",
   "metadata": {},
   "outputs": [],
   "source": [
    "#1\n",
    "class test:\n",
    "    @staticmethod\n",
    "    def method1():     # static method donot require self\n",
    "        return \"static1 method1\"\n",
    "    \n",
    "    def method2(self):\n",
    "        return \"without static method2\""
   ]
  },
  {
   "cell_type": "code",
   "execution_count": 13,
   "id": "84cf426c",
   "metadata": {},
   "outputs": [],
   "source": [
    "c=test()"
   ]
  },
  {
   "cell_type": "code",
   "execution_count": 14,
   "id": "10d3b88d",
   "metadata": {},
   "outputs": [
    {
     "data": {
      "text/plain": [
       "'static1 method1'"
      ]
     },
     "execution_count": 14,
     "metadata": {},
     "output_type": "execute_result"
    }
   ],
   "source": [
    "c.method1()"
   ]
  },
  {
   "cell_type": "code",
   "execution_count": 15,
   "id": "a9b61237",
   "metadata": {},
   "outputs": [],
   "source": [
    "#2.\n",
    "class test:\n",
    "  # @staticmethod          .... comment out\n",
    "    def method1(self):\n",
    "        return \"static1 method1\"\n",
    "    \n",
    "    def method2(self):\n",
    "        return \"without static method2\""
   ]
  },
  {
   "cell_type": "code",
   "execution_count": 16,
   "id": "b2d197aa",
   "metadata": {},
   "outputs": [],
   "source": [
    "c=test()"
   ]
  },
  {
   "cell_type": "code",
   "execution_count": 17,
   "id": "7c23d47c",
   "metadata": {},
   "outputs": [
    {
     "data": {
      "text/plain": [
       "'static1 method1'"
      ]
     },
     "execution_count": 17,
     "metadata": {},
     "output_type": "execute_result"
    }
   ],
   "source": [
    "c.method1()"
   ]
  },
  {
   "cell_type": "code",
   "execution_count": 19,
   "id": "619fd853",
   "metadata": {},
   "outputs": [],
   "source": [
    "# actual problem solution:\n",
    "\n",
    "class test:\n",
    "    @staticmethod\n",
    "    def method1():\n",
    "        return \"static1 method1\"\n",
    "    \n",
    "    def method2(self):\n",
    "        return \"without static method2\""
   ]
  },
  {
   "cell_type": "code",
   "execution_count": 20,
   "id": "32903a5e",
   "metadata": {},
   "outputs": [
    {
     "data": {
      "text/plain": [
       "'static1 method1'"
      ]
     },
     "execution_count": 20,
     "metadata": {},
     "output_type": "execute_result"
    }
   ],
   "source": [
    "test.method1()"
   ]
  },
  {
   "cell_type": "code",
   "execution_count": 21,
   "id": "9f9eb97c",
   "metadata": {},
   "outputs": [
    {
     "ename": "TypeError",
     "evalue": "method2() missing 1 required positional argument: 'self'",
     "output_type": "error",
     "traceback": [
      "\u001b[1;31m---------------------------------------------------------------------------\u001b[0m",
      "\u001b[1;31mTypeError\u001b[0m                                 Traceback (most recent call last)",
      "Input \u001b[1;32mIn [21]\u001b[0m, in \u001b[0;36m<cell line: 1>\u001b[1;34m()\u001b[0m\n\u001b[1;32m----> 1\u001b[0m \u001b[43mtest\u001b[49m\u001b[38;5;241;43m.\u001b[39;49m\u001b[43mmethod2\u001b[49m\u001b[43m(\u001b[49m\u001b[43m)\u001b[49m\n",
      "\u001b[1;31mTypeError\u001b[0m: method2() missing 1 required positional argument: 'self'"
     ]
    }
   ],
   "source": [
    "test.method2()       # not a static method!"
   ]
  },
  {
   "cell_type": "markdown",
   "id": "ffb204c9",
   "metadata": {},
   "source": [
    "accessing class method without using an object ---> annotate with static method"
   ]
  },
  {
   "cell_type": "code",
   "execution_count": 22,
   "id": "b9d5ec8d",
   "metadata": {},
   "outputs": [],
   "source": [
    "class test2:\n",
    "    def __init__(self,a,b):\n",
    "        self.a=a\n",
    "        self.b=b\n",
    "        \n",
    "    def meth1(self):\n",
    "        return \"meth1\"\n",
    "    def meth2(self,n):\n",
    "        return n\n",
    "    def meth3(self,m):\n",
    "        return m"
   ]
  },
  {
   "cell_type": "code",
   "execution_count": 23,
   "id": "d89069b0",
   "metadata": {},
   "outputs": [],
   "source": [
    "a_test2 = test2(\"sudh\",34)"
   ]
  },
  {
   "cell_type": "code",
   "execution_count": 24,
   "id": "556ddc2d",
   "metadata": {},
   "outputs": [],
   "source": [
    "b_test2 = test2(\"kumar\",29)"
   ]
  },
  {
   "cell_type": "code",
   "execution_count": 25,
   "id": "0df3a8d8",
   "metadata": {},
   "outputs": [],
   "source": [
    "c_test2 = test2(\"animesh\",32)"
   ]
  },
  {
   "cell_type": "code",
   "execution_count": null,
   "id": "0ac657a4",
   "metadata": {},
   "outputs": [],
   "source": []
  },
  {
   "cell_type": "markdown",
   "id": "aff01399",
   "metadata": {},
   "source": [
    "overloading is a scenarion where method name is same but with multiple arguments "
   ]
  },
  {
   "cell_type": "code",
   "execution_count": 26,
   "id": "7a6a8b50",
   "metadata": {},
   "outputs": [],
   "source": [
    "class test5:\n",
    "    def test(self,c=5,d=4,e=9):\n",
    "        return c,d,e"
   ]
  },
  {
   "cell_type": "code",
   "execution_count": 27,
   "id": "fb61da5d",
   "metadata": {},
   "outputs": [],
   "source": [
    "var_test5 = test5()"
   ]
  },
  {
   "cell_type": "code",
   "execution_count": 28,
   "id": "fef982eb",
   "metadata": {},
   "outputs": [
    {
     "data": {
      "text/plain": [
       "(5, 4, 9)"
      ]
     },
     "execution_count": 28,
     "metadata": {},
     "output_type": "execute_result"
    }
   ],
   "source": [
    "var_test5.test()"
   ]
  },
  {
   "cell_type": "code",
   "execution_count": 29,
   "id": "4c5e564d",
   "metadata": {},
   "outputs": [
    {
     "data": {
      "text/plain": [
       "('sudh', 4, 9)"
      ]
     },
     "execution_count": 29,
     "metadata": {},
     "output_type": "execute_result"
    }
   ],
   "source": [
    "var_test5.test(\"sudh\")    # overloading by passing argument"
   ]
  },
  {
   "cell_type": "code",
   "execution_count": 30,
   "id": "61cde8bd",
   "metadata": {},
   "outputs": [
    {
     "data": {
      "text/plain": [
       "('rick', 'kumar', 44)"
      ]
     },
     "execution_count": 30,
     "metadata": {},
     "output_type": "execute_result"
    }
   ],
   "source": [
    "var_test5.test(\"rick\",\"kumar\",44)  # overloading with multiple arguments"
   ]
  },
  {
   "cell_type": "markdown",
   "id": "57794db4",
   "metadata": {},
   "source": [
    "Overloading is a situation where number of attributes/arguments and data type will be different"
   ]
  },
  {
   "cell_type": "markdown",
   "id": "1e5a531e",
   "metadata": {},
   "source": [
    "Overriding is a situation where the signature of a function means name and parameter will be same. we will only change the definition of the function."
   ]
  },
  {
   "cell_type": "code",
   "execution_count": null,
   "id": "915c0bb0",
   "metadata": {},
   "outputs": [],
   "source": []
  },
  {
   "cell_type": "code",
   "execution_count": 31,
   "id": "fb68602b",
   "metadata": {},
   "outputs": [],
   "source": [
    "# POLYMORPHISM\n",
    "\n",
    "# outcome changes depending on the input parameters\n",
    "\n",
    "class test1:\n",
    "    def test(self):\n",
    "        return \"this is meth test1\"\n",
    "\n",
    "class test2:\n",
    "    def test(self):\n",
    "        return \"method 2 test2\"\n",
    "    \n",
    "class test3:\n",
    "    def test(self):\n",
    "        return \"method 3 test 3\"\n",
    "    "
   ]
  },
  {
   "cell_type": "code",
   "execution_count": 32,
   "id": "619e4ab2",
   "metadata": {},
   "outputs": [],
   "source": [
    "var_class=[test1(),test2(),test3()]"
   ]
  },
  {
   "cell_type": "code",
   "execution_count": 33,
   "id": "f5da33ff",
   "metadata": {},
   "outputs": [
    {
     "name": "stdout",
     "output_type": "stream",
     "text": [
      "this is meth test1\n",
      "method 2 test2\n",
      "method 3 test 3\n"
     ]
    }
   ],
   "source": [
    "for i in var_class:    # polymorphism of 'i' --> acting as object for 3 different classes\n",
    "    print(i.test())"
   ]
  },
  {
   "cell_type": "markdown",
   "id": "10841cd2",
   "metadata": {},
   "source": [
    "Polymorphism: Same entity 'i' but behaviour changes w.r.t different func/classes"
   ]
  },
  {
   "cell_type": "code",
   "execution_count": null,
   "id": "b0ef4e8b",
   "metadata": {},
   "outputs": [],
   "source": []
  },
  {
   "cell_type": "code",
   "execution_count": null,
   "id": "0896bce9",
   "metadata": {},
   "outputs": [],
   "source": []
  },
  {
   "cell_type": "code",
   "execution_count": null,
   "id": "64d2ac8d",
   "metadata": {},
   "outputs": [],
   "source": []
  },
  {
   "cell_type": "code",
   "execution_count": null,
   "id": "f6ffcce9",
   "metadata": {},
   "outputs": [],
   "source": []
  },
  {
   "cell_type": "code",
   "execution_count": null,
   "id": "6d4b243f",
   "metadata": {},
   "outputs": [],
   "source": []
  },
  {
   "cell_type": "code",
   "execution_count": null,
   "id": "ecca48a5",
   "metadata": {},
   "outputs": [],
   "source": []
  },
  {
   "cell_type": "code",
   "execution_count": null,
   "id": "bf81dcd2",
   "metadata": {},
   "outputs": [],
   "source": []
  },
  {
   "cell_type": "code",
   "execution_count": null,
   "id": "c2fc630d",
   "metadata": {},
   "outputs": [],
   "source": []
  },
  {
   "cell_type": "code",
   "execution_count": null,
   "id": "9f72a2eb",
   "metadata": {},
   "outputs": [],
   "source": []
  },
  {
   "cell_type": "code",
   "execution_count": null,
   "id": "34e87395",
   "metadata": {},
   "outputs": [],
   "source": []
  },
  {
   "cell_type": "code",
   "execution_count": null,
   "id": "73007e21",
   "metadata": {},
   "outputs": [],
   "source": []
  },
  {
   "cell_type": "code",
   "execution_count": null,
   "id": "dd1e3e01",
   "metadata": {},
   "outputs": [],
   "source": []
  },
  {
   "cell_type": "code",
   "execution_count": null,
   "id": "edfcbbe3",
   "metadata": {},
   "outputs": [],
   "source": []
  },
  {
   "cell_type": "code",
   "execution_count": null,
   "id": "cef7e23b",
   "metadata": {},
   "outputs": [],
   "source": []
  },
  {
   "cell_type": "code",
   "execution_count": null,
   "id": "159dd33d",
   "metadata": {},
   "outputs": [],
   "source": []
  },
  {
   "cell_type": "code",
   "execution_count": null,
   "id": "c02337a4",
   "metadata": {},
   "outputs": [],
   "source": []
  }
 ],
 "metadata": {
  "kernelspec": {
   "display_name": "Python 3 (ipykernel)",
   "language": "python",
   "name": "python3"
  },
  "language_info": {
   "codemirror_mode": {
    "name": "ipython",
    "version": 3
   },
   "file_extension": ".py",
   "mimetype": "text/x-python",
   "name": "python",
   "nbconvert_exporter": "python",
   "pygments_lexer": "ipython3",
   "version": "3.9.12"
  }
 },
 "nbformat": 4,
 "nbformat_minor": 5
}
