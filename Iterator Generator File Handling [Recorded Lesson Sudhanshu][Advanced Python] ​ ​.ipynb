{
 "cells": [
  {
   "cell_type": "markdown",
   "id": "5be2f88e",
   "metadata": {},
   "source": [
    "### Iterator Generator File Handling [Recorded Lesson: Sudhanshu][Advanced Python]"
   ]
  },
  {
   "cell_type": "code",
   "execution_count": null,
   "id": "7051cf3a",
   "metadata": {},
   "outputs": [],
   "source": [
    "s=\"sudh\"              #_String is an Iterable object\n",
    "for i in s:\n",
    "    print(i)"
   ]
  },
  {
   "cell_type": "code",
   "execution_count": null,
   "id": "45df661e",
   "metadata": {},
   "outputs": [],
   "source": [
    "# Using iter and next, we convert iterable object to an iterator!\n",
    "# Example of how for loop works!\n",
    "# Calling iter() function on iterable object gives an iterator!\n",
    "# Calling next() function on iterator object gives the next element in the iterator.\n",
    "\n",
    "S=iter(s)  # converting s into an iterator object and storing it as S.\n",
    "\n",
    "next(S)    # using next we can call the elements one after another."
   ]
  },
  {
   "cell_type": "code",
   "execution_count": null,
   "id": "9a20843f",
   "metadata": {},
   "outputs": [],
   "source": [
    "next(S)"
   ]
  },
  {
   "cell_type": "code",
   "execution_count": null,
   "id": "a6bb2713",
   "metadata": {},
   "outputs": [],
   "source": [
    "next(S)"
   ]
  },
  {
   "cell_type": "code",
   "execution_count": null,
   "id": "a956cbd2",
   "metadata": {},
   "outputs": [],
   "source": [
    "next(S)"
   ]
  },
  {
   "cell_type": "code",
   "execution_count": null,
   "id": "722f2c8a",
   "metadata": {},
   "outputs": [],
   "source": [
    "#__Example:\n",
    "\n",
    "l=[1,2,3,4,5]"
   ]
  },
  {
   "cell_type": "code",
   "execution_count": null,
   "id": "a288b667",
   "metadata": {},
   "outputs": [],
   "source": [
    "next(l)"
   ]
  },
  {
   "cell_type": "code",
   "execution_count": null,
   "id": "8d704287",
   "metadata": {},
   "outputs": [],
   "source": [
    "l=iter(l)"
   ]
  },
  {
   "cell_type": "code",
   "execution_count": null,
   "id": "69f05acf",
   "metadata": {},
   "outputs": [],
   "source": [
    "next(l)"
   ]
  },
  {
   "cell_type": "code",
   "execution_count": null,
   "id": "113551d4",
   "metadata": {},
   "outputs": [],
   "source": [
    "next(l)"
   ]
  },
  {
   "cell_type": "code",
   "execution_count": null,
   "id": "42ee75e3",
   "metadata": {},
   "outputs": [],
   "source": [
    "#Stop iteration exception---> when to stop?? after exhausting the length of the object\n",
    "\n",
    "# iter and next doesnt know that!"
   ]
  },
  {
   "cell_type": "code",
   "execution_count": null,
   "id": "c359ce4e",
   "metadata": {},
   "outputs": [],
   "source": [
    "a=56"
   ]
  },
  {
   "cell_type": "code",
   "execution_count": null,
   "id": "00d13248",
   "metadata": {},
   "outputs": [],
   "source": [
    "next(a)"
   ]
  },
  {
   "cell_type": "code",
   "execution_count": null,
   "id": "445a2a42",
   "metadata": {},
   "outputs": [],
   "source": [
    "a=iter(a)"
   ]
  },
  {
   "cell_type": "code",
   "execution_count": null,
   "id": "dfadda3b",
   "metadata": {},
   "outputs": [],
   "source": [
    "t=(5,6,7,8)   # Tuples are iterable but not iterator!"
   ]
  },
  {
   "cell_type": "code",
   "execution_count": null,
   "id": "15225ee7",
   "metadata": {},
   "outputs": [],
   "source": [
    "dir(t)"
   ]
  },
  {
   "cell_type": "code",
   "execution_count": null,
   "id": "85c8f755",
   "metadata": {},
   "outputs": [],
   "source": [
    "next(t)"
   ]
  },
  {
   "cell_type": "code",
   "execution_count": null,
   "id": "fbd02d3b",
   "metadata": {},
   "outputs": [],
   "source": [
    "t=iter(t)                          # converting into iterator object"
   ]
  },
  {
   "cell_type": "code",
   "execution_count": null,
   "id": "0d897761",
   "metadata": {},
   "outputs": [],
   "source": [
    "next(t)"
   ]
  },
  {
   "cell_type": "code",
   "execution_count": null,
   "id": "32d057b4",
   "metadata": {},
   "outputs": [],
   "source": [
    "next(t)"
   ]
  },
  {
   "cell_type": "code",
   "execution_count": null,
   "id": "5b8c9fc3",
   "metadata": {},
   "outputs": [],
   "source": [
    "next(t)"
   ]
  },
  {
   "cell_type": "code",
   "execution_count": null,
   "id": "8f3f944c",
   "metadata": {},
   "outputs": [],
   "source": [
    "next(t)"
   ]
  },
  {
   "cell_type": "code",
   "execution_count": null,
   "id": "b27d50ef",
   "metadata": {},
   "outputs": [],
   "source": [
    "next(t)"
   ]
  },
  {
   "cell_type": "code",
   "execution_count": null,
   "id": "e037cd4c",
   "metadata": {},
   "outputs": [],
   "source": [
    "r=range(6)"
   ]
  },
  {
   "cell_type": "code",
   "execution_count": null,
   "id": "c76ed05e",
   "metadata": {},
   "outputs": [],
   "source": [
    "list(range(6))"
   ]
  },
  {
   "cell_type": "code",
   "execution_count": null,
   "id": "2301b83c",
   "metadata": {},
   "outputs": [],
   "source": [
    "r=iter(r)               # converting into iterator object"
   ]
  },
  {
   "cell_type": "code",
   "execution_count": null,
   "id": "6cc6f62e",
   "metadata": {},
   "outputs": [],
   "source": [
    "next(r)"
   ]
  },
  {
   "cell_type": "code",
   "execution_count": null,
   "id": "786dc37e",
   "metadata": {},
   "outputs": [],
   "source": [
    "next(r)"
   ]
  },
  {
   "cell_type": "code",
   "execution_count": null,
   "id": "d1013740",
   "metadata": {},
   "outputs": [],
   "source": [
    "next(r)          #.........."
   ]
  },
  {
   "cell_type": "markdown",
   "id": "ac2be180",
   "metadata": {},
   "source": [
    "### GENERATOR\n",
    "\n",
    "1. Generator is another way of creating Iterators."
   ]
  },
  {
   "cell_type": "code",
   "execution_count": null,
   "id": "d6978d49",
   "metadata": {},
   "outputs": [],
   "source": [
    "range(5)             #.....generating a dataset"
   ]
  },
  {
   "cell_type": "code",
   "execution_count": null,
   "id": "cea4d95d",
   "metadata": {},
   "outputs": [],
   "source": [
    "#_How to create a function like range by ourselves?\n",
    "\n",
    "#_Problem: Generate cubes\n",
    "\n",
    "def gencube(n):\n",
    "    for i in range(n):\n",
    "        return i**3             \n",
    "\n",
    "# Normal function uses return but generator function uses yield to return!"
   ]
  },
  {
   "cell_type": "code",
   "execution_count": null,
   "id": "f81e876f",
   "metadata": {},
   "outputs": [],
   "source": [
    "gencube(6)                         # how to fix? 1. print statement!... 2. create a list and append!"
   ]
  },
  {
   "cell_type": "code",
   "execution_count": null,
   "id": "eae85e9d",
   "metadata": {},
   "outputs": [],
   "source": [
    "def gencube(n):\n",
    "    l=list()\n",
    "    for i in range(n):\n",
    "        l.append(i**3)\n",
    "    return l"
   ]
  },
  {
   "cell_type": "code",
   "execution_count": null,
   "id": "1f4dc362",
   "metadata": {},
   "outputs": [],
   "source": [
    "gencube(6)"
   ]
  },
  {
   "cell_type": "code",
   "execution_count": null,
   "id": "252e9c99",
   "metadata": {},
   "outputs": [],
   "source": [
    "#_Problem with memory allocation.... Solution to optimize code:  YIELD OPERATOR\n",
    "\n",
    "def gencube(n):\n",
    "    \n",
    "    for i in range(n):\n",
    "        yield i**3            # yield is a keyword used in a generator function\n",
    "                              # yield is used in-place of return to return a generator object"
   ]
  },
  {
   "cell_type": "code",
   "execution_count": null,
   "id": "2dbd6d9b",
   "metadata": {},
   "outputs": [],
   "source": [
    "gencube(6)           # gencube(n) ---> generator object created but how to get data??\n",
    "\n",
    "\n",
    "#Range_like function created with the help of yield operator, helps in memory manangement!\n",
    "# what data was produced last time and what was the logic to generate that dataset and where to stop.\n",
    "# minimum memory allocation---> \"code\" optimized!"
   ]
  },
  {
   "cell_type": "code",
   "execution_count": null,
   "id": "ffff9545",
   "metadata": {
    "scrolled": true
   },
   "outputs": [],
   "source": [
    "for i in gencube(9):\n",
    "    print(i)"
   ]
  },
  {
   "cell_type": "code",
   "execution_count": 1,
   "id": "5aa507f0",
   "metadata": {},
   "outputs": [],
   "source": [
    "#__Example: In normal functions, there is no multiple returns but there can be multiple yields!\n",
    "\n",
    "def new():\n",
    "    print(\"line one\")\n",
    "    yield n\n",
    "    \n",
    "    n=n+1\n",
    "    print(\"line two\")\n",
    "    yield n\n",
    "    \n",
    "    n=n+1\n",
    "    print(\"line three\")\n",
    "    yield n"
   ]
  },
  {
   "cell_type": "code",
   "execution_count": 2,
   "id": "c9cfea8f",
   "metadata": {},
   "outputs": [
    {
     "name": "stdout",
     "output_type": "stream",
     "text": [
      "line one\n"
     ]
    },
    {
     "ename": "UnboundLocalError",
     "evalue": "local variable 'n' referenced before assignment",
     "output_type": "error",
     "traceback": [
      "\u001b[1;31m---------------------------------------------------------------------------\u001b[0m",
      "\u001b[1;31mUnboundLocalError\u001b[0m                         Traceback (most recent call last)",
      "Input \u001b[1;32mIn [2]\u001b[0m, in \u001b[0;36m<cell line: 1>\u001b[1;34m()\u001b[0m\n\u001b[1;32m----> 1\u001b[0m \u001b[38;5;28;01mfor\u001b[39;00m i \u001b[38;5;129;01min\u001b[39;00m new():\n\u001b[0;32m      2\u001b[0m     \u001b[38;5;28mprint\u001b[39m(i)\n",
      "Input \u001b[1;32mIn [1]\u001b[0m, in \u001b[0;36mnew\u001b[1;34m()\u001b[0m\n\u001b[0;32m      3\u001b[0m \u001b[38;5;28;01mdef\u001b[39;00m \u001b[38;5;21mnew\u001b[39m():\n\u001b[0;32m      4\u001b[0m     \u001b[38;5;28mprint\u001b[39m(\u001b[38;5;124m\"\u001b[39m\u001b[38;5;124mline one\u001b[39m\u001b[38;5;124m\"\u001b[39m)\n\u001b[1;32m----> 5\u001b[0m     \u001b[38;5;28;01myield\u001b[39;00m \u001b[43mn\u001b[49m\n\u001b[0;32m      7\u001b[0m     n\u001b[38;5;241m=\u001b[39mn\u001b[38;5;241m+\u001b[39m\u001b[38;5;241m1\u001b[39m\n\u001b[0;32m      8\u001b[0m     \u001b[38;5;28mprint\u001b[39m(\u001b[38;5;124m\"\u001b[39m\u001b[38;5;124mline two\u001b[39m\u001b[38;5;124m\"\u001b[39m)\n",
      "\u001b[1;31mUnboundLocalError\u001b[0m: local variable 'n' referenced before assignment"
     ]
    }
   ],
   "source": [
    "for i in new():\n",
    "    print(i)                                  #__STUDY WHAT IS THE ERROR__later...!!"
   ]
  },
  {
   "cell_type": "code",
   "execution_count": null,
   "id": "e4b5f0d4",
   "metadata": {},
   "outputs": [],
   "source": [
    "#_fibonacci sequence using yield operator\n",
    "\n",
    "def gen_fib(n):\n",
    "    a=1\n",
    "    b=1\n",
    "    for i in range(n):\n",
    "        yield a, b, i           # 1st iteration ------> (1,1,0)\n",
    "        a,b = b,a+b             # means ---> a=b; b= a+b\n",
    "        "
   ]
  },
  {
   "cell_type": "code",
   "execution_count": null,
   "id": "4424863a",
   "metadata": {},
   "outputs": [],
   "source": [
    "for i in gen_fib(10):\n",
    "    print(i)"
   ]
  },
  {
   "cell_type": "code",
   "execution_count": null,
   "id": "3e05efd2",
   "metadata": {},
   "outputs": [],
   "source": [
    "#_Normal function: Issues with memory management\n",
    "\n",
    "def fib(n):\n",
    "    a=1\n",
    "    b=1\n",
    "    output=list()\n",
    "    for i in range(n):\n",
    "        output.append(b)\n",
    "        a,b = b,a+b\n",
    "    return output"
   ]
  },
  {
   "cell_type": "code",
   "execution_count": null,
   "id": "ba3bfcd4",
   "metadata": {},
   "outputs": [],
   "source": [
    "fib(9)"
   ]
  },
  {
   "cell_type": "code",
   "execution_count": 3,
   "id": "a1a4a08d",
   "metadata": {},
   "outputs": [
    {
     "name": "stdout",
     "output_type": "stream",
     "text": [
      "1\n",
      "2\n",
      "3\n"
     ]
    }
   ],
   "source": [
    "#__HOW DOES FOR LOOP WORK?\n",
    "\n",
    "nums = [1,2,3]                        \n",
    "i_nums=iter(nums)\n",
    "\n",
    "while True:                            # SKELETON OF FUNCTIONING OF 'FOR' LOOPS\n",
    "    try:\n",
    "        item=next(i_nums)\n",
    "        print(item)\n",
    "    except StopIteration:\n",
    "        break"
   ]
  },
  {
   "cell_type": "code",
   "execution_count": 5,
   "id": "bcb93857",
   "metadata": {},
   "outputs": [
    {
     "name": "stdout",
     "output_type": "stream",
     "text": [
      "1\n",
      "2\n",
      "3\n"
     ]
    }
   ],
   "source": [
    "nums = [1,2,3]\n",
    "i_nums=iter(nums)\n",
    "\n",
    "for i in i_nums:                        # Simple 'FOR' LOOPS\n",
    "    print(i)"
   ]
  },
  {
   "cell_type": "markdown",
   "id": "e6ca401b",
   "metadata": {},
   "source": [
    "## File Operation & File Handling"
   ]
  },
  {
   "cell_type": "code",
   "execution_count": null,
   "id": "9b8701c1",
   "metadata": {
    "scrolled": true
   },
   "outputs": [],
   "source": [
    "print(\"prints in the console\")"
   ]
  },
  {
   "cell_type": "code",
   "execution_count": null,
   "id": "068e659c",
   "metadata": {},
   "outputs": [],
   "source": [
    "pwd()"
   ]
  },
  {
   "cell_type": "code",
   "execution_count": null,
   "id": "5b30f272",
   "metadata": {},
   "outputs": [],
   "source": [
    "dir()"
   ]
  },
  {
   "cell_type": "code",
   "execution_count": null,
   "id": "9a68d2f7",
   "metadata": {},
   "outputs": [],
   "source": [
    "ls"
   ]
  },
  {
   "cell_type": "code",
   "execution_count": null,
   "id": "25c68348",
   "metadata": {},
   "outputs": [],
   "source": [
    "f = open(\"test.txt\",\"w\")              # press Shift + Tab (file_name,mode='write')..."
   ]
  },
  {
   "cell_type": "code",
   "execution_count": null,
   "id": "d9cc3cd2",
   "metadata": {},
   "outputs": [],
   "source": [
    "ls                                    # test.txt file created! CHECK!!!"
   ]
  },
  {
   "cell_type": "code",
   "execution_count": null,
   "id": "6a8553df",
   "metadata": {},
   "outputs": [],
   "source": [
    "%ls"
   ]
  },
  {
   "cell_type": "code",
   "execution_count": null,
   "id": "8aa1eacb",
   "metadata": {},
   "outputs": [],
   "source": [
    "f = open('test.txt',\"w\")          # creates and opens file"
   ]
  },
  {
   "cell_type": "code",
   "execution_count": null,
   "id": "73ea4ace",
   "metadata": {},
   "outputs": [],
   "source": [
    "f.write(\"this is my first file write operation\")     # writes the text"
   ]
  },
  {
   "cell_type": "code",
   "execution_count": null,
   "id": "a6f03720",
   "metadata": {},
   "outputs": [],
   "source": [
    "f.close()                        # close the text file to see the actual game in action"
   ]
  },
  {
   "cell_type": "code",
   "execution_count": null,
   "id": "f52503f2",
   "metadata": {},
   "outputs": [],
   "source": [
    "f=open('test.txt',\"w\")"
   ]
  },
  {
   "cell_type": "code",
   "execution_count": null,
   "id": "cb42f7ba",
   "metadata": {},
   "outputs": [],
   "source": [
    "f.write(\"Always remember to use: f.close in py before checking manually\")"
   ]
  },
  {
   "cell_type": "code",
   "execution_count": null,
   "id": "66061ba3",
   "metadata": {},
   "outputs": [],
   "source": [
    "f.close()"
   ]
  },
  {
   "cell_type": "code",
   "execution_count": null,
   "id": "d6ad527f",
   "metadata": {},
   "outputs": [],
   "source": [
    "#_Another method to create and write a text file\n",
    "\n",
    "%%writefile test1.txt                          # \"%%writefile\" file_name\n",
    "this is a data i would like to store           # text"
   ]
  },
  {
   "cell_type": "code",
   "execution_count": null,
   "id": "fe26e7a3",
   "metadata": {},
   "outputs": [],
   "source": [
    "%ls                                    # check for test1.txt"
   ]
  },
  {
   "cell_type": "code",
   "execution_count": null,
   "id": "7d14b763",
   "metadata": {},
   "outputs": [],
   "source": [
    "f = open('test.txt')                     #_Open"
   ]
  },
  {
   "cell_type": "code",
   "execution_count": null,
   "id": "003ba3a2",
   "metadata": {},
   "outputs": [],
   "source": [
    "f.read()                                 #_Read"
   ]
  },
  {
   "cell_type": "code",
   "execution_count": null,
   "id": "de3ef96a",
   "metadata": {},
   "outputs": [],
   "source": [
    "f.close()                               #_Close"
   ]
  },
  {
   "cell_type": "code",
   "execution_count": null,
   "id": "d740b73b",
   "metadata": {},
   "outputs": [],
   "source": [
    "f = open('test1.txt')                "
   ]
  },
  {
   "cell_type": "code",
   "execution_count": null,
   "id": "9636df62",
   "metadata": {},
   "outputs": [],
   "source": [
    "f.read()  "
   ]
  },
  {
   "cell_type": "code",
   "execution_count": null,
   "id": "ae1d56cc",
   "metadata": {},
   "outputs": [],
   "source": [
    "#_How to reset the cursor as after opening and reading the file... the cursor is at the last position!\n",
    "\n",
    "f.seek(5)       # seek is a function by which cursor can be reset at index position"
   ]
  },
  {
   "cell_type": "code",
   "execution_count": null,
   "id": "af22c6e6",
   "metadata": {},
   "outputs": [],
   "source": [
    "f.read()"
   ]
  },
  {
   "cell_type": "code",
   "execution_count": null,
   "id": "6019d8a4",
   "metadata": {},
   "outputs": [],
   "source": [
    "f.seek(0)"
   ]
  },
  {
   "cell_type": "code",
   "execution_count": null,
   "id": "bf8d7da9",
   "metadata": {},
   "outputs": [],
   "source": [
    "f.read()"
   ]
  },
  {
   "cell_type": "code",
   "execution_count": null,
   "id": "a8a61527",
   "metadata": {},
   "outputs": [],
   "source": [
    "f.tell()          #_tell---> tells us where is the cursor right now"
   ]
  },
  {
   "cell_type": "code",
   "execution_count": null,
   "id": "d71af7e2",
   "metadata": {},
   "outputs": [],
   "source": [
    "f.seek(1)"
   ]
  },
  {
   "cell_type": "code",
   "execution_count": null,
   "id": "e4d4e188",
   "metadata": {},
   "outputs": [],
   "source": [
    "f.tell()"
   ]
  },
  {
   "cell_type": "code",
   "execution_count": null,
   "id": "7112069b",
   "metadata": {},
   "outputs": [],
   "source": [
    "f.seek(0)"
   ]
  },
  {
   "cell_type": "code",
   "execution_count": null,
   "id": "fad4221b",
   "metadata": {},
   "outputs": [],
   "source": [
    "f.close()"
   ]
  },
  {
   "cell_type": "code",
   "execution_count": null,
   "id": "47f7885f",
   "metadata": {},
   "outputs": [],
   "source": [
    "f=open ('test1.txt',\"r+\")           # r+ mode---> WRITING + READING (both)"
   ]
  },
  {
   "cell_type": "code",
   "execution_count": null,
   "id": "c431941f",
   "metadata": {},
   "outputs": [],
   "source": [
    "f.read()"
   ]
  },
  {
   "cell_type": "code",
   "execution_count": null,
   "id": "3eb904de",
   "metadata": {},
   "outputs": [],
   "source": [
    "f.seek(0)"
   ]
  },
  {
   "cell_type": "code",
   "execution_count": null,
   "id": "6fc9c89a",
   "metadata": {},
   "outputs": [],
   "source": [
    "f.readline()"
   ]
  },
  {
   "cell_type": "code",
   "execution_count": null,
   "id": "a7830bb0",
   "metadata": {},
   "outputs": [],
   "source": [
    "#_Difference between read and readline?\n",
    "\n",
    "\"\"\"read reads whole data at a single go\n",
    "readline reads line by line... one after another.. in iterations...\"\"\""
   ]
  },
  {
   "cell_type": "code",
   "execution_count": null,
   "id": "2ab59fe4",
   "metadata": {},
   "outputs": [],
   "source": [
    "f=open(\"google_1.txt\",\"w\")"
   ]
  },
  {
   "cell_type": "code",
   "execution_count": null,
   "id": "4e2b6512",
   "metadata": {},
   "outputs": [],
   "source": [
    "f.write(\"\"\"'I did not urinate on the complainant,' Mishra told the court./n\n",
    "\n",
    "Explained |Man who urinated on woman on Air India flight accused of ‘outraging her modesty’: What is this offence under IPC?\n",
    "\n",
    "The denial comes just two days after Mishra said he was not running away from the fact that the act was an obscene and revolting, however arguing that the complainant’s statement does not make a case of using criminal force to outrage her modesty.\n",
    "\n",
    "Terming the investigation in this case \"a joke\" , senior Advocate Ramesh Gupta, appearing for Mishra, on Friday alleged that the woman was suffering from a medical condition and urinated on her own but shifted the blame on Mishra.\"\"\")"
   ]
  },
  {
   "cell_type": "code",
   "execution_count": null,
   "id": "78fc4223",
   "metadata": {},
   "outputs": [],
   "source": [
    "f.close()"
   ]
  },
  {
   "cell_type": "code",
   "execution_count": null,
   "id": "9eae2128",
   "metadata": {},
   "outputs": [],
   "source": [
    "f= open(\"google_1.txt\",\"r+\")"
   ]
  },
  {
   "cell_type": "code",
   "execution_count": null,
   "id": "df6aa3c4",
   "metadata": {},
   "outputs": [],
   "source": [
    "f.read()"
   ]
  },
  {
   "cell_type": "code",
   "execution_count": null,
   "id": "dbc56128",
   "metadata": {},
   "outputs": [],
   "source": [
    "f.readline()"
   ]
  },
  {
   "cell_type": "code",
   "execution_count": null,
   "id": "79ab3779",
   "metadata": {},
   "outputs": [],
   "source": [
    "f.seek(0)"
   ]
  },
  {
   "cell_type": "code",
   "execution_count": null,
   "id": "521b4481",
   "metadata": {},
   "outputs": [],
   "source": [
    "f.readline(5)"
   ]
  },
  {
   "cell_type": "code",
   "execution_count": null,
   "id": "289ca95e",
   "metadata": {},
   "outputs": [],
   "source": [
    "f.seek(0)"
   ]
  },
  {
   "cell_type": "code",
   "execution_count": null,
   "id": "38acf996",
   "metadata": {},
   "outputs": [],
   "source": [
    "f.readline()"
   ]
  },
  {
   "cell_type": "code",
   "execution_count": null,
   "id": "de8a772e",
   "metadata": {},
   "outputs": [],
   "source": [
    "f.readline()"
   ]
  },
  {
   "cell_type": "code",
   "execution_count": null,
   "id": "6c5af5ad",
   "metadata": {},
   "outputs": [],
   "source": [
    "f.readline()"
   ]
  },
  {
   "cell_type": "code",
   "execution_count": null,
   "id": "e5371f32",
   "metadata": {},
   "outputs": [],
   "source": [
    "f.readline()"
   ]
  },
  {
   "cell_type": "code",
   "execution_count": null,
   "id": "ea991da4",
   "metadata": {},
   "outputs": [],
   "source": [
    "f.readline()"
   ]
  },
  {
   "cell_type": "code",
   "execution_count": null,
   "id": "4b464638",
   "metadata": {},
   "outputs": [],
   "source": [
    "f.close()"
   ]
  },
  {
   "cell_type": "code",
   "execution_count": null,
   "id": "340b42f4",
   "metadata": {},
   "outputs": [],
   "source": [
    "#_PROPER FORMAT\n",
    "\n",
    "f= open (\"google_1.txt\",\"r+\")\n",
    "for line in f:\n",
    "    print(line, end = \" \")"
   ]
  },
  {
   "cell_type": "code",
   "execution_count": null,
   "id": "255ebd5d",
   "metadata": {},
   "outputs": [],
   "source": [
    "f.write(\"\\n===============================================================\")"
   ]
  },
  {
   "cell_type": "code",
   "execution_count": null,
   "id": "da2a9562",
   "metadata": {},
   "outputs": [],
   "source": [
    "f.close()"
   ]
  },
  {
   "cell_type": "code",
   "execution_count": null,
   "id": "c96f058c",
   "metadata": {},
   "outputs": [],
   "source": [
    "f=open(\"google_1.txt\",\"r+\")"
   ]
  },
  {
   "cell_type": "code",
   "execution_count": null,
   "id": "64c16477",
   "metadata": {},
   "outputs": [],
   "source": [
    "f.seek(0)"
   ]
  },
  {
   "cell_type": "code",
   "execution_count": null,
   "id": "445a54da",
   "metadata": {},
   "outputs": [],
   "source": [
    "f.write(\"THIS IS A PRACTICE NOTE TO OPEN/READ/WRITE TEXT FILES \")"
   ]
  },
  {
   "cell_type": "code",
   "execution_count": null,
   "id": "cc24a496",
   "metadata": {},
   "outputs": [],
   "source": [
    "f.close()"
   ]
  },
  {
   "cell_type": "code",
   "execution_count": null,
   "id": "62d18725",
   "metadata": {},
   "outputs": [],
   "source": [
    "f= open(\"google_1.txt\",\"r+\")            \n",
    "for line in f:\n",
    "    print(line, end=\" \") \n",
    "    \n",
    "#_First line got changed! __CHECK__!"
   ]
  },
  {
   "cell_type": "code",
   "execution_count": null,
   "id": "43f6c3e3",
   "metadata": {},
   "outputs": [],
   "source": [
    "f.close()"
   ]
  },
  {
   "cell_type": "code",
   "execution_count": null,
   "id": "28867975",
   "metadata": {},
   "outputs": [],
   "source": [
    "f = open(\"google_1.txt\",\"r+\")"
   ]
  },
  {
   "cell_type": "code",
   "execution_count": null,
   "id": "d46c11cf",
   "metadata": {},
   "outputs": [],
   "source": [
    "f.readlines()              \n",
    "#_Readlines--> converts entire text into list and every line is an element in the list which can be accessed with list indexing."
   ]
  },
  {
   "cell_type": "code",
   "execution_count": null,
   "id": "aa353eed",
   "metadata": {},
   "outputs": [],
   "source": [
    "f.seek(0)"
   ]
  },
  {
   "cell_type": "code",
   "execution_count": null,
   "id": "fce5d7e3",
   "metadata": {},
   "outputs": [],
   "source": [
    "len(f.readlines())             #_Number of lines in the text file"
   ]
  },
  {
   "cell_type": "code",
   "execution_count": null,
   "id": "09285739",
   "metadata": {},
   "outputs": [],
   "source": [
    "# Give a list of all the words in the first paragraph?\n",
    "f.seek(0)\n",
    "l=f.readlines()"
   ]
  },
  {
   "cell_type": "code",
   "execution_count": null,
   "id": "6ad52f13",
   "metadata": {},
   "outputs": [],
   "source": [
    "l[0]"
   ]
  },
  {
   "cell_type": "code",
   "execution_count": null,
   "id": "8a30b263",
   "metadata": {
    "scrolled": false
   },
   "outputs": [],
   "source": [
    "l[0].split()"
   ]
  },
  {
   "cell_type": "code",
   "execution_count": null,
   "id": "55e6844c",
   "metadata": {},
   "outputs": [],
   "source": [
    "f.close()"
   ]
  },
  {
   "cell_type": "code",
   "execution_count": null,
   "id": "148b016c",
   "metadata": {},
   "outputs": [],
   "source": [
    "f=open(\"google_1.txt\",\"r+\")"
   ]
  },
  {
   "cell_type": "code",
   "execution_count": null,
   "id": "5330fca3",
   "metadata": {},
   "outputs": [],
   "source": [
    "l=f.readlines()"
   ]
  },
  {
   "cell_type": "code",
   "execution_count": null,
   "id": "d800da68",
   "metadata": {},
   "outputs": [],
   "source": [
    "#first character of all the words in the first paragraph\n",
    "\n",
    "l1=list()\n",
    "for i in l[0].split():\n",
    "    l1.append(i[0])"
   ]
  },
  {
   "cell_type": "code",
   "execution_count": null,
   "id": "3c9212ba",
   "metadata": {},
   "outputs": [],
   "source": [
    "f.close()"
   ]
  },
  {
   "cell_type": "code",
   "execution_count": null,
   "id": "f345bc85",
   "metadata": {},
   "outputs": [],
   "source": [
    "%ls"
   ]
  },
  {
   "cell_type": "code",
   "execution_count": null,
   "id": "ff0a9ea2",
   "metadata": {},
   "outputs": [],
   "source": [
    "f= open(\"google_1.txt\",\"r+\")"
   ]
  },
  {
   "cell_type": "code",
   "execution_count": null,
   "id": "bac2c5ee",
   "metadata": {},
   "outputs": [],
   "source": [
    "f.name                                               # file_name"
   ]
  },
  {
   "cell_type": "code",
   "execution_count": null,
   "id": "c2a4f7e6",
   "metadata": {},
   "outputs": [],
   "source": [
    "l=[\"this is my line one\",\"this is my line two\",\"this is my line three\",\"this is mu line four\"]\n"
   ]
  },
  {
   "cell_type": "code",
   "execution_count": null,
   "id": "5900c5ec",
   "metadata": {},
   "outputs": [],
   "source": [
    "f.write(\"i can write lines at current cursor position\")"
   ]
  },
  {
   "cell_type": "code",
   "execution_count": null,
   "id": "536399d2",
   "metadata": {},
   "outputs": [],
   "source": [
    "f.writelines(l)           # writelines(l)--> writes the lines/dataset from a list \"l\""
   ]
  },
  {
   "cell_type": "code",
   "execution_count": null,
   "id": "e840fa47",
   "metadata": {},
   "outputs": [],
   "source": [
    "f.close()"
   ]
  },
  {
   "cell_type": "code",
   "execution_count": null,
   "id": "35a03521",
   "metadata": {},
   "outputs": [],
   "source": [
    "f=open(\"google_1.txt\",\"r+\")"
   ]
  },
  {
   "cell_type": "code",
   "execution_count": null,
   "id": "6eaa65a9",
   "metadata": {},
   "outputs": [],
   "source": [
    "f.fileno()              # file_number gives the file number in the directory"
   ]
  },
  {
   "cell_type": "code",
   "execution_count": null,
   "id": "011cd094",
   "metadata": {},
   "outputs": [],
   "source": [
    "%ls                         # ki holo bal?? bojha gelo na!"
   ]
  },
  {
   "cell_type": "code",
   "execution_count": null,
   "id": "a94913ce",
   "metadata": {},
   "outputs": [],
   "source": [
    "f.close()"
   ]
  },
  {
   "cell_type": "code",
   "execution_count": null,
   "id": "f749e5e3",
   "metadata": {},
   "outputs": [],
   "source": [
    "import os\n",
    "os.remove(\"google_1.txt\")"
   ]
  },
  {
   "cell_type": "code",
   "execution_count": null,
   "id": "7320fb7c",
   "metadata": {},
   "outputs": [],
   "source": [
    "%ls                                           # google_1.txt gone..."
   ]
  },
  {
   "cell_type": "code",
   "execution_count": null,
   "id": "268826d9",
   "metadata": {},
   "outputs": [],
   "source": [
    "os.getcwd()                         # get current working directory"
   ]
  },
  {
   "cell_type": "code",
   "execution_count": null,
   "id": "a745d70b",
   "metadata": {},
   "outputs": [],
   "source": [
    "pwd()                               # same!"
   ]
  },
  {
   "cell_type": "code",
   "execution_count": null,
   "id": "c5be886f",
   "metadata": {},
   "outputs": [],
   "source": [
    "os.listdir()                     # list directory --> list down all the files in this directory"
   ]
  },
  {
   "cell_type": "code",
   "execution_count": null,
   "id": "d1821436",
   "metadata": {},
   "outputs": [],
   "source": [
    "#_How many .txt files are there? read and append it into a single file?!\n",
    "\n",
    "os.getcwd()"
   ]
  },
  {
   "cell_type": "code",
   "execution_count": null,
   "id": "7e411d0d",
   "metadata": {},
   "outputs": [],
   "source": [
    "#_Practice_os functions!!! "
   ]
  },
  {
   "cell_type": "code",
   "execution_count": null,
   "id": "d85b5909",
   "metadata": {},
   "outputs": [],
   "source": []
  },
  {
   "cell_type": "code",
   "execution_count": null,
   "id": "df1c2f7b",
   "metadata": {},
   "outputs": [],
   "source": []
  },
  {
   "cell_type": "markdown",
   "id": "40e05d3c",
   "metadata": {},
   "source": [
    "## File Handling By IMRAN [Current Batch]"
   ]
  },
  {
   "cell_type": "code",
   "execution_count": null,
   "id": "1eec7e8a",
   "metadata": {},
   "outputs": [],
   "source": [
    "%ls                #_Lists down all the files in the folder"
   ]
  },
  {
   "cell_type": "code",
   "execution_count": null,
   "id": "11e11265",
   "metadata": {},
   "outputs": [],
   "source": [
    "pwd()                                               # Present Working Directory"
   ]
  },
  {
   "cell_type": "code",
   "execution_count": null,
   "id": "eeeaca1c",
   "metadata": {},
   "outputs": [],
   "source": [
    "f=open(\"test4.txt\",'w')                      # used to open file... w while creating"
   ]
  },
  {
   "cell_type": "code",
   "execution_count": null,
   "id": "2b381aae",
   "metadata": {},
   "outputs": [],
   "source": [
    "type(f)"
   ]
  },
  {
   "cell_type": "code",
   "execution_count": null,
   "id": "f6b1e47e",
   "metadata": {},
   "outputs": [],
   "source": [
    "f.                                      # after f dot. Press Tab to see all the methods"
   ]
  },
  {
   "cell_type": "code",
   "execution_count": null,
   "id": "f909fa07",
   "metadata": {},
   "outputs": [],
   "source": [
    "f.close()"
   ]
  },
  {
   "cell_type": "code",
   "execution_count": null,
   "id": "b3474085",
   "metadata": {},
   "outputs": [],
   "source": [
    "#__Opening and Closing of file\n",
    "\n",
    "try:\n",
    "    f=open(\"test.txt\")\n",
    "    \n",
    "finally:\n",
    "    f.close()"
   ]
  },
  {
   "cell_type": "code",
   "execution_count": null,
   "id": "3bb748ea",
   "metadata": {},
   "outputs": [],
   "source": [
    "# Automatic opening and closing of file is done with \"with\" statement\n",
    "\n",
    "with open(\"text1.txt\") as f:\n",
    "    f.read()                                       #_with open(...)\n",
    "    pass\n",
    "\n",
    "# The file opens.. file operations are executed...and then file automatically closes!\n"
   ]
  },
  {
   "cell_type": "code",
   "execution_count": null,
   "id": "92a3fed1",
   "metadata": {},
   "outputs": [],
   "source": [
    "#Write a file\n",
    "\n",
    "data=\"DATA DATA DATA....\"\n",
    "f=open(\"text1.txt\",'w')\n",
    "f.write(data)\n",
    "print(\"Done\")\n",
    "f.close()"
   ]
  },
  {
   "cell_type": "code",
   "execution_count": null,
   "id": "4d25e8b8",
   "metadata": {},
   "outputs": [],
   "source": [
    "with open(\"test2.txt\",\"w\") as f:\n",
    "    f.write(\"This is my first line\\n\")\n",
    "    f.write(\"This is my second line\\n\")\n",
    "    f.write(\"This is my third line\\n\")\n",
    "    f.write(\"This is my fourth line\\n\")\n",
    "    f.write(\"This is my fifth line\")"
   ]
  },
  {
   "cell_type": "markdown",
   "id": "45805faf",
   "metadata": {},
   "source": [
    "### Brief Overview of all the Methods"
   ]
  },
  {
   "cell_type": "code",
   "execution_count": null,
   "id": "def84e10",
   "metadata": {},
   "outputs": [],
   "source": [
    "f.                                     # f. + PRESS TAB"
   ]
  },
  {
   "cell_type": "code",
   "execution_count": null,
   "id": "a4ed5c9e",
   "metadata": {},
   "outputs": [],
   "source": [
    "try:\n",
    "    a=int(input(\"Enter first number: \"))\n",
    "    b=int(input(\"Enter second number: \"))\n",
    "    c=a/b\n",
    "    \n",
    "except ArithmeticError as e:\n",
    "    print(\"issue with code: \",e)\n",
    "    f=open(\"test2.txt\",'r+')\n",
    "    f.read()\n",
    "else:\n",
    "    print(\"Else block will execute once the main try block executes\")\n",
    "    try:\n",
    "        f=open(\"test2.txt\",'r+')\n",
    "        f.read()\n",
    "        f.tell()\n",
    "    except:\n",
    "        print(\"There is an issue with inner try block\")\n",
    "finally:\n",
    "    f.close()"
   ]
  },
  {
   "cell_type": "code",
   "execution_count": null,
   "id": "696cb951",
   "metadata": {},
   "outputs": [],
   "source": [
    "# Problem: Write a program to check whether 'test1.txt' file is present in the folder?\n",
    "\n",
    "\n",
    "\n",
    "\n"
   ]
  },
  {
   "cell_type": "code",
   "execution_count": null,
   "id": "8524ece7",
   "metadata": {},
   "outputs": [],
   "source": [
    "# Problem: File size and count the number of lines in the file 'test2.txt'\n",
    "\n",
    "\n"
   ]
  },
  {
   "cell_type": "code",
   "execution_count": null,
   "id": "87d44186",
   "metadata": {},
   "outputs": [],
   "source": []
  },
  {
   "cell_type": "code",
   "execution_count": null,
   "id": "806a0715",
   "metadata": {},
   "outputs": [],
   "source": []
  },
  {
   "cell_type": "code",
   "execution_count": null,
   "id": "94ca7e26",
   "metadata": {},
   "outputs": [],
   "source": []
  }
 ],
 "metadata": {
  "kernelspec": {
   "display_name": "Python 3 (ipykernel)",
   "language": "python",
   "name": "python3"
  },
  "language_info": {
   "codemirror_mode": {
    "name": "ipython",
    "version": 3
   },
   "file_extension": ".py",
   "mimetype": "text/x-python",
   "name": "python",
   "nbconvert_exporter": "python",
   "pygments_lexer": "ipython3",
   "version": "3.9.12"
  }
 },
 "nbformat": 4,
 "nbformat_minor": 5
}
