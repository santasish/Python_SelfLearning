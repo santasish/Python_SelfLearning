{
 "cells": [
  {
   "cell_type": "code",
   "execution_count": null,
   "id": "b0253ff4",
   "metadata": {},
   "outputs": [],
   "source": [
    "import logging"
   ]
  },
  {
   "cell_type": "code",
   "execution_count": null,
   "id": "f4aa76d4",
   "metadata": {},
   "outputs": [],
   "source": [
    "# logging.basicConfig(filename=\"test.log\")            #_simple log file created"
   ]
  },
  {
   "cell_type": "code",
   "execution_count": null,
   "id": "fd0a01ce",
   "metadata": {},
   "outputs": [],
   "source": [
    "# logging.info(\"This is my Info Log\")           # Info not working..."
   ]
  },
  {
   "cell_type": "code",
   "execution_count": null,
   "id": "6b87fb93",
   "metadata": {},
   "outputs": [],
   "source": [
    "logging.basicConfig(filename=\"test.log\",level = logging.INFO)           #_Solution"
   ]
  },
  {
   "cell_type": "code",
   "execution_count": null,
   "id": "b950e83d",
   "metadata": {},
   "outputs": [],
   "source": [
    "logging.warning(\"This is my warning Log\")"
   ]
  },
  {
   "cell_type": "code",
   "execution_count": null,
   "id": "4eb93322",
   "metadata": {},
   "outputs": [],
   "source": [
    "logging.error(\"This is my error Log\")"
   ]
  },
  {
   "cell_type": "code",
   "execution_count": null,
   "id": "8148dfc6",
   "metadata": {},
   "outputs": [],
   "source": [
    "logging.info(\"This is my Info Log\") "
   ]
  },
  {
   "cell_type": "code",
   "execution_count": null,
   "id": "cf00b2be",
   "metadata": {},
   "outputs": [],
   "source": [
    "pwd"
   ]
  },
  {
   "cell_type": "code",
   "execution_count": null,
   "id": "e62282c4",
   "metadata": {},
   "outputs": [],
   "source": [
    "#__Hierarchy/ Types of logging\n",
    "\n",
    "\"\"\"1. error log\n",
    "   2. critical log\n",
    "   3. warning log\n",
    "   4. info log\n",
    "   5. debug log\"\"\""
   ]
  },
  {
   "cell_type": "code",
   "execution_count": null,
   "id": "2a31f80c",
   "metadata": {},
   "outputs": [],
   "source": [
    "logging.shutdown()"
   ]
  },
  {
   "cell_type": "code",
   "execution_count": null,
   "id": "51eb2d36",
   "metadata": {},
   "outputs": [],
   "source": [
    "#_Next Example     #_filename= test2.log                          # date_time_stamp = asctime\n",
    "                                                                # levelname_add korlam pore   # check_logger\n",
    "import logging\n",
    "logging.basicConfig(filename=\"test2.log\", level=logging.DEBUG, format='%(asctime)s %(levelname)s %(message)s')"
   ]
  },
  {
   "cell_type": "code",
   "execution_count": null,
   "id": "195034a7",
   "metadata": {},
   "outputs": [],
   "source": [
    "logging.info(\"This is my INFO LOG\")\n",
    "logging.warning(\"This is my WARNING LOG\")\n",
    "logging.debug(\"This is my DEBUG LOG\")\n"
   ]
  },
  {
   "cell_type": "code",
   "execution_count": null,
   "id": "80161ce9",
   "metadata": {},
   "outputs": [],
   "source": [
    "import logging\n",
    "logging.basicConfig(filename=\"test2.log\", level=logging.ERROR, format='%(asctime)s %(levelname)s %(message)s')"
   ]
  },
  {
   "cell_type": "code",
   "execution_count": null,
   "id": "7796e920",
   "metadata": {},
   "outputs": [],
   "source": [
    "logging.info(\"This is my INFO LOG\")\n",
    "logging.warning(\"This is my WARNING LOG\")\n",
    "logging.debug(\"This is my DEBUG LOG\")\n",
    "logging.error(\"This is my ERROR LOG\")"
   ]
  },
  {
   "cell_type": "code",
   "execution_count": null,
   "id": "be480324",
   "metadata": {},
   "outputs": [],
   "source": []
  },
  {
   "cell_type": "code",
   "execution_count": null,
   "id": "88d94543",
   "metadata": {},
   "outputs": [],
   "source": [
    "#__TEST3.LOG__ #_Using Exception Handling and Logging together in real case scenario\n",
    "\n",
    "import logging\n",
    "logging.basicConfig(filename=\"test3.log\",level=logging.DEBUG,format='%(asctime)s %(levelname)s %(message)s')"
   ]
  },
  {
   "cell_type": "code",
   "execution_count": null,
   "id": "e4f6b9fb",
   "metadata": {},
   "outputs": [],
   "source": [
    "def divbyzero(a,b):\n",
    "    logging.info(\"This is the start of my code and i am trying to enter %s and %s\", a,b)  # %s is a place holder\n",
    "    try:\n",
    "        div=a/b\n",
    "        logging.info(\"Executed Successfully\")\n",
    "    except Exception as e:\n",
    "        logging.error(\"Error has happened\")\n",
    "        logging.exception(\"Exception occured\"+ str(e))"
   ]
  },
  {
   "cell_type": "code",
   "execution_count": null,
   "id": "db76ad70",
   "metadata": {},
   "outputs": [],
   "source": [
    "divbyzero(4,5)"
   ]
  },
  {
   "cell_type": "code",
   "execution_count": null,
   "id": "5a28f544",
   "metadata": {},
   "outputs": [],
   "source": [
    "divbyzero(4,0)"
   ]
  },
  {
   "cell_type": "markdown",
   "id": "4120b00f",
   "metadata": {},
   "source": [
    "## IMRAN: logging  (*current course)\n",
    "##### STAGES OF SOFTWARE DEVELOPMENT\n",
    "    1. DEVELOPMENT\n",
    "    2. DEBUGGING\n",
    "    3. REVIEW\n",
    "    4. TESTING\n",
    "    5. PRODUCTION"
   ]
  },
  {
   "cell_type": "markdown",
   "id": "cd300368",
   "metadata": {},
   "source": [
    "Logging is a Module in Python that helps to TRACK AND RECORD the log information of the application."
   ]
  },
  {
   "cell_type": "markdown",
   "id": "0b6c987a",
   "metadata": {},
   "source": [
    "Log information is a critical part of system documentation about runtime status of application."
   ]
  },
  {
   "cell_type": "markdown",
   "id": "899ff1e8",
   "metadata": {},
   "source": [
    "#### Different Levels in logging:\n",
    "1. debug: 10\n",
    "2. info: 20\n",
    "3. warning:30  \n",
    "4. error:40\n",
    "5. critical:50\n",
    "\n",
    "...google search to learn more\n",
    "\n",
    " ###### By default basicConfig level is set as warning"
   ]
  },
  {
   "cell_type": "code",
   "execution_count": null,
   "id": "7d2ea7ea",
   "metadata": {},
   "outputs": [],
   "source": [
    "import logging\n",
    "\n",
    "logging.                         #_PRESS_TAB"
   ]
  },
  {
   "cell_type": "code",
   "execution_count": null,
   "id": "a2033d5d",
   "metadata": {},
   "outputs": [],
   "source": [
    "import logging\n",
    "\n",
    "logging.basicConfig(filename=\"calculator1.log\",level=logging.DEBUG)\n",
    "\n",
    "def add(x,y):\n",
    "    return x+y\n",
    "\n",
    "def subtract(x,y):\n",
    "    return x-y\n",
    "\n",
    "def multiply(x,y):\n",
    "    return x*y\n",
    "\n",
    "def divide(x,y):\n",
    "    return x/y\n",
    "\n",
    "num_1=20\n",
    "num_2=10\n",
    "\n",
    "add_result=add(num_1,num_2)\n",
    "logging.debug(add_result)\n",
    "\n",
    "sub_result=subtract(num_1,num_2)\n",
    "logging.debug(sub_result)\n",
    "\n",
    "multiply_result=multiply(num_1,num_2)\n",
    "logging.debug(multiply_result)\n",
    "\n",
    "divide_result=divide(num_1,num_2)\n",
    "logging.debug(divide_result)"
   ]
  },
  {
   "cell_type": "code",
   "execution_count": null,
   "id": "4f36b8f2",
   "metadata": {},
   "outputs": [],
   "source": [
    "def namecheck(name):\n",
    "    if len(name)<2:\n",
    "        print(\"Checking for name length\")\n",
    "        return 'invalid name'\n",
    "    elif name.isspace():\n",
    "        print(\"Checking is the name has spaces..\")\n",
    "        return 'invalid name'\n",
    "    elif name.isalpha():\n",
    "        print(\"Checking if the name has alphabet characters\")\n",
    "        return 'valid name'\n",
    "    elif name.replace(' ','').isalpha():\n",
    "        print(\"Checking for full name\")\n",
    "        return 'Name is Valid'\n",
    "    else:\n",
    "        print(\"Failed all checks\")\n",
    "        return 'invalid name'"
   ]
  },
  {
   "cell_type": "code",
   "execution_count": null,
   "id": "0e294aa7",
   "metadata": {},
   "outputs": [],
   "source": [
    "print(namecheck('santa'))"
   ]
  },
  {
   "cell_type": "code",
   "execution_count": null,
   "id": "66123609",
   "metadata": {},
   "outputs": [],
   "source": [
    "print(namecheck(' sa nta'))"
   ]
  },
  {
   "cell_type": "code",
   "execution_count": null,
   "id": "bf0cc3f8",
   "metadata": {},
   "outputs": [],
   "source": [
    "print(namecheck('s 1anta'))"
   ]
  },
  {
   "cell_type": "code",
   "execution_count": 1,
   "id": "fa141936",
   "metadata": {},
   "outputs": [],
   "source": [
    "#___REPLACING PRINT STATEMENTS WITH LOGGING___\n",
    "\n",
    "import logging\n",
    "\n",
    "logging.basicConfig(filename=\"namecheck_1.log\",level=logging.DEBUG,format='%(asctime)s - %(levelname)s - %(message)s')\n",
    "\n",
    "\n",
    "def namecheck(name):\n",
    "    if len(name)<2:\n",
    "        logging.debug(\"Checking for name length..\")\n",
    "        return 'invalid name'\n",
    "    elif name.isspace():\n",
    "        logging.debug(\"Checking is the name has spaces..\")\n",
    "        return 'invalid name'\n",
    "    elif name.isalpha():\n",
    "        logging.debug(\"Checking if the name has alphabet characters\")\n",
    "        return 'valid name'\n",
    "    elif name.replace(' ','').isalpha():\n",
    "        logging.debug(\"Checking for full name\")\n",
    "        return 'Name is Valid'\n",
    "    else:\n",
    "        logging.debug(\"Failed all checks\")\n",
    "        return 'invalid name'\n"
   ]
  },
  {
   "cell_type": "code",
   "execution_count": 2,
   "id": "7252e972",
   "metadata": {},
   "outputs": [
    {
     "data": {
      "text/plain": [
       "'valid name'"
      ]
     },
     "execution_count": 2,
     "metadata": {},
     "output_type": "execute_result"
    }
   ],
   "source": [
    "namecheck('santa')"
   ]
  },
  {
   "cell_type": "code",
   "execution_count": 3,
   "id": "50b66c2d",
   "metadata": {},
   "outputs": [
    {
     "data": {
      "text/plain": [
       "'Name is Valid'"
      ]
     },
     "execution_count": 3,
     "metadata": {},
     "output_type": "execute_result"
    }
   ],
   "source": [
    "namecheck('SA nTa')"
   ]
  },
  {
   "cell_type": "code",
   "execution_count": 4,
   "id": "d4d6b8d8",
   "metadata": {},
   "outputs": [
    {
     "data": {
      "text/plain": [
       "'invalid name'"
      ]
     },
     "execution_count": 4,
     "metadata": {},
     "output_type": "execute_result"
    }
   ],
   "source": [
    "namecheck('sa123ta')"
   ]
  },
  {
   "cell_type": "code",
   "execution_count": 5,
   "id": "27344123",
   "metadata": {},
   "outputs": [
    {
     "data": {
      "text/plain": [
       "'Name is Valid'"
      ]
     },
     "execution_count": 5,
     "metadata": {},
     "output_type": "execute_result"
    }
   ],
   "source": [
    "namecheck(' san t a')"
   ]
  },
  {
   "cell_type": "code",
   "execution_count": 7,
   "id": "d23c9626",
   "metadata": {},
   "outputs": [
    {
     "data": {
      "text/plain": [
       "'_Problem: Create one function which can take any number of inputs as an argument & it will\\n                return the sum of inputs.\\n                1. Create logger in code.\\n                2. Capture user input in log file.\\n                3. Read a log file from Python code & show it in console\\n                [1hr:46min]'"
      ]
     },
     "execution_count": 7,
     "metadata": {},
     "output_type": "execute_result"
    }
   ],
   "source": [
    "\"\"\"_Problem: Create one function which can take any number of inputs as an argument & it will\n",
    "                return the sum of inputs.\n",
    "                1. Create logger in code.\n",
    "                2. Capture user input in log file.\n",
    "                3. Read a log file from Python code & show it in console\n",
    "                [1hr:46min]\"\"\""
   ]
  },
  {
   "cell_type": "code",
   "execution_count": null,
   "id": "3a8e13d8",
   "metadata": {},
   "outputs": [],
   "source": []
  },
  {
   "cell_type": "code",
   "execution_count": null,
   "id": "16cce22b",
   "metadata": {},
   "outputs": [],
   "source": []
  },
  {
   "cell_type": "code",
   "execution_count": 8,
   "id": "4ec231c5",
   "metadata": {},
   "outputs": [],
   "source": [
    "#_How to create a logger from scratch?? [2hr:19min.. logging video %current batch]"
   ]
  },
  {
   "cell_type": "code",
   "execution_count": null,
   "id": "e762d95b",
   "metadata": {},
   "outputs": [],
   "source": [
    " "
   ]
  },
  {
   "cell_type": "code",
   "execution_count": null,
   "id": "d01ca933",
   "metadata": {},
   "outputs": [],
   "source": []
  },
  {
   "cell_type": "code",
   "execution_count": null,
   "id": "0a3da952",
   "metadata": {},
   "outputs": [],
   "source": []
  },
  {
   "cell_type": "code",
   "execution_count": null,
   "id": "6a187222",
   "metadata": {},
   "outputs": [],
   "source": []
  },
  {
   "cell_type": "code",
   "execution_count": null,
   "id": "79431e15",
   "metadata": {},
   "outputs": [],
   "source": []
  },
  {
   "cell_type": "code",
   "execution_count": null,
   "id": "ee3e9f54",
   "metadata": {},
   "outputs": [],
   "source": []
  },
  {
   "cell_type": "code",
   "execution_count": null,
   "id": "770fc76d",
   "metadata": {},
   "outputs": [],
   "source": []
  },
  {
   "cell_type": "code",
   "execution_count": null,
   "id": "8fd8a5f5",
   "metadata": {},
   "outputs": [],
   "source": []
  },
  {
   "cell_type": "code",
   "execution_count": null,
   "id": "163f5cc4",
   "metadata": {},
   "outputs": [],
   "source": []
  },
  {
   "cell_type": "code",
   "execution_count": null,
   "id": "c76e2399",
   "metadata": {},
   "outputs": [],
   "source": []
  },
  {
   "cell_type": "code",
   "execution_count": null,
   "id": "20492c50",
   "metadata": {},
   "outputs": [],
   "source": []
  },
  {
   "cell_type": "code",
   "execution_count": null,
   "id": "bad3c889",
   "metadata": {},
   "outputs": [],
   "source": []
  },
  {
   "cell_type": "code",
   "execution_count": null,
   "id": "fe0fc83e",
   "metadata": {},
   "outputs": [],
   "source": []
  },
  {
   "cell_type": "code",
   "execution_count": null,
   "id": "3f63ef5c",
   "metadata": {},
   "outputs": [],
   "source": []
  },
  {
   "cell_type": "code",
   "execution_count": null,
   "id": "72f81027",
   "metadata": {},
   "outputs": [],
   "source": []
  },
  {
   "cell_type": "code",
   "execution_count": null,
   "id": "9b31f057",
   "metadata": {},
   "outputs": [],
   "source": []
  },
  {
   "cell_type": "code",
   "execution_count": null,
   "id": "f878d59e",
   "metadata": {},
   "outputs": [],
   "source": []
  },
  {
   "cell_type": "code",
   "execution_count": null,
   "id": "55928ac6",
   "metadata": {},
   "outputs": [],
   "source": []
  },
  {
   "cell_type": "code",
   "execution_count": null,
   "id": "d78bd3e0",
   "metadata": {},
   "outputs": [],
   "source": []
  },
  {
   "cell_type": "code",
   "execution_count": null,
   "id": "805c030a",
   "metadata": {},
   "outputs": [],
   "source": []
  }
 ],
 "metadata": {
  "kernelspec": {
   "display_name": "Python 3 (ipykernel)",
   "language": "python",
   "name": "python3"
  },
  "language_info": {
   "codemirror_mode": {
    "name": "ipython",
    "version": 3
   },
   "file_extension": ".py",
   "mimetype": "text/x-python",
   "name": "python",
   "nbconvert_exporter": "python",
   "pygments_lexer": "ipython3",
   "version": "3.9.12"
  }
 },
 "nbformat": 4,
 "nbformat_minor": 5
}
